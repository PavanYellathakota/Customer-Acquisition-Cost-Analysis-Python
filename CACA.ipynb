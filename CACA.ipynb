{
 "cells": [
  {
   "cell_type": "markdown",
   "metadata": {},
   "source": [
    "# Customer Acquisition Cost (CAC) Analysis "
   ]
  },
  {
   "cell_type": "code",
   "execution_count": 1,
   "metadata": {},
   "outputs": [],
   "source": [
    "# Requirements\n",
    "import pandas as pd\n",
    "import numpy as np\n",
    "import plotly.graph_objects as go\n",
    "import plotly.express as px\n",
    "import plotly.io as pio\n",
    "# Set default template for plots\n",
    "pio.templates.default = \"plotly_white\""
   ]
  },
  {
   "cell_type": "markdown",
   "metadata": {},
   "source": [
    "# Load data"
   ]
  },
  {
   "cell_type": "code",
   "execution_count": 17,
   "metadata": {},
   "outputs": [
    {
     "data": {
      "application/vnd.microsoft.datawrangler.viewer.v0+json": {
       "columns": [
        {
         "name": "index",
         "rawType": "int64",
         "type": "integer"
        },
        {
         "name": "Customer_ID",
         "rawType": "object",
         "type": "string"
        },
        {
         "name": "Marketing_Channel",
         "rawType": "object",
         "type": "string"
        },
        {
         "name": "Marketing_Spend",
         "rawType": "float64",
         "type": "float"
        },
        {
         "name": "New_Customers",
         "rawType": "int64",
         "type": "integer"
        }
       ],
       "conversionMethod": "pd.DataFrame",
       "ref": "5dc5b075-fe17-4441-8085-65f8b9f4ae48",
       "rows": [
        [
         "0",
         "CUST0001",
         "Email Marketing",
         "3489.0278438962587",
         "16"
        ],
        [
         "1",
         "CUST0002",
         "Online Ads",
         "1107.8658076205506",
         "33"
        ],
        [
         "2",
         "CUST0003",
         "Social Media",
         "2576.081025358819",
         "44"
        ],
        [
         "3",
         "CUST0004",
         "Online Ads",
         "3257.5679320990967",
         "32"
        ],
        [
         "4",
         "CUST0005",
         "Email Marketing",
         "1108.4081853612497",
         "13"
        ]
       ],
       "shape": {
        "columns": 4,
        "rows": 5
       }
      },
      "text/html": [
       "<div>\n",
       "<style scoped>\n",
       "    .dataframe tbody tr th:only-of-type {\n",
       "        vertical-align: middle;\n",
       "    }\n",
       "\n",
       "    .dataframe tbody tr th {\n",
       "        vertical-align: top;\n",
       "    }\n",
       "\n",
       "    .dataframe thead th {\n",
       "        text-align: right;\n",
       "    }\n",
       "</style>\n",
       "<table border=\"1\" class=\"dataframe\">\n",
       "  <thead>\n",
       "    <tr style=\"text-align: right;\">\n",
       "      <th></th>\n",
       "      <th>Customer_ID</th>\n",
       "      <th>Marketing_Channel</th>\n",
       "      <th>Marketing_Spend</th>\n",
       "      <th>New_Customers</th>\n",
       "    </tr>\n",
       "  </thead>\n",
       "  <tbody>\n",
       "    <tr>\n",
       "      <th>0</th>\n",
       "      <td>CUST0001</td>\n",
       "      <td>Email Marketing</td>\n",
       "      <td>3489.027844</td>\n",
       "      <td>16</td>\n",
       "    </tr>\n",
       "    <tr>\n",
       "      <th>1</th>\n",
       "      <td>CUST0002</td>\n",
       "      <td>Online Ads</td>\n",
       "      <td>1107.865808</td>\n",
       "      <td>33</td>\n",
       "    </tr>\n",
       "    <tr>\n",
       "      <th>2</th>\n",
       "      <td>CUST0003</td>\n",
       "      <td>Social Media</td>\n",
       "      <td>2576.081025</td>\n",
       "      <td>44</td>\n",
       "    </tr>\n",
       "    <tr>\n",
       "      <th>3</th>\n",
       "      <td>CUST0004</td>\n",
       "      <td>Online Ads</td>\n",
       "      <td>3257.567932</td>\n",
       "      <td>32</td>\n",
       "    </tr>\n",
       "    <tr>\n",
       "      <th>4</th>\n",
       "      <td>CUST0005</td>\n",
       "      <td>Email Marketing</td>\n",
       "      <td>1108.408185</td>\n",
       "      <td>13</td>\n",
       "    </tr>\n",
       "  </tbody>\n",
       "</table>\n",
       "</div>"
      ],
      "text/plain": [
       "  Customer_ID Marketing_Channel  Marketing_Spend  New_Customers\n",
       "0    CUST0001   Email Marketing      3489.027844             16\n",
       "1    CUST0002        Online Ads      1107.865808             33\n",
       "2    CUST0003      Social Media      2576.081025             44\n",
       "3    CUST0004        Online Ads      3257.567932             32\n",
       "4    CUST0005   Email Marketing      1108.408185             13"
      ]
     },
     "execution_count": 17,
     "metadata": {},
     "output_type": "execute_result"
    }
   ],
   "source": [
    "df = pd.read_csv('data/customer_acquisition_cost_dataset.csv')\n",
    "df.head()"
   ]
  },
  {
   "cell_type": "code",
   "execution_count": null,
   "metadata": {},
   "outputs": [
    {
     "data": {
      "text/plain": [
       "500"
      ]
     },
     "execution_count": 18,
     "metadata": {},
     "output_type": "execute_result"
    }
   ],
   "source": []
  },
  {
   "cell_type": "markdown",
   "metadata": {},
   "source": [
    "# DataFrame structure & types "
   ]
  },
  {
   "cell_type": "code",
   "execution_count": 3,
   "metadata": {},
   "outputs": [
    {
     "name": "stdout",
     "output_type": "stream",
     "text": [
      "Summary of the dataset:\n",
      "\n",
      "<class 'pandas.core.frame.DataFrame'>\n",
      "RangeIndex: 500 entries, 0 to 499\n",
      "Data columns (total 4 columns):\n",
      " #   Column             Non-Null Count  Dtype  \n",
      "---  ------             --------------  -----  \n",
      " 0   Customer_ID        500 non-null    object \n",
      " 1   Marketing_Channel  500 non-null    object \n",
      " 2   Marketing_Spend    500 non-null    float64\n",
      " 3   New_Customers      500 non-null    int64  \n",
      "dtypes: float64(1), int64(1), object(2)\n",
      "memory usage: 15.8+ KB\n"
     ]
    }
   ],
   "source": [
    "# Let's inspect the data\n",
    "# Summary of the dataset\n",
    "print(\"Summary of the dataset:\\n\")\n",
    "df.info()\n"
   ]
  },
  {
   "cell_type": "markdown",
   "metadata": {},
   "source": [
    "# Summary stats"
   ]
  },
  {
   "cell_type": "code",
   "execution_count": 4,
   "metadata": {},
   "outputs": [
    {
     "data": {
      "application/vnd.microsoft.datawrangler.viewer.v0+json": {
       "columns": [
        {
         "name": "index",
         "rawType": "object",
         "type": "string"
        },
        {
         "name": "Marketing_Spend",
         "rawType": "float64",
         "type": "float"
        },
        {
         "name": "New_Customers",
         "rawType": "float64",
         "type": "float"
        }
       ],
       "conversionMethod": "pd.DataFrame",
       "ref": "ed9efa6e-9e17-4767-9021-01c6c9c0f709",
       "rows": [
        [
         "count",
         "500.0",
         "500.0"
        ],
        [
         "mean",
         "3094.7265487773566",
         "30.07"
        ],
        [
         "std",
         "1136.6286053714216",
         "11.754208729033673"
        ],
        [
         "min",
         "1010.702890411543",
         "10.0"
        ],
        [
         "25%",
         "2131.8350931076916",
         "19.0"
        ],
        [
         "50%",
         "3155.9766733765896",
         "31.0"
        ],
        [
         "75%",
         "4027.4941156491877",
         "40.0"
        ],
        [
         "max",
         "4999.631314036837",
         "50.0"
        ]
       ],
       "shape": {
        "columns": 2,
        "rows": 8
       }
      },
      "text/html": [
       "<div>\n",
       "<style scoped>\n",
       "    .dataframe tbody tr th:only-of-type {\n",
       "        vertical-align: middle;\n",
       "    }\n",
       "\n",
       "    .dataframe tbody tr th {\n",
       "        vertical-align: top;\n",
       "    }\n",
       "\n",
       "    .dataframe thead th {\n",
       "        text-align: right;\n",
       "    }\n",
       "</style>\n",
       "<table border=\"1\" class=\"dataframe\">\n",
       "  <thead>\n",
       "    <tr style=\"text-align: right;\">\n",
       "      <th></th>\n",
       "      <th>Marketing_Spend</th>\n",
       "      <th>New_Customers</th>\n",
       "    </tr>\n",
       "  </thead>\n",
       "  <tbody>\n",
       "    <tr>\n",
       "      <th>count</th>\n",
       "      <td>500.000000</td>\n",
       "      <td>500.000000</td>\n",
       "    </tr>\n",
       "    <tr>\n",
       "      <th>mean</th>\n",
       "      <td>3094.726549</td>\n",
       "      <td>30.070000</td>\n",
       "    </tr>\n",
       "    <tr>\n",
       "      <th>std</th>\n",
       "      <td>1136.628605</td>\n",
       "      <td>11.754209</td>\n",
       "    </tr>\n",
       "    <tr>\n",
       "      <th>min</th>\n",
       "      <td>1010.702890</td>\n",
       "      <td>10.000000</td>\n",
       "    </tr>\n",
       "    <tr>\n",
       "      <th>25%</th>\n",
       "      <td>2131.835093</td>\n",
       "      <td>19.000000</td>\n",
       "    </tr>\n",
       "    <tr>\n",
       "      <th>50%</th>\n",
       "      <td>3155.976673</td>\n",
       "      <td>31.000000</td>\n",
       "    </tr>\n",
       "    <tr>\n",
       "      <th>75%</th>\n",
       "      <td>4027.494116</td>\n",
       "      <td>40.000000</td>\n",
       "    </tr>\n",
       "    <tr>\n",
       "      <th>max</th>\n",
       "      <td>4999.631314</td>\n",
       "      <td>50.000000</td>\n",
       "    </tr>\n",
       "  </tbody>\n",
       "</table>\n",
       "</div>"
      ],
      "text/plain": [
       "       Marketing_Spend  New_Customers\n",
       "count       500.000000     500.000000\n",
       "mean       3094.726549      30.070000\n",
       "std        1136.628605      11.754209\n",
       "min        1010.702890      10.000000\n",
       "25%        2131.835093      19.000000\n",
       "50%        3155.976673      31.000000\n",
       "75%        4027.494116      40.000000\n",
       "max        4999.631314      50.000000"
      ]
     },
     "execution_count": 4,
     "metadata": {},
     "output_type": "execute_result"
    }
   ],
   "source": [
    "#df.describe(include='all')\n",
    "df.describe()\n"
   ]
  },
  {
   "cell_type": "code",
   "execution_count": 5,
   "metadata": {},
   "outputs": [
    {
     "data": {
      "text/plain": [
       "Customer_ID          500\n",
       "Marketing_Channel      4\n",
       "Marketing_Spend      500\n",
       "New_Customers         41\n",
       "dtype: int64"
      ]
     },
     "execution_count": 5,
     "metadata": {},
     "output_type": "execute_result"
    }
   ],
   "source": [
    "df.nunique()\n",
    "  # Check for unique values in each column"
   ]
  },
  {
   "cell_type": "markdown",
   "metadata": {},
   "source": [
    "# Customer Acquisition Cost (CAC)"
   ]
  },
  {
   "cell_type": "code",
   "execution_count": 6,
   "metadata": {},
   "outputs": [
    {
     "data": {
      "application/vnd.microsoft.datawrangler.viewer.v0+json": {
       "columns": [
        {
         "name": "index",
         "rawType": "int64",
         "type": "integer"
        },
        {
         "name": "Customer_ID",
         "rawType": "object",
         "type": "string"
        },
        {
         "name": "Marketing_Channel",
         "rawType": "object",
         "type": "string"
        },
        {
         "name": "Marketing_Spend",
         "rawType": "float64",
         "type": "float"
        },
        {
         "name": "New_Customers",
         "rawType": "int64",
         "type": "integer"
        },
        {
         "name": "CAC",
         "rawType": "float64",
         "type": "float"
        },
        {
         "name": "Customers_Per_Spend",
         "rawType": "float64",
         "type": "float"
        },
        {
         "name": "Conversion_Rate",
         "rawType": "float64",
         "type": "float"
        },
        {
         "name": "BE_customers",
         "rawType": "float64",
         "type": "float"
        }
       ],
       "conversionMethod": "pd.DataFrame",
       "ref": "630c0748-828c-4722-93b2-2754b6335949",
       "rows": [
        [
         "0",
         "CUST0001",
         "Email Marketing",
         "3489.0278438962587",
         "16",
         "218.06424024351617",
         "0.004585804618323859",
         "0.4585804618323859",
         "16.0"
        ],
        [
         "1",
         "CUST0002",
         "Online Ads",
         "1107.8658076205506",
         "33",
         "33.57169114001669",
         "0.029787001072699104",
         "2.97870010726991",
         "33.0"
        ],
        [
         "2",
         "CUST0003",
         "Social Media",
         "2576.081025358819",
         "44",
         "58.547296030882244",
         "0.017080208101711902",
         "1.7080208101711902",
         "44.0"
        ],
        [
         "3",
         "CUST0004",
         "Online Ads",
         "3257.5679320990967",
         "32",
         "101.79899787809677",
         "0.009823279411821808",
         "0.9823279411821808",
         "32.0"
        ],
        [
         "4",
         "CUST0005",
         "Email Marketing",
         "1108.4081853612497",
         "13",
         "85.26216810471152",
         "0.011728531214124038",
         "1.1728531214124038",
         "13.0"
        ]
       ],
       "shape": {
        "columns": 8,
        "rows": 5
       }
      },
      "text/html": [
       "<div>\n",
       "<style scoped>\n",
       "    .dataframe tbody tr th:only-of-type {\n",
       "        vertical-align: middle;\n",
       "    }\n",
       "\n",
       "    .dataframe tbody tr th {\n",
       "        vertical-align: top;\n",
       "    }\n",
       "\n",
       "    .dataframe thead th {\n",
       "        text-align: right;\n",
       "    }\n",
       "</style>\n",
       "<table border=\"1\" class=\"dataframe\">\n",
       "  <thead>\n",
       "    <tr style=\"text-align: right;\">\n",
       "      <th></th>\n",
       "      <th>Customer_ID</th>\n",
       "      <th>Marketing_Channel</th>\n",
       "      <th>Marketing_Spend</th>\n",
       "      <th>New_Customers</th>\n",
       "      <th>CAC</th>\n",
       "      <th>Customers_Per_Spend</th>\n",
       "      <th>Conversion_Rate</th>\n",
       "      <th>BE_customers</th>\n",
       "    </tr>\n",
       "  </thead>\n",
       "  <tbody>\n",
       "    <tr>\n",
       "      <th>0</th>\n",
       "      <td>CUST0001</td>\n",
       "      <td>Email Marketing</td>\n",
       "      <td>3489.027844</td>\n",
       "      <td>16</td>\n",
       "      <td>218.064240</td>\n",
       "      <td>0.004586</td>\n",
       "      <td>0.458580</td>\n",
       "      <td>16.0</td>\n",
       "    </tr>\n",
       "    <tr>\n",
       "      <th>1</th>\n",
       "      <td>CUST0002</td>\n",
       "      <td>Online Ads</td>\n",
       "      <td>1107.865808</td>\n",
       "      <td>33</td>\n",
       "      <td>33.571691</td>\n",
       "      <td>0.029787</td>\n",
       "      <td>2.978700</td>\n",
       "      <td>33.0</td>\n",
       "    </tr>\n",
       "    <tr>\n",
       "      <th>2</th>\n",
       "      <td>CUST0003</td>\n",
       "      <td>Social Media</td>\n",
       "      <td>2576.081025</td>\n",
       "      <td>44</td>\n",
       "      <td>58.547296</td>\n",
       "      <td>0.017080</td>\n",
       "      <td>1.708021</td>\n",
       "      <td>44.0</td>\n",
       "    </tr>\n",
       "    <tr>\n",
       "      <th>3</th>\n",
       "      <td>CUST0004</td>\n",
       "      <td>Online Ads</td>\n",
       "      <td>3257.567932</td>\n",
       "      <td>32</td>\n",
       "      <td>101.798998</td>\n",
       "      <td>0.009823</td>\n",
       "      <td>0.982328</td>\n",
       "      <td>32.0</td>\n",
       "    </tr>\n",
       "    <tr>\n",
       "      <th>4</th>\n",
       "      <td>CUST0005</td>\n",
       "      <td>Email Marketing</td>\n",
       "      <td>1108.408185</td>\n",
       "      <td>13</td>\n",
       "      <td>85.262168</td>\n",
       "      <td>0.011729</td>\n",
       "      <td>1.172853</td>\n",
       "      <td>13.0</td>\n",
       "    </tr>\n",
       "  </tbody>\n",
       "</table>\n",
       "</div>"
      ],
      "text/plain": [
       "  Customer_ID Marketing_Channel  Marketing_Spend  New_Customers         CAC  \\\n",
       "0    CUST0001   Email Marketing      3489.027844             16  218.064240   \n",
       "1    CUST0002        Online Ads      1107.865808             33   33.571691   \n",
       "2    CUST0003      Social Media      2576.081025             44   58.547296   \n",
       "3    CUST0004        Online Ads      3257.567932             32  101.798998   \n",
       "4    CUST0005   Email Marketing      1108.408185             13   85.262168   \n",
       "\n",
       "   Customers_Per_Spend  Conversion_Rate  BE_customers  \n",
       "0             0.004586         0.458580          16.0  \n",
       "1             0.029787         2.978700          33.0  \n",
       "2             0.017080         1.708021          44.0  \n",
       "3             0.009823         0.982328          32.0  \n",
       "4             0.011729         1.172853          13.0  "
      ]
     },
     "execution_count": 6,
     "metadata": {},
     "output_type": "execute_result"
    }
   ],
   "source": [
    "\n",
    "# Lets Calculate Customer Acquisition Cost (CAC)\n",
    "# CAC = Total Marketing Spend / Number of New Customers Acquired\n",
    "df['CAC'] = df['Marketing_Spend']/ df['New_Customers']\n",
    "\n",
    "# Lets calculate the customer per spend\n",
    "# Customers per Spend = New Customers / Marketing Spend\n",
    "df['Customers_Per_Spend'] = df['New_Customers'] / df['Marketing_Spend']\n",
    "\n",
    "# Lets calculate the Conversion Rate\n",
    "# Conversion Rate = (New Customers / Marketing Spend) * 100\n",
    "df['Conversion_Rate'] = (df['New_Customers'] / df['Marketing_Spend']) * 100  \n",
    "\n",
    "#Lets caculate the Break-even Customers\n",
    "# Break-even Customers = Marketing Spend / CAC\n",
    "df['BE_customers'] = df['Marketing_Spend'] / df['CAC']  \n",
    "\n",
    "df_sorted = df.sort_values('CAC', ascending=False)\n",
    "# display the head of the sorted DataFrame to see the top CAC values\n",
    "df.head()"
   ]
  },
  {
   "cell_type": "markdown",
   "metadata": {},
   "source": [
    "# Lets Check CAC by Market Channels"
   ]
  },
  {
   "cell_type": "code",
   "execution_count": 7,
   "metadata": {},
   "outputs": [
    {
     "data": {
      "application/vnd.plotly.v1+json": {
       "config": {
        "plotlyServerURL": "https://plot.ly"
       },
       "data": [
        {
         "alignmentgroup": "True",
         "hovertemplate": "Marketing_Channel=%{x}<br>Customer Acquisition Cost (INR)=%{y}<extra></extra>",
         "legendgroup": "Social Media",
         "marker": {
          "color": "rgb(102,194,165)"
         },
         "name": "Social Media",
         "notched": false,
         "offsetgroup": "Social Media",
         "orientation": "v",
         "showlegend": true,
         "type": "box",
         "x": [
          "Social Media",
          "Social Media",
          "Social Media",
          "Social Media",
          "Social Media",
          "Social Media",
          "Social Media",
          "Social Media",
          "Social Media",
          "Social Media",
          "Social Media",
          "Social Media",
          "Social Media",
          "Social Media",
          "Social Media",
          "Social Media",
          "Social Media",
          "Social Media",
          "Social Media",
          "Social Media",
          "Social Media",
          "Social Media",
          "Social Media",
          "Social Media",
          "Social Media",
          "Social Media",
          "Social Media",
          "Social Media",
          "Social Media",
          "Social Media",
          "Social Media",
          "Social Media",
          "Social Media",
          "Social Media",
          "Social Media",
          "Social Media",
          "Social Media",
          "Social Media",
          "Social Media",
          "Social Media",
          "Social Media",
          "Social Media",
          "Social Media",
          "Social Media",
          "Social Media",
          "Social Media",
          "Social Media",
          "Social Media",
          "Social Media",
          "Social Media",
          "Social Media",
          "Social Media",
          "Social Media",
          "Social Media",
          "Social Media",
          "Social Media",
          "Social Media",
          "Social Media",
          "Social Media",
          "Social Media",
          "Social Media",
          "Social Media",
          "Social Media",
          "Social Media",
          "Social Media",
          "Social Media",
          "Social Media",
          "Social Media",
          "Social Media",
          "Social Media",
          "Social Media",
          "Social Media",
          "Social Media",
          "Social Media",
          "Social Media",
          "Social Media",
          "Social Media",
          "Social Media",
          "Social Media",
          "Social Media",
          "Social Media",
          "Social Media",
          "Social Media",
          "Social Media",
          "Social Media",
          "Social Media",
          "Social Media",
          "Social Media",
          "Social Media",
          "Social Media",
          "Social Media",
          "Social Media",
          "Social Media",
          "Social Media",
          "Social Media",
          "Social Media",
          "Social Media",
          "Social Media",
          "Social Media",
          "Social Media",
          "Social Media",
          "Social Media",
          "Social Media",
          "Social Media",
          "Social Media",
          "Social Media",
          "Social Media",
          "Social Media",
          "Social Media",
          "Social Media",
          "Social Media",
          "Social Media",
          "Social Media",
          "Social Media",
          "Social Media",
          "Social Media",
          "Social Media",
          "Social Media"
         ],
         "x0": " ",
         "xaxis": "x",
         "y": [
          435.48734557286474,
          331.9099418469102,
          331.38454496717264,
          322.0309476732531,
          314.775188576952,
          306.07373277568445,
          303.8684328095194,
          290.7072540058887,
          256.7877205083588,
          247.36290285308783,
          235.4655152132514,
          227.9904906410419,
          222.02801620529394,
          217.72279078257603,
          212.50564407039238,
          207.56560532934628,
          205.07297374972305,
          200.4256975574351,
          199.4961729876743,
          199.18680197567176,
          195.5993343688523,
          191.35585372470916,
          187.7416870418782,
          178.5581211928263,
          176.45386618786713,
          174.6492528799176,
          173.73177775123884,
          171.5078814073467,
          171.3887591428597,
          170.38232010629153,
          158.27187392039443,
          155.03503553303995,
          149.30094132711224,
          148.54315143211392,
          146.91789645617067,
          145.62732286396093,
          144.62446434127162,
          144.27780506418839,
          143.2082055647097,
          140.10074092354049,
          137.8955463854301,
          133.38652910466317,
          126.73190313078628,
          126.25163586248058,
          122.07677488628035,
          119.19232778655056,
          118.66586114041122,
          116.947093769225,
          116.25056305878952,
          113.0374054095208,
          111.38939145334275,
          110.50406362277091,
          107.95205001044829,
          107.82880525798242,
          107.46998531570222,
          107.24173012267742,
          104.51271288144227,
          104.51214882739144,
          103.76201111269934,
          101.47870175265878,
          100.43691847814877,
          100.15813461005871,
          99.59354367136098,
          99.48529869486575,
          98.61517282438244,
          98.57960503861527,
          94.273440014798,
          94.19333164651879,
          93.02608724008329,
          92.37805583696098,
          91.79972828113333,
          91.40993240051924,
          90.23022789620899,
          89.97240973192027,
          88.20184649529776,
          87.38242883761203,
          86.31499738601373,
          86.25977188931954,
          84.57502700620965,
          83.21355042426376,
          82.80030716375917,
          82.44820702538914,
          82.0611906637726,
          81.78964529077204,
          80.01280828887778,
          79.4156298411431,
          77.7425704860237,
          76.72669117940885,
          75.26895428935573,
          73.79390779330585,
          72.44366174290221,
          70.65520787967706,
          68.57222414816293,
          65.86276072305562,
          64.52823736387961,
          63.86997252067452,
          61.37500427875647,
          60.13038163568522,
          59.19819373544256,
          58.547296030882244,
          57.18490313280046,
          56.666115393339965,
          56.41717768598626,
          55.91970998030289,
          55.411868629278764,
          50.00943330223166,
          49.849894458782146,
          48.690688066351086,
          46.21364324674719,
          42.88606467957145,
          41.67485203397511,
          38.117038950519074,
          34.943797344756405,
          32.603319045533645,
          29.437908855956533,
          28.807304022723535,
          23.461993659358807,
          21.61645262123925
         ],
         "y0": " ",
         "yaxis": "y"
        },
        {
         "alignmentgroup": "True",
         "hovertemplate": "Marketing_Channel=%{x}<br>Customer Acquisition Cost (INR)=%{y}<extra></extra>",
         "legendgroup": "Email Marketing",
         "marker": {
          "color": "rgb(252,141,98)"
         },
         "name": "Email Marketing",
         "notched": false,
         "offsetgroup": "Email Marketing",
         "orientation": "v",
         "showlegend": true,
         "type": "box",
         "x": [
          "Email Marketing",
          "Email Marketing",
          "Email Marketing",
          "Email Marketing",
          "Email Marketing",
          "Email Marketing",
          "Email Marketing",
          "Email Marketing",
          "Email Marketing",
          "Email Marketing",
          "Email Marketing",
          "Email Marketing",
          "Email Marketing",
          "Email Marketing",
          "Email Marketing",
          "Email Marketing",
          "Email Marketing",
          "Email Marketing",
          "Email Marketing",
          "Email Marketing",
          "Email Marketing",
          "Email Marketing",
          "Email Marketing",
          "Email Marketing",
          "Email Marketing",
          "Email Marketing",
          "Email Marketing",
          "Email Marketing",
          "Email Marketing",
          "Email Marketing",
          "Email Marketing",
          "Email Marketing",
          "Email Marketing",
          "Email Marketing",
          "Email Marketing",
          "Email Marketing",
          "Email Marketing",
          "Email Marketing",
          "Email Marketing",
          "Email Marketing",
          "Email Marketing",
          "Email Marketing",
          "Email Marketing",
          "Email Marketing",
          "Email Marketing",
          "Email Marketing",
          "Email Marketing",
          "Email Marketing",
          "Email Marketing",
          "Email Marketing",
          "Email Marketing",
          "Email Marketing",
          "Email Marketing",
          "Email Marketing",
          "Email Marketing",
          "Email Marketing",
          "Email Marketing",
          "Email Marketing",
          "Email Marketing",
          "Email Marketing",
          "Email Marketing",
          "Email Marketing",
          "Email Marketing",
          "Email Marketing",
          "Email Marketing",
          "Email Marketing",
          "Email Marketing",
          "Email Marketing",
          "Email Marketing",
          "Email Marketing",
          "Email Marketing",
          "Email Marketing",
          "Email Marketing",
          "Email Marketing",
          "Email Marketing",
          "Email Marketing",
          "Email Marketing",
          "Email Marketing",
          "Email Marketing",
          "Email Marketing",
          "Email Marketing",
          "Email Marketing",
          "Email Marketing",
          "Email Marketing",
          "Email Marketing",
          "Email Marketing",
          "Email Marketing",
          "Email Marketing",
          "Email Marketing",
          "Email Marketing",
          "Email Marketing",
          "Email Marketing",
          "Email Marketing",
          "Email Marketing",
          "Email Marketing",
          "Email Marketing",
          "Email Marketing",
          "Email Marketing",
          "Email Marketing",
          "Email Marketing",
          "Email Marketing",
          "Email Marketing",
          "Email Marketing",
          "Email Marketing",
          "Email Marketing",
          "Email Marketing",
          "Email Marketing",
          "Email Marketing",
          "Email Marketing",
          "Email Marketing",
          "Email Marketing",
          "Email Marketing",
          "Email Marketing",
          "Email Marketing",
          "Email Marketing",
          "Email Marketing",
          "Email Marketing",
          "Email Marketing",
          "Email Marketing",
          "Email Marketing",
          "Email Marketing",
          "Email Marketing",
          "Email Marketing",
          "Email Marketing"
         ],
         "x0": " ",
         "xaxis": "x",
         "y": [
          434.3834455624725,
          427.72046972443405,
          372.89572375164204,
          364.3672085653763,
          362.77903898750554,
          332.8997800477762,
          314.0460695585194,
          309.1837639339718,
          296.92760155368256,
          292.081046704693,
          280.3640131856517,
          266.87878710937696,
          264.60507060408423,
          254.0946512495384,
          240.16244864235634,
          237.75289582031075,
          233.7192980686695,
          227.34288805359085,
          220.52605324888683,
          218.06424024351617,
          217.3169420656437,
          206.01605490658307,
          204.95146317849762,
          201.7052926802192,
          201.37883102906557,
          199.376922146991,
          198.09641561964068,
          193.821646414028,
          189.46073165053812,
          187.11995583308908,
          182.64948718905308,
          175.70603468312908,
          171.4172410629097,
          171.36201724842508,
          168.02744224707774,
          165.9403706274086,
          165.65818959399007,
          158.3353282073107,
          156.44586128557552,
          149.84643076908839,
          143.5128885599879,
          143.01314695801076,
          138.46663680004406,
          136.21612512887563,
          131.56714393904622,
          129.2257381747992,
          129.21011238521197,
          126.80526850451051,
          125.99346494617964,
          118.1662350112727,
          117.50898585854013,
          116.8569049367181,
          115.91534032141126,
          115.63132984321527,
          115.60037416012287,
          115.52713174157537,
          113.76319882212366,
          113.12524342551656,
          110.87407804431562,
          110.02932390887963,
          109.13590274720532,
          108.60020288950771,
          105.28104024721767,
          104.87293665991288,
          103.9405366685923,
          102.80395167123082,
          102.02853120106694,
          100.3210095445754,
          99.66017604910841,
          96.04440852670605,
          95.68134596764381,
          94.1570662898356,
          94.15540441411983,
          92.25880240218886,
          89.5170120859836,
          89.36569190986575,
          89.26301282504501,
          87.81406165518459,
          87.71197322049123,
          86.87662282341277,
          85.26216810471152,
          81.27331648974254,
          81.00730475086614,
          78.72079451937915,
          77.74503651039868,
          77.32826607934328,
          76.47392926493517,
          74.39092919701386,
          73.49322981791151,
          71.99676277336319,
          71.79148628179578,
          70.91216874907714,
          69.85730146074854,
          63.33287636855652,
          63.28079889266849,
          62.865251861622525,
          61.3789854277464,
          59.519218285273034,
          59.42817333801917,
          59.10198821124344,
          58.73216897782289,
          55.55318034905638,
          53.517643880172415,
          53.10499724186282,
          52.00769578713043,
          50.73974598901472,
          49.03307907998,
          48.263769376431284,
          47.889069809514965,
          47.36448666737971,
          46.64747537547307,
          46.402524616325245,
          46.15295932018564,
          44.794514091521556,
          40.17114950304109,
          40.07090645970874,
          39.98079781842939,
          37.98866640048673,
          36.51697074497594,
          33.53186214873253,
          31.85298686215384,
          30.094642088177533,
          26.317468052799573,
          23.491783927784155
         ],
         "y0": " ",
         "yaxis": "y"
        },
        {
         "alignmentgroup": "True",
         "hovertemplate": "Marketing_Channel=%{x}<br>Customer Acquisition Cost (INR)=%{y}<extra></extra>",
         "legendgroup": "Online Ads",
         "marker": {
          "color": "rgb(141,160,203)"
         },
         "name": "Online Ads",
         "notched": false,
         "offsetgroup": "Online Ads",
         "orientation": "v",
         "showlegend": true,
         "type": "box",
         "x": [
          "Online Ads",
          "Online Ads",
          "Online Ads",
          "Online Ads",
          "Online Ads",
          "Online Ads",
          "Online Ads",
          "Online Ads",
          "Online Ads",
          "Online Ads",
          "Online Ads",
          "Online Ads",
          "Online Ads",
          "Online Ads",
          "Online Ads",
          "Online Ads",
          "Online Ads",
          "Online Ads",
          "Online Ads",
          "Online Ads",
          "Online Ads",
          "Online Ads",
          "Online Ads",
          "Online Ads",
          "Online Ads",
          "Online Ads",
          "Online Ads",
          "Online Ads",
          "Online Ads",
          "Online Ads",
          "Online Ads",
          "Online Ads",
          "Online Ads",
          "Online Ads",
          "Online Ads",
          "Online Ads",
          "Online Ads",
          "Online Ads",
          "Online Ads",
          "Online Ads",
          "Online Ads",
          "Online Ads",
          "Online Ads",
          "Online Ads",
          "Online Ads",
          "Online Ads",
          "Online Ads",
          "Online Ads",
          "Online Ads",
          "Online Ads",
          "Online Ads",
          "Online Ads",
          "Online Ads",
          "Online Ads",
          "Online Ads",
          "Online Ads",
          "Online Ads",
          "Online Ads",
          "Online Ads",
          "Online Ads",
          "Online Ads",
          "Online Ads",
          "Online Ads",
          "Online Ads",
          "Online Ads",
          "Online Ads",
          "Online Ads",
          "Online Ads",
          "Online Ads",
          "Online Ads",
          "Online Ads",
          "Online Ads",
          "Online Ads",
          "Online Ads",
          "Online Ads",
          "Online Ads",
          "Online Ads",
          "Online Ads",
          "Online Ads",
          "Online Ads",
          "Online Ads",
          "Online Ads",
          "Online Ads",
          "Online Ads",
          "Online Ads",
          "Online Ads",
          "Online Ads",
          "Online Ads",
          "Online Ads",
          "Online Ads",
          "Online Ads",
          "Online Ads",
          "Online Ads",
          "Online Ads",
          "Online Ads",
          "Online Ads",
          "Online Ads",
          "Online Ads",
          "Online Ads",
          "Online Ads",
          "Online Ads",
          "Online Ads",
          "Online Ads",
          "Online Ads",
          "Online Ads",
          "Online Ads",
          "Online Ads",
          "Online Ads",
          "Online Ads",
          "Online Ads",
          "Online Ads",
          "Online Ads",
          "Online Ads",
          "Online Ads",
          "Online Ads",
          "Online Ads",
          "Online Ads",
          "Online Ads",
          "Online Ads",
          "Online Ads",
          "Online Ads",
          "Online Ads",
          "Online Ads",
          "Online Ads",
          "Online Ads",
          "Online Ads",
          "Online Ads",
          "Online Ads",
          "Online Ads",
          "Online Ads"
         ],
         "x0": " ",
         "xaxis": "x",
         "y": [
          386.75128535926274,
          360.6037957734745,
          351.6623253313672,
          337.21719521833046,
          315.6449222521369,
          314.2348661956273,
          310.7349089981759,
          295.57803530347786,
          288.4261292526901,
          280.2057859555017,
          249.31545130158318,
          248.48867672497582,
          233.08002655724417,
          231.1276953535672,
          230.1281596582659,
          216.496478802759,
          199.93528878599818,
          196.61882654535265,
          188.51415319313128,
          187.4989039890499,
          184.28416632744003,
          182.26749861379008,
          180.97492889371165,
          180.43473645563495,
          179.4059317871519,
          179.3448781931991,
          178.68594088323843,
          174.64711691966374,
          174.63643675194442,
          172.09170166723328,
          169.52960547097263,
          165.62569349053135,
          164.52897142442512,
          160.29124379293157,
          159.1104048148294,
          156.05825195278152,
          151.84009662926096,
          148.05934317713212,
          143.5504592887475,
          141.8985842078482,
          138.91104719365234,
          137.2007105607167,
          133.89225921158828,
          132.23208819693994,
          129.39971710027487,
          129.07579210124305,
          126.91695807655582,
          126.86187425821673,
          126.65969685798457,
          126.36214539205581,
          124.9363797924456,
          124.18334022713626,
          123.10940912306177,
          120.9554755528958,
          118.8024688529729,
          113.69819572317944,
          113.32233595959978,
          113.22765633674214,
          111.2708444245423,
          110.8140879061345,
          110.54501933059547,
          110.4178703264659,
          101.79899787809677,
          99.73667659163908,
          98.90048690372109,
          96.57156689127724,
          95.8056775957123,
          95.73086437060769,
          95.38693055971667,
          94.71964763992344,
          92.3478681488643,
          91.74606969270492,
          91.68587532042663,
          89.92461811631378,
          88.26621606097355,
          87.88385926476765,
          86.16965013597465,
          83.8652405504352,
          82.60915742433075,
          81.75218452542686,
          81.60394377684135,
          80.89837663152218,
          79.20714443876359,
          78.0197189827707,
          76.23698003053832,
          75.9816753926755,
          74.92763258595936,
          74.65645365945208,
          74.0878694523779,
          71.27385759116144,
          70.34675051372321,
          68.64513460195944,
          65.53891584790841,
          64.80922990740395,
          64.5234732500656,
          64.19683127413678,
          62.94811460899583,
          61.960965394329975,
          61.71636325939229,
          61.348791955057614,
          58.943865284677756,
          58.36747164487327,
          57.98202353064941,
          57.29579994521705,
          57.28139994470385,
          56.88478756528224,
          56.22274696802701,
          55.750900221311674,
          52.42718463034469,
          49.03984422675843,
          48.01271114498091,
          47.33920017676173,
          46.57774032938634,
          46.53762302345865,
          46.51879367695117,
          44.976371523310924,
          44.80421794150596,
          44.498812377890225,
          41.95741246134622,
          41.46166759208803,
          39.50907513527648,
          35.48422973099157,
          34.72132953802442,
          33.83261440587518,
          33.57169114001669,
          33.33998655396594,
          32.78823503177525,
          31.022036935802472,
          25.583688339207658,
          24.784414227961886
         ],
         "y0": " ",
         "yaxis": "y"
        },
        {
         "alignmentgroup": "True",
         "hovertemplate": "Marketing_Channel=%{x}<br>Customer Acquisition Cost (INR)=%{y}<extra></extra>",
         "legendgroup": "Referral",
         "marker": {
          "color": "rgb(231,138,195)"
         },
         "name": "Referral",
         "notched": false,
         "offsetgroup": "Referral",
         "orientation": "v",
         "showlegend": true,
         "type": "box",
         "x": [
          "Referral",
          "Referral",
          "Referral",
          "Referral",
          "Referral",
          "Referral",
          "Referral",
          "Referral",
          "Referral",
          "Referral",
          "Referral",
          "Referral",
          "Referral",
          "Referral",
          "Referral",
          "Referral",
          "Referral",
          "Referral",
          "Referral",
          "Referral",
          "Referral",
          "Referral",
          "Referral",
          "Referral",
          "Referral",
          "Referral",
          "Referral",
          "Referral",
          "Referral",
          "Referral",
          "Referral",
          "Referral",
          "Referral",
          "Referral",
          "Referral",
          "Referral",
          "Referral",
          "Referral",
          "Referral",
          "Referral",
          "Referral",
          "Referral",
          "Referral",
          "Referral",
          "Referral",
          "Referral",
          "Referral",
          "Referral",
          "Referral",
          "Referral",
          "Referral",
          "Referral",
          "Referral",
          "Referral",
          "Referral",
          "Referral",
          "Referral",
          "Referral",
          "Referral",
          "Referral",
          "Referral",
          "Referral",
          "Referral",
          "Referral",
          "Referral",
          "Referral",
          "Referral",
          "Referral",
          "Referral",
          "Referral",
          "Referral",
          "Referral",
          "Referral",
          "Referral",
          "Referral",
          "Referral",
          "Referral",
          "Referral",
          "Referral",
          "Referral",
          "Referral",
          "Referral",
          "Referral",
          "Referral",
          "Referral",
          "Referral",
          "Referral",
          "Referral",
          "Referral",
          "Referral",
          "Referral",
          "Referral",
          "Referral",
          "Referral",
          "Referral",
          "Referral",
          "Referral",
          "Referral",
          "Referral",
          "Referral",
          "Referral",
          "Referral",
          "Referral",
          "Referral",
          "Referral",
          "Referral",
          "Referral",
          "Referral",
          "Referral",
          "Referral",
          "Referral",
          "Referral",
          "Referral",
          "Referral",
          "Referral",
          "Referral",
          "Referral",
          "Referral",
          "Referral",
          "Referral",
          "Referral",
          "Referral",
          "Referral",
          "Referral",
          "Referral",
          "Referral",
          "Referral",
          "Referral"
         ],
         "x0": " ",
         "xaxis": "x",
         "y": [
          366.5252089998591,
          362.8820552564676,
          345.3486207380111,
          344.5231733422201,
          312.2477596747458,
          292.1373957003497,
          280.060143103189,
          248.86494887775672,
          247.13916725948394,
          237.06250728054306,
          234.7993262814003,
          225.19225898521591,
          223.68084229152282,
          223.46674940605112,
          222.46522150970006,
          221.7003105164461,
          217.37527452334072,
          213.55706853404533,
          209.8464165261319,
          203.9141853686816,
          196.47195358784765,
          195.71653922799453,
          193.22732291927508,
          190.72013824662827,
          189.86026033103371,
          189.5602228982235,
          175.0817484290018,
          159.4494961147272,
          150.4883899496825,
          147.91229122243556,
          142.21132899057156,
          141.5152416333337,
          136.26549988537073,
          134.19242054074317,
          134.16917738834096,
          133.9823862587133,
          133.70764698691772,
          131.9468579084435,
          131.91186235768402,
          127.38659924892784,
          125.57162070602693,
          122.47231310333652,
          121.9746383122902,
          120.38062079068746,
          117.89910011813255,
          114.21110368556684,
          113.01575075244936,
          110.64607336287935,
          110.08846253680977,
          108.15656403691906,
          107.84841988382087,
          106.49445135795831,
          106.35624908252886,
          105.7906750611564,
          105.78262690980453,
          103.99212020144525,
          103.30704243587566,
          102.83067571158936,
          102.28014486297735,
          101.9759573056719,
          101.59299455542995,
          100.851154053681,
          100.02058757099432,
          99.91966277697622,
          99.75171331070307,
          99.04953718254033,
          97.04159171918711,
          96.87510776791899,
          94.65720377524458,
          92.82807737227574,
          90.33267255871291,
          89.71926330417163,
          88.35851986889138,
          87.66535417620678,
          87.26185908129568,
          86.79625757208446,
          86.62977787493791,
          85.83976640145241,
          83.66469568882324,
          83.63814512742933,
          81.20210397267398,
          80.41642935873058,
          79.92477322570062,
          79.60518679538787,
          79.57888445100996,
          79.38316959760346,
          79.18854211925957,
          78.34138800087739,
          76.74507704203315,
          74.44570305538521,
          73.09546102825234,
          72.85144258769466,
          72.56538725317895,
          72.42429779475175,
          71.43330670728342,
          71.40821191944679,
          71.16711954545003,
          66.01712145424843,
          65.46264629149478,
          65.43991181885373,
          65.26209664112966,
          64.78730966594647,
          63.472027922212604,
          61.212026926747555,
          60.826252476870785,
          59.86295267778016,
          59.22207814166167,
          58.35416677431634,
          57.14066477489841,
          56.92210890954365,
          56.427569349320095,
          54.99821831219703,
          52.783731020180234,
          52.65014186546445,
          52.50078312688792,
          52.316554137905044,
          49.87598489713695,
          48.356244605789314,
          47.609915335440604,
          47.57190809077045,
          47.090394258492715,
          46.79420727183853,
          43.81576351134885,
          42.627118662626124,
          39.692309776902604,
          30.738776920865206,
          28.443907219248768,
          22.01236393800532
         ],
         "y0": " ",
         "yaxis": "y"
        }
       ],
       "layout": {
        "boxmode": "overlay",
        "legend": {
         "title": {
          "text": "Marketing_Channel"
         },
         "tracegroupgap": 0
        },
        "showlegend": false,
        "template": {
         "data": {
          "bar": [
           {
            "error_x": {
             "color": "#2a3f5f"
            },
            "error_y": {
             "color": "#2a3f5f"
            },
            "marker": {
             "line": {
              "color": "white",
              "width": 0.5
             },
             "pattern": {
              "fillmode": "overlay",
              "size": 10,
              "solidity": 0.2
             }
            },
            "type": "bar"
           }
          ],
          "barpolar": [
           {
            "marker": {
             "line": {
              "color": "white",
              "width": 0.5
             },
             "pattern": {
              "fillmode": "overlay",
              "size": 10,
              "solidity": 0.2
             }
            },
            "type": "barpolar"
           }
          ],
          "carpet": [
           {
            "aaxis": {
             "endlinecolor": "#2a3f5f",
             "gridcolor": "#C8D4E3",
             "linecolor": "#C8D4E3",
             "minorgridcolor": "#C8D4E3",
             "startlinecolor": "#2a3f5f"
            },
            "baxis": {
             "endlinecolor": "#2a3f5f",
             "gridcolor": "#C8D4E3",
             "linecolor": "#C8D4E3",
             "minorgridcolor": "#C8D4E3",
             "startlinecolor": "#2a3f5f"
            },
            "type": "carpet"
           }
          ],
          "choropleth": [
           {
            "colorbar": {
             "outlinewidth": 0,
             "ticks": ""
            },
            "type": "choropleth"
           }
          ],
          "contour": [
           {
            "colorbar": {
             "outlinewidth": 0,
             "ticks": ""
            },
            "colorscale": [
             [
              0,
              "#0d0887"
             ],
             [
              0.1111111111111111,
              "#46039f"
             ],
             [
              0.2222222222222222,
              "#7201a8"
             ],
             [
              0.3333333333333333,
              "#9c179e"
             ],
             [
              0.4444444444444444,
              "#bd3786"
             ],
             [
              0.5555555555555556,
              "#d8576b"
             ],
             [
              0.6666666666666666,
              "#ed7953"
             ],
             [
              0.7777777777777778,
              "#fb9f3a"
             ],
             [
              0.8888888888888888,
              "#fdca26"
             ],
             [
              1,
              "#f0f921"
             ]
            ],
            "type": "contour"
           }
          ],
          "contourcarpet": [
           {
            "colorbar": {
             "outlinewidth": 0,
             "ticks": ""
            },
            "type": "contourcarpet"
           }
          ],
          "heatmap": [
           {
            "colorbar": {
             "outlinewidth": 0,
             "ticks": ""
            },
            "colorscale": [
             [
              0,
              "#0d0887"
             ],
             [
              0.1111111111111111,
              "#46039f"
             ],
             [
              0.2222222222222222,
              "#7201a8"
             ],
             [
              0.3333333333333333,
              "#9c179e"
             ],
             [
              0.4444444444444444,
              "#bd3786"
             ],
             [
              0.5555555555555556,
              "#d8576b"
             ],
             [
              0.6666666666666666,
              "#ed7953"
             ],
             [
              0.7777777777777778,
              "#fb9f3a"
             ],
             [
              0.8888888888888888,
              "#fdca26"
             ],
             [
              1,
              "#f0f921"
             ]
            ],
            "type": "heatmap"
           }
          ],
          "heatmapgl": [
           {
            "colorbar": {
             "outlinewidth": 0,
             "ticks": ""
            },
            "colorscale": [
             [
              0,
              "#0d0887"
             ],
             [
              0.1111111111111111,
              "#46039f"
             ],
             [
              0.2222222222222222,
              "#7201a8"
             ],
             [
              0.3333333333333333,
              "#9c179e"
             ],
             [
              0.4444444444444444,
              "#bd3786"
             ],
             [
              0.5555555555555556,
              "#d8576b"
             ],
             [
              0.6666666666666666,
              "#ed7953"
             ],
             [
              0.7777777777777778,
              "#fb9f3a"
             ],
             [
              0.8888888888888888,
              "#fdca26"
             ],
             [
              1,
              "#f0f921"
             ]
            ],
            "type": "heatmapgl"
           }
          ],
          "histogram": [
           {
            "marker": {
             "pattern": {
              "fillmode": "overlay",
              "size": 10,
              "solidity": 0.2
             }
            },
            "type": "histogram"
           }
          ],
          "histogram2d": [
           {
            "colorbar": {
             "outlinewidth": 0,
             "ticks": ""
            },
            "colorscale": [
             [
              0,
              "#0d0887"
             ],
             [
              0.1111111111111111,
              "#46039f"
             ],
             [
              0.2222222222222222,
              "#7201a8"
             ],
             [
              0.3333333333333333,
              "#9c179e"
             ],
             [
              0.4444444444444444,
              "#bd3786"
             ],
             [
              0.5555555555555556,
              "#d8576b"
             ],
             [
              0.6666666666666666,
              "#ed7953"
             ],
             [
              0.7777777777777778,
              "#fb9f3a"
             ],
             [
              0.8888888888888888,
              "#fdca26"
             ],
             [
              1,
              "#f0f921"
             ]
            ],
            "type": "histogram2d"
           }
          ],
          "histogram2dcontour": [
           {
            "colorbar": {
             "outlinewidth": 0,
             "ticks": ""
            },
            "colorscale": [
             [
              0,
              "#0d0887"
             ],
             [
              0.1111111111111111,
              "#46039f"
             ],
             [
              0.2222222222222222,
              "#7201a8"
             ],
             [
              0.3333333333333333,
              "#9c179e"
             ],
             [
              0.4444444444444444,
              "#bd3786"
             ],
             [
              0.5555555555555556,
              "#d8576b"
             ],
             [
              0.6666666666666666,
              "#ed7953"
             ],
             [
              0.7777777777777778,
              "#fb9f3a"
             ],
             [
              0.8888888888888888,
              "#fdca26"
             ],
             [
              1,
              "#f0f921"
             ]
            ],
            "type": "histogram2dcontour"
           }
          ],
          "mesh3d": [
           {
            "colorbar": {
             "outlinewidth": 0,
             "ticks": ""
            },
            "type": "mesh3d"
           }
          ],
          "parcoords": [
           {
            "line": {
             "colorbar": {
              "outlinewidth": 0,
              "ticks": ""
             }
            },
            "type": "parcoords"
           }
          ],
          "pie": [
           {
            "automargin": true,
            "type": "pie"
           }
          ],
          "scatter": [
           {
            "fillpattern": {
             "fillmode": "overlay",
             "size": 10,
             "solidity": 0.2
            },
            "type": "scatter"
           }
          ],
          "scatter3d": [
           {
            "line": {
             "colorbar": {
              "outlinewidth": 0,
              "ticks": ""
             }
            },
            "marker": {
             "colorbar": {
              "outlinewidth": 0,
              "ticks": ""
             }
            },
            "type": "scatter3d"
           }
          ],
          "scattercarpet": [
           {
            "marker": {
             "colorbar": {
              "outlinewidth": 0,
              "ticks": ""
             }
            },
            "type": "scattercarpet"
           }
          ],
          "scattergeo": [
           {
            "marker": {
             "colorbar": {
              "outlinewidth": 0,
              "ticks": ""
             }
            },
            "type": "scattergeo"
           }
          ],
          "scattergl": [
           {
            "marker": {
             "colorbar": {
              "outlinewidth": 0,
              "ticks": ""
             }
            },
            "type": "scattergl"
           }
          ],
          "scattermapbox": [
           {
            "marker": {
             "colorbar": {
              "outlinewidth": 0,
              "ticks": ""
             }
            },
            "type": "scattermapbox"
           }
          ],
          "scatterpolar": [
           {
            "marker": {
             "colorbar": {
              "outlinewidth": 0,
              "ticks": ""
             }
            },
            "type": "scatterpolar"
           }
          ],
          "scatterpolargl": [
           {
            "marker": {
             "colorbar": {
              "outlinewidth": 0,
              "ticks": ""
             }
            },
            "type": "scatterpolargl"
           }
          ],
          "scatterternary": [
           {
            "marker": {
             "colorbar": {
              "outlinewidth": 0,
              "ticks": ""
             }
            },
            "type": "scatterternary"
           }
          ],
          "surface": [
           {
            "colorbar": {
             "outlinewidth": 0,
             "ticks": ""
            },
            "colorscale": [
             [
              0,
              "#0d0887"
             ],
             [
              0.1111111111111111,
              "#46039f"
             ],
             [
              0.2222222222222222,
              "#7201a8"
             ],
             [
              0.3333333333333333,
              "#9c179e"
             ],
             [
              0.4444444444444444,
              "#bd3786"
             ],
             [
              0.5555555555555556,
              "#d8576b"
             ],
             [
              0.6666666666666666,
              "#ed7953"
             ],
             [
              0.7777777777777778,
              "#fb9f3a"
             ],
             [
              0.8888888888888888,
              "#fdca26"
             ],
             [
              1,
              "#f0f921"
             ]
            ],
            "type": "surface"
           }
          ],
          "table": [
           {
            "cells": {
             "fill": {
              "color": "#EBF0F8"
             },
             "line": {
              "color": "white"
             }
            },
            "header": {
             "fill": {
              "color": "#C8D4E3"
             },
             "line": {
              "color": "white"
             }
            },
            "type": "table"
           }
          ]
         },
         "layout": {
          "annotationdefaults": {
           "arrowcolor": "#2a3f5f",
           "arrowhead": 0,
           "arrowwidth": 1
          },
          "autotypenumbers": "strict",
          "coloraxis": {
           "colorbar": {
            "outlinewidth": 0,
            "ticks": ""
           }
          },
          "colorscale": {
           "diverging": [
            [
             0,
             "#8e0152"
            ],
            [
             0.1,
             "#c51b7d"
            ],
            [
             0.2,
             "#de77ae"
            ],
            [
             0.3,
             "#f1b6da"
            ],
            [
             0.4,
             "#fde0ef"
            ],
            [
             0.5,
             "#f7f7f7"
            ],
            [
             0.6,
             "#e6f5d0"
            ],
            [
             0.7,
             "#b8e186"
            ],
            [
             0.8,
             "#7fbc41"
            ],
            [
             0.9,
             "#4d9221"
            ],
            [
             1,
             "#276419"
            ]
           ],
           "sequential": [
            [
             0,
             "#0d0887"
            ],
            [
             0.1111111111111111,
             "#46039f"
            ],
            [
             0.2222222222222222,
             "#7201a8"
            ],
            [
             0.3333333333333333,
             "#9c179e"
            ],
            [
             0.4444444444444444,
             "#bd3786"
            ],
            [
             0.5555555555555556,
             "#d8576b"
            ],
            [
             0.6666666666666666,
             "#ed7953"
            ],
            [
             0.7777777777777778,
             "#fb9f3a"
            ],
            [
             0.8888888888888888,
             "#fdca26"
            ],
            [
             1,
             "#f0f921"
            ]
           ],
           "sequentialminus": [
            [
             0,
             "#0d0887"
            ],
            [
             0.1111111111111111,
             "#46039f"
            ],
            [
             0.2222222222222222,
             "#7201a8"
            ],
            [
             0.3333333333333333,
             "#9c179e"
            ],
            [
             0.4444444444444444,
             "#bd3786"
            ],
            [
             0.5555555555555556,
             "#d8576b"
            ],
            [
             0.6666666666666666,
             "#ed7953"
            ],
            [
             0.7777777777777778,
             "#fb9f3a"
            ],
            [
             0.8888888888888888,
             "#fdca26"
            ],
            [
             1,
             "#f0f921"
            ]
           ]
          },
          "colorway": [
           "#636efa",
           "#EF553B",
           "#00cc96",
           "#ab63fa",
           "#FFA15A",
           "#19d3f3",
           "#FF6692",
           "#B6E880",
           "#FF97FF",
           "#FECB52"
          ],
          "font": {
           "color": "#2a3f5f"
          },
          "geo": {
           "bgcolor": "white",
           "lakecolor": "white",
           "landcolor": "white",
           "showlakes": true,
           "showland": true,
           "subunitcolor": "#C8D4E3"
          },
          "hoverlabel": {
           "align": "left"
          },
          "hovermode": "closest",
          "mapbox": {
           "style": "light"
          },
          "paper_bgcolor": "white",
          "plot_bgcolor": "white",
          "polar": {
           "angularaxis": {
            "gridcolor": "#EBF0F8",
            "linecolor": "#EBF0F8",
            "ticks": ""
           },
           "bgcolor": "white",
           "radialaxis": {
            "gridcolor": "#EBF0F8",
            "linecolor": "#EBF0F8",
            "ticks": ""
           }
          },
          "scene": {
           "xaxis": {
            "backgroundcolor": "white",
            "gridcolor": "#DFE8F3",
            "gridwidth": 2,
            "linecolor": "#EBF0F8",
            "showbackground": true,
            "ticks": "",
            "zerolinecolor": "#EBF0F8"
           },
           "yaxis": {
            "backgroundcolor": "white",
            "gridcolor": "#DFE8F3",
            "gridwidth": 2,
            "linecolor": "#EBF0F8",
            "showbackground": true,
            "ticks": "",
            "zerolinecolor": "#EBF0F8"
           },
           "zaxis": {
            "backgroundcolor": "white",
            "gridcolor": "#DFE8F3",
            "gridwidth": 2,
            "linecolor": "#EBF0F8",
            "showbackground": true,
            "ticks": "",
            "zerolinecolor": "#EBF0F8"
           }
          },
          "shapedefaults": {
           "line": {
            "color": "#2a3f5f"
           }
          },
          "ternary": {
           "aaxis": {
            "gridcolor": "#DFE8F3",
            "linecolor": "#A2B1C6",
            "ticks": ""
           },
           "baxis": {
            "gridcolor": "#DFE8F3",
            "linecolor": "#A2B1C6",
            "ticks": ""
           },
           "bgcolor": "white",
           "caxis": {
            "gridcolor": "#DFE8F3",
            "linecolor": "#A2B1C6",
            "ticks": ""
           }
          },
          "title": {
           "x": 0.05
          },
          "xaxis": {
           "automargin": true,
           "gridcolor": "#EBF0F8",
           "linecolor": "#EBF0F8",
           "ticks": "",
           "title": {
            "standoff": 15
           },
           "zerolinecolor": "#EBF0F8",
           "zerolinewidth": 2
          },
          "yaxis": {
           "automargin": true,
           "gridcolor": "#EBF0F8",
           "linecolor": "#EBF0F8",
           "ticks": "",
           "title": {
            "standoff": 15
           },
           "zerolinecolor": "#EBF0F8",
           "zerolinewidth": 2
          }
         }
        },
        "title": {
         "text": "Customer Acquisition Cost (CAC) by Marketing Channel",
         "x": 0.5
        },
        "xaxis": {
         "anchor": "y",
         "categoryarray": [
          "Social Media",
          "Email Marketing",
          "Online Ads",
          "Referral"
         ],
         "categoryorder": "array",
         "domain": [
          0,
          1
         ],
         "title": {
          "text": "Marketing Channel"
         }
        },
        "yaxis": {
         "anchor": "x",
         "domain": [
          0,
          1
         ],
         "tickformat": ".2f",
         "title": {
          "text": "CAC (INR)"
         }
        }
       }
      }
     },
     "metadata": {},
     "output_type": "display_data"
    }
   ],
   "source": [
    "# Creating a box plot for CAC by Marketing Channel\n",
    "fig1 = px.box(df_sorted, x='Marketing_Channel', y='CAC',\n",
    "              color='Marketing_Channel', \n",
    "              title='Customer Acquisition Cost (CAC) by Marketing Channel',\n",
    "              labels={'CAC': 'Customer Acquisition Cost (INR)'},\n",
    "              color_discrete_sequence=px.colors.qualitative.Set2)\n",
    "# Updating layout\n",
    "fig1.update_layout(\n",
    "    xaxis_title='Marketing Channel',\n",
    "    yaxis_title='CAC (INR)',\n",
    "    title_x=0.5,\n",
    "    yaxis=dict(tickformat=\".2f\"),\n",
    "    showlegend=False  # Hide legend since colors match x-axis\n",
    ")\n",
    "# Displaying the plot\n",
    "fig1.show()"
   ]
  },
  {
   "cell_type": "markdown",
   "metadata": {},
   "source": [
    "# CAC vs New Customers"
   ]
  },
  {
   "cell_type": "code",
   "execution_count": 8,
   "metadata": {},
   "outputs": [
    {
     "data": {
      "application/vnd.plotly.v1+json": {
       "config": {
        "plotlyServerURL": "https://plot.ly"
       },
       "data": [
        {
         "customdata": [
          [
           4790.360801301512
          ],
          [
           4314.829244009833
          ],
          [
           4970.76817450759
          ],
          [
           3542.340424405784
          ],
          [
           4406.852640077328
          ],
          [
           4897.179724410951
          ],
          [
           4861.89492495231
          ],
          [
           4651.316064094219
          ],
          [
           3338.2403666086643
          ],
          [
           3710.4435427963176
          ],
          [
           4473.844789051776
          ],
          [
           2735.885887692503
          ],
          [
           4218.532307900585
          ],
          [
           3483.5646525212164
          ],
          [
           4037.607237337455
          ],
          [
           4151.312106586925
          ],
          [
           3691.313527495015
          ],
          [
           4409.365346263572
          ],
          [
           3989.923459753486
          ],
          [
           3585.3624355620914
          ],
          [
           2933.9900155327846
          ],
          [
           4783.896343117729
          ],
          [
           2816.125305628173
          ],
          [
           3035.4880602780468
          ],
          [
           4764.254387072413
          ],
          [
           4016.932816238105
          ],
          [
           3995.830888278493
          ],
          [
           4802.220679405707
          ],
          [
           4456.107737714352
          ],
          [
           4770.704962976163
          ],
          [
           4906.428091532227
          ],
          [
           4806.086101524238
          ],
          [
           2388.815061233796
          ],
          [
           4604.837694395532
          ],
          [
           1909.9326539302187
          ],
          [
           2766.9191344152578
          ],
          [
           4483.35839457942
          ],
          [
           4761.1675671182165
          ],
          [
           4869.078989200129
          ],
          [
           2802.0148184708096
          ],
          [
           2482.119834937742
          ],
          [
           2534.3440529886
          ],
          [
           2154.442353223367
          ],
          [
           1388.7679944872864
          ],
          [
           1831.1516232942051
          ],
          [
           4171.73147252927
          ],
          [
           1542.656194825346
          ],
          [
           4911.77793830745
          ],
          [
           2208.760698117001
          ],
          [
           4295.42140556179
          ],
          [
           4232.796875227024
          ],
          [
           3425.6259723058984
          ],
          [
           4102.177900397035
          ],
          [
           4960.125041867192
          ],
          [
           4191.3294273123865
          ],
          [
           4289.669204907097
          ],
          [
           3762.4576637319215
          ],
          [
           3762.437357786092
          ],
          [
           4876.814522296869
          ],
          [
           3754.711964848375
          ],
          [
           4218.350576082248
          ],
          [
           3205.0603075218787
          ],
          [
           3983.741746854439
          ],
          [
           2586.6177660665094
          ],
          [
           2761.2248390827085
          ],
          [
           2957.388151158458
          ],
          [
           1885.46880029596
          ],
          [
           4521.2799190329015
          ],
          [
           3534.991315123165
          ],
          [
           4526.524736011088
          ],
          [
           2845.791576715133
          ],
          [
           2742.297972015577
          ],
          [
           3789.6695716407776
          ],
          [
           4048.758437936412
          ],
          [
           4321.89047826959
          ],
          [
           3058.385009316421
          ],
          [
           3797.859884984604
          ],
          [
           2932.8322442368644
          ],
          [
           3636.726161267015
          ],
          [
           3827.823319516133
          ],
          [
           1407.605221783906
          ],
          [
           4039.962144244068
          ],
          [
           3200.3864358871315
          ],
          [
           3680.534038084742
          ],
          [
           3600.5763729995
          ],
          [
           3811.950232374869
          ],
          [
           2021.306832636616
          ],
          [
           3299.2477207145803
          ],
          [
           2258.068628680672
          ],
          [
           2877.962403938928
          ],
          [
           1303.9859113722398
          ],
          [
           1201.1385339545102
          ],
          [
           3154.322310815495
          ],
          [
           2173.4711038608352
          ],
          [
           2774.714206646823
          ],
          [
           3001.8887084717026
          ],
          [
           2761.875192544041
          ],
          [
           2224.824120520353
          ],
          [
           1183.963874708851
          ],
          [
           2576.081025358819
          ],
          [
           2001.471609648016
          ],
          [
           2266.6446157335986
          ],
          [
           2538.7729958693817
          ],
          [
           1957.1898493106012
          ],
          [
           2659.769694205381
          ],
          [
           1750.3301655781083
          ],
          [
           2293.0951451039787
          ],
          [
           2093.6995868530967
          ],
          [
           1663.691156882899
          ],
          [
           1844.100781221572
          ],
          [
           2000.392897630805
          ],
          [
           1372.2134022186867
          ],
          [
           1572.4708805140383
          ],
          [
           1010.702890411543
          ],
          [
           1148.0784453823048
          ],
          [
           1296.328681022559
          ],
          [
           1102.713701989864
          ],
          [
           1037.589725819484
          ]
         ],
         "hovertemplate": "Marketing_Channel=Social Media<br>New Customers=%{x}<br>CAC (INR)=%{y}<br>Marketing_Spend=%{customdata[0]}<extra></extra>",
         "legendgroup": "Social Media",
         "marker": {
          "color": "rgb(102,194,165)",
          "line": {
           "color": "DarkSlateGrey",
           "width": 1
          },
          "opacity": 0.8,
          "size": 8,
          "symbol": "circle"
         },
         "mode": "markers",
         "name": "Social Media",
         "orientation": "v",
         "showlegend": true,
         "text": [
          "435.49",
          "434.38",
          "427.72",
          "386.75",
          "372.9",
          "366.53",
          "364.37",
          "362.88",
          "362.78",
          "360.6",
          "351.66",
          "345.35",
          "344.52",
          "337.22",
          "332.9",
          "331.91",
          "331.38",
          "322.03",
          "315.64",
          "314.78",
          "314.23",
          "314.05",
          "312.25",
          "310.73",
          "309.18",
          "306.07",
          "303.87",
          "296.93",
          "295.58",
          "292.14",
          "292.08",
          "290.71",
          "288.43",
          "280.36",
          "280.21",
          "280.06",
          "266.88",
          "264.61",
          "256.79",
          "254.09",
          "249.32",
          "248.86",
          "248.49",
          "247.36",
          "247.14",
          "240.16",
          "237.75",
          "237.06",
          "235.47",
          "234.8",
          "233.72",
          "233.08",
          "231.13",
          "230.13",
          "227.99",
          "227.34",
          "225.19",
          "223.68",
          "223.47",
          "222.47",
          "222.03",
          "221.7",
          "220.53",
          "218.06",
          "217.72",
          "217.38",
          "217.32",
          "216.5",
          "213.56",
          "212.51",
          "209.85",
          "207.57",
          "206.02",
          "205.07",
          "204.95",
          "203.91",
          "201.71",
          "201.38",
          "200.43",
          "199.94",
          "199.5",
          "199.38",
          "199.19",
          "198.1",
          "196.62",
          "196.47",
          "195.72",
          "195.6",
          "193.82",
          "193.23",
          "191.36",
          "190.72",
          "189.86",
          "189.56",
          "189.46",
          "188.51",
          "187.74",
          "187.5",
          "187.12",
          "184.28",
          "182.65",
          "182.27",
          "180.97",
          "180.43",
          "179.41",
          "179.34",
          "178.69",
          "178.56",
          "176.45",
          "175.71",
          "175.08",
          "174.65",
          "174.65",
          "174.64",
          "173.73",
          "172.09",
          "171.51",
          "171.42",
          "171.39",
          "171.36",
          "170.38",
          "169.53",
          "168.03",
          "165.94",
          "165.66",
          "165.63",
          "164.53",
          "160.29",
          "159.45",
          "159.11",
          "158.34",
          "158.27",
          "156.45",
          "156.06",
          "155.04",
          "151.84",
          "150.49",
          "149.85",
          "149.3",
          "148.54",
          "148.06",
          "147.91",
          "146.92",
          "145.63",
          "144.62",
          "144.28",
          "143.55",
          "143.51",
          "143.21",
          "143.01",
          "142.21",
          "141.9",
          "141.52",
          "140.1",
          "138.91",
          "138.47",
          "137.9",
          "137.2",
          "136.27",
          "136.22",
          "134.19",
          "134.17",
          "133.98",
          "133.89",
          "133.71",
          "133.39",
          "132.23",
          "131.95",
          "131.91",
          "131.57",
          "129.4",
          "129.23",
          "129.21",
          "129.08",
          "127.39",
          "126.92",
          "126.86",
          "126.81",
          "126.73",
          "126.66",
          "126.36",
          "126.25",
          "125.99",
          "125.57",
          "124.94",
          "124.18",
          "123.11",
          "122.47",
          "122.08",
          "121.97",
          "120.96",
          "120.38",
          "119.19",
          "118.8",
          "118.67",
          "118.17",
          "117.9",
          "117.51",
          "116.95",
          "116.86",
          "116.25",
          "115.92",
          "115.63",
          "115.6",
          "115.53",
          "114.21",
          "113.76",
          "113.7",
          "113.32",
          "113.23",
          "113.13",
          "113.04",
          "113.02",
          "111.39",
          "111.27",
          "110.87",
          "110.81",
          "110.65",
          "110.55",
          "110.5",
          "110.42",
          "110.09",
          "110.03",
          "109.14",
          "108.6",
          "108.16",
          "107.95",
          "107.85",
          "107.83",
          "107.47",
          "107.24",
          "106.49",
          "106.36",
          "105.79",
          "105.78",
          "105.28",
          "104.87",
          "104.51",
          "104.51",
          "103.99",
          "103.94",
          "103.76",
          "103.31",
          "102.83",
          "102.8",
          "102.28",
          "102.03",
          "101.98",
          "101.8",
          "101.59",
          "101.48",
          "100.85",
          "100.44",
          "100.32",
          "100.16",
          "100.02",
          "99.92",
          "99.75",
          "99.74",
          "99.66",
          "99.59",
          "99.49",
          "99.05",
          "98.9",
          "98.62",
          "98.58",
          "97.04",
          "96.88",
          "96.57",
          "96.04",
          "95.81",
          "95.73",
          "95.68",
          "95.39",
          "94.72",
          "94.66",
          "94.27",
          "94.19",
          "94.16",
          "94.16",
          "93.03",
          "92.83",
          "92.38",
          "92.35",
          "92.26",
          "91.8",
          "91.75",
          "91.69",
          "91.41",
          "90.33",
          "90.23",
          "89.97",
          "89.92",
          "89.72",
          "89.52",
          "89.37",
          "89.26",
          "88.36",
          "88.27",
          "88.2",
          "87.88",
          "87.81",
          "87.71",
          "87.67",
          "87.38",
          "87.26",
          "86.88",
          "86.8",
          "86.63",
          "86.31",
          "86.26",
          "86.17",
          "85.84",
          "85.26",
          "84.58",
          "83.87",
          "83.66",
          "83.64",
          "83.21",
          "82.8",
          "82.61",
          "82.45",
          "82.06",
          "81.79",
          "81.75",
          "81.6",
          "81.27",
          "81.2",
          "81.01",
          "80.9",
          "80.42",
          "80.01",
          "79.92",
          "79.61",
          "79.58",
          "79.42",
          "79.38",
          "79.21",
          "79.19",
          "78.72",
          "78.34",
          "78.02",
          "77.75",
          "77.74",
          "77.33",
          "76.75",
          "76.73",
          "76.47",
          "76.24",
          "75.98",
          "75.27",
          "74.93",
          "74.66",
          "74.45",
          "74.39",
          "74.09",
          "73.79",
          "73.49",
          "73.1",
          "72.85",
          "72.57",
          "72.44",
          "72.42",
          "72.0",
          "71.79",
          "71.43",
          "71.41",
          "71.27",
          "71.17",
          "70.91",
          "70.66",
          "70.35",
          "69.86",
          "68.65",
          "68.57",
          "66.02",
          "65.86",
          "65.54",
          "65.46",
          "65.44",
          "65.26",
          "64.81",
          "64.79",
          "64.53",
          "64.52",
          "64.2",
          "63.87",
          "63.47",
          "63.33",
          "63.28",
          "62.95",
          "62.87",
          "61.96",
          "61.72",
          "61.38",
          "61.38",
          "61.35",
          "61.21",
          "60.83",
          "60.13",
          "59.86",
          "59.52",
          "59.43",
          "59.22",
          "59.2",
          "59.1",
          "58.94",
          "58.73",
          "58.55",
          "58.37",
          "58.35",
          "57.98",
          "57.3",
          "57.28",
          "57.18",
          "57.14",
          "56.92",
          "56.88",
          "56.67",
          "56.43",
          "56.42",
          "56.22",
          "55.92",
          "55.75",
          "55.55",
          "55.41",
          "55.0",
          "53.52",
          "53.1",
          "52.78",
          "52.65",
          "52.5",
          "52.43",
          "52.32",
          "52.01",
          "50.74",
          "50.01",
          "49.88",
          "49.85",
          "49.04",
          "49.03",
          "48.69",
          "48.36",
          "48.26",
          "48.01",
          "47.89",
          "47.61",
          "47.57",
          "47.36",
          "47.34",
          "47.09",
          "46.79",
          "46.65",
          "46.58",
          "46.54",
          "46.52",
          "46.4",
          "46.21",
          "46.15",
          "44.98",
          "44.8",
          "44.79",
          "44.5",
          "43.82",
          "42.89",
          "42.63",
          "41.96",
          "41.67",
          "41.46",
          "40.17",
          "40.07",
          "39.98",
          "39.69",
          "39.51",
          "38.12",
          "37.99",
          "36.52",
          "35.48",
          "34.94",
          "34.72",
          "33.83",
          "33.57",
          "33.53",
          "33.34",
          "32.79",
          "32.6",
          "31.85",
          "31.02",
          "30.74",
          "30.09",
          "29.44",
          "28.81",
          "28.44",
          "26.32",
          "25.58",
          "24.78",
          "23.49",
          "23.46",
          "22.01",
          "21.62"
         ],
         "textposition": "top center",
         "type": "scatter",
         "x": [
          11,
          13,
          15,
          11,
          14,
          16,
          16,
          16,
          13,
          15,
          19,
          12,
          19,
          16,
          19,
          20,
          18,
          22,
          20,
          18,
          15,
          25,
          15,
          17,
          27,
          23,
          23,
          28,
          26,
          28,
          31,
          31,
          16,
          31,
          13,
          19,
          31,
          33,
          34,
          20,
          18,
          19,
          17,
          11,
          15,
          35,
          13,
          42,
          19,
          38,
          38,
          31,
          38,
          46,
          39,
          40,
          36,
          36,
          47,
          37,
          42,
          32,
          40,
          26,
          28,
          30,
          20,
          48,
          38,
          49,
          31,
          30,
          42,
          45,
          49,
          35,
          44,
          34,
          43,
          46,
          17,
          49,
          39,
          45,
          45,
          48,
          26,
          43,
          30,
          39,
          18,
          17,
          46,
          33,
          43,
          47,
          45,
          37,
          20,
          44,
          35,
          40,
          45,
          35,
          48,
          35,
          46,
          43,
          36,
          43,
          48,
          36,
          45,
          31,
          39,
          45,
          47,
          48
         ],
         "xaxis": "x",
         "y": [
          435.48734557286474,
          331.9099418469102,
          331.38454496717264,
          322.0309476732531,
          314.775188576952,
          306.07373277568445,
          303.8684328095194,
          290.7072540058887,
          256.7877205083588,
          247.36290285308783,
          235.4655152132514,
          227.9904906410419,
          222.02801620529394,
          217.72279078257603,
          212.50564407039238,
          207.56560532934628,
          205.07297374972305,
          200.4256975574351,
          199.4961729876743,
          199.18680197567176,
          195.5993343688523,
          191.35585372470916,
          187.7416870418782,
          178.5581211928263,
          176.45386618786713,
          174.6492528799176,
          173.73177775123884,
          171.5078814073467,
          171.3887591428597,
          170.38232010629153,
          158.27187392039443,
          155.03503553303995,
          149.30094132711224,
          148.54315143211392,
          146.91789645617067,
          145.62732286396093,
          144.62446434127162,
          144.27780506418839,
          143.2082055647097,
          140.10074092354049,
          137.8955463854301,
          133.38652910466317,
          126.73190313078628,
          126.25163586248058,
          122.07677488628035,
          119.19232778655056,
          118.66586114041122,
          116.947093769225,
          116.25056305878952,
          113.0374054095208,
          111.38939145334275,
          110.50406362277091,
          107.95205001044829,
          107.82880525798242,
          107.46998531570222,
          107.24173012267742,
          104.51271288144227,
          104.51214882739144,
          103.76201111269934,
          101.47870175265878,
          100.43691847814877,
          100.15813461005871,
          99.59354367136098,
          99.48529869486575,
          98.61517282438244,
          98.57960503861527,
          94.273440014798,
          94.19333164651879,
          93.02608724008329,
          92.37805583696098,
          91.79972828113333,
          91.40993240051924,
          90.23022789620899,
          89.97240973192027,
          88.20184649529776,
          87.38242883761203,
          86.31499738601373,
          86.25977188931954,
          84.57502700620965,
          83.21355042426376,
          82.80030716375917,
          82.44820702538914,
          82.0611906637726,
          81.78964529077204,
          80.01280828887778,
          79.4156298411431,
          77.7425704860237,
          76.72669117940885,
          75.26895428935573,
          73.79390779330585,
          72.44366174290221,
          70.65520787967706,
          68.57222414816293,
          65.86276072305562,
          64.52823736387961,
          63.86997252067452,
          61.37500427875647,
          60.13038163568522,
          59.19819373544256,
          58.547296030882244,
          57.18490313280046,
          56.666115393339965,
          56.41717768598626,
          55.91970998030289,
          55.411868629278764,
          50.00943330223166,
          49.849894458782146,
          48.690688066351086,
          46.21364324674719,
          42.88606467957145,
          41.67485203397511,
          38.117038950519074,
          34.943797344756405,
          32.603319045533645,
          29.437908855956533,
          28.807304022723535,
          23.461993659358807,
          21.61645262123925
         ],
         "yaxis": "y"
        },
        {
         "hovertemplate": "<b>OLS trendline</b><br>CAC = -4.65071 * New_Customers + 270.117<br>R<sup>2</sup>=0.513948<br><br>Marketing_Channel=Social Media<br>New Customers=%{x}<br>CAC (INR)=%{y} <b>(trend)</b><extra></extra>",
         "legendgroup": "Social Media",
         "marker": {
          "color": "rgb(102,194,165)",
          "line": {
           "color": "DarkSlateGrey",
           "width": 1
          },
          "opacity": 0.8,
          "size": 8,
          "symbol": "circle"
         },
         "mode": "lines",
         "name": "Social Media",
         "showlegend": false,
         "text": [
          "435.49",
          "434.38",
          "427.72",
          "386.75",
          "372.9",
          "366.53",
          "364.37",
          "362.88",
          "362.78",
          "360.6",
          "351.66",
          "345.35",
          "344.52",
          "337.22",
          "332.9",
          "331.91",
          "331.38",
          "322.03",
          "315.64",
          "314.78",
          "314.23",
          "314.05",
          "312.25",
          "310.73",
          "309.18",
          "306.07",
          "303.87",
          "296.93",
          "295.58",
          "292.14",
          "292.08",
          "290.71",
          "288.43",
          "280.36",
          "280.21",
          "280.06",
          "266.88",
          "264.61",
          "256.79",
          "254.09",
          "249.32",
          "248.86",
          "248.49",
          "247.36",
          "247.14",
          "240.16",
          "237.75",
          "237.06",
          "235.47",
          "234.8",
          "233.72",
          "233.08",
          "231.13",
          "230.13",
          "227.99",
          "227.34",
          "225.19",
          "223.68",
          "223.47",
          "222.47",
          "222.03",
          "221.7",
          "220.53",
          "218.06",
          "217.72",
          "217.38",
          "217.32",
          "216.5",
          "213.56",
          "212.51",
          "209.85",
          "207.57",
          "206.02",
          "205.07",
          "204.95",
          "203.91",
          "201.71",
          "201.38",
          "200.43",
          "199.94",
          "199.5",
          "199.38",
          "199.19",
          "198.1",
          "196.62",
          "196.47",
          "195.72",
          "195.6",
          "193.82",
          "193.23",
          "191.36",
          "190.72",
          "189.86",
          "189.56",
          "189.46",
          "188.51",
          "187.74",
          "187.5",
          "187.12",
          "184.28",
          "182.65",
          "182.27",
          "180.97",
          "180.43",
          "179.41",
          "179.34",
          "178.69",
          "178.56",
          "176.45",
          "175.71",
          "175.08",
          "174.65",
          "174.65",
          "174.64",
          "173.73",
          "172.09",
          "171.51",
          "171.42",
          "171.39",
          "171.36",
          "170.38",
          "169.53",
          "168.03",
          "165.94",
          "165.66",
          "165.63",
          "164.53",
          "160.29",
          "159.45",
          "159.11",
          "158.34",
          "158.27",
          "156.45",
          "156.06",
          "155.04",
          "151.84",
          "150.49",
          "149.85",
          "149.3",
          "148.54",
          "148.06",
          "147.91",
          "146.92",
          "145.63",
          "144.62",
          "144.28",
          "143.55",
          "143.51",
          "143.21",
          "143.01",
          "142.21",
          "141.9",
          "141.52",
          "140.1",
          "138.91",
          "138.47",
          "137.9",
          "137.2",
          "136.27",
          "136.22",
          "134.19",
          "134.17",
          "133.98",
          "133.89",
          "133.71",
          "133.39",
          "132.23",
          "131.95",
          "131.91",
          "131.57",
          "129.4",
          "129.23",
          "129.21",
          "129.08",
          "127.39",
          "126.92",
          "126.86",
          "126.81",
          "126.73",
          "126.66",
          "126.36",
          "126.25",
          "125.99",
          "125.57",
          "124.94",
          "124.18",
          "123.11",
          "122.47",
          "122.08",
          "121.97",
          "120.96",
          "120.38",
          "119.19",
          "118.8",
          "118.67",
          "118.17",
          "117.9",
          "117.51",
          "116.95",
          "116.86",
          "116.25",
          "115.92",
          "115.63",
          "115.6",
          "115.53",
          "114.21",
          "113.76",
          "113.7",
          "113.32",
          "113.23",
          "113.13",
          "113.04",
          "113.02",
          "111.39",
          "111.27",
          "110.87",
          "110.81",
          "110.65",
          "110.55",
          "110.5",
          "110.42",
          "110.09",
          "110.03",
          "109.14",
          "108.6",
          "108.16",
          "107.95",
          "107.85",
          "107.83",
          "107.47",
          "107.24",
          "106.49",
          "106.36",
          "105.79",
          "105.78",
          "105.28",
          "104.87",
          "104.51",
          "104.51",
          "103.99",
          "103.94",
          "103.76",
          "103.31",
          "102.83",
          "102.8",
          "102.28",
          "102.03",
          "101.98",
          "101.8",
          "101.59",
          "101.48",
          "100.85",
          "100.44",
          "100.32",
          "100.16",
          "100.02",
          "99.92",
          "99.75",
          "99.74",
          "99.66",
          "99.59",
          "99.49",
          "99.05",
          "98.9",
          "98.62",
          "98.58",
          "97.04",
          "96.88",
          "96.57",
          "96.04",
          "95.81",
          "95.73",
          "95.68",
          "95.39",
          "94.72",
          "94.66",
          "94.27",
          "94.19",
          "94.16",
          "94.16",
          "93.03",
          "92.83",
          "92.38",
          "92.35",
          "92.26",
          "91.8",
          "91.75",
          "91.69",
          "91.41",
          "90.33",
          "90.23",
          "89.97",
          "89.92",
          "89.72",
          "89.52",
          "89.37",
          "89.26",
          "88.36",
          "88.27",
          "88.2",
          "87.88",
          "87.81",
          "87.71",
          "87.67",
          "87.38",
          "87.26",
          "86.88",
          "86.8",
          "86.63",
          "86.31",
          "86.26",
          "86.17",
          "85.84",
          "85.26",
          "84.58",
          "83.87",
          "83.66",
          "83.64",
          "83.21",
          "82.8",
          "82.61",
          "82.45",
          "82.06",
          "81.79",
          "81.75",
          "81.6",
          "81.27",
          "81.2",
          "81.01",
          "80.9",
          "80.42",
          "80.01",
          "79.92",
          "79.61",
          "79.58",
          "79.42",
          "79.38",
          "79.21",
          "79.19",
          "78.72",
          "78.34",
          "78.02",
          "77.75",
          "77.74",
          "77.33",
          "76.75",
          "76.73",
          "76.47",
          "76.24",
          "75.98",
          "75.27",
          "74.93",
          "74.66",
          "74.45",
          "74.39",
          "74.09",
          "73.79",
          "73.49",
          "73.1",
          "72.85",
          "72.57",
          "72.44",
          "72.42",
          "72.0",
          "71.79",
          "71.43",
          "71.41",
          "71.27",
          "71.17",
          "70.91",
          "70.66",
          "70.35",
          "69.86",
          "68.65",
          "68.57",
          "66.02",
          "65.86",
          "65.54",
          "65.46",
          "65.44",
          "65.26",
          "64.81",
          "64.79",
          "64.53",
          "64.52",
          "64.2",
          "63.87",
          "63.47",
          "63.33",
          "63.28",
          "62.95",
          "62.87",
          "61.96",
          "61.72",
          "61.38",
          "61.38",
          "61.35",
          "61.21",
          "60.83",
          "60.13",
          "59.86",
          "59.52",
          "59.43",
          "59.22",
          "59.2",
          "59.1",
          "58.94",
          "58.73",
          "58.55",
          "58.37",
          "58.35",
          "57.98",
          "57.3",
          "57.28",
          "57.18",
          "57.14",
          "56.92",
          "56.88",
          "56.67",
          "56.43",
          "56.42",
          "56.22",
          "55.92",
          "55.75",
          "55.55",
          "55.41",
          "55.0",
          "53.52",
          "53.1",
          "52.78",
          "52.65",
          "52.5",
          "52.43",
          "52.32",
          "52.01",
          "50.74",
          "50.01",
          "49.88",
          "49.85",
          "49.04",
          "49.03",
          "48.69",
          "48.36",
          "48.26",
          "48.01",
          "47.89",
          "47.61",
          "47.57",
          "47.36",
          "47.34",
          "47.09",
          "46.79",
          "46.65",
          "46.58",
          "46.54",
          "46.52",
          "46.4",
          "46.21",
          "46.15",
          "44.98",
          "44.8",
          "44.79",
          "44.5",
          "43.82",
          "42.89",
          "42.63",
          "41.96",
          "41.67",
          "41.46",
          "40.17",
          "40.07",
          "39.98",
          "39.69",
          "39.51",
          "38.12",
          "37.99",
          "36.52",
          "35.48",
          "34.94",
          "34.72",
          "33.83",
          "33.57",
          "33.53",
          "33.34",
          "32.79",
          "32.6",
          "31.85",
          "31.02",
          "30.74",
          "30.09",
          "29.44",
          "28.81",
          "28.44",
          "26.32",
          "25.58",
          "24.78",
          "23.49",
          "23.46",
          "22.01",
          "21.62"
         ],
         "textposition": "top center",
         "type": "scatter",
         "x": [
          11,
          11,
          11,
          12,
          13,
          13,
          13,
          13,
          14,
          15,
          15,
          15,
          15,
          15,
          16,
          16,
          16,
          16,
          16,
          17,
          17,
          17,
          17,
          18,
          18,
          18,
          18,
          19,
          19,
          19,
          19,
          19,
          19,
          20,
          20,
          20,
          20,
          20,
          22,
          23,
          23,
          25,
          26,
          26,
          26,
          27,
          28,
          28,
          28,
          30,
          30,
          30,
          31,
          31,
          31,
          31,
          31,
          31,
          31,
          32,
          33,
          33,
          34,
          34,
          35,
          35,
          35,
          35,
          35,
          36,
          36,
          36,
          36,
          37,
          37,
          38,
          38,
          38,
          38,
          39,
          39,
          39,
          39,
          40,
          40,
          40,
          42,
          42,
          42,
          43,
          43,
          43,
          43,
          43,
          44,
          44,
          45,
          45,
          45,
          45,
          45,
          45,
          45,
          46,
          46,
          46,
          46,
          47,
          47,
          47,
          48,
          48,
          48,
          48,
          48,
          49,
          49,
          49
         ],
         "xaxis": "x",
         "y": [
          218.95958879763197,
          218.95958879763197,
          218.95958879763197,
          214.30888119342538,
          209.65817358921882,
          209.65817358921882,
          209.65817358921882,
          209.65817358921882,
          205.00746598501223,
          200.35675838080567,
          200.35675838080567,
          200.35675838080567,
          200.35675838080567,
          200.35675838080567,
          195.7060507765991,
          195.7060507765991,
          195.7060507765991,
          195.7060507765991,
          195.7060507765991,
          191.05534317239253,
          191.05534317239253,
          191.05534317239253,
          191.05534317239253,
          186.40463556818594,
          186.40463556818594,
          186.40463556818594,
          186.40463556818594,
          181.75392796397938,
          181.75392796397938,
          181.75392796397938,
          181.75392796397938,
          181.75392796397938,
          181.75392796397938,
          177.10322035977282,
          177.10322035977282,
          177.10322035977282,
          177.10322035977282,
          177.10322035977282,
          167.80180515135967,
          163.15109754715309,
          163.15109754715309,
          153.84968233873997,
          149.1989747345334,
          149.1989747345334,
          149.1989747345334,
          144.54826713032682,
          139.89755952612026,
          139.89755952612026,
          139.89755952612026,
          130.59614431770711,
          130.59614431770711,
          130.59614431770711,
          125.94543671350053,
          125.94543671350053,
          125.94543671350053,
          125.94543671350053,
          125.94543671350053,
          125.94543671350053,
          125.94543671350053,
          121.29472910929397,
          116.64402150508741,
          116.64402150508741,
          111.99331390088082,
          111.99331390088082,
          107.34260629667426,
          107.34260629667426,
          107.34260629667426,
          107.34260629667426,
          107.34260629667426,
          102.69189869246767,
          102.69189869246767,
          102.69189869246767,
          102.69189869246767,
          98.04119108826112,
          98.04119108826112,
          93.39048348405456,
          93.39048348405456,
          93.39048348405456,
          93.39048348405456,
          88.73977587984797,
          88.73977587984797,
          88.73977587984797,
          88.73977587984797,
          84.08906827564141,
          84.08906827564141,
          84.08906827564141,
          74.78765306722826,
          74.78765306722826,
          74.78765306722826,
          70.1369454630217,
          70.1369454630217,
          70.1369454630217,
          70.1369454630217,
          70.1369454630217,
          65.48623785881512,
          65.48623785881512,
          60.83553025460856,
          60.83553025460856,
          60.83553025460856,
          60.83553025460856,
          60.83553025460856,
          60.83553025460856,
          60.83553025460856,
          56.18482265040197,
          56.18482265040197,
          56.18482265040197,
          56.18482265040197,
          51.53411504619541,
          51.53411504619541,
          51.53411504619541,
          46.88340744198882,
          46.88340744198882,
          46.88340744198882,
          46.88340744198882,
          46.88340744198882,
          42.23269983778226,
          42.23269983778226,
          42.23269983778226
         ],
         "yaxis": "y"
        },
        {
         "customdata": [
          [
           4343.834455624725
          ],
          [
           4277.20469724434
          ],
          [
           4847.644408771346
          ],
          [
           4008.0392942191393
          ],
          [
           4353.348467850066
          ],
          [
           4327.6971406210905
          ],
          [
           4710.69104337779
          ],
          [
           4328.572695075605
          ],
          [
           3860.0588201978735
          ],
          [
           4381.215700570395
          ],
          [
           3644.732171413472
          ],
          [
           4536.939380859409
          ],
          [
           3969.076059061263
          ],
          [
           3811.419768743076
          ],
          [
           4322.924075562414
          ],
          [
           4517.3050205859045
          ],
          [
           4440.666663304721
          ],
          [
           2728.1146566430903
          ],
          [
           4851.57317147551
          ],
          [
           3489.0278438962587
          ],
          [
           4998.289667509805
          ],
          [
           3296.256878505329
          ],
          [
           3689.126337212957
          ],
          [
           3428.9899755637266
          ],
          [
           2819.303634406918
          ],
          [
           4785.046131527784
          ],
          [
           4160.024728012454
          ],
          [
           4651.719513936672
          ],
          [
           3978.6753646613006
          ],
          [
           4490.878939994138
          ],
          [
           3287.6907694029555
          ],
          [
           4919.768971127614
          ],
          [
           2399.841374880736
          ],
          [
           3255.8783277200764
          ],
          [
           4032.6586139298656
          ],
          [
           2323.1651887837206
          ],
          [
           2319.214654315861
          ],
          [
           3641.7125487681465
          ],
          [
           4067.592393424963
          ],
          [
           2697.235753843591
          ],
          [
           3300.796436879722
          ],
          [
           3146.2892330762365
          ],
          [
           4430.93237760141
          ],
          [
           3677.8353784796423
          ],
          [
           2105.0743030247395
          ],
          [
           1679.9345962723896
          ],
          [
           4780.774158252842
          ],
          [
           4184.573860648847
          ],
          [
           3023.8431587083114
          ],
          [
           4490.316930428363
          ],
          [
           4935.377406058686
          ],
          [
           4440.562387595288
          ],
          [
           3245.6295289995155
          ],
          [
           4162.72787435575
          ],
          [
           3583.611598963809
          ],
          [
           3350.2868205056857
          ],
          [
           4664.29115170707
          ],
          [
           4298.759250169629
          ],
          [
           3326.2223413294687
          ],
          [
           4401.172956355185
          ],
          [
           2073.582152196901
          ],
          [
           4995.609332917355
          ],
          [
           3263.712247663748
          ],
          [
           3880.298656416777
          ],
          [
           1559.1080500288845
          ],
          [
           2981.314598465694
          ],
          [
           3570.998592037343
          ],
          [
           2307.3832195252344
          ],
          [
           2391.844225178602
          ],
          [
           4225.953975175066
          ],
          [
           2104.989611288164
          ],
          [
           4613.696248201944
          ],
          [
           4613.614816291872
          ],
          [
           3874.869700891932
          ],
          [
           3401.6464592673765
          ],
          [
           2144.776605836778
          ],
          [
           2499.36435910126
          ],
          [
           3776.0046511729374
          ],
          [
           3157.6310359376844
          ],
          [
           4170.077895523813
          ],
          [
           1108.4081853612497
          ],
          [
           2763.292760651246
          ],
          [
           1458.1314855155906
          ],
          [
           2676.507013658891
          ],
          [
           2954.3113873951497
          ],
          [
           3866.413303967164
          ],
          [
           3441.3268169220823
          ],
          [
           2752.464380289513
          ],
          [
           1469.8645963582303
          ],
          [
           2015.909357654169
          ],
          [
           3517.7828278079933
          ],
          [
           1205.5068687343114
          ],
          [
           3213.4358671944333
          ],
          [
           1963.319167425252
          ],
          [
           2910.9167490627506
          ],
          [
           1948.8228077102983
          ],
          [
           1902.7485482601385
          ],
          [
           1130.8651474201877
          ],
          [
           1485.7043334504792
          ],
          [
           2482.2835048722245
          ],
          [
           2819.1441109354987
          ],
          [
           2333.233574660368
          ],
          [
           2194.223399087069
          ],
          [
           1327.6249310465705
          ],
          [
           1196.1770031039998
          ],
          [
           2080.3295855496035
          ],
          [
           1618.09160963934
          ],
          [
           2364.924699445133
          ],
          [
           1628.2283735235087
          ],
          [
           1563.0280600235303
          ],
          [
           1725.9565888925035
          ],
          [
           1252.8681646407815
          ],
          [
           2215.3420473689107
          ],
          [
           1478.2189650202113
          ],
          [
           1727.359428630767
          ],
          [
           1482.6235390092234
          ],
          [
           1159.4431367344523
          ],
          [
           1633.5126552209294
          ],
          [
           1460.6788297990377
          ],
          [
           1609.5293831391614
          ],
          [
           1433.3844087969228
          ],
          [
           1143.5963993507462
          ],
          [
           1315.8734026399786
          ],
          [
           1174.5891963892077
          ]
         ],
         "hovertemplate": "Marketing_Channel=Email Marketing<br>New Customers=%{x}<br>CAC (INR)=%{y}<br>Marketing_Spend=%{customdata[0]}<extra></extra>",
         "legendgroup": "Email Marketing",
         "marker": {
          "color": "rgb(252,141,98)",
          "line": {
           "color": "DarkSlateGrey",
           "width": 1
          },
          "opacity": 0.8,
          "size": 8,
          "symbol": "circle"
         },
         "mode": "markers",
         "name": "Email Marketing",
         "orientation": "v",
         "showlegend": true,
         "text": [
          "435.49",
          "434.38",
          "427.72",
          "386.75",
          "372.9",
          "366.53",
          "364.37",
          "362.88",
          "362.78",
          "360.6",
          "351.66",
          "345.35",
          "344.52",
          "337.22",
          "332.9",
          "331.91",
          "331.38",
          "322.03",
          "315.64",
          "314.78",
          "314.23",
          "314.05",
          "312.25",
          "310.73",
          "309.18",
          "306.07",
          "303.87",
          "296.93",
          "295.58",
          "292.14",
          "292.08",
          "290.71",
          "288.43",
          "280.36",
          "280.21",
          "280.06",
          "266.88",
          "264.61",
          "256.79",
          "254.09",
          "249.32",
          "248.86",
          "248.49",
          "247.36",
          "247.14",
          "240.16",
          "237.75",
          "237.06",
          "235.47",
          "234.8",
          "233.72",
          "233.08",
          "231.13",
          "230.13",
          "227.99",
          "227.34",
          "225.19",
          "223.68",
          "223.47",
          "222.47",
          "222.03",
          "221.7",
          "220.53",
          "218.06",
          "217.72",
          "217.38",
          "217.32",
          "216.5",
          "213.56",
          "212.51",
          "209.85",
          "207.57",
          "206.02",
          "205.07",
          "204.95",
          "203.91",
          "201.71",
          "201.38",
          "200.43",
          "199.94",
          "199.5",
          "199.38",
          "199.19",
          "198.1",
          "196.62",
          "196.47",
          "195.72",
          "195.6",
          "193.82",
          "193.23",
          "191.36",
          "190.72",
          "189.86",
          "189.56",
          "189.46",
          "188.51",
          "187.74",
          "187.5",
          "187.12",
          "184.28",
          "182.65",
          "182.27",
          "180.97",
          "180.43",
          "179.41",
          "179.34",
          "178.69",
          "178.56",
          "176.45",
          "175.71",
          "175.08",
          "174.65",
          "174.65",
          "174.64",
          "173.73",
          "172.09",
          "171.51",
          "171.42",
          "171.39",
          "171.36",
          "170.38",
          "169.53",
          "168.03",
          "165.94",
          "165.66",
          "165.63",
          "164.53",
          "160.29",
          "159.45",
          "159.11",
          "158.34",
          "158.27",
          "156.45",
          "156.06",
          "155.04",
          "151.84",
          "150.49",
          "149.85",
          "149.3",
          "148.54",
          "148.06",
          "147.91",
          "146.92",
          "145.63",
          "144.62",
          "144.28",
          "143.55",
          "143.51",
          "143.21",
          "143.01",
          "142.21",
          "141.9",
          "141.52",
          "140.1",
          "138.91",
          "138.47",
          "137.9",
          "137.2",
          "136.27",
          "136.22",
          "134.19",
          "134.17",
          "133.98",
          "133.89",
          "133.71",
          "133.39",
          "132.23",
          "131.95",
          "131.91",
          "131.57",
          "129.4",
          "129.23",
          "129.21",
          "129.08",
          "127.39",
          "126.92",
          "126.86",
          "126.81",
          "126.73",
          "126.66",
          "126.36",
          "126.25",
          "125.99",
          "125.57",
          "124.94",
          "124.18",
          "123.11",
          "122.47",
          "122.08",
          "121.97",
          "120.96",
          "120.38",
          "119.19",
          "118.8",
          "118.67",
          "118.17",
          "117.9",
          "117.51",
          "116.95",
          "116.86",
          "116.25",
          "115.92",
          "115.63",
          "115.6",
          "115.53",
          "114.21",
          "113.76",
          "113.7",
          "113.32",
          "113.23",
          "113.13",
          "113.04",
          "113.02",
          "111.39",
          "111.27",
          "110.87",
          "110.81",
          "110.65",
          "110.55",
          "110.5",
          "110.42",
          "110.09",
          "110.03",
          "109.14",
          "108.6",
          "108.16",
          "107.95",
          "107.85",
          "107.83",
          "107.47",
          "107.24",
          "106.49",
          "106.36",
          "105.79",
          "105.78",
          "105.28",
          "104.87",
          "104.51",
          "104.51",
          "103.99",
          "103.94",
          "103.76",
          "103.31",
          "102.83",
          "102.8",
          "102.28",
          "102.03",
          "101.98",
          "101.8",
          "101.59",
          "101.48",
          "100.85",
          "100.44",
          "100.32",
          "100.16",
          "100.02",
          "99.92",
          "99.75",
          "99.74",
          "99.66",
          "99.59",
          "99.49",
          "99.05",
          "98.9",
          "98.62",
          "98.58",
          "97.04",
          "96.88",
          "96.57",
          "96.04",
          "95.81",
          "95.73",
          "95.68",
          "95.39",
          "94.72",
          "94.66",
          "94.27",
          "94.19",
          "94.16",
          "94.16",
          "93.03",
          "92.83",
          "92.38",
          "92.35",
          "92.26",
          "91.8",
          "91.75",
          "91.69",
          "91.41",
          "90.33",
          "90.23",
          "89.97",
          "89.92",
          "89.72",
          "89.52",
          "89.37",
          "89.26",
          "88.36",
          "88.27",
          "88.2",
          "87.88",
          "87.81",
          "87.71",
          "87.67",
          "87.38",
          "87.26",
          "86.88",
          "86.8",
          "86.63",
          "86.31",
          "86.26",
          "86.17",
          "85.84",
          "85.26",
          "84.58",
          "83.87",
          "83.66",
          "83.64",
          "83.21",
          "82.8",
          "82.61",
          "82.45",
          "82.06",
          "81.79",
          "81.75",
          "81.6",
          "81.27",
          "81.2",
          "81.01",
          "80.9",
          "80.42",
          "80.01",
          "79.92",
          "79.61",
          "79.58",
          "79.42",
          "79.38",
          "79.21",
          "79.19",
          "78.72",
          "78.34",
          "78.02",
          "77.75",
          "77.74",
          "77.33",
          "76.75",
          "76.73",
          "76.47",
          "76.24",
          "75.98",
          "75.27",
          "74.93",
          "74.66",
          "74.45",
          "74.39",
          "74.09",
          "73.79",
          "73.49",
          "73.1",
          "72.85",
          "72.57",
          "72.44",
          "72.42",
          "72.0",
          "71.79",
          "71.43",
          "71.41",
          "71.27",
          "71.17",
          "70.91",
          "70.66",
          "70.35",
          "69.86",
          "68.65",
          "68.57",
          "66.02",
          "65.86",
          "65.54",
          "65.46",
          "65.44",
          "65.26",
          "64.81",
          "64.79",
          "64.53",
          "64.52",
          "64.2",
          "63.87",
          "63.47",
          "63.33",
          "63.28",
          "62.95",
          "62.87",
          "61.96",
          "61.72",
          "61.38",
          "61.38",
          "61.35",
          "61.21",
          "60.83",
          "60.13",
          "59.86",
          "59.52",
          "59.43",
          "59.22",
          "59.2",
          "59.1",
          "58.94",
          "58.73",
          "58.55",
          "58.37",
          "58.35",
          "57.98",
          "57.3",
          "57.28",
          "57.18",
          "57.14",
          "56.92",
          "56.88",
          "56.67",
          "56.43",
          "56.42",
          "56.22",
          "55.92",
          "55.75",
          "55.55",
          "55.41",
          "55.0",
          "53.52",
          "53.1",
          "52.78",
          "52.65",
          "52.5",
          "52.43",
          "52.32",
          "52.01",
          "50.74",
          "50.01",
          "49.88",
          "49.85",
          "49.04",
          "49.03",
          "48.69",
          "48.36",
          "48.26",
          "48.01",
          "47.89",
          "47.61",
          "47.57",
          "47.36",
          "47.34",
          "47.09",
          "46.79",
          "46.65",
          "46.58",
          "46.54",
          "46.52",
          "46.4",
          "46.21",
          "46.15",
          "44.98",
          "44.8",
          "44.79",
          "44.5",
          "43.82",
          "42.89",
          "42.63",
          "41.96",
          "41.67",
          "41.46",
          "40.17",
          "40.07",
          "39.98",
          "39.69",
          "39.51",
          "38.12",
          "37.99",
          "36.52",
          "35.48",
          "34.94",
          "34.72",
          "33.83",
          "33.57",
          "33.53",
          "33.34",
          "32.79",
          "32.6",
          "31.85",
          "31.02",
          "30.74",
          "30.09",
          "29.44",
          "28.81",
          "28.44",
          "26.32",
          "25.58",
          "24.78",
          "23.49",
          "23.46",
          "22.01",
          "21.62"
         ],
         "textposition": "top center",
         "type": "scatter",
         "x": [
          10,
          10,
          13,
          11,
          12,
          13,
          15,
          14,
          13,
          15,
          13,
          17,
          15,
          15,
          18,
          19,
          19,
          12,
          22,
          16,
          23,
          16,
          18,
          17,
          14,
          24,
          21,
          24,
          21,
          24,
          18,
          28,
          14,
          19,
          24,
          14,
          14,
          23,
          26,
          18,
          23,
          22,
          32,
          27,
          16,
          13,
          37,
          33,
          24,
          38,
          42,
          38,
          28,
          36,
          31,
          29,
          41,
          38,
          30,
          40,
          19,
          46,
          31,
          37,
          15,
          29,
          35,
          23,
          24,
          44,
          22,
          49,
          49,
          42,
          38,
          24,
          28,
          43,
          36,
          48,
          13,
          34,
          18,
          34,
          38,
          50,
          45,
          37,
          20,
          28,
          49,
          17,
          46,
          31,
          46,
          31,
          31,
          19,
          25,
          42,
          48,
          42,
          41,
          25,
          23,
          41,
          33,
          49,
          34,
          33,
          37,
          27,
          48,
          33,
          43,
          37,
          29,
          43,
          40,
          48,
          45,
          38,
          50,
          50
         ],
         "xaxis": "x",
         "y": [
          434.3834455624725,
          427.72046972443405,
          372.89572375164204,
          364.3672085653763,
          362.77903898750554,
          332.8997800477762,
          314.0460695585194,
          309.1837639339718,
          296.92760155368256,
          292.081046704693,
          280.3640131856517,
          266.87878710937696,
          264.60507060408423,
          254.0946512495384,
          240.16244864235634,
          237.75289582031075,
          233.7192980686695,
          227.34288805359085,
          220.52605324888683,
          218.06424024351617,
          217.3169420656437,
          206.01605490658307,
          204.95146317849762,
          201.7052926802192,
          201.37883102906557,
          199.376922146991,
          198.09641561964068,
          193.821646414028,
          189.46073165053812,
          187.11995583308908,
          182.64948718905308,
          175.70603468312908,
          171.4172410629097,
          171.36201724842508,
          168.02744224707774,
          165.9403706274086,
          165.65818959399007,
          158.3353282073107,
          156.44586128557552,
          149.84643076908839,
          143.5128885599879,
          143.01314695801076,
          138.46663680004406,
          136.21612512887563,
          131.56714393904622,
          129.2257381747992,
          129.21011238521197,
          126.80526850451051,
          125.99346494617964,
          118.1662350112727,
          117.50898585854013,
          116.8569049367181,
          115.91534032141126,
          115.63132984321527,
          115.60037416012287,
          115.52713174157537,
          113.76319882212366,
          113.12524342551656,
          110.87407804431562,
          110.02932390887963,
          109.13590274720532,
          108.60020288950771,
          105.28104024721767,
          104.87293665991288,
          103.9405366685923,
          102.80395167123082,
          102.02853120106694,
          100.3210095445754,
          99.66017604910841,
          96.04440852670605,
          95.68134596764381,
          94.1570662898356,
          94.15540441411983,
          92.25880240218886,
          89.5170120859836,
          89.36569190986575,
          89.26301282504501,
          87.81406165518459,
          87.71197322049123,
          86.87662282341277,
          85.26216810471152,
          81.27331648974254,
          81.00730475086614,
          78.72079451937915,
          77.74503651039868,
          77.32826607934328,
          76.47392926493517,
          74.39092919701386,
          73.49322981791151,
          71.99676277336319,
          71.79148628179578,
          70.91216874907714,
          69.85730146074854,
          63.33287636855652,
          63.28079889266849,
          62.865251861622525,
          61.3789854277464,
          59.519218285273034,
          59.42817333801917,
          59.10198821124344,
          58.73216897782289,
          55.55318034905638,
          53.517643880172415,
          53.10499724186282,
          52.00769578713043,
          50.73974598901472,
          49.03307907998,
          48.263769376431284,
          47.889069809514965,
          47.36448666737971,
          46.64747537547307,
          46.402524616325245,
          46.15295932018564,
          44.794514091521556,
          40.17114950304109,
          40.07090645970874,
          39.98079781842939,
          37.98866640048673,
          36.51697074497594,
          33.53186214873253,
          31.85298686215384,
          30.094642088177533,
          26.317468052799573,
          23.491783927784155
         ],
         "yaxis": "y"
        },
        {
         "hovertemplate": "<b>OLS trendline</b><br>CAC = -5.39481 * New_Customers + 288.798<br>R<sup>2</sup>=0.503723<br><br>Marketing_Channel=Email Marketing<br>New Customers=%{x}<br>CAC (INR)=%{y} <b>(trend)</b><extra></extra>",
         "legendgroup": "Email Marketing",
         "marker": {
          "color": "rgb(252,141,98)",
          "line": {
           "color": "DarkSlateGrey",
           "width": 1
          },
          "opacity": 0.8,
          "size": 8,
          "symbol": "circle"
         },
         "mode": "lines",
         "name": "Email Marketing",
         "showlegend": false,
         "text": [
          "435.49",
          "434.38",
          "427.72",
          "386.75",
          "372.9",
          "366.53",
          "364.37",
          "362.88",
          "362.78",
          "360.6",
          "351.66",
          "345.35",
          "344.52",
          "337.22",
          "332.9",
          "331.91",
          "331.38",
          "322.03",
          "315.64",
          "314.78",
          "314.23",
          "314.05",
          "312.25",
          "310.73",
          "309.18",
          "306.07",
          "303.87",
          "296.93",
          "295.58",
          "292.14",
          "292.08",
          "290.71",
          "288.43",
          "280.36",
          "280.21",
          "280.06",
          "266.88",
          "264.61",
          "256.79",
          "254.09",
          "249.32",
          "248.86",
          "248.49",
          "247.36",
          "247.14",
          "240.16",
          "237.75",
          "237.06",
          "235.47",
          "234.8",
          "233.72",
          "233.08",
          "231.13",
          "230.13",
          "227.99",
          "227.34",
          "225.19",
          "223.68",
          "223.47",
          "222.47",
          "222.03",
          "221.7",
          "220.53",
          "218.06",
          "217.72",
          "217.38",
          "217.32",
          "216.5",
          "213.56",
          "212.51",
          "209.85",
          "207.57",
          "206.02",
          "205.07",
          "204.95",
          "203.91",
          "201.71",
          "201.38",
          "200.43",
          "199.94",
          "199.5",
          "199.38",
          "199.19",
          "198.1",
          "196.62",
          "196.47",
          "195.72",
          "195.6",
          "193.82",
          "193.23",
          "191.36",
          "190.72",
          "189.86",
          "189.56",
          "189.46",
          "188.51",
          "187.74",
          "187.5",
          "187.12",
          "184.28",
          "182.65",
          "182.27",
          "180.97",
          "180.43",
          "179.41",
          "179.34",
          "178.69",
          "178.56",
          "176.45",
          "175.71",
          "175.08",
          "174.65",
          "174.65",
          "174.64",
          "173.73",
          "172.09",
          "171.51",
          "171.42",
          "171.39",
          "171.36",
          "170.38",
          "169.53",
          "168.03",
          "165.94",
          "165.66",
          "165.63",
          "164.53",
          "160.29",
          "159.45",
          "159.11",
          "158.34",
          "158.27",
          "156.45",
          "156.06",
          "155.04",
          "151.84",
          "150.49",
          "149.85",
          "149.3",
          "148.54",
          "148.06",
          "147.91",
          "146.92",
          "145.63",
          "144.62",
          "144.28",
          "143.55",
          "143.51",
          "143.21",
          "143.01",
          "142.21",
          "141.9",
          "141.52",
          "140.1",
          "138.91",
          "138.47",
          "137.9",
          "137.2",
          "136.27",
          "136.22",
          "134.19",
          "134.17",
          "133.98",
          "133.89",
          "133.71",
          "133.39",
          "132.23",
          "131.95",
          "131.91",
          "131.57",
          "129.4",
          "129.23",
          "129.21",
          "129.08",
          "127.39",
          "126.92",
          "126.86",
          "126.81",
          "126.73",
          "126.66",
          "126.36",
          "126.25",
          "125.99",
          "125.57",
          "124.94",
          "124.18",
          "123.11",
          "122.47",
          "122.08",
          "121.97",
          "120.96",
          "120.38",
          "119.19",
          "118.8",
          "118.67",
          "118.17",
          "117.9",
          "117.51",
          "116.95",
          "116.86",
          "116.25",
          "115.92",
          "115.63",
          "115.6",
          "115.53",
          "114.21",
          "113.76",
          "113.7",
          "113.32",
          "113.23",
          "113.13",
          "113.04",
          "113.02",
          "111.39",
          "111.27",
          "110.87",
          "110.81",
          "110.65",
          "110.55",
          "110.5",
          "110.42",
          "110.09",
          "110.03",
          "109.14",
          "108.6",
          "108.16",
          "107.95",
          "107.85",
          "107.83",
          "107.47",
          "107.24",
          "106.49",
          "106.36",
          "105.79",
          "105.78",
          "105.28",
          "104.87",
          "104.51",
          "104.51",
          "103.99",
          "103.94",
          "103.76",
          "103.31",
          "102.83",
          "102.8",
          "102.28",
          "102.03",
          "101.98",
          "101.8",
          "101.59",
          "101.48",
          "100.85",
          "100.44",
          "100.32",
          "100.16",
          "100.02",
          "99.92",
          "99.75",
          "99.74",
          "99.66",
          "99.59",
          "99.49",
          "99.05",
          "98.9",
          "98.62",
          "98.58",
          "97.04",
          "96.88",
          "96.57",
          "96.04",
          "95.81",
          "95.73",
          "95.68",
          "95.39",
          "94.72",
          "94.66",
          "94.27",
          "94.19",
          "94.16",
          "94.16",
          "93.03",
          "92.83",
          "92.38",
          "92.35",
          "92.26",
          "91.8",
          "91.75",
          "91.69",
          "91.41",
          "90.33",
          "90.23",
          "89.97",
          "89.92",
          "89.72",
          "89.52",
          "89.37",
          "89.26",
          "88.36",
          "88.27",
          "88.2",
          "87.88",
          "87.81",
          "87.71",
          "87.67",
          "87.38",
          "87.26",
          "86.88",
          "86.8",
          "86.63",
          "86.31",
          "86.26",
          "86.17",
          "85.84",
          "85.26",
          "84.58",
          "83.87",
          "83.66",
          "83.64",
          "83.21",
          "82.8",
          "82.61",
          "82.45",
          "82.06",
          "81.79",
          "81.75",
          "81.6",
          "81.27",
          "81.2",
          "81.01",
          "80.9",
          "80.42",
          "80.01",
          "79.92",
          "79.61",
          "79.58",
          "79.42",
          "79.38",
          "79.21",
          "79.19",
          "78.72",
          "78.34",
          "78.02",
          "77.75",
          "77.74",
          "77.33",
          "76.75",
          "76.73",
          "76.47",
          "76.24",
          "75.98",
          "75.27",
          "74.93",
          "74.66",
          "74.45",
          "74.39",
          "74.09",
          "73.79",
          "73.49",
          "73.1",
          "72.85",
          "72.57",
          "72.44",
          "72.42",
          "72.0",
          "71.79",
          "71.43",
          "71.41",
          "71.27",
          "71.17",
          "70.91",
          "70.66",
          "70.35",
          "69.86",
          "68.65",
          "68.57",
          "66.02",
          "65.86",
          "65.54",
          "65.46",
          "65.44",
          "65.26",
          "64.81",
          "64.79",
          "64.53",
          "64.52",
          "64.2",
          "63.87",
          "63.47",
          "63.33",
          "63.28",
          "62.95",
          "62.87",
          "61.96",
          "61.72",
          "61.38",
          "61.38",
          "61.35",
          "61.21",
          "60.83",
          "60.13",
          "59.86",
          "59.52",
          "59.43",
          "59.22",
          "59.2",
          "59.1",
          "58.94",
          "58.73",
          "58.55",
          "58.37",
          "58.35",
          "57.98",
          "57.3",
          "57.28",
          "57.18",
          "57.14",
          "56.92",
          "56.88",
          "56.67",
          "56.43",
          "56.42",
          "56.22",
          "55.92",
          "55.75",
          "55.55",
          "55.41",
          "55.0",
          "53.52",
          "53.1",
          "52.78",
          "52.65",
          "52.5",
          "52.43",
          "52.32",
          "52.01",
          "50.74",
          "50.01",
          "49.88",
          "49.85",
          "49.04",
          "49.03",
          "48.69",
          "48.36",
          "48.26",
          "48.01",
          "47.89",
          "47.61",
          "47.57",
          "47.36",
          "47.34",
          "47.09",
          "46.79",
          "46.65",
          "46.58",
          "46.54",
          "46.52",
          "46.4",
          "46.21",
          "46.15",
          "44.98",
          "44.8",
          "44.79",
          "44.5",
          "43.82",
          "42.89",
          "42.63",
          "41.96",
          "41.67",
          "41.46",
          "40.17",
          "40.07",
          "39.98",
          "39.69",
          "39.51",
          "38.12",
          "37.99",
          "36.52",
          "35.48",
          "34.94",
          "34.72",
          "33.83",
          "33.57",
          "33.53",
          "33.34",
          "32.79",
          "32.6",
          "31.85",
          "31.02",
          "30.74",
          "30.09",
          "29.44",
          "28.81",
          "28.44",
          "26.32",
          "25.58",
          "24.78",
          "23.49",
          "23.46",
          "22.01",
          "21.62"
         ],
         "textposition": "top center",
         "type": "scatter",
         "x": [
          10,
          10,
          11,
          12,
          12,
          13,
          13,
          13,
          13,
          13,
          13,
          14,
          14,
          14,
          14,
          14,
          15,
          15,
          15,
          15,
          15,
          16,
          16,
          16,
          17,
          17,
          17,
          18,
          18,
          18,
          18,
          18,
          19,
          19,
          19,
          19,
          19,
          20,
          21,
          21,
          22,
          22,
          22,
          23,
          23,
          23,
          23,
          23,
          24,
          24,
          24,
          24,
          24,
          24,
          24,
          25,
          25,
          26,
          27,
          27,
          28,
          28,
          28,
          28,
          29,
          29,
          29,
          30,
          31,
          31,
          31,
          31,
          31,
          32,
          33,
          33,
          33,
          33,
          34,
          34,
          34,
          35,
          36,
          36,
          37,
          37,
          37,
          37,
          37,
          38,
          38,
          38,
          38,
          38,
          38,
          40,
          40,
          41,
          41,
          41,
          42,
          42,
          42,
          42,
          43,
          43,
          43,
          44,
          45,
          45,
          46,
          46,
          46,
          48,
          48,
          48,
          48,
          49,
          49,
          49,
          49,
          50,
          50,
          50
         ],
         "xaxis": "x",
         "y": [
          234.84957595975573,
          234.84957595975573,
          229.45476530088524,
          224.05995464201476,
          224.05995464201476,
          218.66514398314428,
          218.66514398314428,
          218.66514398314428,
          218.66514398314428,
          218.66514398314428,
          218.66514398314428,
          213.27033332427376,
          213.27033332427376,
          213.27033332427376,
          213.27033332427376,
          213.27033332427376,
          207.87552266540328,
          207.87552266540328,
          207.87552266540328,
          207.87552266540328,
          207.87552266540328,
          202.48071200653277,
          202.48071200653277,
          202.48071200653277,
          197.0859013476623,
          197.0859013476623,
          197.0859013476623,
          191.6910906887918,
          191.6910906887918,
          191.6910906887918,
          191.6910906887918,
          191.6910906887918,
          186.29628002992132,
          186.29628002992132,
          186.29628002992132,
          186.29628002992132,
          186.29628002992132,
          180.9014693710508,
          175.50665871218033,
          175.50665871218033,
          170.1118480533098,
          170.1118480533098,
          170.1118480533098,
          164.71703739443933,
          164.71703739443933,
          164.71703739443933,
          164.71703739443933,
          164.71703739443933,
          159.32222673556885,
          159.32222673556885,
          159.32222673556885,
          159.32222673556885,
          159.32222673556885,
          159.32222673556885,
          159.32222673556885,
          153.92741607669834,
          153.92741607669834,
          148.53260541782785,
          143.13779475895737,
          143.13779475895737,
          137.74298410008686,
          137.74298410008686,
          137.74298410008686,
          137.74298410008686,
          132.34817344121637,
          132.34817344121637,
          132.34817344121637,
          126.95336278234589,
          121.55855212347538,
          121.55855212347538,
          121.55855212347538,
          121.55855212347538,
          121.55855212347538,
          116.1637414646049,
          110.76893080573441,
          110.76893080573441,
          110.76893080573441,
          110.76893080573441,
          105.3741201468639,
          105.3741201468639,
          105.3741201468639,
          99.97930948799342,
          94.58449882912294,
          94.58449882912294,
          89.18968817025242,
          89.18968817025242,
          89.18968817025242,
          89.18968817025242,
          89.18968817025242,
          83.79487751138194,
          83.79487751138194,
          83.79487751138194,
          83.79487751138194,
          83.79487751138194,
          83.79487751138194,
          73.00525619364095,
          73.00525619364095,
          67.61044553477046,
          67.61044553477046,
          67.61044553477046,
          62.21563487589998,
          62.21563487589998,
          62.21563487589998,
          62.21563487589998,
          56.82082421702947,
          56.82082421702947,
          56.82082421702947,
          51.426013558158985,
          46.0312028992885,
          46.0312028992885,
          40.63639224041799,
          40.63639224041799,
          40.63639224041799,
          29.846770922677024,
          29.846770922677024,
          29.846770922677024,
          29.846770922677024,
          24.45196026380654,
          24.45196026380654,
          24.45196026380654,
          24.45196026380654,
          19.057149604936,
          19.057149604936,
          19.057149604936
         ],
         "yaxis": "y"
        },
        {
         "customdata": [
          [
           4254.26413895189
          ],
          [
           3606.037957734745
          ],
          [
           4923.27255463914
          ],
          [
           3709.389147401635
          ],
          [
           4734.673833782053
          ],
          [
           3770.818394347528
          ],
          [
           4661.023634972638
          ],
          [
           3251.3583883382566
          ],
          [
           3749.539680284971
          ],
          [
           2802.057859555017
          ],
          [
           4736.993574730081
          ],
          [
           3478.8414741496613
          ],
          [
           4195.440478030395
          ],
          [
           2773.532344242806
          ],
          [
           4832.691352823584
          ],
          [
           3030.950703238626
          ],
          [
           4798.446930863956
          ],
          [
           3539.1388778163478
          ],
          [
           2827.712297896969
          ],
          [
           4687.472599726248
          ],
          [
           4975.6724908408805
          ],
          [
           3098.5474764344312
          ],
          [
           3438.523648980521
          ],
          [
           3428.259992657064
          ],
          [
           2152.871181445823
          ],
          [
           4124.932198443579
          ],
          [
           4288.462581197722
          ],
          [
           3318.295221473611
          ],
          [
           3143.4558615349997
          ],
          [
           2409.283823341266
          ],
          [
           2882.0032930065345
          ],
          [
           4803.145111225409
          ],
          [
           2632.463542790802
          ],
          [
           4969.028557580878
          ],
          [
           3341.3185011114174
          ],
          [
           2652.990283197286
          ],
          [
           4858.883092136351
          ],
          [
           4885.95832484536
          ],
          [
           4162.963319373677
          ],
          [
           3689.3631894040527
          ],
          [
           2083.665707904785
          ],
          [
           3978.820606260784
          ],
          [
           1740.5993697506478
          ],
          [
           4892.587263286778
          ],
          [
           2846.793776206047
          ],
          [
           3743.197970936049
          ],
          [
           1396.086538842114
          ],
          [
           3425.2706049718518
          ],
          [
           3546.471512023568
          ],
          [
           4549.037234114009
          ],
          [
           3123.40949481114
          ],
          [
           4843.150268858314
          ],
          [
           1846.6411368459264
          ],
          [
           1935.287608846333
          ],
          [
           4989.703691824861
          ],
          [
           3524.6440674185624
          ],
          [
           3512.992414747593
          ],
          [
           3170.37437742878
          ],
          [
           2893.0419550381
          ],
          [
           2659.538109747228
          ],
          [
           4421.800773223818
          ],
          [
           4637.550553711568
          ],
          [
           3257.5679320990967
          ],
          [
           3789.993710482285
          ],
          [
           3263.716067822796
          ],
          [
           3090.290140520872
          ],
          [
           4407.061169402766
          ],
          [
           3829.234574824308
          ],
          [
           2289.2863334332
          ],
          [
           3599.3466103170904
          ],
          [
           1754.6094948284217
          ],
          [
           4403.811345249836
          ],
          [
           3209.005636214932
          ],
          [
           2877.587779722041
          ],
          [
           3883.713506682836
          ],
          [
           4130.541385444079
          ],
          [
           3619.125305710935
          ],
          [
           2515.957216513056
          ],
          [
           2230.4472504569303
          ],
          [
           3924.104857220489
          ],
          [
           3508.969582404178
          ],
          [
           4044.918831576109
          ],
          [
           3960.35722193818
          ],
          [
           3276.8281972763693
          ],
          [
           2287.1094009161498
          ],
          [
           2963.2853403143445
          ],
          [
           2247.8289775787807
          ],
          [
           2165.0371561241104
          ],
          [
           2963.514778095116
          ],
          [
           2993.502018828781
          ],
          [
           2602.829769007759
          ],
          [
           3157.6761916901346
          ],
          [
           2097.245307133069
          ],
          [
           2009.0861271295223
          ],
          [
           2516.4154567525584
          ],
          [
           1925.9049382241035
          ],
          [
           2958.561386622804
          ],
          [
           1796.8679964355692
          ],
          [
           1974.9236243005532
          ],
          [
           1717.7661747416132
          ],
          [
           2180.923015533077
          ],
          [
           1342.4518478320852
          ],
          [
           1797.4427294501315
          ],
          [
           1432.3949986304262
          ],
          [
           2463.1001976222656
          ],
          [
           2616.700228002983
          ],
          [
           2361.3553726571345
          ],
          [
           1393.772505532792
          ],
          [
           2516.504862256545
          ],
          [
           1422.1554825759945
          ],
          [
           1776.4703123642937
          ],
          [
           1372.8368051260902
          ],
          [
           2235.7315358105443
          ],
          [
           1582.279182797594
          ],
          [
           1814.2329534010955
          ],
          [
           1484.2202602692605
          ],
          [
           1702.5602817772265
          ],
          [
           2180.441806516621
          ],
          [
           1594.3816735311566
          ],
          [
           1160.9266925784648
          ],
          [
           1975.453756763824
          ],
          [
           1596.7903378946207
          ],
          [
           1631.9024882871477
          ],
          [
           1285.6393474232566
          ],
          [
           1107.8658076205506
          ],
          [
           1300.2594756046717
          ],
          [
           1114.7999910803585
          ],
          [
           1364.9696251753087
          ],
          [
           1100.0985985859293
          ],
          [
           1214.4362971701323
          ]
         ],
         "hovertemplate": "Marketing_Channel=Online Ads<br>New Customers=%{x}<br>CAC (INR)=%{y}<br>Marketing_Spend=%{customdata[0]}<extra></extra>",
         "legendgroup": "Online Ads",
         "marker": {
          "color": "rgb(141,160,203)",
          "line": {
           "color": "DarkSlateGrey",
           "width": 1
          },
          "opacity": 0.8,
          "size": 8,
          "symbol": "circle"
         },
         "mode": "markers",
         "name": "Online Ads",
         "orientation": "v",
         "showlegend": true,
         "text": [
          "435.49",
          "434.38",
          "427.72",
          "386.75",
          "372.9",
          "366.53",
          "364.37",
          "362.88",
          "362.78",
          "360.6",
          "351.66",
          "345.35",
          "344.52",
          "337.22",
          "332.9",
          "331.91",
          "331.38",
          "322.03",
          "315.64",
          "314.78",
          "314.23",
          "314.05",
          "312.25",
          "310.73",
          "309.18",
          "306.07",
          "303.87",
          "296.93",
          "295.58",
          "292.14",
          "292.08",
          "290.71",
          "288.43",
          "280.36",
          "280.21",
          "280.06",
          "266.88",
          "264.61",
          "256.79",
          "254.09",
          "249.32",
          "248.86",
          "248.49",
          "247.36",
          "247.14",
          "240.16",
          "237.75",
          "237.06",
          "235.47",
          "234.8",
          "233.72",
          "233.08",
          "231.13",
          "230.13",
          "227.99",
          "227.34",
          "225.19",
          "223.68",
          "223.47",
          "222.47",
          "222.03",
          "221.7",
          "220.53",
          "218.06",
          "217.72",
          "217.38",
          "217.32",
          "216.5",
          "213.56",
          "212.51",
          "209.85",
          "207.57",
          "206.02",
          "205.07",
          "204.95",
          "203.91",
          "201.71",
          "201.38",
          "200.43",
          "199.94",
          "199.5",
          "199.38",
          "199.19",
          "198.1",
          "196.62",
          "196.47",
          "195.72",
          "195.6",
          "193.82",
          "193.23",
          "191.36",
          "190.72",
          "189.86",
          "189.56",
          "189.46",
          "188.51",
          "187.74",
          "187.5",
          "187.12",
          "184.28",
          "182.65",
          "182.27",
          "180.97",
          "180.43",
          "179.41",
          "179.34",
          "178.69",
          "178.56",
          "176.45",
          "175.71",
          "175.08",
          "174.65",
          "174.65",
          "174.64",
          "173.73",
          "172.09",
          "171.51",
          "171.42",
          "171.39",
          "171.36",
          "170.38",
          "169.53",
          "168.03",
          "165.94",
          "165.66",
          "165.63",
          "164.53",
          "160.29",
          "159.45",
          "159.11",
          "158.34",
          "158.27",
          "156.45",
          "156.06",
          "155.04",
          "151.84",
          "150.49",
          "149.85",
          "149.3",
          "148.54",
          "148.06",
          "147.91",
          "146.92",
          "145.63",
          "144.62",
          "144.28",
          "143.55",
          "143.51",
          "143.21",
          "143.01",
          "142.21",
          "141.9",
          "141.52",
          "140.1",
          "138.91",
          "138.47",
          "137.9",
          "137.2",
          "136.27",
          "136.22",
          "134.19",
          "134.17",
          "133.98",
          "133.89",
          "133.71",
          "133.39",
          "132.23",
          "131.95",
          "131.91",
          "131.57",
          "129.4",
          "129.23",
          "129.21",
          "129.08",
          "127.39",
          "126.92",
          "126.86",
          "126.81",
          "126.73",
          "126.66",
          "126.36",
          "126.25",
          "125.99",
          "125.57",
          "124.94",
          "124.18",
          "123.11",
          "122.47",
          "122.08",
          "121.97",
          "120.96",
          "120.38",
          "119.19",
          "118.8",
          "118.67",
          "118.17",
          "117.9",
          "117.51",
          "116.95",
          "116.86",
          "116.25",
          "115.92",
          "115.63",
          "115.6",
          "115.53",
          "114.21",
          "113.76",
          "113.7",
          "113.32",
          "113.23",
          "113.13",
          "113.04",
          "113.02",
          "111.39",
          "111.27",
          "110.87",
          "110.81",
          "110.65",
          "110.55",
          "110.5",
          "110.42",
          "110.09",
          "110.03",
          "109.14",
          "108.6",
          "108.16",
          "107.95",
          "107.85",
          "107.83",
          "107.47",
          "107.24",
          "106.49",
          "106.36",
          "105.79",
          "105.78",
          "105.28",
          "104.87",
          "104.51",
          "104.51",
          "103.99",
          "103.94",
          "103.76",
          "103.31",
          "102.83",
          "102.8",
          "102.28",
          "102.03",
          "101.98",
          "101.8",
          "101.59",
          "101.48",
          "100.85",
          "100.44",
          "100.32",
          "100.16",
          "100.02",
          "99.92",
          "99.75",
          "99.74",
          "99.66",
          "99.59",
          "99.49",
          "99.05",
          "98.9",
          "98.62",
          "98.58",
          "97.04",
          "96.88",
          "96.57",
          "96.04",
          "95.81",
          "95.73",
          "95.68",
          "95.39",
          "94.72",
          "94.66",
          "94.27",
          "94.19",
          "94.16",
          "94.16",
          "93.03",
          "92.83",
          "92.38",
          "92.35",
          "92.26",
          "91.8",
          "91.75",
          "91.69",
          "91.41",
          "90.33",
          "90.23",
          "89.97",
          "89.92",
          "89.72",
          "89.52",
          "89.37",
          "89.26",
          "88.36",
          "88.27",
          "88.2",
          "87.88",
          "87.81",
          "87.71",
          "87.67",
          "87.38",
          "87.26",
          "86.88",
          "86.8",
          "86.63",
          "86.31",
          "86.26",
          "86.17",
          "85.84",
          "85.26",
          "84.58",
          "83.87",
          "83.66",
          "83.64",
          "83.21",
          "82.8",
          "82.61",
          "82.45",
          "82.06",
          "81.79",
          "81.75",
          "81.6",
          "81.27",
          "81.2",
          "81.01",
          "80.9",
          "80.42",
          "80.01",
          "79.92",
          "79.61",
          "79.58",
          "79.42",
          "79.38",
          "79.21",
          "79.19",
          "78.72",
          "78.34",
          "78.02",
          "77.75",
          "77.74",
          "77.33",
          "76.75",
          "76.73",
          "76.47",
          "76.24",
          "75.98",
          "75.27",
          "74.93",
          "74.66",
          "74.45",
          "74.39",
          "74.09",
          "73.79",
          "73.49",
          "73.1",
          "72.85",
          "72.57",
          "72.44",
          "72.42",
          "72.0",
          "71.79",
          "71.43",
          "71.41",
          "71.27",
          "71.17",
          "70.91",
          "70.66",
          "70.35",
          "69.86",
          "68.65",
          "68.57",
          "66.02",
          "65.86",
          "65.54",
          "65.46",
          "65.44",
          "65.26",
          "64.81",
          "64.79",
          "64.53",
          "64.52",
          "64.2",
          "63.87",
          "63.47",
          "63.33",
          "63.28",
          "62.95",
          "62.87",
          "61.96",
          "61.72",
          "61.38",
          "61.38",
          "61.35",
          "61.21",
          "60.83",
          "60.13",
          "59.86",
          "59.52",
          "59.43",
          "59.22",
          "59.2",
          "59.1",
          "58.94",
          "58.73",
          "58.55",
          "58.37",
          "58.35",
          "57.98",
          "57.3",
          "57.28",
          "57.18",
          "57.14",
          "56.92",
          "56.88",
          "56.67",
          "56.43",
          "56.42",
          "56.22",
          "55.92",
          "55.75",
          "55.55",
          "55.41",
          "55.0",
          "53.52",
          "53.1",
          "52.78",
          "52.65",
          "52.5",
          "52.43",
          "52.32",
          "52.01",
          "50.74",
          "50.01",
          "49.88",
          "49.85",
          "49.04",
          "49.03",
          "48.69",
          "48.36",
          "48.26",
          "48.01",
          "47.89",
          "47.61",
          "47.57",
          "47.36",
          "47.34",
          "47.09",
          "46.79",
          "46.65",
          "46.58",
          "46.54",
          "46.52",
          "46.4",
          "46.21",
          "46.15",
          "44.98",
          "44.8",
          "44.79",
          "44.5",
          "43.82",
          "42.89",
          "42.63",
          "41.96",
          "41.67",
          "41.46",
          "40.17",
          "40.07",
          "39.98",
          "39.69",
          "39.51",
          "38.12",
          "37.99",
          "36.52",
          "35.48",
          "34.94",
          "34.72",
          "33.83",
          "33.57",
          "33.53",
          "33.34",
          "32.79",
          "32.6",
          "31.85",
          "31.02",
          "30.74",
          "30.09",
          "29.44",
          "28.81",
          "28.44",
          "26.32",
          "25.58",
          "24.78",
          "23.49",
          "23.46",
          "22.01",
          "21.62"
         ],
         "textposition": "top center",
         "type": "scatter",
         "x": [
          11,
          10,
          14,
          11,
          15,
          12,
          15,
          11,
          13,
          10,
          19,
          14,
          18,
          12,
          21,
          14,
          24,
          18,
          15,
          25,
          27,
          17,
          19,
          19,
          12,
          23,
          24,
          19,
          18,
          14,
          17,
          29,
          16,
          31,
          21,
          17,
          32,
          33,
          29,
          26,
          15,
          29,
          13,
          37,
          22,
          29,
          11,
          27,
          28,
          36,
          25,
          39,
          15,
          16,
          42,
          31,
          31,
          28,
          26,
          24,
          40,
          42,
          32,
          38,
          33,
          32,
          46,
          40,
          24,
          38,
          19,
          48,
          35,
          32,
          44,
          47,
          42,
          30,
          27,
          48,
          43,
          50,
          50,
          42,
          30,
          39,
          30,
          29,
          40,
          42,
          37,
          46,
          32,
          31,
          39,
          30,
          47,
          29,
          32,
          28,
          37,
          23,
          31,
          25,
          43,
          46,
          42,
          25,
          48,
          29,
          37,
          29,
          48,
          34,
          39,
          33,
          38,
          49,
          38,
          28,
          50,
          45,
          47,
          38,
          33,
          39,
          34,
          44,
          43,
          49
         ],
         "xaxis": "x",
         "y": [
          386.75128535926274,
          360.6037957734745,
          351.6623253313672,
          337.21719521833046,
          315.6449222521369,
          314.2348661956273,
          310.7349089981759,
          295.57803530347786,
          288.4261292526901,
          280.2057859555017,
          249.31545130158318,
          248.48867672497582,
          233.08002655724417,
          231.1276953535672,
          230.1281596582659,
          216.496478802759,
          199.93528878599818,
          196.61882654535265,
          188.51415319313128,
          187.4989039890499,
          184.28416632744003,
          182.26749861379008,
          180.97492889371165,
          180.43473645563495,
          179.4059317871519,
          179.3448781931991,
          178.68594088323843,
          174.64711691966374,
          174.63643675194442,
          172.09170166723328,
          169.52960547097263,
          165.62569349053135,
          164.52897142442512,
          160.29124379293157,
          159.1104048148294,
          156.05825195278152,
          151.84009662926096,
          148.05934317713212,
          143.5504592887475,
          141.8985842078482,
          138.91104719365234,
          137.2007105607167,
          133.89225921158828,
          132.23208819693994,
          129.39971710027487,
          129.07579210124305,
          126.91695807655582,
          126.86187425821673,
          126.65969685798457,
          126.36214539205581,
          124.9363797924456,
          124.18334022713626,
          123.10940912306177,
          120.9554755528958,
          118.8024688529729,
          113.69819572317944,
          113.32233595959978,
          113.22765633674214,
          111.2708444245423,
          110.8140879061345,
          110.54501933059547,
          110.4178703264659,
          101.79899787809677,
          99.73667659163908,
          98.90048690372109,
          96.57156689127724,
          95.8056775957123,
          95.73086437060769,
          95.38693055971667,
          94.71964763992344,
          92.3478681488643,
          91.74606969270492,
          91.68587532042663,
          89.92461811631378,
          88.26621606097355,
          87.88385926476765,
          86.16965013597465,
          83.8652405504352,
          82.60915742433075,
          81.75218452542686,
          81.60394377684135,
          80.89837663152218,
          79.20714443876359,
          78.0197189827707,
          76.23698003053832,
          75.9816753926755,
          74.92763258595936,
          74.65645365945208,
          74.0878694523779,
          71.27385759116144,
          70.34675051372321,
          68.64513460195944,
          65.53891584790841,
          64.80922990740395,
          64.5234732500656,
          64.19683127413678,
          62.94811460899583,
          61.960965394329975,
          61.71636325939229,
          61.348791955057614,
          58.943865284677756,
          58.36747164487327,
          57.98202353064941,
          57.29579994521705,
          57.28139994470385,
          56.88478756528224,
          56.22274696802701,
          55.750900221311674,
          52.42718463034469,
          49.03984422675843,
          48.01271114498091,
          47.33920017676173,
          46.57774032938634,
          46.53762302345865,
          46.51879367695117,
          44.976371523310924,
          44.80421794150596,
          44.498812377890225,
          41.95741246134622,
          41.46166759208803,
          39.50907513527648,
          35.48422973099157,
          34.72132953802442,
          33.83261440587518,
          33.57169114001669,
          33.33998655396594,
          32.78823503177525,
          31.022036935802472,
          25.583688339207658,
          24.784414227961886
         ],
         "yaxis": "y"
        },
        {
         "hovertemplate": "<b>OLS trendline</b><br>CAC = -5.19966 * New_Customers + 277.966<br>R<sup>2</sup>=0.554830<br><br>Marketing_Channel=Online Ads<br>New Customers=%{x}<br>CAC (INR)=%{y} <b>(trend)</b><extra></extra>",
         "legendgroup": "Online Ads",
         "marker": {
          "color": "rgb(141,160,203)",
          "line": {
           "color": "DarkSlateGrey",
           "width": 1
          },
          "opacity": 0.8,
          "size": 8,
          "symbol": "circle"
         },
         "mode": "lines",
         "name": "Online Ads",
         "showlegend": false,
         "text": [
          "435.49",
          "434.38",
          "427.72",
          "386.75",
          "372.9",
          "366.53",
          "364.37",
          "362.88",
          "362.78",
          "360.6",
          "351.66",
          "345.35",
          "344.52",
          "337.22",
          "332.9",
          "331.91",
          "331.38",
          "322.03",
          "315.64",
          "314.78",
          "314.23",
          "314.05",
          "312.25",
          "310.73",
          "309.18",
          "306.07",
          "303.87",
          "296.93",
          "295.58",
          "292.14",
          "292.08",
          "290.71",
          "288.43",
          "280.36",
          "280.21",
          "280.06",
          "266.88",
          "264.61",
          "256.79",
          "254.09",
          "249.32",
          "248.86",
          "248.49",
          "247.36",
          "247.14",
          "240.16",
          "237.75",
          "237.06",
          "235.47",
          "234.8",
          "233.72",
          "233.08",
          "231.13",
          "230.13",
          "227.99",
          "227.34",
          "225.19",
          "223.68",
          "223.47",
          "222.47",
          "222.03",
          "221.7",
          "220.53",
          "218.06",
          "217.72",
          "217.38",
          "217.32",
          "216.5",
          "213.56",
          "212.51",
          "209.85",
          "207.57",
          "206.02",
          "205.07",
          "204.95",
          "203.91",
          "201.71",
          "201.38",
          "200.43",
          "199.94",
          "199.5",
          "199.38",
          "199.19",
          "198.1",
          "196.62",
          "196.47",
          "195.72",
          "195.6",
          "193.82",
          "193.23",
          "191.36",
          "190.72",
          "189.86",
          "189.56",
          "189.46",
          "188.51",
          "187.74",
          "187.5",
          "187.12",
          "184.28",
          "182.65",
          "182.27",
          "180.97",
          "180.43",
          "179.41",
          "179.34",
          "178.69",
          "178.56",
          "176.45",
          "175.71",
          "175.08",
          "174.65",
          "174.65",
          "174.64",
          "173.73",
          "172.09",
          "171.51",
          "171.42",
          "171.39",
          "171.36",
          "170.38",
          "169.53",
          "168.03",
          "165.94",
          "165.66",
          "165.63",
          "164.53",
          "160.29",
          "159.45",
          "159.11",
          "158.34",
          "158.27",
          "156.45",
          "156.06",
          "155.04",
          "151.84",
          "150.49",
          "149.85",
          "149.3",
          "148.54",
          "148.06",
          "147.91",
          "146.92",
          "145.63",
          "144.62",
          "144.28",
          "143.55",
          "143.51",
          "143.21",
          "143.01",
          "142.21",
          "141.9",
          "141.52",
          "140.1",
          "138.91",
          "138.47",
          "137.9",
          "137.2",
          "136.27",
          "136.22",
          "134.19",
          "134.17",
          "133.98",
          "133.89",
          "133.71",
          "133.39",
          "132.23",
          "131.95",
          "131.91",
          "131.57",
          "129.4",
          "129.23",
          "129.21",
          "129.08",
          "127.39",
          "126.92",
          "126.86",
          "126.81",
          "126.73",
          "126.66",
          "126.36",
          "126.25",
          "125.99",
          "125.57",
          "124.94",
          "124.18",
          "123.11",
          "122.47",
          "122.08",
          "121.97",
          "120.96",
          "120.38",
          "119.19",
          "118.8",
          "118.67",
          "118.17",
          "117.9",
          "117.51",
          "116.95",
          "116.86",
          "116.25",
          "115.92",
          "115.63",
          "115.6",
          "115.53",
          "114.21",
          "113.76",
          "113.7",
          "113.32",
          "113.23",
          "113.13",
          "113.04",
          "113.02",
          "111.39",
          "111.27",
          "110.87",
          "110.81",
          "110.65",
          "110.55",
          "110.5",
          "110.42",
          "110.09",
          "110.03",
          "109.14",
          "108.6",
          "108.16",
          "107.95",
          "107.85",
          "107.83",
          "107.47",
          "107.24",
          "106.49",
          "106.36",
          "105.79",
          "105.78",
          "105.28",
          "104.87",
          "104.51",
          "104.51",
          "103.99",
          "103.94",
          "103.76",
          "103.31",
          "102.83",
          "102.8",
          "102.28",
          "102.03",
          "101.98",
          "101.8",
          "101.59",
          "101.48",
          "100.85",
          "100.44",
          "100.32",
          "100.16",
          "100.02",
          "99.92",
          "99.75",
          "99.74",
          "99.66",
          "99.59",
          "99.49",
          "99.05",
          "98.9",
          "98.62",
          "98.58",
          "97.04",
          "96.88",
          "96.57",
          "96.04",
          "95.81",
          "95.73",
          "95.68",
          "95.39",
          "94.72",
          "94.66",
          "94.27",
          "94.19",
          "94.16",
          "94.16",
          "93.03",
          "92.83",
          "92.38",
          "92.35",
          "92.26",
          "91.8",
          "91.75",
          "91.69",
          "91.41",
          "90.33",
          "90.23",
          "89.97",
          "89.92",
          "89.72",
          "89.52",
          "89.37",
          "89.26",
          "88.36",
          "88.27",
          "88.2",
          "87.88",
          "87.81",
          "87.71",
          "87.67",
          "87.38",
          "87.26",
          "86.88",
          "86.8",
          "86.63",
          "86.31",
          "86.26",
          "86.17",
          "85.84",
          "85.26",
          "84.58",
          "83.87",
          "83.66",
          "83.64",
          "83.21",
          "82.8",
          "82.61",
          "82.45",
          "82.06",
          "81.79",
          "81.75",
          "81.6",
          "81.27",
          "81.2",
          "81.01",
          "80.9",
          "80.42",
          "80.01",
          "79.92",
          "79.61",
          "79.58",
          "79.42",
          "79.38",
          "79.21",
          "79.19",
          "78.72",
          "78.34",
          "78.02",
          "77.75",
          "77.74",
          "77.33",
          "76.75",
          "76.73",
          "76.47",
          "76.24",
          "75.98",
          "75.27",
          "74.93",
          "74.66",
          "74.45",
          "74.39",
          "74.09",
          "73.79",
          "73.49",
          "73.1",
          "72.85",
          "72.57",
          "72.44",
          "72.42",
          "72.0",
          "71.79",
          "71.43",
          "71.41",
          "71.27",
          "71.17",
          "70.91",
          "70.66",
          "70.35",
          "69.86",
          "68.65",
          "68.57",
          "66.02",
          "65.86",
          "65.54",
          "65.46",
          "65.44",
          "65.26",
          "64.81",
          "64.79",
          "64.53",
          "64.52",
          "64.2",
          "63.87",
          "63.47",
          "63.33",
          "63.28",
          "62.95",
          "62.87",
          "61.96",
          "61.72",
          "61.38",
          "61.38",
          "61.35",
          "61.21",
          "60.83",
          "60.13",
          "59.86",
          "59.52",
          "59.43",
          "59.22",
          "59.2",
          "59.1",
          "58.94",
          "58.73",
          "58.55",
          "58.37",
          "58.35",
          "57.98",
          "57.3",
          "57.28",
          "57.18",
          "57.14",
          "56.92",
          "56.88",
          "56.67",
          "56.43",
          "56.42",
          "56.22",
          "55.92",
          "55.75",
          "55.55",
          "55.41",
          "55.0",
          "53.52",
          "53.1",
          "52.78",
          "52.65",
          "52.5",
          "52.43",
          "52.32",
          "52.01",
          "50.74",
          "50.01",
          "49.88",
          "49.85",
          "49.04",
          "49.03",
          "48.69",
          "48.36",
          "48.26",
          "48.01",
          "47.89",
          "47.61",
          "47.57",
          "47.36",
          "47.34",
          "47.09",
          "46.79",
          "46.65",
          "46.58",
          "46.54",
          "46.52",
          "46.4",
          "46.21",
          "46.15",
          "44.98",
          "44.8",
          "44.79",
          "44.5",
          "43.82",
          "42.89",
          "42.63",
          "41.96",
          "41.67",
          "41.46",
          "40.17",
          "40.07",
          "39.98",
          "39.69",
          "39.51",
          "38.12",
          "37.99",
          "36.52",
          "35.48",
          "34.94",
          "34.72",
          "33.83",
          "33.57",
          "33.53",
          "33.34",
          "32.79",
          "32.6",
          "31.85",
          "31.02",
          "30.74",
          "30.09",
          "29.44",
          "28.81",
          "28.44",
          "26.32",
          "25.58",
          "24.78",
          "23.49",
          "23.46",
          "22.01",
          "21.62"
         ],
         "textposition": "top center",
         "type": "scatter",
         "x": [
          10,
          10,
          11,
          11,
          11,
          11,
          12,
          12,
          12,
          13,
          13,
          14,
          14,
          14,
          14,
          15,
          15,
          15,
          15,
          15,
          16,
          16,
          17,
          17,
          17,
          18,
          18,
          18,
          19,
          19,
          19,
          19,
          19,
          21,
          21,
          22,
          23,
          23,
          24,
          24,
          24,
          24,
          25,
          25,
          25,
          25,
          26,
          26,
          27,
          27,
          27,
          28,
          28,
          28,
          28,
          29,
          29,
          29,
          29,
          29,
          29,
          29,
          29,
          30,
          30,
          30,
          30,
          31,
          31,
          31,
          31,
          31,
          32,
          32,
          32,
          32,
          32,
          32,
          33,
          33,
          33,
          33,
          34,
          34,
          35,
          36,
          37,
          37,
          37,
          37,
          38,
          38,
          38,
          38,
          38,
          39,
          39,
          39,
          39,
          39,
          40,
          40,
          40,
          42,
          42,
          42,
          42,
          42,
          42,
          43,
          43,
          43,
          44,
          44,
          45,
          46,
          46,
          46,
          47,
          47,
          47,
          48,
          48,
          48,
          48,
          49,
          49,
          50,
          50,
          50
         ],
         "xaxis": "x",
         "y": [
          225.96924373601274,
          225.96924373601274,
          220.76957897260448,
          220.76957897260448,
          220.76957897260448,
          220.76957897260448,
          215.5699142091962,
          215.5699142091962,
          215.5699142091962,
          210.37024944578795,
          210.37024944578795,
          205.17058468237968,
          205.17058468237968,
          205.17058468237968,
          205.17058468237968,
          199.97091991897142,
          199.97091991897142,
          199.97091991897142,
          199.97091991897142,
          199.97091991897142,
          194.77125515556315,
          194.77125515556315,
          189.5715903921549,
          189.5715903921549,
          189.5715903921549,
          184.37192562874662,
          184.37192562874662,
          184.37192562874662,
          179.17226086533836,
          179.17226086533836,
          179.17226086533836,
          179.17226086533836,
          179.17226086533836,
          168.77293133852183,
          168.77293133852183,
          163.57326657511356,
          158.3736018117053,
          158.3736018117053,
          153.17393704829703,
          153.17393704829703,
          153.17393704829703,
          153.17393704829703,
          147.97427228488877,
          147.97427228488877,
          147.97427228488877,
          147.97427228488877,
          142.7746075214805,
          142.7746075214805,
          137.57494275807224,
          137.57494275807224,
          137.57494275807224,
          132.37527799466397,
          132.37527799466397,
          132.37527799466397,
          132.37527799466397,
          127.17561323125571,
          127.17561323125571,
          127.17561323125571,
          127.17561323125571,
          127.17561323125571,
          127.17561323125571,
          127.17561323125571,
          127.17561323125571,
          121.97594846784745,
          121.97594846784745,
          121.97594846784745,
          121.97594846784745,
          116.77628370443918,
          116.77628370443918,
          116.77628370443918,
          116.77628370443918,
          116.77628370443918,
          111.57661894103092,
          111.57661894103092,
          111.57661894103092,
          111.57661894103092,
          111.57661894103092,
          111.57661894103092,
          106.37695417762265,
          106.37695417762265,
          106.37695417762265,
          106.37695417762265,
          101.17728941421439,
          101.17728941421439,
          95.97762465080612,
          90.77795988739786,
          85.57829512398959,
          85.57829512398959,
          85.57829512398959,
          85.57829512398959,
          80.37863036058133,
          80.37863036058133,
          80.37863036058133,
          80.37863036058133,
          80.37863036058133,
          75.17896559717306,
          75.17896559717306,
          75.17896559717306,
          75.17896559717306,
          75.17896559717306,
          69.9793008337648,
          69.9793008337648,
          69.9793008337648,
          59.579971306948266,
          59.579971306948266,
          59.579971306948266,
          59.579971306948266,
          59.579971306948266,
          59.579971306948266,
          54.38030654354,
          54.38030654354,
          54.38030654354,
          49.18064178013174,
          49.18064178013174,
          43.98097701672347,
          38.78131225331521,
          38.78131225331521,
          38.78131225331521,
          33.58164748990694,
          33.58164748990694,
          33.58164748990694,
          28.381982726498677,
          28.381982726498677,
          28.381982726498677,
          28.381982726498677,
          23.182317963090412,
          23.182317963090412,
          17.982653199682147,
          17.982653199682147,
          17.982653199682147
         ],
         "yaxis": "y"
        },
        {
         "customdata": [
          [
           4398.302507998309
          ],
          [
           3991.702607821144
          ],
          [
           4489.532069594145
          ],
          [
           4478.801253448862
          ],
          [
           4683.716395121187
          ],
          [
           4089.923539804896
          ],
          [
           3360.721717238268
          ],
          [
           3484.109284288594
          ],
          [
           4695.644177930195
          ],
          [
           3793.000116488689
          ],
          [
           3287.1905679396045
          ],
          [
           3152.691625793023
          ],
          [
           4920.978530413502
          ],
          [
           3798.934739902869
          ],
          [
           2447.1174366067007
          ],
          [
           3103.8043472302456
          ],
          [
           4999.631314036837
          ],
          [
           3203.35602801068
          ],
          [
           4616.621163574901
          ],
          [
           4282.197892742313
          ],
          [
           3929.439071756953
          ],
          [
           2544.315009963929
          ],
          [
           4057.773781304777
          ],
          [
           2097.921520712911
          ],
          [
           3987.065466951708
          ],
          [
           3032.963566371576
          ],
          [
           3501.634968580036
          ],
          [
           3986.23740286818
          ],
          [
           1504.883899496825
          ],
          [
           4437.368736673066
          ],
          [
           2702.01525082086
          ],
          [
           3820.9115241000095
          ],
          [
           4496.761496217234
          ],
          [
           4025.772616222295
          ],
          [
           4025.075321650229
          ],
          [
           1473.8062488458463
          ],
          [
           2005.614704803766
          ],
          [
           2770.8840160773134
          ],
          [
           4880.7389072343085
          ],
          [
           1528.639190987134
          ],
          [
           3767.148621180808
          ],
          [
           4653.947897926788
          ],
          [
           2927.3913194949646
          ],
          [
           3972.560486092686
          ],
          [
           1886.3856018901208
          ],
          [
           3654.755317938139
          ],
          [
           4633.645780850424
          ],
          [
           1770.3371738060696
          ],
          [
           3632.9192637147225
          ],
          [
           3136.540357070653
          ],
          [
           3774.69469593373
          ],
          [
           4792.250311108124
          ],
          [
           3935.181216053568
          ],
          [
           3173.720251834692
          ],
          [
           4866.000837851008
          ],
          [
           1871.8581636260144
          ],
          [
           4338.895782306778
          ],
          [
           3804.7350013288064
          ],
          [
           3375.244780478253
          ],
          [
           4282.99020683822
          ],
          [
           3555.7548094400486
          ],
          [
           3630.641545932516
          ],
          [
           2700.555864416847
          ],
          [
           3896.866848302073
          ],
          [
           4289.323672360232
          ],
          [
           4952.476859127017
          ],
          [
           3590.538893609923
          ],
          [
           3196.8785563413267
          ],
          [
           3123.687724583071
          ],
          [
           2970.498475912824
          ],
          [
           4245.635610259507
          ],
          [
           4306.524638600238
          ],
          [
           3711.057834493438
          ],
          [
           3681.944875400685
          ],
          [
           2966.903208764053
          ],
          [
           3124.6652725950403
          ],
          [
           3898.3400043722063
          ],
          [
           3347.750889656644
          ],
          [
           2844.5996534199903
          ],
          [
           3178.2495148423145
          ],
          [
           2354.8610152075453
          ],
          [
           2814.57502755557
          ],
          [
           2078.044103868216
          ],
          [
           1273.6829887262058
          ],
          [
           1671.156573471209
          ],
          [
           3889.7753102825695
          ],
          [
           3009.1646005318635
          ],
          [
           2741.9485800307084
          ],
          [
           3607.0186209755575
          ],
          [
           2382.2624977723267
          ],
          [
           3435.48666832786
          ],
          [
           2986.909146095481
          ],
          [
           2975.1808773803373
          ],
          [
           2027.880338253049
          ],
          [
           3500.2320286568875
          ],
          [
           2713.512052938978
          ],
          [
           2633.183423181651
          ],
          [
           1848.479400718956
          ],
          [
           3207.669668283244
          ],
          [
           1505.1179718336357
          ],
          [
           2936.7943488508345
          ],
          [
           1360.5335029848757
          ],
          [
           2221.520977277441
          ],
          [
           1040.6044577547084
          ],
          [
           2858.833866412927
          ],
          [
           1077.533148200043
          ],
          [
           2131.99481309982
          ],
          [
           2217.458337424021
          ],
          [
           1542.797948922257
          ],
          [
           1081.5200692813294
          ],
          [
           2821.3784674660046
          ],
          [
           2639.9144789854577
          ],
          [
           1055.6746204036046
          ],
          [
           1737.454681560327
          ],
          [
           2520.03759009062
          ],
          [
           2354.244936205727
          ],
          [
           1346.6515922226977
          ],
          [
           1934.2497842315724
          ],
          [
           2380.49576677203
          ],
          [
           1617.4448750861952
          ],
          [
           1695.2541933057378
          ],
          [
           1497.414632698833
          ],
          [
           1402.1044323631631
          ],
          [
           2131.3559331313063
          ],
          [
           1865.5385595144223
          ],
          [
           1321.7674075972038
          ],
          [
           1365.3075465239408
          ],
          [
           1056.5934690242552
          ]
         ],
         "hovertemplate": "Marketing_Channel=Referral<br>New Customers=%{x}<br>CAC (INR)=%{y}<br>Marketing_Spend=%{customdata[0]}<extra></extra>",
         "legendgroup": "Referral",
         "marker": {
          "color": "rgb(231,138,195)",
          "line": {
           "color": "DarkSlateGrey",
           "width": 1
          },
          "opacity": 0.8,
          "size": 8,
          "symbol": "circle"
         },
         "mode": "markers",
         "name": "Referral",
         "orientation": "v",
         "showlegend": true,
         "text": [
          "435.49",
          "434.38",
          "427.72",
          "386.75",
          "372.9",
          "366.53",
          "364.37",
          "362.88",
          "362.78",
          "360.6",
          "351.66",
          "345.35",
          "344.52",
          "337.22",
          "332.9",
          "331.91",
          "331.38",
          "322.03",
          "315.64",
          "314.78",
          "314.23",
          "314.05",
          "312.25",
          "310.73",
          "309.18",
          "306.07",
          "303.87",
          "296.93",
          "295.58",
          "292.14",
          "292.08",
          "290.71",
          "288.43",
          "280.36",
          "280.21",
          "280.06",
          "266.88",
          "264.61",
          "256.79",
          "254.09",
          "249.32",
          "248.86",
          "248.49",
          "247.36",
          "247.14",
          "240.16",
          "237.75",
          "237.06",
          "235.47",
          "234.8",
          "233.72",
          "233.08",
          "231.13",
          "230.13",
          "227.99",
          "227.34",
          "225.19",
          "223.68",
          "223.47",
          "222.47",
          "222.03",
          "221.7",
          "220.53",
          "218.06",
          "217.72",
          "217.38",
          "217.32",
          "216.5",
          "213.56",
          "212.51",
          "209.85",
          "207.57",
          "206.02",
          "205.07",
          "204.95",
          "203.91",
          "201.71",
          "201.38",
          "200.43",
          "199.94",
          "199.5",
          "199.38",
          "199.19",
          "198.1",
          "196.62",
          "196.47",
          "195.72",
          "195.6",
          "193.82",
          "193.23",
          "191.36",
          "190.72",
          "189.86",
          "189.56",
          "189.46",
          "188.51",
          "187.74",
          "187.5",
          "187.12",
          "184.28",
          "182.65",
          "182.27",
          "180.97",
          "180.43",
          "179.41",
          "179.34",
          "178.69",
          "178.56",
          "176.45",
          "175.71",
          "175.08",
          "174.65",
          "174.65",
          "174.64",
          "173.73",
          "172.09",
          "171.51",
          "171.42",
          "171.39",
          "171.36",
          "170.38",
          "169.53",
          "168.03",
          "165.94",
          "165.66",
          "165.63",
          "164.53",
          "160.29",
          "159.45",
          "159.11",
          "158.34",
          "158.27",
          "156.45",
          "156.06",
          "155.04",
          "151.84",
          "150.49",
          "149.85",
          "149.3",
          "148.54",
          "148.06",
          "147.91",
          "146.92",
          "145.63",
          "144.62",
          "144.28",
          "143.55",
          "143.51",
          "143.21",
          "143.01",
          "142.21",
          "141.9",
          "141.52",
          "140.1",
          "138.91",
          "138.47",
          "137.9",
          "137.2",
          "136.27",
          "136.22",
          "134.19",
          "134.17",
          "133.98",
          "133.89",
          "133.71",
          "133.39",
          "132.23",
          "131.95",
          "131.91",
          "131.57",
          "129.4",
          "129.23",
          "129.21",
          "129.08",
          "127.39",
          "126.92",
          "126.86",
          "126.81",
          "126.73",
          "126.66",
          "126.36",
          "126.25",
          "125.99",
          "125.57",
          "124.94",
          "124.18",
          "123.11",
          "122.47",
          "122.08",
          "121.97",
          "120.96",
          "120.38",
          "119.19",
          "118.8",
          "118.67",
          "118.17",
          "117.9",
          "117.51",
          "116.95",
          "116.86",
          "116.25",
          "115.92",
          "115.63",
          "115.6",
          "115.53",
          "114.21",
          "113.76",
          "113.7",
          "113.32",
          "113.23",
          "113.13",
          "113.04",
          "113.02",
          "111.39",
          "111.27",
          "110.87",
          "110.81",
          "110.65",
          "110.55",
          "110.5",
          "110.42",
          "110.09",
          "110.03",
          "109.14",
          "108.6",
          "108.16",
          "107.95",
          "107.85",
          "107.83",
          "107.47",
          "107.24",
          "106.49",
          "106.36",
          "105.79",
          "105.78",
          "105.28",
          "104.87",
          "104.51",
          "104.51",
          "103.99",
          "103.94",
          "103.76",
          "103.31",
          "102.83",
          "102.8",
          "102.28",
          "102.03",
          "101.98",
          "101.8",
          "101.59",
          "101.48",
          "100.85",
          "100.44",
          "100.32",
          "100.16",
          "100.02",
          "99.92",
          "99.75",
          "99.74",
          "99.66",
          "99.59",
          "99.49",
          "99.05",
          "98.9",
          "98.62",
          "98.58",
          "97.04",
          "96.88",
          "96.57",
          "96.04",
          "95.81",
          "95.73",
          "95.68",
          "95.39",
          "94.72",
          "94.66",
          "94.27",
          "94.19",
          "94.16",
          "94.16",
          "93.03",
          "92.83",
          "92.38",
          "92.35",
          "92.26",
          "91.8",
          "91.75",
          "91.69",
          "91.41",
          "90.33",
          "90.23",
          "89.97",
          "89.92",
          "89.72",
          "89.52",
          "89.37",
          "89.26",
          "88.36",
          "88.27",
          "88.2",
          "87.88",
          "87.81",
          "87.71",
          "87.67",
          "87.38",
          "87.26",
          "86.88",
          "86.8",
          "86.63",
          "86.31",
          "86.26",
          "86.17",
          "85.84",
          "85.26",
          "84.58",
          "83.87",
          "83.66",
          "83.64",
          "83.21",
          "82.8",
          "82.61",
          "82.45",
          "82.06",
          "81.79",
          "81.75",
          "81.6",
          "81.27",
          "81.2",
          "81.01",
          "80.9",
          "80.42",
          "80.01",
          "79.92",
          "79.61",
          "79.58",
          "79.42",
          "79.38",
          "79.21",
          "79.19",
          "78.72",
          "78.34",
          "78.02",
          "77.75",
          "77.74",
          "77.33",
          "76.75",
          "76.73",
          "76.47",
          "76.24",
          "75.98",
          "75.27",
          "74.93",
          "74.66",
          "74.45",
          "74.39",
          "74.09",
          "73.79",
          "73.49",
          "73.1",
          "72.85",
          "72.57",
          "72.44",
          "72.42",
          "72.0",
          "71.79",
          "71.43",
          "71.41",
          "71.27",
          "71.17",
          "70.91",
          "70.66",
          "70.35",
          "69.86",
          "68.65",
          "68.57",
          "66.02",
          "65.86",
          "65.54",
          "65.46",
          "65.44",
          "65.26",
          "64.81",
          "64.79",
          "64.53",
          "64.52",
          "64.2",
          "63.87",
          "63.47",
          "63.33",
          "63.28",
          "62.95",
          "62.87",
          "61.96",
          "61.72",
          "61.38",
          "61.38",
          "61.35",
          "61.21",
          "60.83",
          "60.13",
          "59.86",
          "59.52",
          "59.43",
          "59.22",
          "59.2",
          "59.1",
          "58.94",
          "58.73",
          "58.55",
          "58.37",
          "58.35",
          "57.98",
          "57.3",
          "57.28",
          "57.18",
          "57.14",
          "56.92",
          "56.88",
          "56.67",
          "56.43",
          "56.42",
          "56.22",
          "55.92",
          "55.75",
          "55.55",
          "55.41",
          "55.0",
          "53.52",
          "53.1",
          "52.78",
          "52.65",
          "52.5",
          "52.43",
          "52.32",
          "52.01",
          "50.74",
          "50.01",
          "49.88",
          "49.85",
          "49.04",
          "49.03",
          "48.69",
          "48.36",
          "48.26",
          "48.01",
          "47.89",
          "47.61",
          "47.57",
          "47.36",
          "47.34",
          "47.09",
          "46.79",
          "46.65",
          "46.58",
          "46.54",
          "46.52",
          "46.4",
          "46.21",
          "46.15",
          "44.98",
          "44.8",
          "44.79",
          "44.5",
          "43.82",
          "42.89",
          "42.63",
          "41.96",
          "41.67",
          "41.46",
          "40.17",
          "40.07",
          "39.98",
          "39.69",
          "39.51",
          "38.12",
          "37.99",
          "36.52",
          "35.48",
          "34.94",
          "34.72",
          "33.83",
          "33.57",
          "33.53",
          "33.34",
          "32.79",
          "32.6",
          "31.85",
          "31.02",
          "30.74",
          "30.09",
          "29.44",
          "28.81",
          "28.44",
          "26.32",
          "25.58",
          "24.78",
          "23.49",
          "23.46",
          "22.01",
          "21.62"
         ],
         "textposition": "top center",
         "type": "scatter",
         "x": [
          12,
          11,
          13,
          13,
          15,
          14,
          12,
          14,
          19,
          16,
          14,
          14,
          22,
          17,
          11,
          14,
          23,
          15,
          22,
          21,
          20,
          13,
          21,
          11,
          21,
          16,
          20,
          25,
          10,
          30,
          19,
          27,
          33,
          30,
          30,
          11,
          15,
          21,
          37,
          12,
          30,
          38,
          24,
          33,
          16,
          32,
          41,
          16,
          33,
          29,
          35,
          45,
          37,
          30,
          46,
          18,
          42,
          37,
          33,
          42,
          35,
          36,
          27,
          39,
          43,
          50,
          37,
          33,
          33,
          32,
          47,
          48,
          42,
          42,
          34,
          36,
          45,
          39,
          34,
          38,
          29,
          35,
          26,
          16,
          21,
          49,
          38,
          35,
          47,
          32,
          47,
          41,
          41,
          28,
          49,
          38,
          37,
          28,
          49,
          23,
          45,
          21,
          35,
          17,
          47,
          18,
          36,
          38,
          27,
          19,
          50,
          48,
          20,
          33,
          48,
          45,
          27,
          40,
          50,
          34,
          36,
          32,
          32,
          50,
          47,
          43,
          48,
          48
         ],
         "xaxis": "x",
         "y": [
          366.5252089998591,
          362.8820552564676,
          345.3486207380111,
          344.5231733422201,
          312.2477596747458,
          292.1373957003497,
          280.060143103189,
          248.86494887775672,
          247.13916725948394,
          237.06250728054306,
          234.7993262814003,
          225.19225898521591,
          223.68084229152282,
          223.46674940605112,
          222.46522150970006,
          221.7003105164461,
          217.37527452334072,
          213.55706853404533,
          209.8464165261319,
          203.9141853686816,
          196.47195358784765,
          195.71653922799453,
          193.22732291927508,
          190.72013824662827,
          189.86026033103371,
          189.5602228982235,
          175.0817484290018,
          159.4494961147272,
          150.4883899496825,
          147.91229122243556,
          142.21132899057156,
          141.5152416333337,
          136.26549988537073,
          134.19242054074317,
          134.16917738834096,
          133.9823862587133,
          133.70764698691772,
          131.9468579084435,
          131.91186235768402,
          127.38659924892784,
          125.57162070602693,
          122.47231310333652,
          121.9746383122902,
          120.38062079068746,
          117.89910011813255,
          114.21110368556684,
          113.01575075244936,
          110.64607336287935,
          110.08846253680977,
          108.15656403691906,
          107.84841988382087,
          106.49445135795831,
          106.35624908252886,
          105.7906750611564,
          105.78262690980453,
          103.99212020144525,
          103.30704243587566,
          102.83067571158936,
          102.28014486297735,
          101.9759573056719,
          101.59299455542995,
          100.851154053681,
          100.02058757099432,
          99.91966277697622,
          99.75171331070307,
          99.04953718254033,
          97.04159171918711,
          96.87510776791899,
          94.65720377524458,
          92.82807737227574,
          90.33267255871291,
          89.71926330417163,
          88.35851986889138,
          87.66535417620678,
          87.26185908129568,
          86.79625757208446,
          86.62977787493791,
          85.83976640145241,
          83.66469568882324,
          83.63814512742933,
          81.20210397267398,
          80.41642935873058,
          79.92477322570062,
          79.60518679538787,
          79.57888445100996,
          79.38316959760346,
          79.18854211925957,
          78.34138800087739,
          76.74507704203315,
          74.44570305538521,
          73.09546102825234,
          72.85144258769466,
          72.56538725317895,
          72.42429779475175,
          71.43330670728342,
          71.40821191944679,
          71.16711954545003,
          66.01712145424843,
          65.46264629149478,
          65.43991181885373,
          65.26209664112966,
          64.78730966594647,
          63.472027922212604,
          61.212026926747555,
          60.826252476870785,
          59.86295267778016,
          59.22207814166167,
          58.35416677431634,
          57.14066477489841,
          56.92210890954365,
          56.427569349320095,
          54.99821831219703,
          52.783731020180234,
          52.65014186546445,
          52.50078312688792,
          52.316554137905044,
          49.87598489713695,
          48.356244605789314,
          47.609915335440604,
          47.57190809077045,
          47.090394258492715,
          46.79420727183853,
          43.81576351134885,
          42.627118662626124,
          39.692309776902604,
          30.738776920865206,
          28.443907219248768,
          22.01236393800532
         ],
         "yaxis": "y"
        },
        {
         "hovertemplate": "<b>OLS trendline</b><br>CAC = -4.22997 * New_Customers + 248.906<br>R<sup>2</sup>=0.464859<br><br>Marketing_Channel=Referral<br>New Customers=%{x}<br>CAC (INR)=%{y} <b>(trend)</b><extra></extra>",
         "legendgroup": "Referral",
         "marker": {
          "color": "rgb(231,138,195)",
          "line": {
           "color": "DarkSlateGrey",
           "width": 1
          },
          "opacity": 0.8,
          "size": 8,
          "symbol": "circle"
         },
         "mode": "lines",
         "name": "Referral",
         "showlegend": false,
         "text": [
          "435.49",
          "434.38",
          "427.72",
          "386.75",
          "372.9",
          "366.53",
          "364.37",
          "362.88",
          "362.78",
          "360.6",
          "351.66",
          "345.35",
          "344.52",
          "337.22",
          "332.9",
          "331.91",
          "331.38",
          "322.03",
          "315.64",
          "314.78",
          "314.23",
          "314.05",
          "312.25",
          "310.73",
          "309.18",
          "306.07",
          "303.87",
          "296.93",
          "295.58",
          "292.14",
          "292.08",
          "290.71",
          "288.43",
          "280.36",
          "280.21",
          "280.06",
          "266.88",
          "264.61",
          "256.79",
          "254.09",
          "249.32",
          "248.86",
          "248.49",
          "247.36",
          "247.14",
          "240.16",
          "237.75",
          "237.06",
          "235.47",
          "234.8",
          "233.72",
          "233.08",
          "231.13",
          "230.13",
          "227.99",
          "227.34",
          "225.19",
          "223.68",
          "223.47",
          "222.47",
          "222.03",
          "221.7",
          "220.53",
          "218.06",
          "217.72",
          "217.38",
          "217.32",
          "216.5",
          "213.56",
          "212.51",
          "209.85",
          "207.57",
          "206.02",
          "205.07",
          "204.95",
          "203.91",
          "201.71",
          "201.38",
          "200.43",
          "199.94",
          "199.5",
          "199.38",
          "199.19",
          "198.1",
          "196.62",
          "196.47",
          "195.72",
          "195.6",
          "193.82",
          "193.23",
          "191.36",
          "190.72",
          "189.86",
          "189.56",
          "189.46",
          "188.51",
          "187.74",
          "187.5",
          "187.12",
          "184.28",
          "182.65",
          "182.27",
          "180.97",
          "180.43",
          "179.41",
          "179.34",
          "178.69",
          "178.56",
          "176.45",
          "175.71",
          "175.08",
          "174.65",
          "174.65",
          "174.64",
          "173.73",
          "172.09",
          "171.51",
          "171.42",
          "171.39",
          "171.36",
          "170.38",
          "169.53",
          "168.03",
          "165.94",
          "165.66",
          "165.63",
          "164.53",
          "160.29",
          "159.45",
          "159.11",
          "158.34",
          "158.27",
          "156.45",
          "156.06",
          "155.04",
          "151.84",
          "150.49",
          "149.85",
          "149.3",
          "148.54",
          "148.06",
          "147.91",
          "146.92",
          "145.63",
          "144.62",
          "144.28",
          "143.55",
          "143.51",
          "143.21",
          "143.01",
          "142.21",
          "141.9",
          "141.52",
          "140.1",
          "138.91",
          "138.47",
          "137.9",
          "137.2",
          "136.27",
          "136.22",
          "134.19",
          "134.17",
          "133.98",
          "133.89",
          "133.71",
          "133.39",
          "132.23",
          "131.95",
          "131.91",
          "131.57",
          "129.4",
          "129.23",
          "129.21",
          "129.08",
          "127.39",
          "126.92",
          "126.86",
          "126.81",
          "126.73",
          "126.66",
          "126.36",
          "126.25",
          "125.99",
          "125.57",
          "124.94",
          "124.18",
          "123.11",
          "122.47",
          "122.08",
          "121.97",
          "120.96",
          "120.38",
          "119.19",
          "118.8",
          "118.67",
          "118.17",
          "117.9",
          "117.51",
          "116.95",
          "116.86",
          "116.25",
          "115.92",
          "115.63",
          "115.6",
          "115.53",
          "114.21",
          "113.76",
          "113.7",
          "113.32",
          "113.23",
          "113.13",
          "113.04",
          "113.02",
          "111.39",
          "111.27",
          "110.87",
          "110.81",
          "110.65",
          "110.55",
          "110.5",
          "110.42",
          "110.09",
          "110.03",
          "109.14",
          "108.6",
          "108.16",
          "107.95",
          "107.85",
          "107.83",
          "107.47",
          "107.24",
          "106.49",
          "106.36",
          "105.79",
          "105.78",
          "105.28",
          "104.87",
          "104.51",
          "104.51",
          "103.99",
          "103.94",
          "103.76",
          "103.31",
          "102.83",
          "102.8",
          "102.28",
          "102.03",
          "101.98",
          "101.8",
          "101.59",
          "101.48",
          "100.85",
          "100.44",
          "100.32",
          "100.16",
          "100.02",
          "99.92",
          "99.75",
          "99.74",
          "99.66",
          "99.59",
          "99.49",
          "99.05",
          "98.9",
          "98.62",
          "98.58",
          "97.04",
          "96.88",
          "96.57",
          "96.04",
          "95.81",
          "95.73",
          "95.68",
          "95.39",
          "94.72",
          "94.66",
          "94.27",
          "94.19",
          "94.16",
          "94.16",
          "93.03",
          "92.83",
          "92.38",
          "92.35",
          "92.26",
          "91.8",
          "91.75",
          "91.69",
          "91.41",
          "90.33",
          "90.23",
          "89.97",
          "89.92",
          "89.72",
          "89.52",
          "89.37",
          "89.26",
          "88.36",
          "88.27",
          "88.2",
          "87.88",
          "87.81",
          "87.71",
          "87.67",
          "87.38",
          "87.26",
          "86.88",
          "86.8",
          "86.63",
          "86.31",
          "86.26",
          "86.17",
          "85.84",
          "85.26",
          "84.58",
          "83.87",
          "83.66",
          "83.64",
          "83.21",
          "82.8",
          "82.61",
          "82.45",
          "82.06",
          "81.79",
          "81.75",
          "81.6",
          "81.27",
          "81.2",
          "81.01",
          "80.9",
          "80.42",
          "80.01",
          "79.92",
          "79.61",
          "79.58",
          "79.42",
          "79.38",
          "79.21",
          "79.19",
          "78.72",
          "78.34",
          "78.02",
          "77.75",
          "77.74",
          "77.33",
          "76.75",
          "76.73",
          "76.47",
          "76.24",
          "75.98",
          "75.27",
          "74.93",
          "74.66",
          "74.45",
          "74.39",
          "74.09",
          "73.79",
          "73.49",
          "73.1",
          "72.85",
          "72.57",
          "72.44",
          "72.42",
          "72.0",
          "71.79",
          "71.43",
          "71.41",
          "71.27",
          "71.17",
          "70.91",
          "70.66",
          "70.35",
          "69.86",
          "68.65",
          "68.57",
          "66.02",
          "65.86",
          "65.54",
          "65.46",
          "65.44",
          "65.26",
          "64.81",
          "64.79",
          "64.53",
          "64.52",
          "64.2",
          "63.87",
          "63.47",
          "63.33",
          "63.28",
          "62.95",
          "62.87",
          "61.96",
          "61.72",
          "61.38",
          "61.38",
          "61.35",
          "61.21",
          "60.83",
          "60.13",
          "59.86",
          "59.52",
          "59.43",
          "59.22",
          "59.2",
          "59.1",
          "58.94",
          "58.73",
          "58.55",
          "58.37",
          "58.35",
          "57.98",
          "57.3",
          "57.28",
          "57.18",
          "57.14",
          "56.92",
          "56.88",
          "56.67",
          "56.43",
          "56.42",
          "56.22",
          "55.92",
          "55.75",
          "55.55",
          "55.41",
          "55.0",
          "53.52",
          "53.1",
          "52.78",
          "52.65",
          "52.5",
          "52.43",
          "52.32",
          "52.01",
          "50.74",
          "50.01",
          "49.88",
          "49.85",
          "49.04",
          "49.03",
          "48.69",
          "48.36",
          "48.26",
          "48.01",
          "47.89",
          "47.61",
          "47.57",
          "47.36",
          "47.34",
          "47.09",
          "46.79",
          "46.65",
          "46.58",
          "46.54",
          "46.52",
          "46.4",
          "46.21",
          "46.15",
          "44.98",
          "44.8",
          "44.79",
          "44.5",
          "43.82",
          "42.89",
          "42.63",
          "41.96",
          "41.67",
          "41.46",
          "40.17",
          "40.07",
          "39.98",
          "39.69",
          "39.51",
          "38.12",
          "37.99",
          "36.52",
          "35.48",
          "34.94",
          "34.72",
          "33.83",
          "33.57",
          "33.53",
          "33.34",
          "32.79",
          "32.6",
          "31.85",
          "31.02",
          "30.74",
          "30.09",
          "29.44",
          "28.81",
          "28.44",
          "26.32",
          "25.58",
          "24.78",
          "23.49",
          "23.46",
          "22.01",
          "21.62"
         ],
         "textposition": "top center",
         "type": "scatter",
         "x": [
          10,
          11,
          11,
          11,
          11,
          12,
          12,
          12,
          13,
          13,
          13,
          14,
          14,
          14,
          14,
          14,
          15,
          15,
          15,
          16,
          16,
          16,
          16,
          16,
          17,
          17,
          18,
          18,
          19,
          19,
          19,
          20,
          20,
          20,
          21,
          21,
          21,
          21,
          21,
          21,
          22,
          22,
          23,
          23,
          24,
          25,
          26,
          27,
          27,
          27,
          27,
          28,
          28,
          29,
          29,
          30,
          30,
          30,
          30,
          30,
          32,
          32,
          32,
          32,
          32,
          33,
          33,
          33,
          33,
          33,
          33,
          33,
          34,
          34,
          34,
          35,
          35,
          35,
          35,
          35,
          36,
          36,
          36,
          36,
          37,
          37,
          37,
          37,
          37,
          38,
          38,
          38,
          38,
          38,
          39,
          39,
          40,
          41,
          41,
          41,
          42,
          42,
          42,
          42,
          43,
          43,
          45,
          45,
          45,
          45,
          46,
          47,
          47,
          47,
          47,
          47,
          48,
          48,
          48,
          48,
          48,
          49,
          49,
          49,
          50,
          50,
          50,
          50
         ],
         "xaxis": "x",
         "y": [
          206.60649014340507,
          202.37652351731245,
          202.37652351731245,
          202.37652351731245,
          202.37652351731245,
          198.1465568912198,
          198.1465568912198,
          198.1465568912198,
          193.91659026512718,
          193.91659026512718,
          193.91659026512718,
          189.68662363903456,
          189.68662363903456,
          189.68662363903456,
          189.68662363903456,
          189.68662363903456,
          185.45665701294195,
          185.45665701294195,
          185.45665701294195,
          181.2266903868493,
          181.2266903868493,
          181.2266903868493,
          181.2266903868493,
          181.2266903868493,
          176.99672376075665,
          176.99672376075665,
          172.76675713466403,
          172.76675713466403,
          168.5367905085714,
          168.5367905085714,
          168.5367905085714,
          164.3068238824788,
          164.3068238824788,
          164.3068238824788,
          160.07685725638615,
          160.07685725638615,
          160.07685725638615,
          160.07685725638615,
          160.07685725638615,
          160.07685725638615,
          155.84689063029353,
          155.84689063029353,
          151.61692400420088,
          151.61692400420088,
          147.38695737810826,
          143.15699075201564,
          138.927024125923,
          134.69705749983038,
          134.69705749983038,
          134.69705749983038,
          134.69705749983038,
          130.46709087373773,
          130.46709087373773,
          126.23712424764511,
          126.23712424764511,
          122.0071576215525,
          122.0071576215525,
          122.0071576215525,
          122.0071576215525,
          122.0071576215525,
          113.54722436936723,
          113.54722436936723,
          113.54722436936723,
          113.54722436936723,
          113.54722436936723,
          109.31725774327461,
          109.31725774327461,
          109.31725774327461,
          109.31725774327461,
          109.31725774327461,
          109.31725774327461,
          109.31725774327461,
          105.08729111718196,
          105.08729111718196,
          105.08729111718196,
          100.85732449108934,
          100.85732449108934,
          100.85732449108934,
          100.85732449108934,
          100.85732449108934,
          96.6273578649967,
          96.6273578649967,
          96.6273578649967,
          96.6273578649967,
          92.39739123890408,
          92.39739123890408,
          92.39739123890408,
          92.39739123890408,
          92.39739123890408,
          88.16742461281146,
          88.16742461281146,
          88.16742461281146,
          88.16742461281146,
          88.16742461281146,
          83.93745798671881,
          83.93745798671881,
          79.7074913606262,
          75.47752473453357,
          75.47752473453357,
          75.47752473453357,
          71.24755810844093,
          71.24755810844093,
          71.24755810844093,
          71.24755810844093,
          67.01759148234831,
          67.01759148234831,
          58.55765823016304,
          58.55765823016304,
          58.55765823016304,
          58.55765823016304,
          54.327691604070424,
          50.09772497797778,
          50.09772497797778,
          50.09772497797778,
          50.09772497797778,
          50.09772497797778,
          45.86775835188516,
          45.86775835188516,
          45.86775835188516,
          45.86775835188516,
          45.86775835188516,
          41.63779172579254,
          41.63779172579254,
          41.63779172579254,
          37.40782509969989,
          37.40782509969989,
          37.40782509969989,
          37.40782509969989
         ],
         "yaxis": "y"
        }
       ],
       "layout": {
        "legend": {
         "title": {
          "text": "Marketing_Channel"
         },
         "tracegroupgap": 0
        },
        "template": {
         "data": {
          "bar": [
           {
            "error_x": {
             "color": "#2a3f5f"
            },
            "error_y": {
             "color": "#2a3f5f"
            },
            "marker": {
             "line": {
              "color": "white",
              "width": 0.5
             },
             "pattern": {
              "fillmode": "overlay",
              "size": 10,
              "solidity": 0.2
             }
            },
            "type": "bar"
           }
          ],
          "barpolar": [
           {
            "marker": {
             "line": {
              "color": "white",
              "width": 0.5
             },
             "pattern": {
              "fillmode": "overlay",
              "size": 10,
              "solidity": 0.2
             }
            },
            "type": "barpolar"
           }
          ],
          "carpet": [
           {
            "aaxis": {
             "endlinecolor": "#2a3f5f",
             "gridcolor": "#C8D4E3",
             "linecolor": "#C8D4E3",
             "minorgridcolor": "#C8D4E3",
             "startlinecolor": "#2a3f5f"
            },
            "baxis": {
             "endlinecolor": "#2a3f5f",
             "gridcolor": "#C8D4E3",
             "linecolor": "#C8D4E3",
             "minorgridcolor": "#C8D4E3",
             "startlinecolor": "#2a3f5f"
            },
            "type": "carpet"
           }
          ],
          "choropleth": [
           {
            "colorbar": {
             "outlinewidth": 0,
             "ticks": ""
            },
            "type": "choropleth"
           }
          ],
          "contour": [
           {
            "colorbar": {
             "outlinewidth": 0,
             "ticks": ""
            },
            "colorscale": [
             [
              0,
              "#0d0887"
             ],
             [
              0.1111111111111111,
              "#46039f"
             ],
             [
              0.2222222222222222,
              "#7201a8"
             ],
             [
              0.3333333333333333,
              "#9c179e"
             ],
             [
              0.4444444444444444,
              "#bd3786"
             ],
             [
              0.5555555555555556,
              "#d8576b"
             ],
             [
              0.6666666666666666,
              "#ed7953"
             ],
             [
              0.7777777777777778,
              "#fb9f3a"
             ],
             [
              0.8888888888888888,
              "#fdca26"
             ],
             [
              1,
              "#f0f921"
             ]
            ],
            "type": "contour"
           }
          ],
          "contourcarpet": [
           {
            "colorbar": {
             "outlinewidth": 0,
             "ticks": ""
            },
            "type": "contourcarpet"
           }
          ],
          "heatmap": [
           {
            "colorbar": {
             "outlinewidth": 0,
             "ticks": ""
            },
            "colorscale": [
             [
              0,
              "#0d0887"
             ],
             [
              0.1111111111111111,
              "#46039f"
             ],
             [
              0.2222222222222222,
              "#7201a8"
             ],
             [
              0.3333333333333333,
              "#9c179e"
             ],
             [
              0.4444444444444444,
              "#bd3786"
             ],
             [
              0.5555555555555556,
              "#d8576b"
             ],
             [
              0.6666666666666666,
              "#ed7953"
             ],
             [
              0.7777777777777778,
              "#fb9f3a"
             ],
             [
              0.8888888888888888,
              "#fdca26"
             ],
             [
              1,
              "#f0f921"
             ]
            ],
            "type": "heatmap"
           }
          ],
          "heatmapgl": [
           {
            "colorbar": {
             "outlinewidth": 0,
             "ticks": ""
            },
            "colorscale": [
             [
              0,
              "#0d0887"
             ],
             [
              0.1111111111111111,
              "#46039f"
             ],
             [
              0.2222222222222222,
              "#7201a8"
             ],
             [
              0.3333333333333333,
              "#9c179e"
             ],
             [
              0.4444444444444444,
              "#bd3786"
             ],
             [
              0.5555555555555556,
              "#d8576b"
             ],
             [
              0.6666666666666666,
              "#ed7953"
             ],
             [
              0.7777777777777778,
              "#fb9f3a"
             ],
             [
              0.8888888888888888,
              "#fdca26"
             ],
             [
              1,
              "#f0f921"
             ]
            ],
            "type": "heatmapgl"
           }
          ],
          "histogram": [
           {
            "marker": {
             "pattern": {
              "fillmode": "overlay",
              "size": 10,
              "solidity": 0.2
             }
            },
            "type": "histogram"
           }
          ],
          "histogram2d": [
           {
            "colorbar": {
             "outlinewidth": 0,
             "ticks": ""
            },
            "colorscale": [
             [
              0,
              "#0d0887"
             ],
             [
              0.1111111111111111,
              "#46039f"
             ],
             [
              0.2222222222222222,
              "#7201a8"
             ],
             [
              0.3333333333333333,
              "#9c179e"
             ],
             [
              0.4444444444444444,
              "#bd3786"
             ],
             [
              0.5555555555555556,
              "#d8576b"
             ],
             [
              0.6666666666666666,
              "#ed7953"
             ],
             [
              0.7777777777777778,
              "#fb9f3a"
             ],
             [
              0.8888888888888888,
              "#fdca26"
             ],
             [
              1,
              "#f0f921"
             ]
            ],
            "type": "histogram2d"
           }
          ],
          "histogram2dcontour": [
           {
            "colorbar": {
             "outlinewidth": 0,
             "ticks": ""
            },
            "colorscale": [
             [
              0,
              "#0d0887"
             ],
             [
              0.1111111111111111,
              "#46039f"
             ],
             [
              0.2222222222222222,
              "#7201a8"
             ],
             [
              0.3333333333333333,
              "#9c179e"
             ],
             [
              0.4444444444444444,
              "#bd3786"
             ],
             [
              0.5555555555555556,
              "#d8576b"
             ],
             [
              0.6666666666666666,
              "#ed7953"
             ],
             [
              0.7777777777777778,
              "#fb9f3a"
             ],
             [
              0.8888888888888888,
              "#fdca26"
             ],
             [
              1,
              "#f0f921"
             ]
            ],
            "type": "histogram2dcontour"
           }
          ],
          "mesh3d": [
           {
            "colorbar": {
             "outlinewidth": 0,
             "ticks": ""
            },
            "type": "mesh3d"
           }
          ],
          "parcoords": [
           {
            "line": {
             "colorbar": {
              "outlinewidth": 0,
              "ticks": ""
             }
            },
            "type": "parcoords"
           }
          ],
          "pie": [
           {
            "automargin": true,
            "type": "pie"
           }
          ],
          "scatter": [
           {
            "fillpattern": {
             "fillmode": "overlay",
             "size": 10,
             "solidity": 0.2
            },
            "type": "scatter"
           }
          ],
          "scatter3d": [
           {
            "line": {
             "colorbar": {
              "outlinewidth": 0,
              "ticks": ""
             }
            },
            "marker": {
             "colorbar": {
              "outlinewidth": 0,
              "ticks": ""
             }
            },
            "type": "scatter3d"
           }
          ],
          "scattercarpet": [
           {
            "marker": {
             "colorbar": {
              "outlinewidth": 0,
              "ticks": ""
             }
            },
            "type": "scattercarpet"
           }
          ],
          "scattergeo": [
           {
            "marker": {
             "colorbar": {
              "outlinewidth": 0,
              "ticks": ""
             }
            },
            "type": "scattergeo"
           }
          ],
          "scattergl": [
           {
            "marker": {
             "colorbar": {
              "outlinewidth": 0,
              "ticks": ""
             }
            },
            "type": "scattergl"
           }
          ],
          "scattermapbox": [
           {
            "marker": {
             "colorbar": {
              "outlinewidth": 0,
              "ticks": ""
             }
            },
            "type": "scattermapbox"
           }
          ],
          "scatterpolar": [
           {
            "marker": {
             "colorbar": {
              "outlinewidth": 0,
              "ticks": ""
             }
            },
            "type": "scatterpolar"
           }
          ],
          "scatterpolargl": [
           {
            "marker": {
             "colorbar": {
              "outlinewidth": 0,
              "ticks": ""
             }
            },
            "type": "scatterpolargl"
           }
          ],
          "scatterternary": [
           {
            "marker": {
             "colorbar": {
              "outlinewidth": 0,
              "ticks": ""
             }
            },
            "type": "scatterternary"
           }
          ],
          "surface": [
           {
            "colorbar": {
             "outlinewidth": 0,
             "ticks": ""
            },
            "colorscale": [
             [
              0,
              "#0d0887"
             ],
             [
              0.1111111111111111,
              "#46039f"
             ],
             [
              0.2222222222222222,
              "#7201a8"
             ],
             [
              0.3333333333333333,
              "#9c179e"
             ],
             [
              0.4444444444444444,
              "#bd3786"
             ],
             [
              0.5555555555555556,
              "#d8576b"
             ],
             [
              0.6666666666666666,
              "#ed7953"
             ],
             [
              0.7777777777777778,
              "#fb9f3a"
             ],
             [
              0.8888888888888888,
              "#fdca26"
             ],
             [
              1,
              "#f0f921"
             ]
            ],
            "type": "surface"
           }
          ],
          "table": [
           {
            "cells": {
             "fill": {
              "color": "#EBF0F8"
             },
             "line": {
              "color": "white"
             }
            },
            "header": {
             "fill": {
              "color": "#C8D4E3"
             },
             "line": {
              "color": "white"
             }
            },
            "type": "table"
           }
          ]
         },
         "layout": {
          "annotationdefaults": {
           "arrowcolor": "#2a3f5f",
           "arrowhead": 0,
           "arrowwidth": 1
          },
          "autotypenumbers": "strict",
          "coloraxis": {
           "colorbar": {
            "outlinewidth": 0,
            "ticks": ""
           }
          },
          "colorscale": {
           "diverging": [
            [
             0,
             "#8e0152"
            ],
            [
             0.1,
             "#c51b7d"
            ],
            [
             0.2,
             "#de77ae"
            ],
            [
             0.3,
             "#f1b6da"
            ],
            [
             0.4,
             "#fde0ef"
            ],
            [
             0.5,
             "#f7f7f7"
            ],
            [
             0.6,
             "#e6f5d0"
            ],
            [
             0.7,
             "#b8e186"
            ],
            [
             0.8,
             "#7fbc41"
            ],
            [
             0.9,
             "#4d9221"
            ],
            [
             1,
             "#276419"
            ]
           ],
           "sequential": [
            [
             0,
             "#0d0887"
            ],
            [
             0.1111111111111111,
             "#46039f"
            ],
            [
             0.2222222222222222,
             "#7201a8"
            ],
            [
             0.3333333333333333,
             "#9c179e"
            ],
            [
             0.4444444444444444,
             "#bd3786"
            ],
            [
             0.5555555555555556,
             "#d8576b"
            ],
            [
             0.6666666666666666,
             "#ed7953"
            ],
            [
             0.7777777777777778,
             "#fb9f3a"
            ],
            [
             0.8888888888888888,
             "#fdca26"
            ],
            [
             1,
             "#f0f921"
            ]
           ],
           "sequentialminus": [
            [
             0,
             "#0d0887"
            ],
            [
             0.1111111111111111,
             "#46039f"
            ],
            [
             0.2222222222222222,
             "#7201a8"
            ],
            [
             0.3333333333333333,
             "#9c179e"
            ],
            [
             0.4444444444444444,
             "#bd3786"
            ],
            [
             0.5555555555555556,
             "#d8576b"
            ],
            [
             0.6666666666666666,
             "#ed7953"
            ],
            [
             0.7777777777777778,
             "#fb9f3a"
            ],
            [
             0.8888888888888888,
             "#fdca26"
            ],
            [
             1,
             "#f0f921"
            ]
           ]
          },
          "colorway": [
           "#636efa",
           "#EF553B",
           "#00cc96",
           "#ab63fa",
           "#FFA15A",
           "#19d3f3",
           "#FF6692",
           "#B6E880",
           "#FF97FF",
           "#FECB52"
          ],
          "font": {
           "color": "#2a3f5f"
          },
          "geo": {
           "bgcolor": "white",
           "lakecolor": "white",
           "landcolor": "white",
           "showlakes": true,
           "showland": true,
           "subunitcolor": "#C8D4E3"
          },
          "hoverlabel": {
           "align": "left"
          },
          "hovermode": "closest",
          "mapbox": {
           "style": "light"
          },
          "paper_bgcolor": "white",
          "plot_bgcolor": "white",
          "polar": {
           "angularaxis": {
            "gridcolor": "#EBF0F8",
            "linecolor": "#EBF0F8",
            "ticks": ""
           },
           "bgcolor": "white",
           "radialaxis": {
            "gridcolor": "#EBF0F8",
            "linecolor": "#EBF0F8",
            "ticks": ""
           }
          },
          "scene": {
           "xaxis": {
            "backgroundcolor": "white",
            "gridcolor": "#DFE8F3",
            "gridwidth": 2,
            "linecolor": "#EBF0F8",
            "showbackground": true,
            "ticks": "",
            "zerolinecolor": "#EBF0F8"
           },
           "yaxis": {
            "backgroundcolor": "white",
            "gridcolor": "#DFE8F3",
            "gridwidth": 2,
            "linecolor": "#EBF0F8",
            "showbackground": true,
            "ticks": "",
            "zerolinecolor": "#EBF0F8"
           },
           "zaxis": {
            "backgroundcolor": "white",
            "gridcolor": "#DFE8F3",
            "gridwidth": 2,
            "linecolor": "#EBF0F8",
            "showbackground": true,
            "ticks": "",
            "zerolinecolor": "#EBF0F8"
           }
          },
          "shapedefaults": {
           "line": {
            "color": "#2a3f5f"
           }
          },
          "ternary": {
           "aaxis": {
            "gridcolor": "#DFE8F3",
            "linecolor": "#A2B1C6",
            "ticks": ""
           },
           "baxis": {
            "gridcolor": "#DFE8F3",
            "linecolor": "#A2B1C6",
            "ticks": ""
           },
           "bgcolor": "white",
           "caxis": {
            "gridcolor": "#DFE8F3",
            "linecolor": "#A2B1C6",
            "ticks": ""
           }
          },
          "title": {
           "x": 0.05
          },
          "xaxis": {
           "automargin": true,
           "gridcolor": "#EBF0F8",
           "linecolor": "#EBF0F8",
           "ticks": "",
           "title": {
            "standoff": 15
           },
           "zerolinecolor": "#EBF0F8",
           "zerolinewidth": 2
          },
          "yaxis": {
           "automargin": true,
           "gridcolor": "#EBF0F8",
           "linecolor": "#EBF0F8",
           "ticks": "",
           "title": {
            "standoff": 15
           },
           "zerolinecolor": "#EBF0F8",
           "zerolinewidth": 2
          }
         }
        },
        "title": {
         "text": "CAC vs New Customers by Channel",
         "x": 0.5
        },
        "xaxis": {
         "anchor": "y",
         "domain": [
          0,
          1
         ],
         "title": {
          "text": "New Customers"
         }
        },
        "yaxis": {
         "anchor": "x",
         "domain": [
          0,
          1
         ],
         "tickformat": ".2f",
         "title": {
          "text": "CAC (INR)"
         }
        }
       }
      }
     },
     "metadata": {},
     "output_type": "display_data"
    }
   ],
   "source": [
    "fig2 = px.scatter(df_sorted, x='New_Customers', y='CAC', color='Marketing_Channel',\n",
    "                  title='CAC vs New Customers by Channel', trendline='ols',\n",
    "                  labels={'CAC': 'CAC (INR)', 'New_Customers': 'New Customers'},\n",
    "                  color_discrete_sequence=px.colors.qualitative.Set2,\n",
    "                  hover_data=['CAC', 'New_Customers', 'Marketing_Spend'])\n",
    "fig2.update_traces(marker=dict(size=8, opacity=0.8, line=dict(width=1, color='DarkSlateGrey')),\n",
    "                   text=df_sorted['CAC'].round(2).astype(str), textposition='top center')\n",
    "fig2.update_layout(xaxis_title='New Customers', yaxis_title='CAC (INR)', \n",
    "                   title_x=0.5, yaxis=dict(tickformat=\".2f\"))\n",
    "fig2.show()"
   ]
  },
  {
   "cell_type": "markdown",
   "metadata": {},
   "source": [
    "# New Customers Acquisition Cost vs Marketing_Spend  by Marketing_Channel"
   ]
  },
  {
   "cell_type": "code",
   "execution_count": 9,
   "metadata": {},
   "outputs": [
    {
     "data": {
      "application/vnd.plotly.v1+json": {
       "config": {
        "plotlyServerURL": "https://plot.ly"
       },
       "data": [
        {
         "customdata": [
          [
           11
          ],
          [
           13
          ],
          [
           15
          ],
          [
           11
          ],
          [
           14
          ],
          [
           16
          ],
          [
           16
          ],
          [
           16
          ],
          [
           13
          ],
          [
           15
          ],
          [
           19
          ],
          [
           12
          ],
          [
           19
          ],
          [
           16
          ],
          [
           19
          ],
          [
           20
          ],
          [
           18
          ],
          [
           22
          ],
          [
           20
          ],
          [
           18
          ],
          [
           15
          ],
          [
           25
          ],
          [
           15
          ],
          [
           17
          ],
          [
           27
          ],
          [
           23
          ],
          [
           23
          ],
          [
           28
          ],
          [
           26
          ],
          [
           28
          ],
          [
           31
          ],
          [
           31
          ],
          [
           16
          ],
          [
           31
          ],
          [
           13
          ],
          [
           19
          ],
          [
           31
          ],
          [
           33
          ],
          [
           34
          ],
          [
           20
          ],
          [
           18
          ],
          [
           19
          ],
          [
           17
          ],
          [
           11
          ],
          [
           15
          ],
          [
           35
          ],
          [
           13
          ],
          [
           42
          ],
          [
           19
          ],
          [
           38
          ],
          [
           38
          ],
          [
           31
          ],
          [
           38
          ],
          [
           46
          ],
          [
           39
          ],
          [
           40
          ],
          [
           36
          ],
          [
           36
          ],
          [
           47
          ],
          [
           37
          ],
          [
           42
          ],
          [
           32
          ],
          [
           40
          ],
          [
           26
          ],
          [
           28
          ],
          [
           30
          ],
          [
           20
          ],
          [
           48
          ],
          [
           38
          ],
          [
           49
          ],
          [
           31
          ],
          [
           30
          ],
          [
           42
          ],
          [
           45
          ],
          [
           49
          ],
          [
           35
          ],
          [
           44
          ],
          [
           34
          ],
          [
           43
          ],
          [
           46
          ],
          [
           17
          ],
          [
           49
          ],
          [
           39
          ],
          [
           45
          ],
          [
           45
          ],
          [
           48
          ],
          [
           26
          ],
          [
           43
          ],
          [
           30
          ],
          [
           39
          ],
          [
           18
          ],
          [
           17
          ],
          [
           46
          ],
          [
           33
          ],
          [
           43
          ],
          [
           47
          ],
          [
           45
          ],
          [
           37
          ],
          [
           20
          ],
          [
           44
          ],
          [
           35
          ],
          [
           40
          ],
          [
           45
          ],
          [
           35
          ],
          [
           48
          ],
          [
           35
          ],
          [
           46
          ],
          [
           43
          ],
          [
           36
          ],
          [
           43
          ],
          [
           48
          ],
          [
           36
          ],
          [
           45
          ],
          [
           31
          ],
          [
           39
          ],
          [
           45
          ],
          [
           47
          ],
          [
           48
          ]
         ],
         "hovertemplate": "Marketing_Channel=Social Media<br>Marketing Spend (INR)=%{x}<br>CAC (INR)=%{y}<br>New_Customers=%{customdata[0]}<extra></extra>",
         "legendgroup": "Social Media",
         "marker": {
          "color": "rgb(228,26,28)",
          "line": {
           "color": "DarkSlateGrey",
           "width": 1
          },
          "opacity": 0.8,
          "size": 8,
          "symbol": "circle"
         },
         "mode": "markers",
         "name": "Social Media",
         "orientation": "v",
         "showlegend": true,
         "text": [
          "435.49",
          "434.38",
          "427.72",
          "386.75",
          "372.9",
          "366.53",
          "364.37",
          "362.88",
          "362.78",
          "360.6",
          "351.66",
          "345.35",
          "344.52",
          "337.22",
          "332.9",
          "331.91",
          "331.38",
          "322.03",
          "315.64",
          "314.78",
          "314.23",
          "314.05",
          "312.25",
          "310.73",
          "309.18",
          "306.07",
          "303.87",
          "296.93",
          "295.58",
          "292.14",
          "292.08",
          "290.71",
          "288.43",
          "280.36",
          "280.21",
          "280.06",
          "266.88",
          "264.61",
          "256.79",
          "254.09",
          "249.32",
          "248.86",
          "248.49",
          "247.36",
          "247.14",
          "240.16",
          "237.75",
          "237.06",
          "235.47",
          "234.8",
          "233.72",
          "233.08",
          "231.13",
          "230.13",
          "227.99",
          "227.34",
          "225.19",
          "223.68",
          "223.47",
          "222.47",
          "222.03",
          "221.7",
          "220.53",
          "218.06",
          "217.72",
          "217.38",
          "217.32",
          "216.5",
          "213.56",
          "212.51",
          "209.85",
          "207.57",
          "206.02",
          "205.07",
          "204.95",
          "203.91",
          "201.71",
          "201.38",
          "200.43",
          "199.94",
          "199.5",
          "199.38",
          "199.19",
          "198.1",
          "196.62",
          "196.47",
          "195.72",
          "195.6",
          "193.82",
          "193.23",
          "191.36",
          "190.72",
          "189.86",
          "189.56",
          "189.46",
          "188.51",
          "187.74",
          "187.5",
          "187.12",
          "184.28",
          "182.65",
          "182.27",
          "180.97",
          "180.43",
          "179.41",
          "179.34",
          "178.69",
          "178.56",
          "176.45",
          "175.71",
          "175.08",
          "174.65",
          "174.65",
          "174.64",
          "173.73",
          "172.09",
          "171.51",
          "171.42",
          "171.39",
          "171.36",
          "170.38",
          "169.53",
          "168.03",
          "165.94",
          "165.66",
          "165.63",
          "164.53",
          "160.29",
          "159.45",
          "159.11",
          "158.34",
          "158.27",
          "156.45",
          "156.06",
          "155.04",
          "151.84",
          "150.49",
          "149.85",
          "149.3",
          "148.54",
          "148.06",
          "147.91",
          "146.92",
          "145.63",
          "144.62",
          "144.28",
          "143.55",
          "143.51",
          "143.21",
          "143.01",
          "142.21",
          "141.9",
          "141.52",
          "140.1",
          "138.91",
          "138.47",
          "137.9",
          "137.2",
          "136.27",
          "136.22",
          "134.19",
          "134.17",
          "133.98",
          "133.89",
          "133.71",
          "133.39",
          "132.23",
          "131.95",
          "131.91",
          "131.57",
          "129.4",
          "129.23",
          "129.21",
          "129.08",
          "127.39",
          "126.92",
          "126.86",
          "126.81",
          "126.73",
          "126.66",
          "126.36",
          "126.25",
          "125.99",
          "125.57",
          "124.94",
          "124.18",
          "123.11",
          "122.47",
          "122.08",
          "121.97",
          "120.96",
          "120.38",
          "119.19",
          "118.8",
          "118.67",
          "118.17",
          "117.9",
          "117.51",
          "116.95",
          "116.86",
          "116.25",
          "115.92",
          "115.63",
          "115.6",
          "115.53",
          "114.21",
          "113.76",
          "113.7",
          "113.32",
          "113.23",
          "113.13",
          "113.04",
          "113.02",
          "111.39",
          "111.27",
          "110.87",
          "110.81",
          "110.65",
          "110.55",
          "110.5",
          "110.42",
          "110.09",
          "110.03",
          "109.14",
          "108.6",
          "108.16",
          "107.95",
          "107.85",
          "107.83",
          "107.47",
          "107.24",
          "106.49",
          "106.36",
          "105.79",
          "105.78",
          "105.28",
          "104.87",
          "104.51",
          "104.51",
          "103.99",
          "103.94",
          "103.76",
          "103.31",
          "102.83",
          "102.8",
          "102.28",
          "102.03",
          "101.98",
          "101.8",
          "101.59",
          "101.48",
          "100.85",
          "100.44",
          "100.32",
          "100.16",
          "100.02",
          "99.92",
          "99.75",
          "99.74",
          "99.66",
          "99.59",
          "99.49",
          "99.05",
          "98.9",
          "98.62",
          "98.58",
          "97.04",
          "96.88",
          "96.57",
          "96.04",
          "95.81",
          "95.73",
          "95.68",
          "95.39",
          "94.72",
          "94.66",
          "94.27",
          "94.19",
          "94.16",
          "94.16",
          "93.03",
          "92.83",
          "92.38",
          "92.35",
          "92.26",
          "91.8",
          "91.75",
          "91.69",
          "91.41",
          "90.33",
          "90.23",
          "89.97",
          "89.92",
          "89.72",
          "89.52",
          "89.37",
          "89.26",
          "88.36",
          "88.27",
          "88.2",
          "87.88",
          "87.81",
          "87.71",
          "87.67",
          "87.38",
          "87.26",
          "86.88",
          "86.8",
          "86.63",
          "86.31",
          "86.26",
          "86.17",
          "85.84",
          "85.26",
          "84.58",
          "83.87",
          "83.66",
          "83.64",
          "83.21",
          "82.8",
          "82.61",
          "82.45",
          "82.06",
          "81.79",
          "81.75",
          "81.6",
          "81.27",
          "81.2",
          "81.01",
          "80.9",
          "80.42",
          "80.01",
          "79.92",
          "79.61",
          "79.58",
          "79.42",
          "79.38",
          "79.21",
          "79.19",
          "78.72",
          "78.34",
          "78.02",
          "77.75",
          "77.74",
          "77.33",
          "76.75",
          "76.73",
          "76.47",
          "76.24",
          "75.98",
          "75.27",
          "74.93",
          "74.66",
          "74.45",
          "74.39",
          "74.09",
          "73.79",
          "73.49",
          "73.1",
          "72.85",
          "72.57",
          "72.44",
          "72.42",
          "72.0",
          "71.79",
          "71.43",
          "71.41",
          "71.27",
          "71.17",
          "70.91",
          "70.66",
          "70.35",
          "69.86",
          "68.65",
          "68.57",
          "66.02",
          "65.86",
          "65.54",
          "65.46",
          "65.44",
          "65.26",
          "64.81",
          "64.79",
          "64.53",
          "64.52",
          "64.2",
          "63.87",
          "63.47",
          "63.33",
          "63.28",
          "62.95",
          "62.87",
          "61.96",
          "61.72",
          "61.38",
          "61.38",
          "61.35",
          "61.21",
          "60.83",
          "60.13",
          "59.86",
          "59.52",
          "59.43",
          "59.22",
          "59.2",
          "59.1",
          "58.94",
          "58.73",
          "58.55",
          "58.37",
          "58.35",
          "57.98",
          "57.3",
          "57.28",
          "57.18",
          "57.14",
          "56.92",
          "56.88",
          "56.67",
          "56.43",
          "56.42",
          "56.22",
          "55.92",
          "55.75",
          "55.55",
          "55.41",
          "55.0",
          "53.52",
          "53.1",
          "52.78",
          "52.65",
          "52.5",
          "52.43",
          "52.32",
          "52.01",
          "50.74",
          "50.01",
          "49.88",
          "49.85",
          "49.04",
          "49.03",
          "48.69",
          "48.36",
          "48.26",
          "48.01",
          "47.89",
          "47.61",
          "47.57",
          "47.36",
          "47.34",
          "47.09",
          "46.79",
          "46.65",
          "46.58",
          "46.54",
          "46.52",
          "46.4",
          "46.21",
          "46.15",
          "44.98",
          "44.8",
          "44.79",
          "44.5",
          "43.82",
          "42.89",
          "42.63",
          "41.96",
          "41.67",
          "41.46",
          "40.17",
          "40.07",
          "39.98",
          "39.69",
          "39.51",
          "38.12",
          "37.99",
          "36.52",
          "35.48",
          "34.94",
          "34.72",
          "33.83",
          "33.57",
          "33.53",
          "33.34",
          "32.79",
          "32.6",
          "31.85",
          "31.02",
          "30.74",
          "30.09",
          "29.44",
          "28.81",
          "28.44",
          "26.32",
          "25.58",
          "24.78",
          "23.49",
          "23.46",
          "22.01",
          "21.62"
         ],
         "textposition": "top center",
         "type": "scatter",
         "x": [
          4790.360801301512,
          4314.829244009833,
          4970.76817450759,
          3542.340424405784,
          4406.852640077328,
          4897.179724410951,
          4861.89492495231,
          4651.316064094219,
          3338.2403666086643,
          3710.4435427963176,
          4473.844789051776,
          2735.885887692503,
          4218.532307900585,
          3483.5646525212164,
          4037.607237337455,
          4151.312106586925,
          3691.313527495015,
          4409.365346263572,
          3989.923459753486,
          3585.3624355620914,
          2933.9900155327846,
          4783.896343117729,
          2816.125305628173,
          3035.4880602780468,
          4764.254387072413,
          4016.932816238105,
          3995.830888278493,
          4802.220679405707,
          4456.107737714352,
          4770.704962976163,
          4906.428091532227,
          4806.086101524238,
          2388.815061233796,
          4604.837694395532,
          1909.9326539302187,
          2766.9191344152578,
          4483.35839457942,
          4761.1675671182165,
          4869.078989200129,
          2802.0148184708096,
          2482.119834937742,
          2534.3440529886,
          2154.442353223367,
          1388.7679944872864,
          1831.1516232942051,
          4171.73147252927,
          1542.656194825346,
          4911.77793830745,
          2208.760698117001,
          4295.42140556179,
          4232.796875227024,
          3425.6259723058984,
          4102.177900397035,
          4960.125041867192,
          4191.3294273123865,
          4289.669204907097,
          3762.4576637319215,
          3762.437357786092,
          4876.814522296869,
          3754.711964848375,
          4218.350576082248,
          3205.0603075218787,
          3983.741746854439,
          2586.6177660665094,
          2761.2248390827085,
          2957.388151158458,
          1885.46880029596,
          4521.2799190329015,
          3534.991315123165,
          4526.524736011088,
          2845.791576715133,
          2742.297972015577,
          3789.6695716407776,
          4048.758437936412,
          4321.89047826959,
          3058.385009316421,
          3797.859884984604,
          2932.8322442368644,
          3636.726161267015,
          3827.823319516133,
          1407.605221783906,
          4039.962144244068,
          3200.3864358871315,
          3680.534038084742,
          3600.5763729995,
          3811.950232374869,
          2021.306832636616,
          3299.2477207145803,
          2258.068628680672,
          2877.962403938928,
          1303.9859113722398,
          1201.1385339545102,
          3154.322310815495,
          2173.4711038608352,
          2774.714206646823,
          3001.8887084717026,
          2761.875192544041,
          2224.824120520353,
          1183.963874708851,
          2576.081025358819,
          2001.471609648016,
          2266.6446157335986,
          2538.7729958693817,
          1957.1898493106012,
          2659.769694205381,
          1750.3301655781083,
          2293.0951451039787,
          2093.6995868530967,
          1663.691156882899,
          1844.100781221572,
          2000.392897630805,
          1372.2134022186867,
          1572.4708805140383,
          1010.702890411543,
          1148.0784453823048,
          1296.328681022559,
          1102.713701989864,
          1037.589725819484
         ],
         "xaxis": "x",
         "y": [
          435.48734557286474,
          331.9099418469102,
          331.38454496717264,
          322.0309476732531,
          314.775188576952,
          306.07373277568445,
          303.8684328095194,
          290.7072540058887,
          256.7877205083588,
          247.36290285308783,
          235.4655152132514,
          227.9904906410419,
          222.02801620529394,
          217.72279078257603,
          212.50564407039238,
          207.56560532934628,
          205.07297374972305,
          200.4256975574351,
          199.4961729876743,
          199.18680197567176,
          195.5993343688523,
          191.35585372470916,
          187.7416870418782,
          178.5581211928263,
          176.45386618786713,
          174.6492528799176,
          173.73177775123884,
          171.5078814073467,
          171.3887591428597,
          170.38232010629153,
          158.27187392039443,
          155.03503553303995,
          149.30094132711224,
          148.54315143211392,
          146.91789645617067,
          145.62732286396093,
          144.62446434127162,
          144.27780506418839,
          143.2082055647097,
          140.10074092354049,
          137.8955463854301,
          133.38652910466317,
          126.73190313078628,
          126.25163586248058,
          122.07677488628035,
          119.19232778655056,
          118.66586114041122,
          116.947093769225,
          116.25056305878952,
          113.0374054095208,
          111.38939145334275,
          110.50406362277091,
          107.95205001044829,
          107.82880525798242,
          107.46998531570222,
          107.24173012267742,
          104.51271288144227,
          104.51214882739144,
          103.76201111269934,
          101.47870175265878,
          100.43691847814877,
          100.15813461005871,
          99.59354367136098,
          99.48529869486575,
          98.61517282438244,
          98.57960503861527,
          94.273440014798,
          94.19333164651879,
          93.02608724008329,
          92.37805583696098,
          91.79972828113333,
          91.40993240051924,
          90.23022789620899,
          89.97240973192027,
          88.20184649529776,
          87.38242883761203,
          86.31499738601373,
          86.25977188931954,
          84.57502700620965,
          83.21355042426376,
          82.80030716375917,
          82.44820702538914,
          82.0611906637726,
          81.78964529077204,
          80.01280828887778,
          79.4156298411431,
          77.7425704860237,
          76.72669117940885,
          75.26895428935573,
          73.79390779330585,
          72.44366174290221,
          70.65520787967706,
          68.57222414816293,
          65.86276072305562,
          64.52823736387961,
          63.86997252067452,
          61.37500427875647,
          60.13038163568522,
          59.19819373544256,
          58.547296030882244,
          57.18490313280046,
          56.666115393339965,
          56.41717768598626,
          55.91970998030289,
          55.411868629278764,
          50.00943330223166,
          49.849894458782146,
          48.690688066351086,
          46.21364324674719,
          42.88606467957145,
          41.67485203397511,
          38.117038950519074,
          34.943797344756405,
          32.603319045533645,
          29.437908855956533,
          28.807304022723535,
          23.461993659358807,
          21.61645262123925
         ],
         "yaxis": "y"
        },
        {
         "hovertemplate": "<b>OLS trendline</b><br>CAC = 0.0385331 * Marketing_Spend + 1.06014<br>R<sup>2</sup>=0.328103<br><br>Marketing_Channel=Social Media<br>Marketing Spend (INR)=%{x}<br>CAC (INR)=%{y} <b>(trend)</b><extra></extra>",
         "legendgroup": "Social Media",
         "marker": {
          "color": "rgb(228,26,28)",
          "line": {
           "color": "DarkSlateGrey",
           "width": 1
          },
          "opacity": 0.8,
          "size": 8,
          "symbol": "circle"
         },
         "mode": "lines",
         "name": "Social Media",
         "showlegend": false,
         "text": [
          "435.49",
          "434.38",
          "427.72",
          "386.75",
          "372.9",
          "366.53",
          "364.37",
          "362.88",
          "362.78",
          "360.6",
          "351.66",
          "345.35",
          "344.52",
          "337.22",
          "332.9",
          "331.91",
          "331.38",
          "322.03",
          "315.64",
          "314.78",
          "314.23",
          "314.05",
          "312.25",
          "310.73",
          "309.18",
          "306.07",
          "303.87",
          "296.93",
          "295.58",
          "292.14",
          "292.08",
          "290.71",
          "288.43",
          "280.36",
          "280.21",
          "280.06",
          "266.88",
          "264.61",
          "256.79",
          "254.09",
          "249.32",
          "248.86",
          "248.49",
          "247.36",
          "247.14",
          "240.16",
          "237.75",
          "237.06",
          "235.47",
          "234.8",
          "233.72",
          "233.08",
          "231.13",
          "230.13",
          "227.99",
          "227.34",
          "225.19",
          "223.68",
          "223.47",
          "222.47",
          "222.03",
          "221.7",
          "220.53",
          "218.06",
          "217.72",
          "217.38",
          "217.32",
          "216.5",
          "213.56",
          "212.51",
          "209.85",
          "207.57",
          "206.02",
          "205.07",
          "204.95",
          "203.91",
          "201.71",
          "201.38",
          "200.43",
          "199.94",
          "199.5",
          "199.38",
          "199.19",
          "198.1",
          "196.62",
          "196.47",
          "195.72",
          "195.6",
          "193.82",
          "193.23",
          "191.36",
          "190.72",
          "189.86",
          "189.56",
          "189.46",
          "188.51",
          "187.74",
          "187.5",
          "187.12",
          "184.28",
          "182.65",
          "182.27",
          "180.97",
          "180.43",
          "179.41",
          "179.34",
          "178.69",
          "178.56",
          "176.45",
          "175.71",
          "175.08",
          "174.65",
          "174.65",
          "174.64",
          "173.73",
          "172.09",
          "171.51",
          "171.42",
          "171.39",
          "171.36",
          "170.38",
          "169.53",
          "168.03",
          "165.94",
          "165.66",
          "165.63",
          "164.53",
          "160.29",
          "159.45",
          "159.11",
          "158.34",
          "158.27",
          "156.45",
          "156.06",
          "155.04",
          "151.84",
          "150.49",
          "149.85",
          "149.3",
          "148.54",
          "148.06",
          "147.91",
          "146.92",
          "145.63",
          "144.62",
          "144.28",
          "143.55",
          "143.51",
          "143.21",
          "143.01",
          "142.21",
          "141.9",
          "141.52",
          "140.1",
          "138.91",
          "138.47",
          "137.9",
          "137.2",
          "136.27",
          "136.22",
          "134.19",
          "134.17",
          "133.98",
          "133.89",
          "133.71",
          "133.39",
          "132.23",
          "131.95",
          "131.91",
          "131.57",
          "129.4",
          "129.23",
          "129.21",
          "129.08",
          "127.39",
          "126.92",
          "126.86",
          "126.81",
          "126.73",
          "126.66",
          "126.36",
          "126.25",
          "125.99",
          "125.57",
          "124.94",
          "124.18",
          "123.11",
          "122.47",
          "122.08",
          "121.97",
          "120.96",
          "120.38",
          "119.19",
          "118.8",
          "118.67",
          "118.17",
          "117.9",
          "117.51",
          "116.95",
          "116.86",
          "116.25",
          "115.92",
          "115.63",
          "115.6",
          "115.53",
          "114.21",
          "113.76",
          "113.7",
          "113.32",
          "113.23",
          "113.13",
          "113.04",
          "113.02",
          "111.39",
          "111.27",
          "110.87",
          "110.81",
          "110.65",
          "110.55",
          "110.5",
          "110.42",
          "110.09",
          "110.03",
          "109.14",
          "108.6",
          "108.16",
          "107.95",
          "107.85",
          "107.83",
          "107.47",
          "107.24",
          "106.49",
          "106.36",
          "105.79",
          "105.78",
          "105.28",
          "104.87",
          "104.51",
          "104.51",
          "103.99",
          "103.94",
          "103.76",
          "103.31",
          "102.83",
          "102.8",
          "102.28",
          "102.03",
          "101.98",
          "101.8",
          "101.59",
          "101.48",
          "100.85",
          "100.44",
          "100.32",
          "100.16",
          "100.02",
          "99.92",
          "99.75",
          "99.74",
          "99.66",
          "99.59",
          "99.49",
          "99.05",
          "98.9",
          "98.62",
          "98.58",
          "97.04",
          "96.88",
          "96.57",
          "96.04",
          "95.81",
          "95.73",
          "95.68",
          "95.39",
          "94.72",
          "94.66",
          "94.27",
          "94.19",
          "94.16",
          "94.16",
          "93.03",
          "92.83",
          "92.38",
          "92.35",
          "92.26",
          "91.8",
          "91.75",
          "91.69",
          "91.41",
          "90.33",
          "90.23",
          "89.97",
          "89.92",
          "89.72",
          "89.52",
          "89.37",
          "89.26",
          "88.36",
          "88.27",
          "88.2",
          "87.88",
          "87.81",
          "87.71",
          "87.67",
          "87.38",
          "87.26",
          "86.88",
          "86.8",
          "86.63",
          "86.31",
          "86.26",
          "86.17",
          "85.84",
          "85.26",
          "84.58",
          "83.87",
          "83.66",
          "83.64",
          "83.21",
          "82.8",
          "82.61",
          "82.45",
          "82.06",
          "81.79",
          "81.75",
          "81.6",
          "81.27",
          "81.2",
          "81.01",
          "80.9",
          "80.42",
          "80.01",
          "79.92",
          "79.61",
          "79.58",
          "79.42",
          "79.38",
          "79.21",
          "79.19",
          "78.72",
          "78.34",
          "78.02",
          "77.75",
          "77.74",
          "77.33",
          "76.75",
          "76.73",
          "76.47",
          "76.24",
          "75.98",
          "75.27",
          "74.93",
          "74.66",
          "74.45",
          "74.39",
          "74.09",
          "73.79",
          "73.49",
          "73.1",
          "72.85",
          "72.57",
          "72.44",
          "72.42",
          "72.0",
          "71.79",
          "71.43",
          "71.41",
          "71.27",
          "71.17",
          "70.91",
          "70.66",
          "70.35",
          "69.86",
          "68.65",
          "68.57",
          "66.02",
          "65.86",
          "65.54",
          "65.46",
          "65.44",
          "65.26",
          "64.81",
          "64.79",
          "64.53",
          "64.52",
          "64.2",
          "63.87",
          "63.47",
          "63.33",
          "63.28",
          "62.95",
          "62.87",
          "61.96",
          "61.72",
          "61.38",
          "61.38",
          "61.35",
          "61.21",
          "60.83",
          "60.13",
          "59.86",
          "59.52",
          "59.43",
          "59.22",
          "59.2",
          "59.1",
          "58.94",
          "58.73",
          "58.55",
          "58.37",
          "58.35",
          "57.98",
          "57.3",
          "57.28",
          "57.18",
          "57.14",
          "56.92",
          "56.88",
          "56.67",
          "56.43",
          "56.42",
          "56.22",
          "55.92",
          "55.75",
          "55.55",
          "55.41",
          "55.0",
          "53.52",
          "53.1",
          "52.78",
          "52.65",
          "52.5",
          "52.43",
          "52.32",
          "52.01",
          "50.74",
          "50.01",
          "49.88",
          "49.85",
          "49.04",
          "49.03",
          "48.69",
          "48.36",
          "48.26",
          "48.01",
          "47.89",
          "47.61",
          "47.57",
          "47.36",
          "47.34",
          "47.09",
          "46.79",
          "46.65",
          "46.58",
          "46.54",
          "46.52",
          "46.4",
          "46.21",
          "46.15",
          "44.98",
          "44.8",
          "44.79",
          "44.5",
          "43.82",
          "42.89",
          "42.63",
          "41.96",
          "41.67",
          "41.46",
          "40.17",
          "40.07",
          "39.98",
          "39.69",
          "39.51",
          "38.12",
          "37.99",
          "36.52",
          "35.48",
          "34.94",
          "34.72",
          "33.83",
          "33.57",
          "33.53",
          "33.34",
          "32.79",
          "32.6",
          "31.85",
          "31.02",
          "30.74",
          "30.09",
          "29.44",
          "28.81",
          "28.44",
          "26.32",
          "25.58",
          "24.78",
          "23.49",
          "23.46",
          "22.01",
          "21.62"
         ],
         "textposition": "top center",
         "type": "scatter",
         "x": [
          1010.702890411543,
          1037.589725819484,
          1102.713701989864,
          1148.0784453823048,
          1183.963874708851,
          1201.1385339545102,
          1296.328681022559,
          1303.9859113722398,
          1372.2134022186867,
          1388.7679944872864,
          1407.605221783906,
          1542.656194825346,
          1572.4708805140383,
          1663.691156882899,
          1750.3301655781083,
          1831.1516232942051,
          1844.100781221572,
          1885.46880029596,
          1909.9326539302187,
          1957.1898493106012,
          2000.392897630805,
          2001.471609648016,
          2021.306832636616,
          2093.6995868530967,
          2154.442353223367,
          2173.4711038608352,
          2208.760698117001,
          2224.824120520353,
          2258.068628680672,
          2266.6446157335986,
          2293.0951451039787,
          2388.815061233796,
          2482.119834937742,
          2534.3440529886,
          2538.7729958693817,
          2576.081025358819,
          2586.6177660665094,
          2659.769694205381,
          2735.885887692503,
          2742.297972015577,
          2761.2248390827085,
          2761.875192544041,
          2766.9191344152578,
          2774.714206646823,
          2802.0148184708096,
          2816.125305628173,
          2845.791576715133,
          2877.962403938928,
          2932.8322442368644,
          2933.9900155327846,
          2957.388151158458,
          3001.8887084717026,
          3035.4880602780468,
          3058.385009316421,
          3154.322310815495,
          3200.3864358871315,
          3205.0603075218787,
          3299.2477207145803,
          3338.2403666086643,
          3425.6259723058984,
          3483.5646525212164,
          3534.991315123165,
          3542.340424405784,
          3585.3624355620914,
          3600.5763729995,
          3636.726161267015,
          3680.534038084742,
          3691.313527495015,
          3710.4435427963176,
          3754.711964848375,
          3762.437357786092,
          3762.4576637319215,
          3789.6695716407776,
          3797.859884984604,
          3811.950232374869,
          3827.823319516133,
          3983.741746854439,
          3989.923459753486,
          3995.830888278493,
          4016.932816238105,
          4037.607237337455,
          4039.962144244068,
          4048.758437936412,
          4102.177900397035,
          4151.312106586925,
          4171.73147252927,
          4191.3294273123865,
          4218.350576082248,
          4218.532307900585,
          4232.796875227024,
          4289.669204907097,
          4295.42140556179,
          4314.829244009833,
          4321.89047826959,
          4406.852640077328,
          4409.365346263572,
          4456.107737714352,
          4473.844789051776,
          4483.35839457942,
          4521.2799190329015,
          4526.524736011088,
          4604.837694395532,
          4651.316064094219,
          4761.1675671182165,
          4764.254387072413,
          4770.704962976163,
          4783.896343117729,
          4790.360801301512,
          4802.220679405707,
          4806.086101524238,
          4861.89492495231,
          4869.078989200129,
          4876.814522296869,
          4897.179724410951,
          4906.428091532227,
          4911.77793830745,
          4960.125041867192,
          4970.76817450759
         ],
         "xaxis": "x",
         "y": [
          40.00569709530414,
          41.0417314445817,
          43.551163114406194,
          45.29920938640625,
          46.68198786727919,
          47.34378151631476,
          51.01175733343722,
          51.30681450704036,
          53.93583436041668,
          54.57373487821016,
          55.29959250438071,
          60.503531341041366,
          61.652384972111534,
          65.16738918271557,
          68.50586273803334,
          71.6201677531869,
          72.11913954378333,
          73.71317945485357,
          74.65584869413878,
          76.47681709453803,
          78.14156645511204,
          78.18313262256362,
          78.94744616225597,
          81.73696671642759,
          84.07757659017844,
          84.81081421316888,
          86.17063329439318,
          86.78960749214916,
          88.070622972638,
          88.4010827322558,
          89.42030483736805,
          93.1086943229959,
          96.70402077336371,
          98.71638418259072,
          98.88704528442209,
          100.32464102480812,
          100.7306547909122,
          103.54942870453422,
          106.4824250870547,
          106.72950286725366,
          107.45881459577215,
          107.48387476052896,
          107.67823370813484,
          107.97860236307204,
          109.03058081932386,
          109.57430227847894,
          110.71743702805948,
          111.9570802044625,
          114.07138776150751,
          114.11600033167359,
          115.01760410353634,
          116.73235056733543,
          118.02703928977809,
          118.90933076579192,
          122.60609679355137,
          124.3810924417762,
          124.56119141899842,
          128.1905287454885,
          129.6930380554371,
          133.06028034189893,
          135.29283995496323,
          137.2744710437819,
          137.55765534337925,
          139.21542877251892,
          139.80166964221456,
          141.19463470470734,
          142.88269000996948,
          143.29805764722656,
          144.03519731627443,
          145.7409988782054,
          146.03868257075248,
          146.03946502272404,
          147.0880254380798,
          147.4036239764278,
          147.9465693870006,
          148.5582093683488,
          154.56623686421804,
          154.80443770874336,
          155.03206951348903,
          155.84519318053393,
          156.6418436633955,
          156.7325856346087,
          157.0715345020872,
          159.1299544384402,
          161.02324997005852,
          161.81007237536429,
          162.5652432246975,
          163.60645309033484,
          163.61345578899002,
          164.1631144417673,
          166.35458421416712,
          166.57623460075143,
          167.32407966962344,
          167.59617123898838,
          170.87003060868182,
          170.96685308254658,
          172.76798446806032,
          173.45144885357308,
          173.81803800259596,
          175.27927363388827,
          175.4813729312816,
          178.4990175759118,
          180.28997537275382,
          184.5228993567722,
          184.64184424017182,
          184.89040522206164,
          185.3987105965574,
          185.64780650636794,
          186.10480491870482,
          186.2537517928346,
          188.40424132375094,
          188.68106591895634,
          188.9791403437296,
          189.76387564634305,
          190.12024432517765,
          190.32639075105513,
          192.18935674225455,
          192.59947012421517
         ],
         "yaxis": "y"
        },
        {
         "customdata": [
          [
           10
          ],
          [
           10
          ],
          [
           13
          ],
          [
           11
          ],
          [
           12
          ],
          [
           13
          ],
          [
           15
          ],
          [
           14
          ],
          [
           13
          ],
          [
           15
          ],
          [
           13
          ],
          [
           17
          ],
          [
           15
          ],
          [
           15
          ],
          [
           18
          ],
          [
           19
          ],
          [
           19
          ],
          [
           12
          ],
          [
           22
          ],
          [
           16
          ],
          [
           23
          ],
          [
           16
          ],
          [
           18
          ],
          [
           17
          ],
          [
           14
          ],
          [
           24
          ],
          [
           21
          ],
          [
           24
          ],
          [
           21
          ],
          [
           24
          ],
          [
           18
          ],
          [
           28
          ],
          [
           14
          ],
          [
           19
          ],
          [
           24
          ],
          [
           14
          ],
          [
           14
          ],
          [
           23
          ],
          [
           26
          ],
          [
           18
          ],
          [
           23
          ],
          [
           22
          ],
          [
           32
          ],
          [
           27
          ],
          [
           16
          ],
          [
           13
          ],
          [
           37
          ],
          [
           33
          ],
          [
           24
          ],
          [
           38
          ],
          [
           42
          ],
          [
           38
          ],
          [
           28
          ],
          [
           36
          ],
          [
           31
          ],
          [
           29
          ],
          [
           41
          ],
          [
           38
          ],
          [
           30
          ],
          [
           40
          ],
          [
           19
          ],
          [
           46
          ],
          [
           31
          ],
          [
           37
          ],
          [
           15
          ],
          [
           29
          ],
          [
           35
          ],
          [
           23
          ],
          [
           24
          ],
          [
           44
          ],
          [
           22
          ],
          [
           49
          ],
          [
           49
          ],
          [
           42
          ],
          [
           38
          ],
          [
           24
          ],
          [
           28
          ],
          [
           43
          ],
          [
           36
          ],
          [
           48
          ],
          [
           13
          ],
          [
           34
          ],
          [
           18
          ],
          [
           34
          ],
          [
           38
          ],
          [
           50
          ],
          [
           45
          ],
          [
           37
          ],
          [
           20
          ],
          [
           28
          ],
          [
           49
          ],
          [
           17
          ],
          [
           46
          ],
          [
           31
          ],
          [
           46
          ],
          [
           31
          ],
          [
           31
          ],
          [
           19
          ],
          [
           25
          ],
          [
           42
          ],
          [
           48
          ],
          [
           42
          ],
          [
           41
          ],
          [
           25
          ],
          [
           23
          ],
          [
           41
          ],
          [
           33
          ],
          [
           49
          ],
          [
           34
          ],
          [
           33
          ],
          [
           37
          ],
          [
           27
          ],
          [
           48
          ],
          [
           33
          ],
          [
           43
          ],
          [
           37
          ],
          [
           29
          ],
          [
           43
          ],
          [
           40
          ],
          [
           48
          ],
          [
           45
          ],
          [
           38
          ],
          [
           50
          ],
          [
           50
          ]
         ],
         "hovertemplate": "Marketing_Channel=Email Marketing<br>Marketing Spend (INR)=%{x}<br>CAC (INR)=%{y}<br>New_Customers=%{customdata[0]}<extra></extra>",
         "legendgroup": "Email Marketing",
         "marker": {
          "color": "rgb(55,126,184)",
          "line": {
           "color": "DarkSlateGrey",
           "width": 1
          },
          "opacity": 0.8,
          "size": 8,
          "symbol": "circle"
         },
         "mode": "markers",
         "name": "Email Marketing",
         "orientation": "v",
         "showlegend": true,
         "text": [
          "435.49",
          "434.38",
          "427.72",
          "386.75",
          "372.9",
          "366.53",
          "364.37",
          "362.88",
          "362.78",
          "360.6",
          "351.66",
          "345.35",
          "344.52",
          "337.22",
          "332.9",
          "331.91",
          "331.38",
          "322.03",
          "315.64",
          "314.78",
          "314.23",
          "314.05",
          "312.25",
          "310.73",
          "309.18",
          "306.07",
          "303.87",
          "296.93",
          "295.58",
          "292.14",
          "292.08",
          "290.71",
          "288.43",
          "280.36",
          "280.21",
          "280.06",
          "266.88",
          "264.61",
          "256.79",
          "254.09",
          "249.32",
          "248.86",
          "248.49",
          "247.36",
          "247.14",
          "240.16",
          "237.75",
          "237.06",
          "235.47",
          "234.8",
          "233.72",
          "233.08",
          "231.13",
          "230.13",
          "227.99",
          "227.34",
          "225.19",
          "223.68",
          "223.47",
          "222.47",
          "222.03",
          "221.7",
          "220.53",
          "218.06",
          "217.72",
          "217.38",
          "217.32",
          "216.5",
          "213.56",
          "212.51",
          "209.85",
          "207.57",
          "206.02",
          "205.07",
          "204.95",
          "203.91",
          "201.71",
          "201.38",
          "200.43",
          "199.94",
          "199.5",
          "199.38",
          "199.19",
          "198.1",
          "196.62",
          "196.47",
          "195.72",
          "195.6",
          "193.82",
          "193.23",
          "191.36",
          "190.72",
          "189.86",
          "189.56",
          "189.46",
          "188.51",
          "187.74",
          "187.5",
          "187.12",
          "184.28",
          "182.65",
          "182.27",
          "180.97",
          "180.43",
          "179.41",
          "179.34",
          "178.69",
          "178.56",
          "176.45",
          "175.71",
          "175.08",
          "174.65",
          "174.65",
          "174.64",
          "173.73",
          "172.09",
          "171.51",
          "171.42",
          "171.39",
          "171.36",
          "170.38",
          "169.53",
          "168.03",
          "165.94",
          "165.66",
          "165.63",
          "164.53",
          "160.29",
          "159.45",
          "159.11",
          "158.34",
          "158.27",
          "156.45",
          "156.06",
          "155.04",
          "151.84",
          "150.49",
          "149.85",
          "149.3",
          "148.54",
          "148.06",
          "147.91",
          "146.92",
          "145.63",
          "144.62",
          "144.28",
          "143.55",
          "143.51",
          "143.21",
          "143.01",
          "142.21",
          "141.9",
          "141.52",
          "140.1",
          "138.91",
          "138.47",
          "137.9",
          "137.2",
          "136.27",
          "136.22",
          "134.19",
          "134.17",
          "133.98",
          "133.89",
          "133.71",
          "133.39",
          "132.23",
          "131.95",
          "131.91",
          "131.57",
          "129.4",
          "129.23",
          "129.21",
          "129.08",
          "127.39",
          "126.92",
          "126.86",
          "126.81",
          "126.73",
          "126.66",
          "126.36",
          "126.25",
          "125.99",
          "125.57",
          "124.94",
          "124.18",
          "123.11",
          "122.47",
          "122.08",
          "121.97",
          "120.96",
          "120.38",
          "119.19",
          "118.8",
          "118.67",
          "118.17",
          "117.9",
          "117.51",
          "116.95",
          "116.86",
          "116.25",
          "115.92",
          "115.63",
          "115.6",
          "115.53",
          "114.21",
          "113.76",
          "113.7",
          "113.32",
          "113.23",
          "113.13",
          "113.04",
          "113.02",
          "111.39",
          "111.27",
          "110.87",
          "110.81",
          "110.65",
          "110.55",
          "110.5",
          "110.42",
          "110.09",
          "110.03",
          "109.14",
          "108.6",
          "108.16",
          "107.95",
          "107.85",
          "107.83",
          "107.47",
          "107.24",
          "106.49",
          "106.36",
          "105.79",
          "105.78",
          "105.28",
          "104.87",
          "104.51",
          "104.51",
          "103.99",
          "103.94",
          "103.76",
          "103.31",
          "102.83",
          "102.8",
          "102.28",
          "102.03",
          "101.98",
          "101.8",
          "101.59",
          "101.48",
          "100.85",
          "100.44",
          "100.32",
          "100.16",
          "100.02",
          "99.92",
          "99.75",
          "99.74",
          "99.66",
          "99.59",
          "99.49",
          "99.05",
          "98.9",
          "98.62",
          "98.58",
          "97.04",
          "96.88",
          "96.57",
          "96.04",
          "95.81",
          "95.73",
          "95.68",
          "95.39",
          "94.72",
          "94.66",
          "94.27",
          "94.19",
          "94.16",
          "94.16",
          "93.03",
          "92.83",
          "92.38",
          "92.35",
          "92.26",
          "91.8",
          "91.75",
          "91.69",
          "91.41",
          "90.33",
          "90.23",
          "89.97",
          "89.92",
          "89.72",
          "89.52",
          "89.37",
          "89.26",
          "88.36",
          "88.27",
          "88.2",
          "87.88",
          "87.81",
          "87.71",
          "87.67",
          "87.38",
          "87.26",
          "86.88",
          "86.8",
          "86.63",
          "86.31",
          "86.26",
          "86.17",
          "85.84",
          "85.26",
          "84.58",
          "83.87",
          "83.66",
          "83.64",
          "83.21",
          "82.8",
          "82.61",
          "82.45",
          "82.06",
          "81.79",
          "81.75",
          "81.6",
          "81.27",
          "81.2",
          "81.01",
          "80.9",
          "80.42",
          "80.01",
          "79.92",
          "79.61",
          "79.58",
          "79.42",
          "79.38",
          "79.21",
          "79.19",
          "78.72",
          "78.34",
          "78.02",
          "77.75",
          "77.74",
          "77.33",
          "76.75",
          "76.73",
          "76.47",
          "76.24",
          "75.98",
          "75.27",
          "74.93",
          "74.66",
          "74.45",
          "74.39",
          "74.09",
          "73.79",
          "73.49",
          "73.1",
          "72.85",
          "72.57",
          "72.44",
          "72.42",
          "72.0",
          "71.79",
          "71.43",
          "71.41",
          "71.27",
          "71.17",
          "70.91",
          "70.66",
          "70.35",
          "69.86",
          "68.65",
          "68.57",
          "66.02",
          "65.86",
          "65.54",
          "65.46",
          "65.44",
          "65.26",
          "64.81",
          "64.79",
          "64.53",
          "64.52",
          "64.2",
          "63.87",
          "63.47",
          "63.33",
          "63.28",
          "62.95",
          "62.87",
          "61.96",
          "61.72",
          "61.38",
          "61.38",
          "61.35",
          "61.21",
          "60.83",
          "60.13",
          "59.86",
          "59.52",
          "59.43",
          "59.22",
          "59.2",
          "59.1",
          "58.94",
          "58.73",
          "58.55",
          "58.37",
          "58.35",
          "57.98",
          "57.3",
          "57.28",
          "57.18",
          "57.14",
          "56.92",
          "56.88",
          "56.67",
          "56.43",
          "56.42",
          "56.22",
          "55.92",
          "55.75",
          "55.55",
          "55.41",
          "55.0",
          "53.52",
          "53.1",
          "52.78",
          "52.65",
          "52.5",
          "52.43",
          "52.32",
          "52.01",
          "50.74",
          "50.01",
          "49.88",
          "49.85",
          "49.04",
          "49.03",
          "48.69",
          "48.36",
          "48.26",
          "48.01",
          "47.89",
          "47.61",
          "47.57",
          "47.36",
          "47.34",
          "47.09",
          "46.79",
          "46.65",
          "46.58",
          "46.54",
          "46.52",
          "46.4",
          "46.21",
          "46.15",
          "44.98",
          "44.8",
          "44.79",
          "44.5",
          "43.82",
          "42.89",
          "42.63",
          "41.96",
          "41.67",
          "41.46",
          "40.17",
          "40.07",
          "39.98",
          "39.69",
          "39.51",
          "38.12",
          "37.99",
          "36.52",
          "35.48",
          "34.94",
          "34.72",
          "33.83",
          "33.57",
          "33.53",
          "33.34",
          "32.79",
          "32.6",
          "31.85",
          "31.02",
          "30.74",
          "30.09",
          "29.44",
          "28.81",
          "28.44",
          "26.32",
          "25.58",
          "24.78",
          "23.49",
          "23.46",
          "22.01",
          "21.62"
         ],
         "textposition": "top center",
         "type": "scatter",
         "x": [
          4343.834455624725,
          4277.20469724434,
          4847.644408771346,
          4008.0392942191393,
          4353.348467850066,
          4327.6971406210905,
          4710.69104337779,
          4328.572695075605,
          3860.0588201978735,
          4381.215700570395,
          3644.732171413472,
          4536.939380859409,
          3969.076059061263,
          3811.419768743076,
          4322.924075562414,
          4517.3050205859045,
          4440.666663304721,
          2728.1146566430903,
          4851.57317147551,
          3489.0278438962587,
          4998.289667509805,
          3296.256878505329,
          3689.126337212957,
          3428.9899755637266,
          2819.303634406918,
          4785.046131527784,
          4160.024728012454,
          4651.719513936672,
          3978.6753646613006,
          4490.878939994138,
          3287.6907694029555,
          4919.768971127614,
          2399.841374880736,
          3255.8783277200764,
          4032.6586139298656,
          2323.1651887837206,
          2319.214654315861,
          3641.7125487681465,
          4067.592393424963,
          2697.235753843591,
          3300.796436879722,
          3146.2892330762365,
          4430.93237760141,
          3677.8353784796423,
          2105.0743030247395,
          1679.9345962723896,
          4780.774158252842,
          4184.573860648847,
          3023.8431587083114,
          4490.316930428363,
          4935.377406058686,
          4440.562387595288,
          3245.6295289995155,
          4162.72787435575,
          3583.611598963809,
          3350.2868205056857,
          4664.29115170707,
          4298.759250169629,
          3326.2223413294687,
          4401.172956355185,
          2073.582152196901,
          4995.609332917355,
          3263.712247663748,
          3880.298656416777,
          1559.1080500288845,
          2981.314598465694,
          3570.998592037343,
          2307.3832195252344,
          2391.844225178602,
          4225.953975175066,
          2104.989611288164,
          4613.696248201944,
          4613.614816291872,
          3874.869700891932,
          3401.6464592673765,
          2144.776605836778,
          2499.36435910126,
          3776.0046511729374,
          3157.6310359376844,
          4170.077895523813,
          1108.4081853612497,
          2763.292760651246,
          1458.1314855155906,
          2676.507013658891,
          2954.3113873951497,
          3866.413303967164,
          3441.3268169220823,
          2752.464380289513,
          1469.8645963582303,
          2015.909357654169,
          3517.7828278079933,
          1205.5068687343114,
          3213.4358671944333,
          1963.319167425252,
          2910.9167490627506,
          1948.8228077102983,
          1902.7485482601385,
          1130.8651474201877,
          1485.7043334504792,
          2482.2835048722245,
          2819.1441109354987,
          2333.233574660368,
          2194.223399087069,
          1327.6249310465705,
          1196.1770031039998,
          2080.3295855496035,
          1618.09160963934,
          2364.924699445133,
          1628.2283735235087,
          1563.0280600235303,
          1725.9565888925035,
          1252.8681646407815,
          2215.3420473689107,
          1478.2189650202113,
          1727.359428630767,
          1482.6235390092234,
          1159.4431367344523,
          1633.5126552209294,
          1460.6788297990377,
          1609.5293831391614,
          1433.3844087969228,
          1143.5963993507462,
          1315.8734026399786,
          1174.5891963892077
         ],
         "xaxis": "x",
         "y": [
          434.3834455624725,
          427.72046972443405,
          372.89572375164204,
          364.3672085653763,
          362.77903898750554,
          332.8997800477762,
          314.0460695585194,
          309.1837639339718,
          296.92760155368256,
          292.081046704693,
          280.3640131856517,
          266.87878710937696,
          264.60507060408423,
          254.0946512495384,
          240.16244864235634,
          237.75289582031075,
          233.7192980686695,
          227.34288805359085,
          220.52605324888683,
          218.06424024351617,
          217.3169420656437,
          206.01605490658307,
          204.95146317849762,
          201.7052926802192,
          201.37883102906557,
          199.376922146991,
          198.09641561964068,
          193.821646414028,
          189.46073165053812,
          187.11995583308908,
          182.64948718905308,
          175.70603468312908,
          171.4172410629097,
          171.36201724842508,
          168.02744224707774,
          165.9403706274086,
          165.65818959399007,
          158.3353282073107,
          156.44586128557552,
          149.84643076908839,
          143.5128885599879,
          143.01314695801076,
          138.46663680004406,
          136.21612512887563,
          131.56714393904622,
          129.2257381747992,
          129.21011238521197,
          126.80526850451051,
          125.99346494617964,
          118.1662350112727,
          117.50898585854013,
          116.8569049367181,
          115.91534032141126,
          115.63132984321527,
          115.60037416012287,
          115.52713174157537,
          113.76319882212366,
          113.12524342551656,
          110.87407804431562,
          110.02932390887963,
          109.13590274720532,
          108.60020288950771,
          105.28104024721767,
          104.87293665991288,
          103.9405366685923,
          102.80395167123082,
          102.02853120106694,
          100.3210095445754,
          99.66017604910841,
          96.04440852670605,
          95.68134596764381,
          94.1570662898356,
          94.15540441411983,
          92.25880240218886,
          89.5170120859836,
          89.36569190986575,
          89.26301282504501,
          87.81406165518459,
          87.71197322049123,
          86.87662282341277,
          85.26216810471152,
          81.27331648974254,
          81.00730475086614,
          78.72079451937915,
          77.74503651039868,
          77.32826607934328,
          76.47392926493517,
          74.39092919701386,
          73.49322981791151,
          71.99676277336319,
          71.79148628179578,
          70.91216874907714,
          69.85730146074854,
          63.33287636855652,
          63.28079889266849,
          62.865251861622525,
          61.3789854277464,
          59.519218285273034,
          59.42817333801917,
          59.10198821124344,
          58.73216897782289,
          55.55318034905638,
          53.517643880172415,
          53.10499724186282,
          52.00769578713043,
          50.73974598901472,
          49.03307907998,
          48.263769376431284,
          47.889069809514965,
          47.36448666737971,
          46.64747537547307,
          46.402524616325245,
          46.15295932018564,
          44.794514091521556,
          40.17114950304109,
          40.07090645970874,
          39.98079781842939,
          37.98866640048673,
          36.51697074497594,
          33.53186214873253,
          31.85298686215384,
          30.094642088177533,
          26.317468052799573,
          23.491783927784155
         ],
         "yaxis": "y"
        },
        {
         "hovertemplate": "<b>OLS trendline</b><br>CAC = 0.048034 * Marketing_Spend + -15.8502<br>R<sup>2</sup>=0.402625<br><br>Marketing_Channel=Email Marketing<br>Marketing Spend (INR)=%{x}<br>CAC (INR)=%{y} <b>(trend)</b><extra></extra>",
         "legendgroup": "Email Marketing",
         "marker": {
          "color": "rgb(55,126,184)",
          "line": {
           "color": "DarkSlateGrey",
           "width": 1
          },
          "opacity": 0.8,
          "size": 8,
          "symbol": "circle"
         },
         "mode": "lines",
         "name": "Email Marketing",
         "showlegend": false,
         "text": [
          "435.49",
          "434.38",
          "427.72",
          "386.75",
          "372.9",
          "366.53",
          "364.37",
          "362.88",
          "362.78",
          "360.6",
          "351.66",
          "345.35",
          "344.52",
          "337.22",
          "332.9",
          "331.91",
          "331.38",
          "322.03",
          "315.64",
          "314.78",
          "314.23",
          "314.05",
          "312.25",
          "310.73",
          "309.18",
          "306.07",
          "303.87",
          "296.93",
          "295.58",
          "292.14",
          "292.08",
          "290.71",
          "288.43",
          "280.36",
          "280.21",
          "280.06",
          "266.88",
          "264.61",
          "256.79",
          "254.09",
          "249.32",
          "248.86",
          "248.49",
          "247.36",
          "247.14",
          "240.16",
          "237.75",
          "237.06",
          "235.47",
          "234.8",
          "233.72",
          "233.08",
          "231.13",
          "230.13",
          "227.99",
          "227.34",
          "225.19",
          "223.68",
          "223.47",
          "222.47",
          "222.03",
          "221.7",
          "220.53",
          "218.06",
          "217.72",
          "217.38",
          "217.32",
          "216.5",
          "213.56",
          "212.51",
          "209.85",
          "207.57",
          "206.02",
          "205.07",
          "204.95",
          "203.91",
          "201.71",
          "201.38",
          "200.43",
          "199.94",
          "199.5",
          "199.38",
          "199.19",
          "198.1",
          "196.62",
          "196.47",
          "195.72",
          "195.6",
          "193.82",
          "193.23",
          "191.36",
          "190.72",
          "189.86",
          "189.56",
          "189.46",
          "188.51",
          "187.74",
          "187.5",
          "187.12",
          "184.28",
          "182.65",
          "182.27",
          "180.97",
          "180.43",
          "179.41",
          "179.34",
          "178.69",
          "178.56",
          "176.45",
          "175.71",
          "175.08",
          "174.65",
          "174.65",
          "174.64",
          "173.73",
          "172.09",
          "171.51",
          "171.42",
          "171.39",
          "171.36",
          "170.38",
          "169.53",
          "168.03",
          "165.94",
          "165.66",
          "165.63",
          "164.53",
          "160.29",
          "159.45",
          "159.11",
          "158.34",
          "158.27",
          "156.45",
          "156.06",
          "155.04",
          "151.84",
          "150.49",
          "149.85",
          "149.3",
          "148.54",
          "148.06",
          "147.91",
          "146.92",
          "145.63",
          "144.62",
          "144.28",
          "143.55",
          "143.51",
          "143.21",
          "143.01",
          "142.21",
          "141.9",
          "141.52",
          "140.1",
          "138.91",
          "138.47",
          "137.9",
          "137.2",
          "136.27",
          "136.22",
          "134.19",
          "134.17",
          "133.98",
          "133.89",
          "133.71",
          "133.39",
          "132.23",
          "131.95",
          "131.91",
          "131.57",
          "129.4",
          "129.23",
          "129.21",
          "129.08",
          "127.39",
          "126.92",
          "126.86",
          "126.81",
          "126.73",
          "126.66",
          "126.36",
          "126.25",
          "125.99",
          "125.57",
          "124.94",
          "124.18",
          "123.11",
          "122.47",
          "122.08",
          "121.97",
          "120.96",
          "120.38",
          "119.19",
          "118.8",
          "118.67",
          "118.17",
          "117.9",
          "117.51",
          "116.95",
          "116.86",
          "116.25",
          "115.92",
          "115.63",
          "115.6",
          "115.53",
          "114.21",
          "113.76",
          "113.7",
          "113.32",
          "113.23",
          "113.13",
          "113.04",
          "113.02",
          "111.39",
          "111.27",
          "110.87",
          "110.81",
          "110.65",
          "110.55",
          "110.5",
          "110.42",
          "110.09",
          "110.03",
          "109.14",
          "108.6",
          "108.16",
          "107.95",
          "107.85",
          "107.83",
          "107.47",
          "107.24",
          "106.49",
          "106.36",
          "105.79",
          "105.78",
          "105.28",
          "104.87",
          "104.51",
          "104.51",
          "103.99",
          "103.94",
          "103.76",
          "103.31",
          "102.83",
          "102.8",
          "102.28",
          "102.03",
          "101.98",
          "101.8",
          "101.59",
          "101.48",
          "100.85",
          "100.44",
          "100.32",
          "100.16",
          "100.02",
          "99.92",
          "99.75",
          "99.74",
          "99.66",
          "99.59",
          "99.49",
          "99.05",
          "98.9",
          "98.62",
          "98.58",
          "97.04",
          "96.88",
          "96.57",
          "96.04",
          "95.81",
          "95.73",
          "95.68",
          "95.39",
          "94.72",
          "94.66",
          "94.27",
          "94.19",
          "94.16",
          "94.16",
          "93.03",
          "92.83",
          "92.38",
          "92.35",
          "92.26",
          "91.8",
          "91.75",
          "91.69",
          "91.41",
          "90.33",
          "90.23",
          "89.97",
          "89.92",
          "89.72",
          "89.52",
          "89.37",
          "89.26",
          "88.36",
          "88.27",
          "88.2",
          "87.88",
          "87.81",
          "87.71",
          "87.67",
          "87.38",
          "87.26",
          "86.88",
          "86.8",
          "86.63",
          "86.31",
          "86.26",
          "86.17",
          "85.84",
          "85.26",
          "84.58",
          "83.87",
          "83.66",
          "83.64",
          "83.21",
          "82.8",
          "82.61",
          "82.45",
          "82.06",
          "81.79",
          "81.75",
          "81.6",
          "81.27",
          "81.2",
          "81.01",
          "80.9",
          "80.42",
          "80.01",
          "79.92",
          "79.61",
          "79.58",
          "79.42",
          "79.38",
          "79.21",
          "79.19",
          "78.72",
          "78.34",
          "78.02",
          "77.75",
          "77.74",
          "77.33",
          "76.75",
          "76.73",
          "76.47",
          "76.24",
          "75.98",
          "75.27",
          "74.93",
          "74.66",
          "74.45",
          "74.39",
          "74.09",
          "73.79",
          "73.49",
          "73.1",
          "72.85",
          "72.57",
          "72.44",
          "72.42",
          "72.0",
          "71.79",
          "71.43",
          "71.41",
          "71.27",
          "71.17",
          "70.91",
          "70.66",
          "70.35",
          "69.86",
          "68.65",
          "68.57",
          "66.02",
          "65.86",
          "65.54",
          "65.46",
          "65.44",
          "65.26",
          "64.81",
          "64.79",
          "64.53",
          "64.52",
          "64.2",
          "63.87",
          "63.47",
          "63.33",
          "63.28",
          "62.95",
          "62.87",
          "61.96",
          "61.72",
          "61.38",
          "61.38",
          "61.35",
          "61.21",
          "60.83",
          "60.13",
          "59.86",
          "59.52",
          "59.43",
          "59.22",
          "59.2",
          "59.1",
          "58.94",
          "58.73",
          "58.55",
          "58.37",
          "58.35",
          "57.98",
          "57.3",
          "57.28",
          "57.18",
          "57.14",
          "56.92",
          "56.88",
          "56.67",
          "56.43",
          "56.42",
          "56.22",
          "55.92",
          "55.75",
          "55.55",
          "55.41",
          "55.0",
          "53.52",
          "53.1",
          "52.78",
          "52.65",
          "52.5",
          "52.43",
          "52.32",
          "52.01",
          "50.74",
          "50.01",
          "49.88",
          "49.85",
          "49.04",
          "49.03",
          "48.69",
          "48.36",
          "48.26",
          "48.01",
          "47.89",
          "47.61",
          "47.57",
          "47.36",
          "47.34",
          "47.09",
          "46.79",
          "46.65",
          "46.58",
          "46.54",
          "46.52",
          "46.4",
          "46.21",
          "46.15",
          "44.98",
          "44.8",
          "44.79",
          "44.5",
          "43.82",
          "42.89",
          "42.63",
          "41.96",
          "41.67",
          "41.46",
          "40.17",
          "40.07",
          "39.98",
          "39.69",
          "39.51",
          "38.12",
          "37.99",
          "36.52",
          "35.48",
          "34.94",
          "34.72",
          "33.83",
          "33.57",
          "33.53",
          "33.34",
          "32.79",
          "32.6",
          "31.85",
          "31.02",
          "30.74",
          "30.09",
          "29.44",
          "28.81",
          "28.44",
          "26.32",
          "25.58",
          "24.78",
          "23.49",
          "23.46",
          "22.01",
          "21.62"
         ],
         "textposition": "top center",
         "type": "scatter",
         "x": [
          1108.4081853612497,
          1130.8651474201877,
          1143.5963993507462,
          1159.4431367344523,
          1174.5891963892077,
          1196.1770031039998,
          1205.5068687343114,
          1252.8681646407815,
          1315.8734026399786,
          1327.6249310465705,
          1433.3844087969228,
          1458.1314855155906,
          1460.6788297990377,
          1469.8645963582303,
          1478.2189650202113,
          1482.6235390092234,
          1485.7043334504792,
          1559.1080500288845,
          1563.0280600235303,
          1609.5293831391614,
          1618.09160963934,
          1628.2283735235087,
          1633.5126552209294,
          1679.9345962723896,
          1725.9565888925035,
          1727.359428630767,
          1902.7485482601385,
          1948.8228077102983,
          1963.319167425252,
          2015.909357654169,
          2073.582152196901,
          2080.3295855496035,
          2104.989611288164,
          2105.0743030247395,
          2144.776605836778,
          2194.223399087069,
          2215.3420473689107,
          2307.3832195252344,
          2319.214654315861,
          2323.1651887837206,
          2333.233574660368,
          2364.924699445133,
          2391.844225178602,
          2399.841374880736,
          2482.2835048722245,
          2499.36435910126,
          2676.507013658891,
          2697.235753843591,
          2728.1146566430903,
          2752.464380289513,
          2763.292760651246,
          2819.1441109354987,
          2819.303634406918,
          2910.9167490627506,
          2954.3113873951497,
          2981.314598465694,
          3023.8431587083114,
          3146.2892330762365,
          3157.6310359376844,
          3213.4358671944333,
          3245.6295289995155,
          3255.8783277200764,
          3263.712247663748,
          3287.6907694029555,
          3296.256878505329,
          3300.796436879722,
          3326.2223413294687,
          3350.2868205056857,
          3401.6464592673765,
          3428.9899755637266,
          3441.3268169220823,
          3489.0278438962587,
          3517.7828278079933,
          3570.998592037343,
          3583.611598963809,
          3641.7125487681465,
          3644.732171413472,
          3677.8353784796423,
          3689.126337212957,
          3776.0046511729374,
          3811.419768743076,
          3860.0588201978735,
          3866.413303967164,
          3874.869700891932,
          3880.298656416777,
          3969.076059061263,
          3978.6753646613006,
          4008.0392942191393,
          4032.6586139298656,
          4067.592393424963,
          4160.024728012454,
          4162.72787435575,
          4170.077895523813,
          4184.573860648847,
          4225.953975175066,
          4277.20469724434,
          4298.759250169629,
          4322.924075562414,
          4327.6971406210905,
          4328.572695075605,
          4343.834455624725,
          4353.348467850066,
          4381.215700570395,
          4401.172956355185,
          4430.93237760141,
          4440.562387595288,
          4440.666663304721,
          4490.316930428363,
          4490.878939994138,
          4517.3050205859045,
          4536.939380859409,
          4613.614816291872,
          4613.696248201944,
          4651.719513936672,
          4664.29115170707,
          4710.69104337779,
          4780.774158252842,
          4785.046131527784,
          4847.644408771346,
          4851.57317147551,
          4919.768971127614,
          4935.377406058686,
          4995.609332917355,
          4998.289667509805
         ],
         "xaxis": "x",
         "y": [
          37.39108863664345,
          38.469787237425955,
          39.08132069451871,
          39.842503502679,
          40.570029929186475,
          41.60697948790656,
          42.05513062137211,
          44.33008497590476,
          47.356481061596725,
          47.920954440318994,
          53.00100936357109,
          54.18971142219437,
          54.31207065792065,
          54.75330013092374,
          55.15459420455884,
          55.36616368517341,
          55.51414668680824,
          59.04002370247729,
          59.22831761708516,
          61.46196400468292,
          61.87324232991167,
          62.36015204591056,
          62.613977441268496,
          64.84381078766665,
          67.05443299534772,
          67.1218170546348,
          75.5464649406733,
          77.75959773532914,
          78.4559164493173,
          80.98203571985505,
          83.75229300635661,
          84.07639948600115,
          85.26092013441443,
          85.26498822062761,
          87.17205019894823,
          89.54717941510336,
          90.56159339916108,
          94.9827026907401,
          95.55101429586297,
          95.74077442422046,
          96.22439966831064,
          97.7466524054721,
          99.03970596570932,
          99.42384136974573,
          103.38386989158907,
          104.20433231694626,
          112.71320956885235,
          113.70889469200195,
          115.19213312630576,
          116.36174871179331,
          116.88187956093877,
          119.564645522128,
          119.57230807884248,
          123.9728560395691,
          126.05727580782492,
          127.35434911284206,
          129.39716765199293,
          135.27874721495175,
          135.8235398206874,
          138.50407128507575,
          140.05046290528094,
          140.54275410702743,
          140.9190489264114,
          142.0708341848552,
          142.48229900715083,
          142.7003523330538,
          143.9216612296708,
          145.07757537103228,
          147.5445862838855,
          148.8580058235337,
          149.45059414765376,
          151.74186715768465,
          153.12308518840962,
          155.67925330514402,
          156.285106977049,
          159.07593029026424,
          159.22097496344196,
          160.81105571657213,
          161.35340607345276,
          165.52652243091103,
          167.2276535843233,
          169.56398369923286,
          169.8692152230979,
          170.27541012632963,
          170.53618479001702,
          174.8005220482081,
          175.26161547180067,
          176.67208362169498,
          177.85464899516265,
          179.53265953650427,
          183.9725579397214,
          184.10240097773212,
          184.45545218425343,
          185.1517519444938,
          187.13940599683198,
          189.60118520098823,
          190.63653744587245,
          191.7972716213562,
          192.02654121653677,
          192.0685976337189,
          192.80168164154713,
          193.25867807981732,
          194.59725383481953,
          195.5558814458923,
          196.98534665913664,
          197.4479149387933,
          197.4529237223307,
          199.83782661053922,
          199.86482220017584,
          201.13417359702512,
          202.0772912323804,
          205.76032212045496,
          205.7642336240334,
          207.5906446691956,
          208.19451121342723,
          210.42328543900177,
          213.78966054155532,
          213.99486067424317,
          217.00170879095674,
          217.19042313355862,
          220.46614286229595,
          221.21587904105263,
          224.10906179009774,
          224.23780908756913
         ],
         "yaxis": "y"
        },
        {
         "customdata": [
          [
           11
          ],
          [
           10
          ],
          [
           14
          ],
          [
           11
          ],
          [
           15
          ],
          [
           12
          ],
          [
           15
          ],
          [
           11
          ],
          [
           13
          ],
          [
           10
          ],
          [
           19
          ],
          [
           14
          ],
          [
           18
          ],
          [
           12
          ],
          [
           21
          ],
          [
           14
          ],
          [
           24
          ],
          [
           18
          ],
          [
           15
          ],
          [
           25
          ],
          [
           27
          ],
          [
           17
          ],
          [
           19
          ],
          [
           19
          ],
          [
           12
          ],
          [
           23
          ],
          [
           24
          ],
          [
           19
          ],
          [
           18
          ],
          [
           14
          ],
          [
           17
          ],
          [
           29
          ],
          [
           16
          ],
          [
           31
          ],
          [
           21
          ],
          [
           17
          ],
          [
           32
          ],
          [
           33
          ],
          [
           29
          ],
          [
           26
          ],
          [
           15
          ],
          [
           29
          ],
          [
           13
          ],
          [
           37
          ],
          [
           22
          ],
          [
           29
          ],
          [
           11
          ],
          [
           27
          ],
          [
           28
          ],
          [
           36
          ],
          [
           25
          ],
          [
           39
          ],
          [
           15
          ],
          [
           16
          ],
          [
           42
          ],
          [
           31
          ],
          [
           31
          ],
          [
           28
          ],
          [
           26
          ],
          [
           24
          ],
          [
           40
          ],
          [
           42
          ],
          [
           32
          ],
          [
           38
          ],
          [
           33
          ],
          [
           32
          ],
          [
           46
          ],
          [
           40
          ],
          [
           24
          ],
          [
           38
          ],
          [
           19
          ],
          [
           48
          ],
          [
           35
          ],
          [
           32
          ],
          [
           44
          ],
          [
           47
          ],
          [
           42
          ],
          [
           30
          ],
          [
           27
          ],
          [
           48
          ],
          [
           43
          ],
          [
           50
          ],
          [
           50
          ],
          [
           42
          ],
          [
           30
          ],
          [
           39
          ],
          [
           30
          ],
          [
           29
          ],
          [
           40
          ],
          [
           42
          ],
          [
           37
          ],
          [
           46
          ],
          [
           32
          ],
          [
           31
          ],
          [
           39
          ],
          [
           30
          ],
          [
           47
          ],
          [
           29
          ],
          [
           32
          ],
          [
           28
          ],
          [
           37
          ],
          [
           23
          ],
          [
           31
          ],
          [
           25
          ],
          [
           43
          ],
          [
           46
          ],
          [
           42
          ],
          [
           25
          ],
          [
           48
          ],
          [
           29
          ],
          [
           37
          ],
          [
           29
          ],
          [
           48
          ],
          [
           34
          ],
          [
           39
          ],
          [
           33
          ],
          [
           38
          ],
          [
           49
          ],
          [
           38
          ],
          [
           28
          ],
          [
           50
          ],
          [
           45
          ],
          [
           47
          ],
          [
           38
          ],
          [
           33
          ],
          [
           39
          ],
          [
           34
          ],
          [
           44
          ],
          [
           43
          ],
          [
           49
          ]
         ],
         "hovertemplate": "Marketing_Channel=Online Ads<br>Marketing Spend (INR)=%{x}<br>CAC (INR)=%{y}<br>New_Customers=%{customdata[0]}<extra></extra>",
         "legendgroup": "Online Ads",
         "marker": {
          "color": "rgb(77,175,74)",
          "line": {
           "color": "DarkSlateGrey",
           "width": 1
          },
          "opacity": 0.8,
          "size": 8,
          "symbol": "circle"
         },
         "mode": "markers",
         "name": "Online Ads",
         "orientation": "v",
         "showlegend": true,
         "text": [
          "435.49",
          "434.38",
          "427.72",
          "386.75",
          "372.9",
          "366.53",
          "364.37",
          "362.88",
          "362.78",
          "360.6",
          "351.66",
          "345.35",
          "344.52",
          "337.22",
          "332.9",
          "331.91",
          "331.38",
          "322.03",
          "315.64",
          "314.78",
          "314.23",
          "314.05",
          "312.25",
          "310.73",
          "309.18",
          "306.07",
          "303.87",
          "296.93",
          "295.58",
          "292.14",
          "292.08",
          "290.71",
          "288.43",
          "280.36",
          "280.21",
          "280.06",
          "266.88",
          "264.61",
          "256.79",
          "254.09",
          "249.32",
          "248.86",
          "248.49",
          "247.36",
          "247.14",
          "240.16",
          "237.75",
          "237.06",
          "235.47",
          "234.8",
          "233.72",
          "233.08",
          "231.13",
          "230.13",
          "227.99",
          "227.34",
          "225.19",
          "223.68",
          "223.47",
          "222.47",
          "222.03",
          "221.7",
          "220.53",
          "218.06",
          "217.72",
          "217.38",
          "217.32",
          "216.5",
          "213.56",
          "212.51",
          "209.85",
          "207.57",
          "206.02",
          "205.07",
          "204.95",
          "203.91",
          "201.71",
          "201.38",
          "200.43",
          "199.94",
          "199.5",
          "199.38",
          "199.19",
          "198.1",
          "196.62",
          "196.47",
          "195.72",
          "195.6",
          "193.82",
          "193.23",
          "191.36",
          "190.72",
          "189.86",
          "189.56",
          "189.46",
          "188.51",
          "187.74",
          "187.5",
          "187.12",
          "184.28",
          "182.65",
          "182.27",
          "180.97",
          "180.43",
          "179.41",
          "179.34",
          "178.69",
          "178.56",
          "176.45",
          "175.71",
          "175.08",
          "174.65",
          "174.65",
          "174.64",
          "173.73",
          "172.09",
          "171.51",
          "171.42",
          "171.39",
          "171.36",
          "170.38",
          "169.53",
          "168.03",
          "165.94",
          "165.66",
          "165.63",
          "164.53",
          "160.29",
          "159.45",
          "159.11",
          "158.34",
          "158.27",
          "156.45",
          "156.06",
          "155.04",
          "151.84",
          "150.49",
          "149.85",
          "149.3",
          "148.54",
          "148.06",
          "147.91",
          "146.92",
          "145.63",
          "144.62",
          "144.28",
          "143.55",
          "143.51",
          "143.21",
          "143.01",
          "142.21",
          "141.9",
          "141.52",
          "140.1",
          "138.91",
          "138.47",
          "137.9",
          "137.2",
          "136.27",
          "136.22",
          "134.19",
          "134.17",
          "133.98",
          "133.89",
          "133.71",
          "133.39",
          "132.23",
          "131.95",
          "131.91",
          "131.57",
          "129.4",
          "129.23",
          "129.21",
          "129.08",
          "127.39",
          "126.92",
          "126.86",
          "126.81",
          "126.73",
          "126.66",
          "126.36",
          "126.25",
          "125.99",
          "125.57",
          "124.94",
          "124.18",
          "123.11",
          "122.47",
          "122.08",
          "121.97",
          "120.96",
          "120.38",
          "119.19",
          "118.8",
          "118.67",
          "118.17",
          "117.9",
          "117.51",
          "116.95",
          "116.86",
          "116.25",
          "115.92",
          "115.63",
          "115.6",
          "115.53",
          "114.21",
          "113.76",
          "113.7",
          "113.32",
          "113.23",
          "113.13",
          "113.04",
          "113.02",
          "111.39",
          "111.27",
          "110.87",
          "110.81",
          "110.65",
          "110.55",
          "110.5",
          "110.42",
          "110.09",
          "110.03",
          "109.14",
          "108.6",
          "108.16",
          "107.95",
          "107.85",
          "107.83",
          "107.47",
          "107.24",
          "106.49",
          "106.36",
          "105.79",
          "105.78",
          "105.28",
          "104.87",
          "104.51",
          "104.51",
          "103.99",
          "103.94",
          "103.76",
          "103.31",
          "102.83",
          "102.8",
          "102.28",
          "102.03",
          "101.98",
          "101.8",
          "101.59",
          "101.48",
          "100.85",
          "100.44",
          "100.32",
          "100.16",
          "100.02",
          "99.92",
          "99.75",
          "99.74",
          "99.66",
          "99.59",
          "99.49",
          "99.05",
          "98.9",
          "98.62",
          "98.58",
          "97.04",
          "96.88",
          "96.57",
          "96.04",
          "95.81",
          "95.73",
          "95.68",
          "95.39",
          "94.72",
          "94.66",
          "94.27",
          "94.19",
          "94.16",
          "94.16",
          "93.03",
          "92.83",
          "92.38",
          "92.35",
          "92.26",
          "91.8",
          "91.75",
          "91.69",
          "91.41",
          "90.33",
          "90.23",
          "89.97",
          "89.92",
          "89.72",
          "89.52",
          "89.37",
          "89.26",
          "88.36",
          "88.27",
          "88.2",
          "87.88",
          "87.81",
          "87.71",
          "87.67",
          "87.38",
          "87.26",
          "86.88",
          "86.8",
          "86.63",
          "86.31",
          "86.26",
          "86.17",
          "85.84",
          "85.26",
          "84.58",
          "83.87",
          "83.66",
          "83.64",
          "83.21",
          "82.8",
          "82.61",
          "82.45",
          "82.06",
          "81.79",
          "81.75",
          "81.6",
          "81.27",
          "81.2",
          "81.01",
          "80.9",
          "80.42",
          "80.01",
          "79.92",
          "79.61",
          "79.58",
          "79.42",
          "79.38",
          "79.21",
          "79.19",
          "78.72",
          "78.34",
          "78.02",
          "77.75",
          "77.74",
          "77.33",
          "76.75",
          "76.73",
          "76.47",
          "76.24",
          "75.98",
          "75.27",
          "74.93",
          "74.66",
          "74.45",
          "74.39",
          "74.09",
          "73.79",
          "73.49",
          "73.1",
          "72.85",
          "72.57",
          "72.44",
          "72.42",
          "72.0",
          "71.79",
          "71.43",
          "71.41",
          "71.27",
          "71.17",
          "70.91",
          "70.66",
          "70.35",
          "69.86",
          "68.65",
          "68.57",
          "66.02",
          "65.86",
          "65.54",
          "65.46",
          "65.44",
          "65.26",
          "64.81",
          "64.79",
          "64.53",
          "64.52",
          "64.2",
          "63.87",
          "63.47",
          "63.33",
          "63.28",
          "62.95",
          "62.87",
          "61.96",
          "61.72",
          "61.38",
          "61.38",
          "61.35",
          "61.21",
          "60.83",
          "60.13",
          "59.86",
          "59.52",
          "59.43",
          "59.22",
          "59.2",
          "59.1",
          "58.94",
          "58.73",
          "58.55",
          "58.37",
          "58.35",
          "57.98",
          "57.3",
          "57.28",
          "57.18",
          "57.14",
          "56.92",
          "56.88",
          "56.67",
          "56.43",
          "56.42",
          "56.22",
          "55.92",
          "55.75",
          "55.55",
          "55.41",
          "55.0",
          "53.52",
          "53.1",
          "52.78",
          "52.65",
          "52.5",
          "52.43",
          "52.32",
          "52.01",
          "50.74",
          "50.01",
          "49.88",
          "49.85",
          "49.04",
          "49.03",
          "48.69",
          "48.36",
          "48.26",
          "48.01",
          "47.89",
          "47.61",
          "47.57",
          "47.36",
          "47.34",
          "47.09",
          "46.79",
          "46.65",
          "46.58",
          "46.54",
          "46.52",
          "46.4",
          "46.21",
          "46.15",
          "44.98",
          "44.8",
          "44.79",
          "44.5",
          "43.82",
          "42.89",
          "42.63",
          "41.96",
          "41.67",
          "41.46",
          "40.17",
          "40.07",
          "39.98",
          "39.69",
          "39.51",
          "38.12",
          "37.99",
          "36.52",
          "35.48",
          "34.94",
          "34.72",
          "33.83",
          "33.57",
          "33.53",
          "33.34",
          "32.79",
          "32.6",
          "31.85",
          "31.02",
          "30.74",
          "30.09",
          "29.44",
          "28.81",
          "28.44",
          "26.32",
          "25.58",
          "24.78",
          "23.49",
          "23.46",
          "22.01",
          "21.62"
         ],
         "textposition": "top center",
         "type": "scatter",
         "x": [
          4254.26413895189,
          3606.037957734745,
          4923.27255463914,
          3709.389147401635,
          4734.673833782053,
          3770.818394347528,
          4661.023634972638,
          3251.3583883382566,
          3749.539680284971,
          2802.057859555017,
          4736.993574730081,
          3478.8414741496613,
          4195.440478030395,
          2773.532344242806,
          4832.691352823584,
          3030.950703238626,
          4798.446930863956,
          3539.1388778163478,
          2827.712297896969,
          4687.472599726248,
          4975.6724908408805,
          3098.5474764344312,
          3438.523648980521,
          3428.259992657064,
          2152.871181445823,
          4124.932198443579,
          4288.462581197722,
          3318.295221473611,
          3143.4558615349997,
          2409.283823341266,
          2882.0032930065345,
          4803.145111225409,
          2632.463542790802,
          4969.028557580878,
          3341.3185011114174,
          2652.990283197286,
          4858.883092136351,
          4885.95832484536,
          4162.963319373677,
          3689.3631894040527,
          2083.665707904785,
          3978.820606260784,
          1740.5993697506478,
          4892.587263286778,
          2846.793776206047,
          3743.197970936049,
          1396.086538842114,
          3425.2706049718518,
          3546.471512023568,
          4549.037234114009,
          3123.40949481114,
          4843.150268858314,
          1846.6411368459264,
          1935.287608846333,
          4989.703691824861,
          3524.6440674185624,
          3512.992414747593,
          3170.37437742878,
          2893.0419550381,
          2659.538109747228,
          4421.800773223818,
          4637.550553711568,
          3257.5679320990967,
          3789.993710482285,
          3263.716067822796,
          3090.290140520872,
          4407.061169402766,
          3829.234574824308,
          2289.2863334332,
          3599.3466103170904,
          1754.6094948284217,
          4403.811345249836,
          3209.005636214932,
          2877.587779722041,
          3883.713506682836,
          4130.541385444079,
          3619.125305710935,
          2515.957216513056,
          2230.4472504569303,
          3924.104857220489,
          3508.969582404178,
          4044.918831576109,
          3960.35722193818,
          3276.8281972763693,
          2287.1094009161498,
          2963.2853403143445,
          2247.8289775787807,
          2165.0371561241104,
          2963.514778095116,
          2993.502018828781,
          2602.829769007759,
          3157.6761916901346,
          2097.245307133069,
          2009.0861271295223,
          2516.4154567525584,
          1925.9049382241035,
          2958.561386622804,
          1796.8679964355692,
          1974.9236243005532,
          1717.7661747416132,
          2180.923015533077,
          1342.4518478320852,
          1797.4427294501315,
          1432.3949986304262,
          2463.1001976222656,
          2616.700228002983,
          2361.3553726571345,
          1393.772505532792,
          2516.504862256545,
          1422.1554825759945,
          1776.4703123642937,
          1372.8368051260902,
          2235.7315358105443,
          1582.279182797594,
          1814.2329534010955,
          1484.2202602692605,
          1702.5602817772265,
          2180.441806516621,
          1594.3816735311566,
          1160.9266925784648,
          1975.453756763824,
          1596.7903378946207,
          1631.9024882871477,
          1285.6393474232566,
          1107.8658076205506,
          1300.2594756046717,
          1114.7999910803585,
          1364.9696251753087,
          1100.0985985859293,
          1214.4362971701323
         ],
         "xaxis": "x",
         "y": [
          386.75128535926274,
          360.6037957734745,
          351.6623253313672,
          337.21719521833046,
          315.6449222521369,
          314.2348661956273,
          310.7349089981759,
          295.57803530347786,
          288.4261292526901,
          280.2057859555017,
          249.31545130158318,
          248.48867672497582,
          233.08002655724417,
          231.1276953535672,
          230.1281596582659,
          216.496478802759,
          199.93528878599818,
          196.61882654535265,
          188.51415319313128,
          187.4989039890499,
          184.28416632744003,
          182.26749861379008,
          180.97492889371165,
          180.43473645563495,
          179.4059317871519,
          179.3448781931991,
          178.68594088323843,
          174.64711691966374,
          174.63643675194442,
          172.09170166723328,
          169.52960547097263,
          165.62569349053135,
          164.52897142442512,
          160.29124379293157,
          159.1104048148294,
          156.05825195278152,
          151.84009662926096,
          148.05934317713212,
          143.5504592887475,
          141.8985842078482,
          138.91104719365234,
          137.2007105607167,
          133.89225921158828,
          132.23208819693994,
          129.39971710027487,
          129.07579210124305,
          126.91695807655582,
          126.86187425821673,
          126.65969685798457,
          126.36214539205581,
          124.9363797924456,
          124.18334022713626,
          123.10940912306177,
          120.9554755528958,
          118.8024688529729,
          113.69819572317944,
          113.32233595959978,
          113.22765633674214,
          111.2708444245423,
          110.8140879061345,
          110.54501933059547,
          110.4178703264659,
          101.79899787809677,
          99.73667659163908,
          98.90048690372109,
          96.57156689127724,
          95.8056775957123,
          95.73086437060769,
          95.38693055971667,
          94.71964763992344,
          92.3478681488643,
          91.74606969270492,
          91.68587532042663,
          89.92461811631378,
          88.26621606097355,
          87.88385926476765,
          86.16965013597465,
          83.8652405504352,
          82.60915742433075,
          81.75218452542686,
          81.60394377684135,
          80.89837663152218,
          79.20714443876359,
          78.0197189827707,
          76.23698003053832,
          75.9816753926755,
          74.92763258595936,
          74.65645365945208,
          74.0878694523779,
          71.27385759116144,
          70.34675051372321,
          68.64513460195944,
          65.53891584790841,
          64.80922990740395,
          64.5234732500656,
          64.19683127413678,
          62.94811460899583,
          61.960965394329975,
          61.71636325939229,
          61.348791955057614,
          58.943865284677756,
          58.36747164487327,
          57.98202353064941,
          57.29579994521705,
          57.28139994470385,
          56.88478756528224,
          56.22274696802701,
          55.750900221311674,
          52.42718463034469,
          49.03984422675843,
          48.01271114498091,
          47.33920017676173,
          46.57774032938634,
          46.53762302345865,
          46.51879367695117,
          44.976371523310924,
          44.80421794150596,
          44.498812377890225,
          41.95741246134622,
          41.46166759208803,
          39.50907513527648,
          35.48422973099157,
          34.72132953802442,
          33.83261440587518,
          33.57169114001669,
          33.33998655396594,
          32.78823503177525,
          31.022036935802472,
          25.583688339207658,
          24.784414227961886
         ],
         "yaxis": "y"
        },
        {
         "hovertemplate": "<b>OLS trendline</b><br>CAC = 0.0416473 * Marketing_Spend + -2.40476<br>R<sup>2</sup>=0.346841<br><br>Marketing_Channel=Online Ads<br>Marketing Spend (INR)=%{x}<br>CAC (INR)=%{y} <b>(trend)</b><extra></extra>",
         "legendgroup": "Online Ads",
         "marker": {
          "color": "rgb(77,175,74)",
          "line": {
           "color": "DarkSlateGrey",
           "width": 1
          },
          "opacity": 0.8,
          "size": 8,
          "symbol": "circle"
         },
         "mode": "lines",
         "name": "Online Ads",
         "showlegend": false,
         "text": [
          "435.49",
          "434.38",
          "427.72",
          "386.75",
          "372.9",
          "366.53",
          "364.37",
          "362.88",
          "362.78",
          "360.6",
          "351.66",
          "345.35",
          "344.52",
          "337.22",
          "332.9",
          "331.91",
          "331.38",
          "322.03",
          "315.64",
          "314.78",
          "314.23",
          "314.05",
          "312.25",
          "310.73",
          "309.18",
          "306.07",
          "303.87",
          "296.93",
          "295.58",
          "292.14",
          "292.08",
          "290.71",
          "288.43",
          "280.36",
          "280.21",
          "280.06",
          "266.88",
          "264.61",
          "256.79",
          "254.09",
          "249.32",
          "248.86",
          "248.49",
          "247.36",
          "247.14",
          "240.16",
          "237.75",
          "237.06",
          "235.47",
          "234.8",
          "233.72",
          "233.08",
          "231.13",
          "230.13",
          "227.99",
          "227.34",
          "225.19",
          "223.68",
          "223.47",
          "222.47",
          "222.03",
          "221.7",
          "220.53",
          "218.06",
          "217.72",
          "217.38",
          "217.32",
          "216.5",
          "213.56",
          "212.51",
          "209.85",
          "207.57",
          "206.02",
          "205.07",
          "204.95",
          "203.91",
          "201.71",
          "201.38",
          "200.43",
          "199.94",
          "199.5",
          "199.38",
          "199.19",
          "198.1",
          "196.62",
          "196.47",
          "195.72",
          "195.6",
          "193.82",
          "193.23",
          "191.36",
          "190.72",
          "189.86",
          "189.56",
          "189.46",
          "188.51",
          "187.74",
          "187.5",
          "187.12",
          "184.28",
          "182.65",
          "182.27",
          "180.97",
          "180.43",
          "179.41",
          "179.34",
          "178.69",
          "178.56",
          "176.45",
          "175.71",
          "175.08",
          "174.65",
          "174.65",
          "174.64",
          "173.73",
          "172.09",
          "171.51",
          "171.42",
          "171.39",
          "171.36",
          "170.38",
          "169.53",
          "168.03",
          "165.94",
          "165.66",
          "165.63",
          "164.53",
          "160.29",
          "159.45",
          "159.11",
          "158.34",
          "158.27",
          "156.45",
          "156.06",
          "155.04",
          "151.84",
          "150.49",
          "149.85",
          "149.3",
          "148.54",
          "148.06",
          "147.91",
          "146.92",
          "145.63",
          "144.62",
          "144.28",
          "143.55",
          "143.51",
          "143.21",
          "143.01",
          "142.21",
          "141.9",
          "141.52",
          "140.1",
          "138.91",
          "138.47",
          "137.9",
          "137.2",
          "136.27",
          "136.22",
          "134.19",
          "134.17",
          "133.98",
          "133.89",
          "133.71",
          "133.39",
          "132.23",
          "131.95",
          "131.91",
          "131.57",
          "129.4",
          "129.23",
          "129.21",
          "129.08",
          "127.39",
          "126.92",
          "126.86",
          "126.81",
          "126.73",
          "126.66",
          "126.36",
          "126.25",
          "125.99",
          "125.57",
          "124.94",
          "124.18",
          "123.11",
          "122.47",
          "122.08",
          "121.97",
          "120.96",
          "120.38",
          "119.19",
          "118.8",
          "118.67",
          "118.17",
          "117.9",
          "117.51",
          "116.95",
          "116.86",
          "116.25",
          "115.92",
          "115.63",
          "115.6",
          "115.53",
          "114.21",
          "113.76",
          "113.7",
          "113.32",
          "113.23",
          "113.13",
          "113.04",
          "113.02",
          "111.39",
          "111.27",
          "110.87",
          "110.81",
          "110.65",
          "110.55",
          "110.5",
          "110.42",
          "110.09",
          "110.03",
          "109.14",
          "108.6",
          "108.16",
          "107.95",
          "107.85",
          "107.83",
          "107.47",
          "107.24",
          "106.49",
          "106.36",
          "105.79",
          "105.78",
          "105.28",
          "104.87",
          "104.51",
          "104.51",
          "103.99",
          "103.94",
          "103.76",
          "103.31",
          "102.83",
          "102.8",
          "102.28",
          "102.03",
          "101.98",
          "101.8",
          "101.59",
          "101.48",
          "100.85",
          "100.44",
          "100.32",
          "100.16",
          "100.02",
          "99.92",
          "99.75",
          "99.74",
          "99.66",
          "99.59",
          "99.49",
          "99.05",
          "98.9",
          "98.62",
          "98.58",
          "97.04",
          "96.88",
          "96.57",
          "96.04",
          "95.81",
          "95.73",
          "95.68",
          "95.39",
          "94.72",
          "94.66",
          "94.27",
          "94.19",
          "94.16",
          "94.16",
          "93.03",
          "92.83",
          "92.38",
          "92.35",
          "92.26",
          "91.8",
          "91.75",
          "91.69",
          "91.41",
          "90.33",
          "90.23",
          "89.97",
          "89.92",
          "89.72",
          "89.52",
          "89.37",
          "89.26",
          "88.36",
          "88.27",
          "88.2",
          "87.88",
          "87.81",
          "87.71",
          "87.67",
          "87.38",
          "87.26",
          "86.88",
          "86.8",
          "86.63",
          "86.31",
          "86.26",
          "86.17",
          "85.84",
          "85.26",
          "84.58",
          "83.87",
          "83.66",
          "83.64",
          "83.21",
          "82.8",
          "82.61",
          "82.45",
          "82.06",
          "81.79",
          "81.75",
          "81.6",
          "81.27",
          "81.2",
          "81.01",
          "80.9",
          "80.42",
          "80.01",
          "79.92",
          "79.61",
          "79.58",
          "79.42",
          "79.38",
          "79.21",
          "79.19",
          "78.72",
          "78.34",
          "78.02",
          "77.75",
          "77.74",
          "77.33",
          "76.75",
          "76.73",
          "76.47",
          "76.24",
          "75.98",
          "75.27",
          "74.93",
          "74.66",
          "74.45",
          "74.39",
          "74.09",
          "73.79",
          "73.49",
          "73.1",
          "72.85",
          "72.57",
          "72.44",
          "72.42",
          "72.0",
          "71.79",
          "71.43",
          "71.41",
          "71.27",
          "71.17",
          "70.91",
          "70.66",
          "70.35",
          "69.86",
          "68.65",
          "68.57",
          "66.02",
          "65.86",
          "65.54",
          "65.46",
          "65.44",
          "65.26",
          "64.81",
          "64.79",
          "64.53",
          "64.52",
          "64.2",
          "63.87",
          "63.47",
          "63.33",
          "63.28",
          "62.95",
          "62.87",
          "61.96",
          "61.72",
          "61.38",
          "61.38",
          "61.35",
          "61.21",
          "60.83",
          "60.13",
          "59.86",
          "59.52",
          "59.43",
          "59.22",
          "59.2",
          "59.1",
          "58.94",
          "58.73",
          "58.55",
          "58.37",
          "58.35",
          "57.98",
          "57.3",
          "57.28",
          "57.18",
          "57.14",
          "56.92",
          "56.88",
          "56.67",
          "56.43",
          "56.42",
          "56.22",
          "55.92",
          "55.75",
          "55.55",
          "55.41",
          "55.0",
          "53.52",
          "53.1",
          "52.78",
          "52.65",
          "52.5",
          "52.43",
          "52.32",
          "52.01",
          "50.74",
          "50.01",
          "49.88",
          "49.85",
          "49.04",
          "49.03",
          "48.69",
          "48.36",
          "48.26",
          "48.01",
          "47.89",
          "47.61",
          "47.57",
          "47.36",
          "47.34",
          "47.09",
          "46.79",
          "46.65",
          "46.58",
          "46.54",
          "46.52",
          "46.4",
          "46.21",
          "46.15",
          "44.98",
          "44.8",
          "44.79",
          "44.5",
          "43.82",
          "42.89",
          "42.63",
          "41.96",
          "41.67",
          "41.46",
          "40.17",
          "40.07",
          "39.98",
          "39.69",
          "39.51",
          "38.12",
          "37.99",
          "36.52",
          "35.48",
          "34.94",
          "34.72",
          "33.83",
          "33.57",
          "33.53",
          "33.34",
          "32.79",
          "32.6",
          "31.85",
          "31.02",
          "30.74",
          "30.09",
          "29.44",
          "28.81",
          "28.44",
          "26.32",
          "25.58",
          "24.78",
          "23.49",
          "23.46",
          "22.01",
          "21.62"
         ],
         "textposition": "top center",
         "type": "scatter",
         "x": [
          1100.0985985859293,
          1107.8658076205506,
          1114.7999910803585,
          1160.9266925784648,
          1214.4362971701323,
          1285.6393474232566,
          1300.2594756046717,
          1342.4518478320852,
          1364.9696251753087,
          1372.8368051260902,
          1393.772505532792,
          1396.086538842114,
          1422.1554825759945,
          1432.3949986304262,
          1484.2202602692605,
          1582.279182797594,
          1594.3816735311566,
          1596.7903378946207,
          1631.9024882871477,
          1702.5602817772265,
          1717.7661747416132,
          1740.5993697506478,
          1754.6094948284217,
          1776.4703123642937,
          1796.8679964355692,
          1797.4427294501315,
          1814.2329534010955,
          1846.6411368459264,
          1925.9049382241035,
          1935.287608846333,
          1974.9236243005532,
          1975.453756763824,
          2009.0861271295223,
          2083.665707904785,
          2097.245307133069,
          2152.871181445823,
          2165.0371561241104,
          2180.441806516621,
          2180.923015533077,
          2230.4472504569303,
          2235.7315358105443,
          2247.8289775787807,
          2287.1094009161498,
          2289.2863334332,
          2361.3553726571345,
          2409.283823341266,
          2463.1001976222656,
          2515.957216513056,
          2516.4154567525584,
          2516.504862256545,
          2602.829769007759,
          2616.700228002983,
          2632.463542790802,
          2652.990283197286,
          2659.538109747228,
          2773.532344242806,
          2802.057859555017,
          2827.712297896969,
          2846.793776206047,
          2877.587779722041,
          2882.0032930065345,
          2893.0419550381,
          2958.561386622804,
          2963.2853403143445,
          2963.514778095116,
          2993.502018828781,
          3030.950703238626,
          3090.290140520872,
          3098.5474764344312,
          3123.40949481114,
          3143.4558615349997,
          3157.6761916901346,
          3170.37437742878,
          3209.005636214932,
          3251.3583883382566,
          3257.5679320990967,
          3263.716067822796,
          3276.8281972763693,
          3318.295221473611,
          3341.3185011114174,
          3425.2706049718518,
          3428.259992657064,
          3438.523648980521,
          3478.8414741496613,
          3508.969582404178,
          3512.992414747593,
          3524.6440674185624,
          3539.1388778163478,
          3546.471512023568,
          3599.3466103170904,
          3606.037957734745,
          3619.125305710935,
          3689.3631894040527,
          3709.389147401635,
          3743.197970936049,
          3749.539680284971,
          3770.818394347528,
          3789.993710482285,
          3829.234574824308,
          3883.713506682836,
          3924.104857220489,
          3960.35722193818,
          3978.820606260784,
          4044.918831576109,
          4124.932198443579,
          4130.541385444079,
          4162.963319373677,
          4195.440478030395,
          4254.26413895189,
          4288.462581197722,
          4403.811345249836,
          4407.061169402766,
          4421.800773223818,
          4549.037234114009,
          4637.550553711568,
          4661.023634972638,
          4687.472599726248,
          4734.673833782053,
          4736.993574730081,
          4798.446930863956,
          4803.145111225409,
          4832.691352823584,
          4843.150268858314,
          4858.883092136351,
          4885.95832484536,
          4892.587263286778,
          4923.27255463914,
          4969.028557580878,
          4975.6724908408805,
          4989.703691824861
         ],
         "xaxis": "x",
         "y": [
          43.411351459637466,
          43.73483458080927,
          44.02362445351106,
          45.944676056919434,
          48.17320548477786,
          51.1386187793302,
          51.747507335692646,
          53.50470483056237,
          54.44250898445723,
          54.770155622259225,
          55.64207057669018,
          55.73844376737662,
          56.8241443384697,
          57.250592319695926,
          59.408973446784074,
          63.49286074488811,
          63.99689655221545,
          64.09721086880919,
          65.55953639003575,
          68.5022412240891,
          69.1355252897553,
          70.0864657311576,
          70.66994931811459,
          71.58039288366695,
          72.42990092170756,
          72.45383698787526,
          73.15310412805674,
          74.50281678359534,
          77.80393842863734,
          78.19470112914881,
          79.84543332044099,
          79.86751189500862,
          81.26820860470293,
          84.37424520772613,
          84.93979856454288,
          87.25646486776631,
          87.76314460864718,
          88.40470638036183,
          88.42474742649377,
          90.48729705215793,
          90.70737315822512,
          91.21119868988522,
          92.84712143710162,
          92.93778475285082,
          95.9392641316207,
          97.93535368594121,
          100.17665923661849,
          102.37801024576682,
          102.39709470483828,
          102.40081820080069,
          105.99601567086704,
          106.57368254552702,
          107.23018171335532,
          108.08506459658604,
          108.35776375529616,
          113.10531343573517,
          114.29332352856227,
          115.36176107797975,
          116.15645272751296,
          117.43893918131222,
          117.62283329469025,
          118.08256353133187,
          120.81126957386927,
          121.00800939091283,
          121.0175648501657,
          122.26645182933902,
          123.82608763451404,
          126.29741373055171,
          126.6413093025617,
          127.67674471665705,
          128.5116213431369,
          129.10385939958326,
          129.63270428294442,
          131.24159109302488,
          133.00546797415436,
          133.26407857518956,
          133.5201316985734,
          134.06621621129148,
          135.79320493442737,
          136.75206188338444,
          140.2484385696128,
          140.37293843236847,
          140.80039179011223,
          142.4795195007788,
          143.7342732288852,
          143.9018132495797,
          144.387072878362,
          144.99074229003475,
          145.29612655215382,
          147.49823051923065,
          147.77690693155063,
          148.32195936316782,
          151.24717609678174,
          152.08120275534574,
          153.48924825937561,
          153.7533631975226,
          154.63956373735573,
          155.4381634769892,
          157.0724386996922,
          159.34133797060792,
          161.02352781280538,
          162.53334015807192,
          163.30228987494556,
          166.055101101425,
          169.38744010947585,
          169.6210474850557,
          170.9713328108688,
          172.3239180962961,
          174.77376351037213,
          176.19803557355274,
          181.00199772425162,
          181.13734405722184,
          181.7512084488736,
          187.05026082562208,
          190.73659973591396,
          191.71418969853823,
          192.8157171110392,
          194.78152007159736,
          194.878130969905,
          197.43749603399166,
          197.6331624619681,
          198.86368302713782,
          199.29926842054076,
          199.95449769995614,
          201.0821074686805,
          201.35818471695944,
          202.63614360495686,
          204.54175662218927,
          204.8184583638603,
          205.4028197049618
         ],
         "yaxis": "y"
        },
        {
         "customdata": [
          [
           12
          ],
          [
           11
          ],
          [
           13
          ],
          [
           13
          ],
          [
           15
          ],
          [
           14
          ],
          [
           12
          ],
          [
           14
          ],
          [
           19
          ],
          [
           16
          ],
          [
           14
          ],
          [
           14
          ],
          [
           22
          ],
          [
           17
          ],
          [
           11
          ],
          [
           14
          ],
          [
           23
          ],
          [
           15
          ],
          [
           22
          ],
          [
           21
          ],
          [
           20
          ],
          [
           13
          ],
          [
           21
          ],
          [
           11
          ],
          [
           21
          ],
          [
           16
          ],
          [
           20
          ],
          [
           25
          ],
          [
           10
          ],
          [
           30
          ],
          [
           19
          ],
          [
           27
          ],
          [
           33
          ],
          [
           30
          ],
          [
           30
          ],
          [
           11
          ],
          [
           15
          ],
          [
           21
          ],
          [
           37
          ],
          [
           12
          ],
          [
           30
          ],
          [
           38
          ],
          [
           24
          ],
          [
           33
          ],
          [
           16
          ],
          [
           32
          ],
          [
           41
          ],
          [
           16
          ],
          [
           33
          ],
          [
           29
          ],
          [
           35
          ],
          [
           45
          ],
          [
           37
          ],
          [
           30
          ],
          [
           46
          ],
          [
           18
          ],
          [
           42
          ],
          [
           37
          ],
          [
           33
          ],
          [
           42
          ],
          [
           35
          ],
          [
           36
          ],
          [
           27
          ],
          [
           39
          ],
          [
           43
          ],
          [
           50
          ],
          [
           37
          ],
          [
           33
          ],
          [
           33
          ],
          [
           32
          ],
          [
           47
          ],
          [
           48
          ],
          [
           42
          ],
          [
           42
          ],
          [
           34
          ],
          [
           36
          ],
          [
           45
          ],
          [
           39
          ],
          [
           34
          ],
          [
           38
          ],
          [
           29
          ],
          [
           35
          ],
          [
           26
          ],
          [
           16
          ],
          [
           21
          ],
          [
           49
          ],
          [
           38
          ],
          [
           35
          ],
          [
           47
          ],
          [
           32
          ],
          [
           47
          ],
          [
           41
          ],
          [
           41
          ],
          [
           28
          ],
          [
           49
          ],
          [
           38
          ],
          [
           37
          ],
          [
           28
          ],
          [
           49
          ],
          [
           23
          ],
          [
           45
          ],
          [
           21
          ],
          [
           35
          ],
          [
           17
          ],
          [
           47
          ],
          [
           18
          ],
          [
           36
          ],
          [
           38
          ],
          [
           27
          ],
          [
           19
          ],
          [
           50
          ],
          [
           48
          ],
          [
           20
          ],
          [
           33
          ],
          [
           48
          ],
          [
           45
          ],
          [
           27
          ],
          [
           40
          ],
          [
           50
          ],
          [
           34
          ],
          [
           36
          ],
          [
           32
          ],
          [
           32
          ],
          [
           50
          ],
          [
           47
          ],
          [
           43
          ],
          [
           48
          ],
          [
           48
          ]
         ],
         "hovertemplate": "Marketing_Channel=Referral<br>Marketing Spend (INR)=%{x}<br>CAC (INR)=%{y}<br>New_Customers=%{customdata[0]}<extra></extra>",
         "legendgroup": "Referral",
         "marker": {
          "color": "rgb(152,78,163)",
          "line": {
           "color": "DarkSlateGrey",
           "width": 1
          },
          "opacity": 0.8,
          "size": 8,
          "symbol": "circle"
         },
         "mode": "markers",
         "name": "Referral",
         "orientation": "v",
         "showlegend": true,
         "text": [
          "435.49",
          "434.38",
          "427.72",
          "386.75",
          "372.9",
          "366.53",
          "364.37",
          "362.88",
          "362.78",
          "360.6",
          "351.66",
          "345.35",
          "344.52",
          "337.22",
          "332.9",
          "331.91",
          "331.38",
          "322.03",
          "315.64",
          "314.78",
          "314.23",
          "314.05",
          "312.25",
          "310.73",
          "309.18",
          "306.07",
          "303.87",
          "296.93",
          "295.58",
          "292.14",
          "292.08",
          "290.71",
          "288.43",
          "280.36",
          "280.21",
          "280.06",
          "266.88",
          "264.61",
          "256.79",
          "254.09",
          "249.32",
          "248.86",
          "248.49",
          "247.36",
          "247.14",
          "240.16",
          "237.75",
          "237.06",
          "235.47",
          "234.8",
          "233.72",
          "233.08",
          "231.13",
          "230.13",
          "227.99",
          "227.34",
          "225.19",
          "223.68",
          "223.47",
          "222.47",
          "222.03",
          "221.7",
          "220.53",
          "218.06",
          "217.72",
          "217.38",
          "217.32",
          "216.5",
          "213.56",
          "212.51",
          "209.85",
          "207.57",
          "206.02",
          "205.07",
          "204.95",
          "203.91",
          "201.71",
          "201.38",
          "200.43",
          "199.94",
          "199.5",
          "199.38",
          "199.19",
          "198.1",
          "196.62",
          "196.47",
          "195.72",
          "195.6",
          "193.82",
          "193.23",
          "191.36",
          "190.72",
          "189.86",
          "189.56",
          "189.46",
          "188.51",
          "187.74",
          "187.5",
          "187.12",
          "184.28",
          "182.65",
          "182.27",
          "180.97",
          "180.43",
          "179.41",
          "179.34",
          "178.69",
          "178.56",
          "176.45",
          "175.71",
          "175.08",
          "174.65",
          "174.65",
          "174.64",
          "173.73",
          "172.09",
          "171.51",
          "171.42",
          "171.39",
          "171.36",
          "170.38",
          "169.53",
          "168.03",
          "165.94",
          "165.66",
          "165.63",
          "164.53",
          "160.29",
          "159.45",
          "159.11",
          "158.34",
          "158.27",
          "156.45",
          "156.06",
          "155.04",
          "151.84",
          "150.49",
          "149.85",
          "149.3",
          "148.54",
          "148.06",
          "147.91",
          "146.92",
          "145.63",
          "144.62",
          "144.28",
          "143.55",
          "143.51",
          "143.21",
          "143.01",
          "142.21",
          "141.9",
          "141.52",
          "140.1",
          "138.91",
          "138.47",
          "137.9",
          "137.2",
          "136.27",
          "136.22",
          "134.19",
          "134.17",
          "133.98",
          "133.89",
          "133.71",
          "133.39",
          "132.23",
          "131.95",
          "131.91",
          "131.57",
          "129.4",
          "129.23",
          "129.21",
          "129.08",
          "127.39",
          "126.92",
          "126.86",
          "126.81",
          "126.73",
          "126.66",
          "126.36",
          "126.25",
          "125.99",
          "125.57",
          "124.94",
          "124.18",
          "123.11",
          "122.47",
          "122.08",
          "121.97",
          "120.96",
          "120.38",
          "119.19",
          "118.8",
          "118.67",
          "118.17",
          "117.9",
          "117.51",
          "116.95",
          "116.86",
          "116.25",
          "115.92",
          "115.63",
          "115.6",
          "115.53",
          "114.21",
          "113.76",
          "113.7",
          "113.32",
          "113.23",
          "113.13",
          "113.04",
          "113.02",
          "111.39",
          "111.27",
          "110.87",
          "110.81",
          "110.65",
          "110.55",
          "110.5",
          "110.42",
          "110.09",
          "110.03",
          "109.14",
          "108.6",
          "108.16",
          "107.95",
          "107.85",
          "107.83",
          "107.47",
          "107.24",
          "106.49",
          "106.36",
          "105.79",
          "105.78",
          "105.28",
          "104.87",
          "104.51",
          "104.51",
          "103.99",
          "103.94",
          "103.76",
          "103.31",
          "102.83",
          "102.8",
          "102.28",
          "102.03",
          "101.98",
          "101.8",
          "101.59",
          "101.48",
          "100.85",
          "100.44",
          "100.32",
          "100.16",
          "100.02",
          "99.92",
          "99.75",
          "99.74",
          "99.66",
          "99.59",
          "99.49",
          "99.05",
          "98.9",
          "98.62",
          "98.58",
          "97.04",
          "96.88",
          "96.57",
          "96.04",
          "95.81",
          "95.73",
          "95.68",
          "95.39",
          "94.72",
          "94.66",
          "94.27",
          "94.19",
          "94.16",
          "94.16",
          "93.03",
          "92.83",
          "92.38",
          "92.35",
          "92.26",
          "91.8",
          "91.75",
          "91.69",
          "91.41",
          "90.33",
          "90.23",
          "89.97",
          "89.92",
          "89.72",
          "89.52",
          "89.37",
          "89.26",
          "88.36",
          "88.27",
          "88.2",
          "87.88",
          "87.81",
          "87.71",
          "87.67",
          "87.38",
          "87.26",
          "86.88",
          "86.8",
          "86.63",
          "86.31",
          "86.26",
          "86.17",
          "85.84",
          "85.26",
          "84.58",
          "83.87",
          "83.66",
          "83.64",
          "83.21",
          "82.8",
          "82.61",
          "82.45",
          "82.06",
          "81.79",
          "81.75",
          "81.6",
          "81.27",
          "81.2",
          "81.01",
          "80.9",
          "80.42",
          "80.01",
          "79.92",
          "79.61",
          "79.58",
          "79.42",
          "79.38",
          "79.21",
          "79.19",
          "78.72",
          "78.34",
          "78.02",
          "77.75",
          "77.74",
          "77.33",
          "76.75",
          "76.73",
          "76.47",
          "76.24",
          "75.98",
          "75.27",
          "74.93",
          "74.66",
          "74.45",
          "74.39",
          "74.09",
          "73.79",
          "73.49",
          "73.1",
          "72.85",
          "72.57",
          "72.44",
          "72.42",
          "72.0",
          "71.79",
          "71.43",
          "71.41",
          "71.27",
          "71.17",
          "70.91",
          "70.66",
          "70.35",
          "69.86",
          "68.65",
          "68.57",
          "66.02",
          "65.86",
          "65.54",
          "65.46",
          "65.44",
          "65.26",
          "64.81",
          "64.79",
          "64.53",
          "64.52",
          "64.2",
          "63.87",
          "63.47",
          "63.33",
          "63.28",
          "62.95",
          "62.87",
          "61.96",
          "61.72",
          "61.38",
          "61.38",
          "61.35",
          "61.21",
          "60.83",
          "60.13",
          "59.86",
          "59.52",
          "59.43",
          "59.22",
          "59.2",
          "59.1",
          "58.94",
          "58.73",
          "58.55",
          "58.37",
          "58.35",
          "57.98",
          "57.3",
          "57.28",
          "57.18",
          "57.14",
          "56.92",
          "56.88",
          "56.67",
          "56.43",
          "56.42",
          "56.22",
          "55.92",
          "55.75",
          "55.55",
          "55.41",
          "55.0",
          "53.52",
          "53.1",
          "52.78",
          "52.65",
          "52.5",
          "52.43",
          "52.32",
          "52.01",
          "50.74",
          "50.01",
          "49.88",
          "49.85",
          "49.04",
          "49.03",
          "48.69",
          "48.36",
          "48.26",
          "48.01",
          "47.89",
          "47.61",
          "47.57",
          "47.36",
          "47.34",
          "47.09",
          "46.79",
          "46.65",
          "46.58",
          "46.54",
          "46.52",
          "46.4",
          "46.21",
          "46.15",
          "44.98",
          "44.8",
          "44.79",
          "44.5",
          "43.82",
          "42.89",
          "42.63",
          "41.96",
          "41.67",
          "41.46",
          "40.17",
          "40.07",
          "39.98",
          "39.69",
          "39.51",
          "38.12",
          "37.99",
          "36.52",
          "35.48",
          "34.94",
          "34.72",
          "33.83",
          "33.57",
          "33.53",
          "33.34",
          "32.79",
          "32.6",
          "31.85",
          "31.02",
          "30.74",
          "30.09",
          "29.44",
          "28.81",
          "28.44",
          "26.32",
          "25.58",
          "24.78",
          "23.49",
          "23.46",
          "22.01",
          "21.62"
         ],
         "textposition": "top center",
         "type": "scatter",
         "x": [
          4398.302507998309,
          3991.702607821144,
          4489.532069594145,
          4478.801253448862,
          4683.716395121187,
          4089.923539804896,
          3360.721717238268,
          3484.109284288594,
          4695.644177930195,
          3793.000116488689,
          3287.1905679396045,
          3152.691625793023,
          4920.978530413502,
          3798.934739902869,
          2447.1174366067007,
          3103.8043472302456,
          4999.631314036837,
          3203.35602801068,
          4616.621163574901,
          4282.197892742313,
          3929.439071756953,
          2544.315009963929,
          4057.773781304777,
          2097.921520712911,
          3987.065466951708,
          3032.963566371576,
          3501.634968580036,
          3986.23740286818,
          1504.883899496825,
          4437.368736673066,
          2702.01525082086,
          3820.9115241000095,
          4496.761496217234,
          4025.772616222295,
          4025.075321650229,
          1473.8062488458463,
          2005.614704803766,
          2770.8840160773134,
          4880.7389072343085,
          1528.639190987134,
          3767.148621180808,
          4653.947897926788,
          2927.3913194949646,
          3972.560486092686,
          1886.3856018901208,
          3654.755317938139,
          4633.645780850424,
          1770.3371738060696,
          3632.9192637147225,
          3136.540357070653,
          3774.69469593373,
          4792.250311108124,
          3935.181216053568,
          3173.720251834692,
          4866.000837851008,
          1871.8581636260144,
          4338.895782306778,
          3804.7350013288064,
          3375.244780478253,
          4282.99020683822,
          3555.7548094400486,
          3630.641545932516,
          2700.555864416847,
          3896.866848302073,
          4289.323672360232,
          4952.476859127017,
          3590.538893609923,
          3196.8785563413267,
          3123.687724583071,
          2970.498475912824,
          4245.635610259507,
          4306.524638600238,
          3711.057834493438,
          3681.944875400685,
          2966.903208764053,
          3124.6652725950403,
          3898.3400043722063,
          3347.750889656644,
          2844.5996534199903,
          3178.2495148423145,
          2354.8610152075453,
          2814.57502755557,
          2078.044103868216,
          1273.6829887262058,
          1671.156573471209,
          3889.7753102825695,
          3009.1646005318635,
          2741.9485800307084,
          3607.0186209755575,
          2382.2624977723267,
          3435.48666832786,
          2986.909146095481,
          2975.1808773803373,
          2027.880338253049,
          3500.2320286568875,
          2713.512052938978,
          2633.183423181651,
          1848.479400718956,
          3207.669668283244,
          1505.1179718336357,
          2936.7943488508345,
          1360.5335029848757,
          2221.520977277441,
          1040.6044577547084,
          2858.833866412927,
          1077.533148200043,
          2131.99481309982,
          2217.458337424021,
          1542.797948922257,
          1081.5200692813294,
          2821.3784674660046,
          2639.9144789854577,
          1055.6746204036046,
          1737.454681560327,
          2520.03759009062,
          2354.244936205727,
          1346.6515922226977,
          1934.2497842315724,
          2380.49576677203,
          1617.4448750861952,
          1695.2541933057378,
          1497.414632698833,
          1402.1044323631631,
          2131.3559331313063,
          1865.5385595144223,
          1321.7674075972038,
          1365.3075465239408,
          1056.5934690242552
         ],
         "xaxis": "x",
         "y": [
          366.5252089998591,
          362.8820552564676,
          345.3486207380111,
          344.5231733422201,
          312.2477596747458,
          292.1373957003497,
          280.060143103189,
          248.86494887775672,
          247.13916725948394,
          237.06250728054306,
          234.7993262814003,
          225.19225898521591,
          223.68084229152282,
          223.46674940605112,
          222.46522150970006,
          221.7003105164461,
          217.37527452334072,
          213.55706853404533,
          209.8464165261319,
          203.9141853686816,
          196.47195358784765,
          195.71653922799453,
          193.22732291927508,
          190.72013824662827,
          189.86026033103371,
          189.5602228982235,
          175.0817484290018,
          159.4494961147272,
          150.4883899496825,
          147.91229122243556,
          142.21132899057156,
          141.5152416333337,
          136.26549988537073,
          134.19242054074317,
          134.16917738834096,
          133.9823862587133,
          133.70764698691772,
          131.9468579084435,
          131.91186235768402,
          127.38659924892784,
          125.57162070602693,
          122.47231310333652,
          121.9746383122902,
          120.38062079068746,
          117.89910011813255,
          114.21110368556684,
          113.01575075244936,
          110.64607336287935,
          110.08846253680977,
          108.15656403691906,
          107.84841988382087,
          106.49445135795831,
          106.35624908252886,
          105.7906750611564,
          105.78262690980453,
          103.99212020144525,
          103.30704243587566,
          102.83067571158936,
          102.28014486297735,
          101.9759573056719,
          101.59299455542995,
          100.851154053681,
          100.02058757099432,
          99.91966277697622,
          99.75171331070307,
          99.04953718254033,
          97.04159171918711,
          96.87510776791899,
          94.65720377524458,
          92.82807737227574,
          90.33267255871291,
          89.71926330417163,
          88.35851986889138,
          87.66535417620678,
          87.26185908129568,
          86.79625757208446,
          86.62977787493791,
          85.83976640145241,
          83.66469568882324,
          83.63814512742933,
          81.20210397267398,
          80.41642935873058,
          79.92477322570062,
          79.60518679538787,
          79.57888445100996,
          79.38316959760346,
          79.18854211925957,
          78.34138800087739,
          76.74507704203315,
          74.44570305538521,
          73.09546102825234,
          72.85144258769466,
          72.56538725317895,
          72.42429779475175,
          71.43330670728342,
          71.40821191944679,
          71.16711954545003,
          66.01712145424843,
          65.46264629149478,
          65.43991181885373,
          65.26209664112966,
          64.78730966594647,
          63.472027922212604,
          61.212026926747555,
          60.826252476870785,
          59.86295267778016,
          59.22207814166167,
          58.35416677431634,
          57.14066477489841,
          56.92210890954365,
          56.427569349320095,
          54.99821831219703,
          52.783731020180234,
          52.65014186546445,
          52.50078312688792,
          52.316554137905044,
          49.87598489713695,
          48.356244605789314,
          47.609915335440604,
          47.57190809077045,
          47.090394258492715,
          46.79420727183853,
          43.81576351134885,
          42.627118662626124,
          39.692309776902604,
          30.738776920865206,
          28.443907219248768,
          22.01236393800532
         ],
         "yaxis": "y"
        },
        {
         "hovertemplate": "<b>OLS trendline</b><br>CAC = 0.0362424 * Marketing_Spend + 9.06399<br>R<sup>2</sup>=0.281664<br><br>Marketing_Channel=Referral<br>Marketing Spend (INR)=%{x}<br>CAC (INR)=%{y} <b>(trend)</b><extra></extra>",
         "legendgroup": "Referral",
         "marker": {
          "color": "rgb(152,78,163)",
          "line": {
           "color": "DarkSlateGrey",
           "width": 1
          },
          "opacity": 0.8,
          "size": 8,
          "symbol": "circle"
         },
         "mode": "lines",
         "name": "Referral",
         "showlegend": false,
         "text": [
          "435.49",
          "434.38",
          "427.72",
          "386.75",
          "372.9",
          "366.53",
          "364.37",
          "362.88",
          "362.78",
          "360.6",
          "351.66",
          "345.35",
          "344.52",
          "337.22",
          "332.9",
          "331.91",
          "331.38",
          "322.03",
          "315.64",
          "314.78",
          "314.23",
          "314.05",
          "312.25",
          "310.73",
          "309.18",
          "306.07",
          "303.87",
          "296.93",
          "295.58",
          "292.14",
          "292.08",
          "290.71",
          "288.43",
          "280.36",
          "280.21",
          "280.06",
          "266.88",
          "264.61",
          "256.79",
          "254.09",
          "249.32",
          "248.86",
          "248.49",
          "247.36",
          "247.14",
          "240.16",
          "237.75",
          "237.06",
          "235.47",
          "234.8",
          "233.72",
          "233.08",
          "231.13",
          "230.13",
          "227.99",
          "227.34",
          "225.19",
          "223.68",
          "223.47",
          "222.47",
          "222.03",
          "221.7",
          "220.53",
          "218.06",
          "217.72",
          "217.38",
          "217.32",
          "216.5",
          "213.56",
          "212.51",
          "209.85",
          "207.57",
          "206.02",
          "205.07",
          "204.95",
          "203.91",
          "201.71",
          "201.38",
          "200.43",
          "199.94",
          "199.5",
          "199.38",
          "199.19",
          "198.1",
          "196.62",
          "196.47",
          "195.72",
          "195.6",
          "193.82",
          "193.23",
          "191.36",
          "190.72",
          "189.86",
          "189.56",
          "189.46",
          "188.51",
          "187.74",
          "187.5",
          "187.12",
          "184.28",
          "182.65",
          "182.27",
          "180.97",
          "180.43",
          "179.41",
          "179.34",
          "178.69",
          "178.56",
          "176.45",
          "175.71",
          "175.08",
          "174.65",
          "174.65",
          "174.64",
          "173.73",
          "172.09",
          "171.51",
          "171.42",
          "171.39",
          "171.36",
          "170.38",
          "169.53",
          "168.03",
          "165.94",
          "165.66",
          "165.63",
          "164.53",
          "160.29",
          "159.45",
          "159.11",
          "158.34",
          "158.27",
          "156.45",
          "156.06",
          "155.04",
          "151.84",
          "150.49",
          "149.85",
          "149.3",
          "148.54",
          "148.06",
          "147.91",
          "146.92",
          "145.63",
          "144.62",
          "144.28",
          "143.55",
          "143.51",
          "143.21",
          "143.01",
          "142.21",
          "141.9",
          "141.52",
          "140.1",
          "138.91",
          "138.47",
          "137.9",
          "137.2",
          "136.27",
          "136.22",
          "134.19",
          "134.17",
          "133.98",
          "133.89",
          "133.71",
          "133.39",
          "132.23",
          "131.95",
          "131.91",
          "131.57",
          "129.4",
          "129.23",
          "129.21",
          "129.08",
          "127.39",
          "126.92",
          "126.86",
          "126.81",
          "126.73",
          "126.66",
          "126.36",
          "126.25",
          "125.99",
          "125.57",
          "124.94",
          "124.18",
          "123.11",
          "122.47",
          "122.08",
          "121.97",
          "120.96",
          "120.38",
          "119.19",
          "118.8",
          "118.67",
          "118.17",
          "117.9",
          "117.51",
          "116.95",
          "116.86",
          "116.25",
          "115.92",
          "115.63",
          "115.6",
          "115.53",
          "114.21",
          "113.76",
          "113.7",
          "113.32",
          "113.23",
          "113.13",
          "113.04",
          "113.02",
          "111.39",
          "111.27",
          "110.87",
          "110.81",
          "110.65",
          "110.55",
          "110.5",
          "110.42",
          "110.09",
          "110.03",
          "109.14",
          "108.6",
          "108.16",
          "107.95",
          "107.85",
          "107.83",
          "107.47",
          "107.24",
          "106.49",
          "106.36",
          "105.79",
          "105.78",
          "105.28",
          "104.87",
          "104.51",
          "104.51",
          "103.99",
          "103.94",
          "103.76",
          "103.31",
          "102.83",
          "102.8",
          "102.28",
          "102.03",
          "101.98",
          "101.8",
          "101.59",
          "101.48",
          "100.85",
          "100.44",
          "100.32",
          "100.16",
          "100.02",
          "99.92",
          "99.75",
          "99.74",
          "99.66",
          "99.59",
          "99.49",
          "99.05",
          "98.9",
          "98.62",
          "98.58",
          "97.04",
          "96.88",
          "96.57",
          "96.04",
          "95.81",
          "95.73",
          "95.68",
          "95.39",
          "94.72",
          "94.66",
          "94.27",
          "94.19",
          "94.16",
          "94.16",
          "93.03",
          "92.83",
          "92.38",
          "92.35",
          "92.26",
          "91.8",
          "91.75",
          "91.69",
          "91.41",
          "90.33",
          "90.23",
          "89.97",
          "89.92",
          "89.72",
          "89.52",
          "89.37",
          "89.26",
          "88.36",
          "88.27",
          "88.2",
          "87.88",
          "87.81",
          "87.71",
          "87.67",
          "87.38",
          "87.26",
          "86.88",
          "86.8",
          "86.63",
          "86.31",
          "86.26",
          "86.17",
          "85.84",
          "85.26",
          "84.58",
          "83.87",
          "83.66",
          "83.64",
          "83.21",
          "82.8",
          "82.61",
          "82.45",
          "82.06",
          "81.79",
          "81.75",
          "81.6",
          "81.27",
          "81.2",
          "81.01",
          "80.9",
          "80.42",
          "80.01",
          "79.92",
          "79.61",
          "79.58",
          "79.42",
          "79.38",
          "79.21",
          "79.19",
          "78.72",
          "78.34",
          "78.02",
          "77.75",
          "77.74",
          "77.33",
          "76.75",
          "76.73",
          "76.47",
          "76.24",
          "75.98",
          "75.27",
          "74.93",
          "74.66",
          "74.45",
          "74.39",
          "74.09",
          "73.79",
          "73.49",
          "73.1",
          "72.85",
          "72.57",
          "72.44",
          "72.42",
          "72.0",
          "71.79",
          "71.43",
          "71.41",
          "71.27",
          "71.17",
          "70.91",
          "70.66",
          "70.35",
          "69.86",
          "68.65",
          "68.57",
          "66.02",
          "65.86",
          "65.54",
          "65.46",
          "65.44",
          "65.26",
          "64.81",
          "64.79",
          "64.53",
          "64.52",
          "64.2",
          "63.87",
          "63.47",
          "63.33",
          "63.28",
          "62.95",
          "62.87",
          "61.96",
          "61.72",
          "61.38",
          "61.38",
          "61.35",
          "61.21",
          "60.83",
          "60.13",
          "59.86",
          "59.52",
          "59.43",
          "59.22",
          "59.2",
          "59.1",
          "58.94",
          "58.73",
          "58.55",
          "58.37",
          "58.35",
          "57.98",
          "57.3",
          "57.28",
          "57.18",
          "57.14",
          "56.92",
          "56.88",
          "56.67",
          "56.43",
          "56.42",
          "56.22",
          "55.92",
          "55.75",
          "55.55",
          "55.41",
          "55.0",
          "53.52",
          "53.1",
          "52.78",
          "52.65",
          "52.5",
          "52.43",
          "52.32",
          "52.01",
          "50.74",
          "50.01",
          "49.88",
          "49.85",
          "49.04",
          "49.03",
          "48.69",
          "48.36",
          "48.26",
          "48.01",
          "47.89",
          "47.61",
          "47.57",
          "47.36",
          "47.34",
          "47.09",
          "46.79",
          "46.65",
          "46.58",
          "46.54",
          "46.52",
          "46.4",
          "46.21",
          "46.15",
          "44.98",
          "44.8",
          "44.79",
          "44.5",
          "43.82",
          "42.89",
          "42.63",
          "41.96",
          "41.67",
          "41.46",
          "40.17",
          "40.07",
          "39.98",
          "39.69",
          "39.51",
          "38.12",
          "37.99",
          "36.52",
          "35.48",
          "34.94",
          "34.72",
          "33.83",
          "33.57",
          "33.53",
          "33.34",
          "32.79",
          "32.6",
          "31.85",
          "31.02",
          "30.74",
          "30.09",
          "29.44",
          "28.81",
          "28.44",
          "26.32",
          "25.58",
          "24.78",
          "23.49",
          "23.46",
          "22.01",
          "21.62"
         ],
         "textposition": "top center",
         "type": "scatter",
         "x": [
          1040.6044577547084,
          1055.6746204036046,
          1056.5934690242552,
          1077.533148200043,
          1081.5200692813294,
          1273.6829887262058,
          1321.7674075972038,
          1346.6515922226977,
          1360.5335029848757,
          1365.3075465239408,
          1402.1044323631631,
          1473.8062488458463,
          1497.414632698833,
          1504.883899496825,
          1505.1179718336357,
          1528.639190987134,
          1542.797948922257,
          1617.4448750861952,
          1671.156573471209,
          1695.2541933057378,
          1737.454681560327,
          1770.3371738060696,
          1848.479400718956,
          1865.5385595144223,
          1871.8581636260144,
          1886.3856018901208,
          1934.2497842315724,
          2005.614704803766,
          2027.880338253049,
          2078.044103868216,
          2097.921520712911,
          2131.3559331313063,
          2131.99481309982,
          2217.458337424021,
          2221.520977277441,
          2354.244936205727,
          2354.8610152075453,
          2380.49576677203,
          2382.2624977723267,
          2447.1174366067007,
          2520.03759009062,
          2544.315009963929,
          2633.183423181651,
          2639.9144789854577,
          2700.555864416847,
          2702.01525082086,
          2713.512052938978,
          2741.9485800307084,
          2770.8840160773134,
          2814.57502755557,
          2821.3784674660046,
          2844.5996534199903,
          2858.833866412927,
          2927.3913194949646,
          2936.7943488508345,
          2966.903208764053,
          2970.498475912824,
          2975.1808773803373,
          2986.909146095481,
          3009.1646005318635,
          3032.963566371576,
          3103.8043472302456,
          3123.687724583071,
          3124.6652725950403,
          3136.540357070653,
          3152.691625793023,
          3173.720251834692,
          3178.2495148423145,
          3196.8785563413267,
          3203.35602801068,
          3207.669668283244,
          3287.1905679396045,
          3347.750889656644,
          3360.721717238268,
          3375.244780478253,
          3435.48666832786,
          3484.109284288594,
          3500.2320286568875,
          3501.634968580036,
          3555.7548094400486,
          3590.538893609923,
          3607.0186209755575,
          3630.641545932516,
          3632.9192637147225,
          3654.755317938139,
          3681.944875400685,
          3711.057834493438,
          3767.148621180808,
          3774.69469593373,
          3793.000116488689,
          3798.934739902869,
          3804.7350013288064,
          3820.9115241000095,
          3889.7753102825695,
          3896.866848302073,
          3898.3400043722063,
          3929.439071756953,
          3935.181216053568,
          3972.560486092686,
          3986.23740286818,
          3987.065466951708,
          3991.702607821144,
          4025.075321650229,
          4025.772616222295,
          4057.773781304777,
          4089.923539804896,
          4245.635610259507,
          4282.197892742313,
          4282.99020683822,
          4289.323672360232,
          4306.524638600238,
          4338.895782306778,
          4398.302507998309,
          4437.368736673066,
          4478.801253448862,
          4489.532069594145,
          4496.761496217234,
          4616.621163574901,
          4633.645780850424,
          4653.947897926788,
          4683.716395121187,
          4695.644177930195,
          4792.250311108124,
          4866.000837851008,
          4880.7389072343085,
          4920.978530413502,
          4952.476859127017,
          4999.631314036837
         ],
         "xaxis": "x",
         "y": [
          46.777961654113,
          47.32414009653999,
          47.357441350159164,
          48.11634499463909,
          48.26084047202639,
          55.22528050362176,
          56.96797390486998,
          57.86983578363434,
          58.37294915902662,
          58.545971821422114,
          59.879578250368155,
          62.47822216404657,
          63.33384599647994,
          63.604549943135595,
          63.61303327986613,
          64.46549805682609,
          64.97864503047688,
          67.68402670511784,
          69.63066606446039,
          70.5040209693847,
          72.03346676778412,
          73.2252062875439,
          76.05726595255241,
          76.67553033344183,
          76.90456777722001,
          77.43107660054217,
          79.16578810753512,
          81.75222211426441,
          82.55918148692058,
          84.37723534660944,
          85.09764008441117,
          86.30938250044132,
          86.3325370259916,
          89.42993787608344,
          89.57717758138584,
          94.38740868831452,
          94.40973685274544,
          95.33880105780354,
          95.4028315801284,
          97.75332840630902,
          100.39612774293738,
          101.27599902777193,
          104.4968011281241,
          104.74075055723537,
          106.93853821309435,
          106.99142983819577,
          107.40810121859558,
          108.43870841487106,
          109.48739725513636,
          111.07086315084133,
          111.31743595167961,
          112.15902681377854,
          112.67490845771192,
          115.15959318298604,
          115.50038127182995,
          116.59159777650774,
          116.72189878633581,
          116.89160012267354,
          117.31666040161296,
          118.12325086269591,
          118.985781838409,
          121.55321977860496,
          122.2738405393603,
          122.30926919816207,
          122.73965042852352,
          123.32501071955195,
          124.08713800944287,
          124.2512892447334,
          124.9264498987283,
          125.1612088372784,
          125.3175453931703,
          128.19957142876092,
          130.3944211433201,
          130.86451470306275,
          131.39086496513272,
          133.5741738809771,
          135.3363728214182,
          135.92069932219206,
          135.9715451929299,
          137.93297660372383,
          139.19363432559274,
          139.79089873699198,
          140.64704957352632,
          140.7295994689427,
          141.52098987144575,
          142.50640393041482,
          143.5615266269761,
          145.5943897898469,
          145.8678774389859,
          146.53130930230492,
          146.74639413239368,
          146.95660936530757,
          147.542884922971,
          150.0386718864628,
          150.29568604617313,
          150.34907671663788,
          151.47618068896145,
          151.68428961924866,
          153.03900303307626,
          153.53468694012355,
          153.5646979467668,
          153.73275893166723,
          154.94226524446515,
          154.9675368538138,
          156.12733498657514,
          157.29251849727103,
          162.93589329616285,
          164.2609971429682,
          164.28971248525727,
          164.51925229942984,
          165.14265611849171,
          166.31586315421757,
          168.46890381235968,
          169.88475660878842,
          171.3863692990862,
          171.77527953083015,
          172.03729110062088,
          176.38128976556052,
          176.998302279831,
          177.7340991614626,
          178.81298011383376,
          179.2452712568035,
          182.7465066832095,
          185.41940071647656,
          185.95354331119776,
          187.411922707884,
          188.5534968578525,
          190.26248615917407
         ],
         "yaxis": "y"
        }
       ],
       "layout": {
        "legend": {
         "title": {
          "text": "Marketing_Channel"
         },
         "tracegroupgap": 0
        },
        "template": {
         "data": {
          "bar": [
           {
            "error_x": {
             "color": "#2a3f5f"
            },
            "error_y": {
             "color": "#2a3f5f"
            },
            "marker": {
             "line": {
              "color": "white",
              "width": 0.5
             },
             "pattern": {
              "fillmode": "overlay",
              "size": 10,
              "solidity": 0.2
             }
            },
            "type": "bar"
           }
          ],
          "barpolar": [
           {
            "marker": {
             "line": {
              "color": "white",
              "width": 0.5
             },
             "pattern": {
              "fillmode": "overlay",
              "size": 10,
              "solidity": 0.2
             }
            },
            "type": "barpolar"
           }
          ],
          "carpet": [
           {
            "aaxis": {
             "endlinecolor": "#2a3f5f",
             "gridcolor": "#C8D4E3",
             "linecolor": "#C8D4E3",
             "minorgridcolor": "#C8D4E3",
             "startlinecolor": "#2a3f5f"
            },
            "baxis": {
             "endlinecolor": "#2a3f5f",
             "gridcolor": "#C8D4E3",
             "linecolor": "#C8D4E3",
             "minorgridcolor": "#C8D4E3",
             "startlinecolor": "#2a3f5f"
            },
            "type": "carpet"
           }
          ],
          "choropleth": [
           {
            "colorbar": {
             "outlinewidth": 0,
             "ticks": ""
            },
            "type": "choropleth"
           }
          ],
          "contour": [
           {
            "colorbar": {
             "outlinewidth": 0,
             "ticks": ""
            },
            "colorscale": [
             [
              0,
              "#0d0887"
             ],
             [
              0.1111111111111111,
              "#46039f"
             ],
             [
              0.2222222222222222,
              "#7201a8"
             ],
             [
              0.3333333333333333,
              "#9c179e"
             ],
             [
              0.4444444444444444,
              "#bd3786"
             ],
             [
              0.5555555555555556,
              "#d8576b"
             ],
             [
              0.6666666666666666,
              "#ed7953"
             ],
             [
              0.7777777777777778,
              "#fb9f3a"
             ],
             [
              0.8888888888888888,
              "#fdca26"
             ],
             [
              1,
              "#f0f921"
             ]
            ],
            "type": "contour"
           }
          ],
          "contourcarpet": [
           {
            "colorbar": {
             "outlinewidth": 0,
             "ticks": ""
            },
            "type": "contourcarpet"
           }
          ],
          "heatmap": [
           {
            "colorbar": {
             "outlinewidth": 0,
             "ticks": ""
            },
            "colorscale": [
             [
              0,
              "#0d0887"
             ],
             [
              0.1111111111111111,
              "#46039f"
             ],
             [
              0.2222222222222222,
              "#7201a8"
             ],
             [
              0.3333333333333333,
              "#9c179e"
             ],
             [
              0.4444444444444444,
              "#bd3786"
             ],
             [
              0.5555555555555556,
              "#d8576b"
             ],
             [
              0.6666666666666666,
              "#ed7953"
             ],
             [
              0.7777777777777778,
              "#fb9f3a"
             ],
             [
              0.8888888888888888,
              "#fdca26"
             ],
             [
              1,
              "#f0f921"
             ]
            ],
            "type": "heatmap"
           }
          ],
          "heatmapgl": [
           {
            "colorbar": {
             "outlinewidth": 0,
             "ticks": ""
            },
            "colorscale": [
             [
              0,
              "#0d0887"
             ],
             [
              0.1111111111111111,
              "#46039f"
             ],
             [
              0.2222222222222222,
              "#7201a8"
             ],
             [
              0.3333333333333333,
              "#9c179e"
             ],
             [
              0.4444444444444444,
              "#bd3786"
             ],
             [
              0.5555555555555556,
              "#d8576b"
             ],
             [
              0.6666666666666666,
              "#ed7953"
             ],
             [
              0.7777777777777778,
              "#fb9f3a"
             ],
             [
              0.8888888888888888,
              "#fdca26"
             ],
             [
              1,
              "#f0f921"
             ]
            ],
            "type": "heatmapgl"
           }
          ],
          "histogram": [
           {
            "marker": {
             "pattern": {
              "fillmode": "overlay",
              "size": 10,
              "solidity": 0.2
             }
            },
            "type": "histogram"
           }
          ],
          "histogram2d": [
           {
            "colorbar": {
             "outlinewidth": 0,
             "ticks": ""
            },
            "colorscale": [
             [
              0,
              "#0d0887"
             ],
             [
              0.1111111111111111,
              "#46039f"
             ],
             [
              0.2222222222222222,
              "#7201a8"
             ],
             [
              0.3333333333333333,
              "#9c179e"
             ],
             [
              0.4444444444444444,
              "#bd3786"
             ],
             [
              0.5555555555555556,
              "#d8576b"
             ],
             [
              0.6666666666666666,
              "#ed7953"
             ],
             [
              0.7777777777777778,
              "#fb9f3a"
             ],
             [
              0.8888888888888888,
              "#fdca26"
             ],
             [
              1,
              "#f0f921"
             ]
            ],
            "type": "histogram2d"
           }
          ],
          "histogram2dcontour": [
           {
            "colorbar": {
             "outlinewidth": 0,
             "ticks": ""
            },
            "colorscale": [
             [
              0,
              "#0d0887"
             ],
             [
              0.1111111111111111,
              "#46039f"
             ],
             [
              0.2222222222222222,
              "#7201a8"
             ],
             [
              0.3333333333333333,
              "#9c179e"
             ],
             [
              0.4444444444444444,
              "#bd3786"
             ],
             [
              0.5555555555555556,
              "#d8576b"
             ],
             [
              0.6666666666666666,
              "#ed7953"
             ],
             [
              0.7777777777777778,
              "#fb9f3a"
             ],
             [
              0.8888888888888888,
              "#fdca26"
             ],
             [
              1,
              "#f0f921"
             ]
            ],
            "type": "histogram2dcontour"
           }
          ],
          "mesh3d": [
           {
            "colorbar": {
             "outlinewidth": 0,
             "ticks": ""
            },
            "type": "mesh3d"
           }
          ],
          "parcoords": [
           {
            "line": {
             "colorbar": {
              "outlinewidth": 0,
              "ticks": ""
             }
            },
            "type": "parcoords"
           }
          ],
          "pie": [
           {
            "automargin": true,
            "type": "pie"
           }
          ],
          "scatter": [
           {
            "fillpattern": {
             "fillmode": "overlay",
             "size": 10,
             "solidity": 0.2
            },
            "type": "scatter"
           }
          ],
          "scatter3d": [
           {
            "line": {
             "colorbar": {
              "outlinewidth": 0,
              "ticks": ""
             }
            },
            "marker": {
             "colorbar": {
              "outlinewidth": 0,
              "ticks": ""
             }
            },
            "type": "scatter3d"
           }
          ],
          "scattercarpet": [
           {
            "marker": {
             "colorbar": {
              "outlinewidth": 0,
              "ticks": ""
             }
            },
            "type": "scattercarpet"
           }
          ],
          "scattergeo": [
           {
            "marker": {
             "colorbar": {
              "outlinewidth": 0,
              "ticks": ""
             }
            },
            "type": "scattergeo"
           }
          ],
          "scattergl": [
           {
            "marker": {
             "colorbar": {
              "outlinewidth": 0,
              "ticks": ""
             }
            },
            "type": "scattergl"
           }
          ],
          "scattermapbox": [
           {
            "marker": {
             "colorbar": {
              "outlinewidth": 0,
              "ticks": ""
             }
            },
            "type": "scattermapbox"
           }
          ],
          "scatterpolar": [
           {
            "marker": {
             "colorbar": {
              "outlinewidth": 0,
              "ticks": ""
             }
            },
            "type": "scatterpolar"
           }
          ],
          "scatterpolargl": [
           {
            "marker": {
             "colorbar": {
              "outlinewidth": 0,
              "ticks": ""
             }
            },
            "type": "scatterpolargl"
           }
          ],
          "scatterternary": [
           {
            "marker": {
             "colorbar": {
              "outlinewidth": 0,
              "ticks": ""
             }
            },
            "type": "scatterternary"
           }
          ],
          "surface": [
           {
            "colorbar": {
             "outlinewidth": 0,
             "ticks": ""
            },
            "colorscale": [
             [
              0,
              "#0d0887"
             ],
             [
              0.1111111111111111,
              "#46039f"
             ],
             [
              0.2222222222222222,
              "#7201a8"
             ],
             [
              0.3333333333333333,
              "#9c179e"
             ],
             [
              0.4444444444444444,
              "#bd3786"
             ],
             [
              0.5555555555555556,
              "#d8576b"
             ],
             [
              0.6666666666666666,
              "#ed7953"
             ],
             [
              0.7777777777777778,
              "#fb9f3a"
             ],
             [
              0.8888888888888888,
              "#fdca26"
             ],
             [
              1,
              "#f0f921"
             ]
            ],
            "type": "surface"
           }
          ],
          "table": [
           {
            "cells": {
             "fill": {
              "color": "#EBF0F8"
             },
             "line": {
              "color": "white"
             }
            },
            "header": {
             "fill": {
              "color": "#C8D4E3"
             },
             "line": {
              "color": "white"
             }
            },
            "type": "table"
           }
          ]
         },
         "layout": {
          "annotationdefaults": {
           "arrowcolor": "#2a3f5f",
           "arrowhead": 0,
           "arrowwidth": 1
          },
          "autotypenumbers": "strict",
          "coloraxis": {
           "colorbar": {
            "outlinewidth": 0,
            "ticks": ""
           }
          },
          "colorscale": {
           "diverging": [
            [
             0,
             "#8e0152"
            ],
            [
             0.1,
             "#c51b7d"
            ],
            [
             0.2,
             "#de77ae"
            ],
            [
             0.3,
             "#f1b6da"
            ],
            [
             0.4,
             "#fde0ef"
            ],
            [
             0.5,
             "#f7f7f7"
            ],
            [
             0.6,
             "#e6f5d0"
            ],
            [
             0.7,
             "#b8e186"
            ],
            [
             0.8,
             "#7fbc41"
            ],
            [
             0.9,
             "#4d9221"
            ],
            [
             1,
             "#276419"
            ]
           ],
           "sequential": [
            [
             0,
             "#0d0887"
            ],
            [
             0.1111111111111111,
             "#46039f"
            ],
            [
             0.2222222222222222,
             "#7201a8"
            ],
            [
             0.3333333333333333,
             "#9c179e"
            ],
            [
             0.4444444444444444,
             "#bd3786"
            ],
            [
             0.5555555555555556,
             "#d8576b"
            ],
            [
             0.6666666666666666,
             "#ed7953"
            ],
            [
             0.7777777777777778,
             "#fb9f3a"
            ],
            [
             0.8888888888888888,
             "#fdca26"
            ],
            [
             1,
             "#f0f921"
            ]
           ],
           "sequentialminus": [
            [
             0,
             "#0d0887"
            ],
            [
             0.1111111111111111,
             "#46039f"
            ],
            [
             0.2222222222222222,
             "#7201a8"
            ],
            [
             0.3333333333333333,
             "#9c179e"
            ],
            [
             0.4444444444444444,
             "#bd3786"
            ],
            [
             0.5555555555555556,
             "#d8576b"
            ],
            [
             0.6666666666666666,
             "#ed7953"
            ],
            [
             0.7777777777777778,
             "#fb9f3a"
            ],
            [
             0.8888888888888888,
             "#fdca26"
            ],
            [
             1,
             "#f0f921"
            ]
           ]
          },
          "colorway": [
           "#636efa",
           "#EF553B",
           "#00cc96",
           "#ab63fa",
           "#FFA15A",
           "#19d3f3",
           "#FF6692",
           "#B6E880",
           "#FF97FF",
           "#FECB52"
          ],
          "font": {
           "color": "#2a3f5f"
          },
          "geo": {
           "bgcolor": "white",
           "lakecolor": "white",
           "landcolor": "white",
           "showlakes": true,
           "showland": true,
           "subunitcolor": "#C8D4E3"
          },
          "hoverlabel": {
           "align": "left"
          },
          "hovermode": "closest",
          "mapbox": {
           "style": "light"
          },
          "paper_bgcolor": "white",
          "plot_bgcolor": "white",
          "polar": {
           "angularaxis": {
            "gridcolor": "#EBF0F8",
            "linecolor": "#EBF0F8",
            "ticks": ""
           },
           "bgcolor": "white",
           "radialaxis": {
            "gridcolor": "#EBF0F8",
            "linecolor": "#EBF0F8",
            "ticks": ""
           }
          },
          "scene": {
           "xaxis": {
            "backgroundcolor": "white",
            "gridcolor": "#DFE8F3",
            "gridwidth": 2,
            "linecolor": "#EBF0F8",
            "showbackground": true,
            "ticks": "",
            "zerolinecolor": "#EBF0F8"
           },
           "yaxis": {
            "backgroundcolor": "white",
            "gridcolor": "#DFE8F3",
            "gridwidth": 2,
            "linecolor": "#EBF0F8",
            "showbackground": true,
            "ticks": "",
            "zerolinecolor": "#EBF0F8"
           },
           "zaxis": {
            "backgroundcolor": "white",
            "gridcolor": "#DFE8F3",
            "gridwidth": 2,
            "linecolor": "#EBF0F8",
            "showbackground": true,
            "ticks": "",
            "zerolinecolor": "#EBF0F8"
           }
          },
          "shapedefaults": {
           "line": {
            "color": "#2a3f5f"
           }
          },
          "ternary": {
           "aaxis": {
            "gridcolor": "#DFE8F3",
            "linecolor": "#A2B1C6",
            "ticks": ""
           },
           "baxis": {
            "gridcolor": "#DFE8F3",
            "linecolor": "#A2B1C6",
            "ticks": ""
           },
           "bgcolor": "white",
           "caxis": {
            "gridcolor": "#DFE8F3",
            "linecolor": "#A2B1C6",
            "ticks": ""
           }
          },
          "title": {
           "x": 0.05
          },
          "xaxis": {
           "automargin": true,
           "gridcolor": "#EBF0F8",
           "linecolor": "#EBF0F8",
           "ticks": "",
           "title": {
            "standoff": 15
           },
           "zerolinecolor": "#EBF0F8",
           "zerolinewidth": 2
          },
          "yaxis": {
           "automargin": true,
           "gridcolor": "#EBF0F8",
           "linecolor": "#EBF0F8",
           "ticks": "",
           "title": {
            "standoff": 15
           },
           "zerolinecolor": "#EBF0F8",
           "zerolinewidth": 2
          }
         }
        },
        "title": {
         "text": "Customer Acquisition Cost(CAC) vs Marketing Spend by Marketing Channel",
         "x": 0.5
        },
        "xaxis": {
         "anchor": "y",
         "domain": [
          0,
          1
         ],
         "tickformat": ",.0f",
         "title": {
          "text": "Marketing Spend (INR)"
         }
        },
        "yaxis": {
         "anchor": "x",
         "domain": [
          0,
          1
         ],
         "tickformat": ".2f",
         "title": {
          "text": "CAC (INR)"
         }
        }
       }
      }
     },
     "metadata": {},
     "output_type": "display_data"
    }
   ],
   "source": [
    "fig3 = px.scatter(df_sorted, x='Marketing_Spend', y='CAC', color='Marketing_Channel',\n",
    "                  title='Customer Acquisition Cost(CAC) vs Marketing Spend by Marketing Channel', \n",
    "                  trendline='ols',\n",
    "                  labels={'CAC': 'CAC (INR)', 'Marketing_Spend': 'Marketing Spend (INR)'},\n",
    "                  color_discrete_sequence=px.colors.qualitative.Set1,\n",
    "                  hover_data=['CAC', 'Marketing_Spend', 'New_Customers'])\n",
    "fig3.update_traces(marker=dict(size=8, opacity=0.8, line=dict(width=1, color='DarkSlateGrey')),\n",
    "                   text=df_sorted['CAC'].round(2).astype(str), textposition='top center')\n",
    "fig3.update_layout(xaxis_title='Marketing Spend (INR)', yaxis_title='CAC (INR)', \n",
    "                   title_x=0.5, xaxis=dict(tickformat=\",.0f\"), yaxis=dict(tickformat=\".2f\"))\n",
    "fig3.show()"
   ]
  },
  {
   "cell_type": "markdown",
   "metadata": {},
   "source": [
    "# Summary Stats"
   ]
  },
  {
   "cell_type": "code",
   "execution_count": 10,
   "metadata": {},
   "outputs": [
    {
     "name": "stdout",
     "output_type": "stream",
     "text": [
      "  Marketing_Channel  count        mean        std        min        25%  \\\n",
      "0   Email Marketing  124.0  132.913758  89.597107  23.491784  68.226195   \n",
      "1        Online Ads  130.0  122.135938  79.543793  24.784414  62.207753   \n",
      "2          Referral  128.0  119.892174  74.101916  22.012364  71.347939   \n",
      "3      Social Media  118.0  126.181913  77.498788  21.616453  75.633389   \n",
      "\n",
      "          50%         75%         max  \n",
      "0  106.940622  177.441898  434.383446  \n",
      "1   97.736027  163.469540  386.751285  \n",
      "2   99.835688  137.577935  366.525209  \n",
      "3  102.620356  167.354709  435.487346  \n"
     ]
    }
   ],
   "source": [
    "summary = df.groupby('Marketing_Channel')['CAC'].describe().reset_index()\n",
    "# Display the summary DataFrame\n",
    "print(summary)"
   ]
  },
  {
   "cell_type": "markdown",
   "metadata": {},
   "source": [
    "# Conversion Rate by Marketing Channel"
   ]
  },
  {
   "cell_type": "code",
   "execution_count": 11,
   "metadata": {},
   "outputs": [
    {
     "data": {
      "application/vnd.plotly.v1+json": {
       "config": {
        "plotlyServerURL": "https://plot.ly"
       },
       "data": [
        {
         "alignmentgroup": "True",
         "hovertemplate": "Marketing_Channel=%{x}<br>Conversion Rate (%)=%{y}<extra></extra>",
         "legendgroup": "Email Marketing",
         "marker": {
          "color": "rgb(141,211,199)"
         },
         "name": "Email Marketing",
         "notched": false,
         "offsetgroup": "Email Marketing",
         "orientation": "v",
         "showlegend": true,
         "type": "box",
         "x": [
          "Email Marketing",
          "Email Marketing",
          "Email Marketing",
          "Email Marketing",
          "Email Marketing",
          "Email Marketing",
          "Email Marketing",
          "Email Marketing",
          "Email Marketing",
          "Email Marketing",
          "Email Marketing",
          "Email Marketing",
          "Email Marketing",
          "Email Marketing",
          "Email Marketing",
          "Email Marketing",
          "Email Marketing",
          "Email Marketing",
          "Email Marketing",
          "Email Marketing",
          "Email Marketing",
          "Email Marketing",
          "Email Marketing",
          "Email Marketing",
          "Email Marketing",
          "Email Marketing",
          "Email Marketing",
          "Email Marketing",
          "Email Marketing",
          "Email Marketing",
          "Email Marketing",
          "Email Marketing",
          "Email Marketing",
          "Email Marketing",
          "Email Marketing",
          "Email Marketing",
          "Email Marketing",
          "Email Marketing",
          "Email Marketing",
          "Email Marketing",
          "Email Marketing",
          "Email Marketing",
          "Email Marketing",
          "Email Marketing",
          "Email Marketing",
          "Email Marketing",
          "Email Marketing",
          "Email Marketing",
          "Email Marketing",
          "Email Marketing",
          "Email Marketing",
          "Email Marketing",
          "Email Marketing",
          "Email Marketing",
          "Email Marketing",
          "Email Marketing",
          "Email Marketing",
          "Email Marketing",
          "Email Marketing",
          "Email Marketing",
          "Email Marketing",
          "Email Marketing",
          "Email Marketing",
          "Email Marketing",
          "Email Marketing",
          "Email Marketing",
          "Email Marketing",
          "Email Marketing",
          "Email Marketing",
          "Email Marketing",
          "Email Marketing",
          "Email Marketing",
          "Email Marketing",
          "Email Marketing",
          "Email Marketing",
          "Email Marketing",
          "Email Marketing",
          "Email Marketing",
          "Email Marketing",
          "Email Marketing",
          "Email Marketing",
          "Email Marketing",
          "Email Marketing",
          "Email Marketing",
          "Email Marketing",
          "Email Marketing",
          "Email Marketing",
          "Email Marketing",
          "Email Marketing",
          "Email Marketing",
          "Email Marketing",
          "Email Marketing",
          "Email Marketing",
          "Email Marketing",
          "Email Marketing",
          "Email Marketing",
          "Email Marketing",
          "Email Marketing",
          "Email Marketing",
          "Email Marketing",
          "Email Marketing",
          "Email Marketing",
          "Email Marketing",
          "Email Marketing",
          "Email Marketing",
          "Email Marketing",
          "Email Marketing",
          "Email Marketing",
          "Email Marketing",
          "Email Marketing",
          "Email Marketing",
          "Email Marketing",
          "Email Marketing",
          "Email Marketing",
          "Email Marketing",
          "Email Marketing",
          "Email Marketing",
          "Email Marketing",
          "Email Marketing",
          "Email Marketing",
          "Email Marketing",
          "Email Marketing",
          "Email Marketing",
          "Email Marketing"
         ],
         "x0": " ",
         "xaxis": "x",
         "y": [
          0.4585804618323859,
          1.1728531214124038,
          0.9801180005515386,
          0.9968001762937526,
          0.2744484071267834,
          0.30039070613278407,
          1.8830619563834514,
          0.5833718905982171,
          2.9822381935260314,
          0.734127475035638,
          0.5835598903754097,
          0.6391987565427537,
          0.49577281126945255,
          1.234456575336569,
          0.2337975548947345,
          0.3367824327436958,
          0.9088486273242451,
          1.117106097151089,
          0.8509987493244319,
          1.6919904562698995,
          0.7936919588862548,
          2.0719475766605404,
          1.9708415572606581,
          0.9162887508397024,
          0.41638482854127373,
          1.3076351766045846,
          2.4893487300489037,
          0.7600681827244729,
          0.9535348506954174,
          1.2862557468427536,
          0.5951408809339247,
          0.8650491032276926,
          0.9019240724602072,
          0.6026261097399457,
          0.3935541323213181,
          2.495576188189052,
          2.2324162239082623,
          1.4314895924828708,
          0.5344165434134667,
          0.48539906292907364,
          1.4101952001193223,
          1.580258178624001,
          1.3929228266354625,
          2.1667082993801356,
          1.6292221075846416,
          0.42786368445543943,
          0.6315709900766339,
          2.0881591644557536,
          0.3566791574415862,
          2.5012007127557716,
          0.439864210647431,
          0.2681714850304975,
          0.2302113513338715,
          0.6968015277471078,
          0.4601574044318807,
          0.48792040051408353,
          0.8790188833944155,
          2.14373873816501,
          1.0034098269174654,
          1.8000769599808983,
          0.7221956300159678,
          0.6036526189564727,
          0.7739332328871572,
          0.4965765243992638,
          0.3184246188483693,
          1.3442499116412987,
          1.6827035795163,
          2.6323640568419306,
          0.5159382445157189,
          1.3606695507567468,
          0.3234322486007242,
          1.2931881842196513,
          0.4206047613215115,
          1.045135799341876,
          0.5048046916306006,
          1.8685426478023386,
          0.9208085927955609,
          4.2568074143457535,
          0.9727252539844196,
          1.0839074147533858,
          3.3228506159667637,
          0.8462654326801586,
          1.1387697837353814,
          1.062055180141006,
          0.7886107665663984,
          1.1202848395449012,
          0.9498386391812154,
          1.1510576349550568,
          0.7738396499986205,
          3.799757628635643,
          1.578958760976913,
          1.3889513381981842,
          0.8655975310084882,
          0.6673498960685881,
          0.34237072596190904,
          1.5907038791496069,
          0.547496746577197,
          0.5278138595202452,
          1.922792357679217,
          1.1189976585294055,
          0.27564988395992773,
          1.0620739257852276,
          1.2304161355667202,
          1.1400952039765313,
          0.8839759983883844,
          1.0411850261141862,
          2.7384527785278614,
          0.45346116037881246,
          2.1112864729698586,
          0.8557474635679707,
          0.5691324158577792,
          0.8648175207842907,
          0.6992364137638368,
          1.7026444236677132,
          3.1394230133819914,
          0.3747019427175987,
          0.8626985843523295,
          2.155055157598434,
          0.9620885479824254,
          0.5015625626233452,
          1.2703123820146711,
          0.3779217071377486,
          2.0394395350307417,
          1.6801295931123346
         ],
         "y0": " ",
         "yaxis": "y"
        },
        {
         "alignmentgroup": "True",
         "hovertemplate": "Marketing_Channel=%{x}<br>Conversion Rate (%)=%{y}<extra></extra>",
         "legendgroup": "Online Ads",
         "marker": {
          "color": "rgb(255,255,179)"
         },
         "name": "Online Ads",
         "notched": false,
         "offsetgroup": "Online Ads",
         "orientation": "v",
         "showlegend": true,
         "type": "box",
         "x": [
          "Online Ads",
          "Online Ads",
          "Online Ads",
          "Online Ads",
          "Online Ads",
          "Online Ads",
          "Online Ads",
          "Online Ads",
          "Online Ads",
          "Online Ads",
          "Online Ads",
          "Online Ads",
          "Online Ads",
          "Online Ads",
          "Online Ads",
          "Online Ads",
          "Online Ads",
          "Online Ads",
          "Online Ads",
          "Online Ads",
          "Online Ads",
          "Online Ads",
          "Online Ads",
          "Online Ads",
          "Online Ads",
          "Online Ads",
          "Online Ads",
          "Online Ads",
          "Online Ads",
          "Online Ads",
          "Online Ads",
          "Online Ads",
          "Online Ads",
          "Online Ads",
          "Online Ads",
          "Online Ads",
          "Online Ads",
          "Online Ads",
          "Online Ads",
          "Online Ads",
          "Online Ads",
          "Online Ads",
          "Online Ads",
          "Online Ads",
          "Online Ads",
          "Online Ads",
          "Online Ads",
          "Online Ads",
          "Online Ads",
          "Online Ads",
          "Online Ads",
          "Online Ads",
          "Online Ads",
          "Online Ads",
          "Online Ads",
          "Online Ads",
          "Online Ads",
          "Online Ads",
          "Online Ads",
          "Online Ads",
          "Online Ads",
          "Online Ads",
          "Online Ads",
          "Online Ads",
          "Online Ads",
          "Online Ads",
          "Online Ads",
          "Online Ads",
          "Online Ads",
          "Online Ads",
          "Online Ads",
          "Online Ads",
          "Online Ads",
          "Online Ads",
          "Online Ads",
          "Online Ads",
          "Online Ads",
          "Online Ads",
          "Online Ads",
          "Online Ads",
          "Online Ads",
          "Online Ads",
          "Online Ads",
          "Online Ads",
          "Online Ads",
          "Online Ads",
          "Online Ads",
          "Online Ads",
          "Online Ads",
          "Online Ads",
          "Online Ads",
          "Online Ads",
          "Online Ads",
          "Online Ads",
          "Online Ads",
          "Online Ads",
          "Online Ads",
          "Online Ads",
          "Online Ads",
          "Online Ads",
          "Online Ads",
          "Online Ads",
          "Online Ads",
          "Online Ads",
          "Online Ads",
          "Online Ads",
          "Online Ads",
          "Online Ads",
          "Online Ads",
          "Online Ads",
          "Online Ads",
          "Online Ads",
          "Online Ads",
          "Online Ads",
          "Online Ads",
          "Online Ads",
          "Online Ads",
          "Online Ads",
          "Online Ads",
          "Online Ads",
          "Online Ads",
          "Online Ads",
          "Online Ads",
          "Online Ads",
          "Online Ads",
          "Online Ads",
          "Online Ads",
          "Online Ads",
          "Online Ads",
          "Online Ads"
         ],
         "x0": " ",
         "xaxis": "x",
         "y": [
          2.97870010726991,
          0.9823279411821808,
          0.7727992165740801,
          1.5498235752505518,
          0.8122855979272771,
          1.236118747542764,
          1.9074074014289204,
          1.5429900979054187,
          1.4567674836658495,
          0.5575849224546858,
          0.5001618303962115,
          1.724672474515137,
          0.6585875682374209,
          1.7453286295961354,
          1.334621107710521,
          0.29654478305963977,
          0.43454047583093397,
          1.2254309702661619,
          2.2233896735793977,
          1.137865369552446,
          2.039158190177026,
          0.8052609940841986,
          1.0445951852358188,
          1.2232089035969143,
          2.531064056994667,
          1.1923891154865478,
          3.049874441338165,
          1.0899649471082615,
          1.7786395256864345,
          1.7132830527323955,
          1.316106804478805,
          0.8987080175149964,
          0.7198851496713041,
          0.572618188162194,
          0.746869166214988,
          0.548644167284546,
          2.082781780392205,
          1.6300239468978812,
          1.5258110193959116,
          1.3497486260456966,
          1.112042531786503,
          0.5596411195290657,
          1.4215297688909176,
          4.034793765155021,
          2.8181533249589186,
          0.3383201322700698,
          0.5426402169696873,
          0.7882588885330385,
          0.696619157441029,
          1.0355014754247758,
          0.3568805678262496,
          0.5525627257393811,
          1.2625123744653073,
          2.999401329635646,
          1.3394689286495358,
          1.5577092827677832,
          0.34670922589121606,
          0.31681168601255083,
          2.955727831149655,
          1.210519549138352,
          1.2817272518256988,
          1.0483616509433158,
          0.6037710568482353,
          2.411866328769724,
          0.5898674731306581,
          0.2773126660674931,
          0.6284944100065529,
          0.508598295275319,
          3.223514955092784,
          0.5573951708499834,
          0.25856410511243044,
          1.7579392361312378,
          0.8831764538391333,
          0.6407863650187301,
          2.149668813306897,
          0.7562460924844878,
          1.090680539947041,
          2.112414228094391,
          0.6238643960438826,
          1.4030389736110036,
          1.6203158241794413,
          0.5333364508938148,
          0.40109828523638313,
          0.4619012768845348,
          1.5886099309114037,
          2.3833690910307257,
          1.311699387356935,
          1.0828620303264662,
          1.0026401863121936,
          0.7288591989889592,
          0.2843637000516652,
          0.5304641498060402,
          1.160501404406322,
          0.31823330495014157,
          1.0557471706414052,
          1.0437794764313155,
          0.8795214327188587,
          0.8417333491929163,
          1.7936930094946413,
          2.1487990469472855,
          0.40243282437645544,
          2.8800740447017406,
          1.6139193339481273,
          1.6965293931274412,
          1.0111173678785754,
          0.7747386118813285,
          0.42903719154777137,
          0.5542170092319662,
          0.581085543528217,
          0.7895171272368006,
          1.1329362972909234,
          0.8824385691771366,
          2.1469482910253816,
          0.5725831709320411,
          2.247250986178818,
          2.2319327196058807,
          0.6754048603360621,
          0.8004073766674532,
          1.7457673886555534,
          0.704728666309478,
          0.8267505009003776,
          3.908740548826474,
          0.3218177201988819,
          0.9056505047990511,
          0.7913762439671814,
          0.902412336639953,
          0.7879167726323885,
          0.607795691751067,
          0.4326612604648057,
          0.9046088245815981
         ],
         "y0": " ",
         "yaxis": "y"
        },
        {
         "alignmentgroup": "True",
         "hovertemplate": "Marketing_Channel=%{x}<br>Conversion Rate (%)=%{y}<extra></extra>",
         "legendgroup": "Social Media",
         "marker": {
          "color": "rgb(190,186,218)"
         },
         "name": "Social Media",
         "notched": false,
         "offsetgroup": "Social Media",
         "orientation": "v",
         "showlegend": true,
         "type": "box",
         "x": [
          "Social Media",
          "Social Media",
          "Social Media",
          "Social Media",
          "Social Media",
          "Social Media",
          "Social Media",
          "Social Media",
          "Social Media",
          "Social Media",
          "Social Media",
          "Social Media",
          "Social Media",
          "Social Media",
          "Social Media",
          "Social Media",
          "Social Media",
          "Social Media",
          "Social Media",
          "Social Media",
          "Social Media",
          "Social Media",
          "Social Media",
          "Social Media",
          "Social Media",
          "Social Media",
          "Social Media",
          "Social Media",
          "Social Media",
          "Social Media",
          "Social Media",
          "Social Media",
          "Social Media",
          "Social Media",
          "Social Media",
          "Social Media",
          "Social Media",
          "Social Media",
          "Social Media",
          "Social Media",
          "Social Media",
          "Social Media",
          "Social Media",
          "Social Media",
          "Social Media",
          "Social Media",
          "Social Media",
          "Social Media",
          "Social Media",
          "Social Media",
          "Social Media",
          "Social Media",
          "Social Media",
          "Social Media",
          "Social Media",
          "Social Media",
          "Social Media",
          "Social Media",
          "Social Media",
          "Social Media",
          "Social Media",
          "Social Media",
          "Social Media",
          "Social Media",
          "Social Media",
          "Social Media",
          "Social Media",
          "Social Media",
          "Social Media",
          "Social Media",
          "Social Media",
          "Social Media",
          "Social Media",
          "Social Media",
          "Social Media",
          "Social Media",
          "Social Media",
          "Social Media",
          "Social Media",
          "Social Media",
          "Social Media",
          "Social Media",
          "Social Media",
          "Social Media",
          "Social Media",
          "Social Media",
          "Social Media",
          "Social Media",
          "Social Media",
          "Social Media",
          "Social Media",
          "Social Media",
          "Social Media",
          "Social Media",
          "Social Media",
          "Social Media",
          "Social Media",
          "Social Media",
          "Social Media",
          "Social Media",
          "Social Media",
          "Social Media",
          "Social Media",
          "Social Media",
          "Social Media",
          "Social Media",
          "Social Media",
          "Social Media",
          "Social Media",
          "Social Media",
          "Social Media",
          "Social Media",
          "Social Media",
          "Social Media",
          "Social Media",
          "Social Media",
          "Social Media",
          "Social Media"
         ],
         "x0": " ",
         "xaxis": "x",
         "y": [
          1.7080208101711902,
          1.415323838128053,
          1.2497999025226132,
          0.5725761682402176,
          1.1585472169197304,
          4.262212387058198,
          1.0051736418534856,
          1.3803830120417355,
          0.9568213975407812,
          1.207724988292905,
          0.6697881413949299,
          0.31052916100928424,
          0.3012865461141381,
          0.329089794143524,
          0.8977515604965544,
          0.5112491835551166,
          1.0939730221202084,
          0.31768704659374175,
          1.0825081681356346,
          0.9304923575288625,
          1.0616462784783112,
          0.9568265615240238,
          0.8389801747901077,
          2.623498644000473,
          1.6630528075786168,
          1.0040811513844738,
          1.1114518361568586,
          0.6318241992275692,
          0.6806522718614647,
          0.3267186605434321,
          1.1082760437558585,
          0.4246906384972514,
          1.629327788651783,
          0.5667203681076155,
          3.471341848620018,
          0.9273959751362183,
          0.22962779749306916,
          0.8191566339555925,
          2.331759762691271,
          3.067172390036133,
          0.7137720995678009,
          1.2017273567844495,
          1.2591979714828465,
          0.5326467529701793,
          0.48177538779283335,
          2.1638631575977,
          0.5755999351090905,
          0.789067295050409,
          0.9854284522060311,
          0.5869153556402792,
          1.565680961701217,
          1.7487132883266425,
          1.2226486573512816,
          1.218602840040765,
          1.328569008884738,
          2.0060223012645277,
          1.1443948323505169,
          1.9996227390870578,
          1.2128826521261518,
          1.7882782302559135,
          1.08932784303842,
          0.5600417350494478,
          2.053780794055106,
          0.9984211506067443,
          0.7497008931204284,
          0.5834688371636195,
          1.8046675283417812,
          1.4583164137119364,
          0.9263372023997818,
          3.396980420359096,
          1.0140427394279754,
          1.355125416045136,
          0.9637438492916903,
          0.49893801652526837,
          1.7647230502014104,
          0.4705757366466702,
          0.4386147848483924,
          1.0749672803277033,
          1.5497091519189103,
          1.6892407299942496,
          1.518308660344304,
          0.6914459490341076,
          0.3439886642731466,
          2.8617382081688896,
          1.2862965473720436,
          4.626105945882395,
          0.45039361117174026,
          0.6732050521070387,
          0.4042643373222028,
          0.6866843256702307,
          2.399528615445971,
          1.7725097940310384,
          1.159288945585326,
          1.3033274140047502,
          0.3017642238261477,
          0.8550875167307092,
          0.9049440963670915,
          0.45929964263531214,
          1.182382123184635,
          0.502041294945906,
          0.5012627485649983,
          1.1337631123780525,
          0.6982840096743915,
          0.9956498219502442,
          0.4876312961748088,
          0.3894267210364713,
          0.9324728339015663,
          0.693107300568584,
          1.0607441500416566,
          0.8846629099253662,
          0.8602108873178412,
          0.792068944824801,
          0.8427023495972032,
          0.5225865739328952,
          1.0144086087667763,
          0.6450154937958441,
          0.7251865823171059,
          0.5830635838972962
         ],
         "y0": " ",
         "yaxis": "y"
        },
        {
         "alignmentgroup": "True",
         "hovertemplate": "Marketing_Channel=%{x}<br>Conversion Rate (%)=%{y}<extra></extra>",
         "legendgroup": "Referral",
         "marker": {
          "color": "rgb(251,128,114)"
         },
         "name": "Referral",
         "notched": false,
         "offsetgroup": "Referral",
         "orientation": "v",
         "showlegend": true,
         "type": "box",
         "x": [
          "Referral",
          "Referral",
          "Referral",
          "Referral",
          "Referral",
          "Referral",
          "Referral",
          "Referral",
          "Referral",
          "Referral",
          "Referral",
          "Referral",
          "Referral",
          "Referral",
          "Referral",
          "Referral",
          "Referral",
          "Referral",
          "Referral",
          "Referral",
          "Referral",
          "Referral",
          "Referral",
          "Referral",
          "Referral",
          "Referral",
          "Referral",
          "Referral",
          "Referral",
          "Referral",
          "Referral",
          "Referral",
          "Referral",
          "Referral",
          "Referral",
          "Referral",
          "Referral",
          "Referral",
          "Referral",
          "Referral",
          "Referral",
          "Referral",
          "Referral",
          "Referral",
          "Referral",
          "Referral",
          "Referral",
          "Referral",
          "Referral",
          "Referral",
          "Referral",
          "Referral",
          "Referral",
          "Referral",
          "Referral",
          "Referral",
          "Referral",
          "Referral",
          "Referral",
          "Referral",
          "Referral",
          "Referral",
          "Referral",
          "Referral",
          "Referral",
          "Referral",
          "Referral",
          "Referral",
          "Referral",
          "Referral",
          "Referral",
          "Referral",
          "Referral",
          "Referral",
          "Referral",
          "Referral",
          "Referral",
          "Referral",
          "Referral",
          "Referral",
          "Referral",
          "Referral",
          "Referral",
          "Referral",
          "Referral",
          "Referral",
          "Referral",
          "Referral",
          "Referral",
          "Referral",
          "Referral",
          "Referral",
          "Referral",
          "Referral",
          "Referral",
          "Referral",
          "Referral",
          "Referral",
          "Referral",
          "Referral",
          "Referral",
          "Referral",
          "Referral",
          "Referral",
          "Referral",
          "Referral",
          "Referral",
          "Referral",
          "Referral",
          "Referral",
          "Referral",
          "Referral",
          "Referral",
          "Referral",
          "Referral",
          "Referral",
          "Referral",
          "Referral",
          "Referral",
          "Referral",
          "Referral",
          "Referral",
          "Referral",
          "Referral",
          "Referral",
          "Referral",
          "Referral",
          "Referral"
         ],
         "x0": " ",
         "xaxis": "x",
         "y": [
          1.7500671438448065,
          1.670482251990852,
          0.4600339216098953,
          1.3030151751001589,
          1.7567866320433156,
          0.6645030891315677,
          0.9616113202258784,
          1.2566147501296228,
          0.27557163147492864,
          0.34230468769760547,
          1.4003991601527097,
          0.2728325297811601,
          1.0024890468650256,
          1.2764644915262422,
          0.9402362424647317,
          0.4440649978406455,
          2.0049729385041246,
          1.6440269772993996,
          1.514758562584444,
          0.9724724583204277,
          1.6336658826813566,
          0.9390160588167303,
          0.8481828945242329,
          0.7963582809376004,
          1.0564436304017752,
          0.7031788586029589,
          0.7479003800716367,
          0.9037826373832168,
          2.51937971264628,
          1.532282981190306,
          1.1543374859435038,
          1.6885594551544754,
          2.2822836346124316,
          4.542901447642595,
          0.924585584707232,
          1.528119418571546,
          1.8993301149221482,
          0.7463667635155041,
          0.5175251537370684,
          0.7578808740514983,
          1.5754971642398732,
          0.4018243647847746,
          2.123575340037954,
          0.9777068670949576,
          0.4046303186536391,
          1.3999071946896713,
          0.9997941666661405,
          1.1956267065421178,
          1.0304859826431305,
          0.8848324179081978,
          1.1145878411972021,
          2.1370166486436353,
          0.44749386772657895,
          1.3780674752151783,
          3.253219874604734,
          3.5156914002422033,
          1.2511765246753803,
          0.745327667252209,
          1.1459760432887076,
          0.9272273076204962,
          0.7580819360191141,
          1.0095958329992802,
          0.9915602943598648,
          0.4495084639359674,
          0.7451985708063017,
          0.5711617624183795,
          1.0322569161891126,
          0.4218296733091522,
          1.3680740034097152,
          0.46825890936997,
          0.9679882188290465,
          0.44706555543845006,
          0.5275368348437259,
          0.49040237107191764,
          2.345924452258986,
          1.1649612317480398,
          2.1004028109573314,
          1.527588719140926,
          0.9452628971522407,
          1.7721833698159268,
          0.42589560022907746,
          2.067985237795488,
          0.7066376656381667,
          1.107019167787864,
          0.510943021956401,
          0.8755716105792021,
          0.9806233022186887,
          1.2628089534644793,
          0.357066160475233,
          0.2902562374249017,
          0.7338614695878415,
          0.45105935921809104,
          1.2597128649171367,
          1.8182407188602117,
          2.1020809131555787,
          1.9114408746494018,
          0.6760763366826398,
          1.9047334924188146,
          0.2895624710656139,
          1.256199552135135,
          0.32025850274847584,
          0.526703164873173,
          1.1521234071290438,
          1.1952472805486936,
          1.3432608719619883,
          0.9843198385636638,
          0.9083604012233657,
          0.5243284789920075,
          1.3726564148626894,
          0.4765389929236516,
          1.1317527743604414,
          0.5089784988333586,
          1.5435121556307199,
          0.7850119289595657,
          0.8165110747571542,
          1.3807520824488617,
          0.8198425622215924,
          0.6271578301385659,
          1.2314951843323156,
          0.9453348146219219,
          1.0008040181560969,
          1.8945231431587903,
          1.4051432830035533,
          1.7136736848072587,
          1.077260273300309,
          1.2435269856848388,
          1.1407014885150712,
          0.8306984906970667
         ],
         "y0": " ",
         "yaxis": "y"
        }
       ],
       "layout": {
        "boxmode": "overlay",
        "legend": {
         "title": {
          "text": "Marketing_Channel"
         },
         "tracegroupgap": 0
        },
        "showlegend": false,
        "template": {
         "data": {
          "bar": [
           {
            "error_x": {
             "color": "#2a3f5f"
            },
            "error_y": {
             "color": "#2a3f5f"
            },
            "marker": {
             "line": {
              "color": "white",
              "width": 0.5
             },
             "pattern": {
              "fillmode": "overlay",
              "size": 10,
              "solidity": 0.2
             }
            },
            "type": "bar"
           }
          ],
          "barpolar": [
           {
            "marker": {
             "line": {
              "color": "white",
              "width": 0.5
             },
             "pattern": {
              "fillmode": "overlay",
              "size": 10,
              "solidity": 0.2
             }
            },
            "type": "barpolar"
           }
          ],
          "carpet": [
           {
            "aaxis": {
             "endlinecolor": "#2a3f5f",
             "gridcolor": "#C8D4E3",
             "linecolor": "#C8D4E3",
             "minorgridcolor": "#C8D4E3",
             "startlinecolor": "#2a3f5f"
            },
            "baxis": {
             "endlinecolor": "#2a3f5f",
             "gridcolor": "#C8D4E3",
             "linecolor": "#C8D4E3",
             "minorgridcolor": "#C8D4E3",
             "startlinecolor": "#2a3f5f"
            },
            "type": "carpet"
           }
          ],
          "choropleth": [
           {
            "colorbar": {
             "outlinewidth": 0,
             "ticks": ""
            },
            "type": "choropleth"
           }
          ],
          "contour": [
           {
            "colorbar": {
             "outlinewidth": 0,
             "ticks": ""
            },
            "colorscale": [
             [
              0,
              "#0d0887"
             ],
             [
              0.1111111111111111,
              "#46039f"
             ],
             [
              0.2222222222222222,
              "#7201a8"
             ],
             [
              0.3333333333333333,
              "#9c179e"
             ],
             [
              0.4444444444444444,
              "#bd3786"
             ],
             [
              0.5555555555555556,
              "#d8576b"
             ],
             [
              0.6666666666666666,
              "#ed7953"
             ],
             [
              0.7777777777777778,
              "#fb9f3a"
             ],
             [
              0.8888888888888888,
              "#fdca26"
             ],
             [
              1,
              "#f0f921"
             ]
            ],
            "type": "contour"
           }
          ],
          "contourcarpet": [
           {
            "colorbar": {
             "outlinewidth": 0,
             "ticks": ""
            },
            "type": "contourcarpet"
           }
          ],
          "heatmap": [
           {
            "colorbar": {
             "outlinewidth": 0,
             "ticks": ""
            },
            "colorscale": [
             [
              0,
              "#0d0887"
             ],
             [
              0.1111111111111111,
              "#46039f"
             ],
             [
              0.2222222222222222,
              "#7201a8"
             ],
             [
              0.3333333333333333,
              "#9c179e"
             ],
             [
              0.4444444444444444,
              "#bd3786"
             ],
             [
              0.5555555555555556,
              "#d8576b"
             ],
             [
              0.6666666666666666,
              "#ed7953"
             ],
             [
              0.7777777777777778,
              "#fb9f3a"
             ],
             [
              0.8888888888888888,
              "#fdca26"
             ],
             [
              1,
              "#f0f921"
             ]
            ],
            "type": "heatmap"
           }
          ],
          "heatmapgl": [
           {
            "colorbar": {
             "outlinewidth": 0,
             "ticks": ""
            },
            "colorscale": [
             [
              0,
              "#0d0887"
             ],
             [
              0.1111111111111111,
              "#46039f"
             ],
             [
              0.2222222222222222,
              "#7201a8"
             ],
             [
              0.3333333333333333,
              "#9c179e"
             ],
             [
              0.4444444444444444,
              "#bd3786"
             ],
             [
              0.5555555555555556,
              "#d8576b"
             ],
             [
              0.6666666666666666,
              "#ed7953"
             ],
             [
              0.7777777777777778,
              "#fb9f3a"
             ],
             [
              0.8888888888888888,
              "#fdca26"
             ],
             [
              1,
              "#f0f921"
             ]
            ],
            "type": "heatmapgl"
           }
          ],
          "histogram": [
           {
            "marker": {
             "pattern": {
              "fillmode": "overlay",
              "size": 10,
              "solidity": 0.2
             }
            },
            "type": "histogram"
           }
          ],
          "histogram2d": [
           {
            "colorbar": {
             "outlinewidth": 0,
             "ticks": ""
            },
            "colorscale": [
             [
              0,
              "#0d0887"
             ],
             [
              0.1111111111111111,
              "#46039f"
             ],
             [
              0.2222222222222222,
              "#7201a8"
             ],
             [
              0.3333333333333333,
              "#9c179e"
             ],
             [
              0.4444444444444444,
              "#bd3786"
             ],
             [
              0.5555555555555556,
              "#d8576b"
             ],
             [
              0.6666666666666666,
              "#ed7953"
             ],
             [
              0.7777777777777778,
              "#fb9f3a"
             ],
             [
              0.8888888888888888,
              "#fdca26"
             ],
             [
              1,
              "#f0f921"
             ]
            ],
            "type": "histogram2d"
           }
          ],
          "histogram2dcontour": [
           {
            "colorbar": {
             "outlinewidth": 0,
             "ticks": ""
            },
            "colorscale": [
             [
              0,
              "#0d0887"
             ],
             [
              0.1111111111111111,
              "#46039f"
             ],
             [
              0.2222222222222222,
              "#7201a8"
             ],
             [
              0.3333333333333333,
              "#9c179e"
             ],
             [
              0.4444444444444444,
              "#bd3786"
             ],
             [
              0.5555555555555556,
              "#d8576b"
             ],
             [
              0.6666666666666666,
              "#ed7953"
             ],
             [
              0.7777777777777778,
              "#fb9f3a"
             ],
             [
              0.8888888888888888,
              "#fdca26"
             ],
             [
              1,
              "#f0f921"
             ]
            ],
            "type": "histogram2dcontour"
           }
          ],
          "mesh3d": [
           {
            "colorbar": {
             "outlinewidth": 0,
             "ticks": ""
            },
            "type": "mesh3d"
           }
          ],
          "parcoords": [
           {
            "line": {
             "colorbar": {
              "outlinewidth": 0,
              "ticks": ""
             }
            },
            "type": "parcoords"
           }
          ],
          "pie": [
           {
            "automargin": true,
            "type": "pie"
           }
          ],
          "scatter": [
           {
            "fillpattern": {
             "fillmode": "overlay",
             "size": 10,
             "solidity": 0.2
            },
            "type": "scatter"
           }
          ],
          "scatter3d": [
           {
            "line": {
             "colorbar": {
              "outlinewidth": 0,
              "ticks": ""
             }
            },
            "marker": {
             "colorbar": {
              "outlinewidth": 0,
              "ticks": ""
             }
            },
            "type": "scatter3d"
           }
          ],
          "scattercarpet": [
           {
            "marker": {
             "colorbar": {
              "outlinewidth": 0,
              "ticks": ""
             }
            },
            "type": "scattercarpet"
           }
          ],
          "scattergeo": [
           {
            "marker": {
             "colorbar": {
              "outlinewidth": 0,
              "ticks": ""
             }
            },
            "type": "scattergeo"
           }
          ],
          "scattergl": [
           {
            "marker": {
             "colorbar": {
              "outlinewidth": 0,
              "ticks": ""
             }
            },
            "type": "scattergl"
           }
          ],
          "scattermapbox": [
           {
            "marker": {
             "colorbar": {
              "outlinewidth": 0,
              "ticks": ""
             }
            },
            "type": "scattermapbox"
           }
          ],
          "scatterpolar": [
           {
            "marker": {
             "colorbar": {
              "outlinewidth": 0,
              "ticks": ""
             }
            },
            "type": "scatterpolar"
           }
          ],
          "scatterpolargl": [
           {
            "marker": {
             "colorbar": {
              "outlinewidth": 0,
              "ticks": ""
             }
            },
            "type": "scatterpolargl"
           }
          ],
          "scatterternary": [
           {
            "marker": {
             "colorbar": {
              "outlinewidth": 0,
              "ticks": ""
             }
            },
            "type": "scatterternary"
           }
          ],
          "surface": [
           {
            "colorbar": {
             "outlinewidth": 0,
             "ticks": ""
            },
            "colorscale": [
             [
              0,
              "#0d0887"
             ],
             [
              0.1111111111111111,
              "#46039f"
             ],
             [
              0.2222222222222222,
              "#7201a8"
             ],
             [
              0.3333333333333333,
              "#9c179e"
             ],
             [
              0.4444444444444444,
              "#bd3786"
             ],
             [
              0.5555555555555556,
              "#d8576b"
             ],
             [
              0.6666666666666666,
              "#ed7953"
             ],
             [
              0.7777777777777778,
              "#fb9f3a"
             ],
             [
              0.8888888888888888,
              "#fdca26"
             ],
             [
              1,
              "#f0f921"
             ]
            ],
            "type": "surface"
           }
          ],
          "table": [
           {
            "cells": {
             "fill": {
              "color": "#EBF0F8"
             },
             "line": {
              "color": "white"
             }
            },
            "header": {
             "fill": {
              "color": "#C8D4E3"
             },
             "line": {
              "color": "white"
             }
            },
            "type": "table"
           }
          ]
         },
         "layout": {
          "annotationdefaults": {
           "arrowcolor": "#2a3f5f",
           "arrowhead": 0,
           "arrowwidth": 1
          },
          "autotypenumbers": "strict",
          "coloraxis": {
           "colorbar": {
            "outlinewidth": 0,
            "ticks": ""
           }
          },
          "colorscale": {
           "diverging": [
            [
             0,
             "#8e0152"
            ],
            [
             0.1,
             "#c51b7d"
            ],
            [
             0.2,
             "#de77ae"
            ],
            [
             0.3,
             "#f1b6da"
            ],
            [
             0.4,
             "#fde0ef"
            ],
            [
             0.5,
             "#f7f7f7"
            ],
            [
             0.6,
             "#e6f5d0"
            ],
            [
             0.7,
             "#b8e186"
            ],
            [
             0.8,
             "#7fbc41"
            ],
            [
             0.9,
             "#4d9221"
            ],
            [
             1,
             "#276419"
            ]
           ],
           "sequential": [
            [
             0,
             "#0d0887"
            ],
            [
             0.1111111111111111,
             "#46039f"
            ],
            [
             0.2222222222222222,
             "#7201a8"
            ],
            [
             0.3333333333333333,
             "#9c179e"
            ],
            [
             0.4444444444444444,
             "#bd3786"
            ],
            [
             0.5555555555555556,
             "#d8576b"
            ],
            [
             0.6666666666666666,
             "#ed7953"
            ],
            [
             0.7777777777777778,
             "#fb9f3a"
            ],
            [
             0.8888888888888888,
             "#fdca26"
            ],
            [
             1,
             "#f0f921"
            ]
           ],
           "sequentialminus": [
            [
             0,
             "#0d0887"
            ],
            [
             0.1111111111111111,
             "#46039f"
            ],
            [
             0.2222222222222222,
             "#7201a8"
            ],
            [
             0.3333333333333333,
             "#9c179e"
            ],
            [
             0.4444444444444444,
             "#bd3786"
            ],
            [
             0.5555555555555556,
             "#d8576b"
            ],
            [
             0.6666666666666666,
             "#ed7953"
            ],
            [
             0.7777777777777778,
             "#fb9f3a"
            ],
            [
             0.8888888888888888,
             "#fdca26"
            ],
            [
             1,
             "#f0f921"
            ]
           ]
          },
          "colorway": [
           "#636efa",
           "#EF553B",
           "#00cc96",
           "#ab63fa",
           "#FFA15A",
           "#19d3f3",
           "#FF6692",
           "#B6E880",
           "#FF97FF",
           "#FECB52"
          ],
          "font": {
           "color": "#2a3f5f"
          },
          "geo": {
           "bgcolor": "white",
           "lakecolor": "white",
           "landcolor": "white",
           "showlakes": true,
           "showland": true,
           "subunitcolor": "#C8D4E3"
          },
          "hoverlabel": {
           "align": "left"
          },
          "hovermode": "closest",
          "mapbox": {
           "style": "light"
          },
          "paper_bgcolor": "white",
          "plot_bgcolor": "white",
          "polar": {
           "angularaxis": {
            "gridcolor": "#EBF0F8",
            "linecolor": "#EBF0F8",
            "ticks": ""
           },
           "bgcolor": "white",
           "radialaxis": {
            "gridcolor": "#EBF0F8",
            "linecolor": "#EBF0F8",
            "ticks": ""
           }
          },
          "scene": {
           "xaxis": {
            "backgroundcolor": "white",
            "gridcolor": "#DFE8F3",
            "gridwidth": 2,
            "linecolor": "#EBF0F8",
            "showbackground": true,
            "ticks": "",
            "zerolinecolor": "#EBF0F8"
           },
           "yaxis": {
            "backgroundcolor": "white",
            "gridcolor": "#DFE8F3",
            "gridwidth": 2,
            "linecolor": "#EBF0F8",
            "showbackground": true,
            "ticks": "",
            "zerolinecolor": "#EBF0F8"
           },
           "zaxis": {
            "backgroundcolor": "white",
            "gridcolor": "#DFE8F3",
            "gridwidth": 2,
            "linecolor": "#EBF0F8",
            "showbackground": true,
            "ticks": "",
            "zerolinecolor": "#EBF0F8"
           }
          },
          "shapedefaults": {
           "line": {
            "color": "#2a3f5f"
           }
          },
          "ternary": {
           "aaxis": {
            "gridcolor": "#DFE8F3",
            "linecolor": "#A2B1C6",
            "ticks": ""
           },
           "baxis": {
            "gridcolor": "#DFE8F3",
            "linecolor": "#A2B1C6",
            "ticks": ""
           },
           "bgcolor": "white",
           "caxis": {
            "gridcolor": "#DFE8F3",
            "linecolor": "#A2B1C6",
            "ticks": ""
           }
          },
          "title": {
           "x": 0.05
          },
          "xaxis": {
           "automargin": true,
           "gridcolor": "#EBF0F8",
           "linecolor": "#EBF0F8",
           "ticks": "",
           "title": {
            "standoff": 15
           },
           "zerolinecolor": "#EBF0F8",
           "zerolinewidth": 2
          },
          "yaxis": {
           "automargin": true,
           "gridcolor": "#EBF0F8",
           "linecolor": "#EBF0F8",
           "ticks": "",
           "title": {
            "standoff": 15
           },
           "zerolinecolor": "#EBF0F8",
           "zerolinewidth": 2
          }
         }
        },
        "title": {
         "text": "Conversion Rate by Marketing Channel",
         "x": 0.5
        },
        "xaxis": {
         "anchor": "y",
         "categoryarray": [
          "Email Marketing",
          "Online Ads",
          "Social Media",
          "Referral"
         ],
         "categoryorder": "array",
         "domain": [
          0,
          1
         ],
         "title": {
          "text": "Marketing Channel"
         }
        },
        "yaxis": {
         "anchor": "x",
         "domain": [
          0,
          1
         ],
         "tickformat": ".4f",
         "title": {
          "text": "Conversion Rate"
         }
        }
       }
      }
     },
     "metadata": {},
     "output_type": "display_data"
    }
   ],
   "source": [
    "fig = px.box(df, x='Marketing_Channel', \n",
    "             y='Conversion_Rate',\n",
    "             color='Marketing_Channel',\n",
    "              title='Conversion Rate by Marketing Channel',\n",
    "              labels={'Conversion_Rate': 'Conversion Rate (%)'},\n",
    "              color_discrete_sequence=px.colors.qualitative.Set3)\n",
    "fig.update_layout(xaxis_title='Marketing Channel', yaxis_title='Conversion Rate', \n",
    "                  title_x=0.5, yaxis=dict(tickformat=\".4f\"), showlegend=False)\n",
    "fig.show()"
   ]
  },
  {
   "cell_type": "markdown",
   "metadata": {},
   "source": [
    "# New Customers per Marketing Spend by Channel"
   ]
  },
  {
   "cell_type": "code",
   "execution_count": 12,
   "metadata": {},
   "outputs": [
    {
     "data": {
      "application/vnd.plotly.v1+json": {
       "config": {
        "plotlyServerURL": "https://plot.ly"
       },
       "data": [
        {
         "alignmentgroup": "True",
         "hovertemplate": "Marketing_Channel=%{x}<br>New Customers per INR Spent=%{y}<br>text=%{text}<extra></extra>",
         "legendgroup": "Email Marketing",
         "marker": {
          "color": "rgb(102,194,165)",
          "pattern": {
           "shape": ""
          }
         },
         "name": "Email Marketing",
         "offsetgroup": "Email Marketing",
         "orientation": "v",
         "showlegend": true,
         "text": [
          "0.0046",
          "0.0117",
          "0.0098",
          "0.01",
          "0.0027",
          "0.003",
          "0.0188",
          "0.0058",
          "0.0298",
          "0.0073",
          "0.0058",
          "0.0064",
          "0.005",
          "0.0123",
          "0.0023",
          "0.0034",
          "0.0091",
          "0.0112",
          "0.0085",
          "0.0169",
          "0.0079",
          "0.0207",
          "0.0197",
          "0.0092",
          "0.0042",
          "0.0131",
          "0.0249",
          "0.0076",
          "0.0095",
          "0.0129",
          "0.006",
          "0.0087",
          "0.009",
          "0.006",
          "0.0039",
          "0.025",
          "0.0223",
          "0.0143",
          "0.0053",
          "0.0049",
          "0.0141",
          "0.0158",
          "0.0139",
          "0.0217",
          "0.0163",
          "0.0043",
          "0.0063",
          "0.0209",
          "0.0036",
          "0.025",
          "0.0044",
          "0.0027",
          "0.0023",
          "0.007",
          "0.0046",
          "0.0049",
          "0.0088",
          "0.0214",
          "0.01",
          "0.018",
          "0.0072",
          "0.006",
          "0.0077",
          "0.005",
          "0.0032",
          "0.0134",
          "0.0168",
          "0.0263",
          "0.0052",
          "0.0136",
          "0.0032",
          "0.0129",
          "0.0042",
          "0.0105",
          "0.005",
          "0.0187",
          "0.0092",
          "0.0426",
          "0.0097",
          "0.0108",
          "0.0332",
          "0.0085",
          "0.0114",
          "0.0106",
          "0.0079",
          "0.0112",
          "0.0095",
          "0.0115",
          "0.0077",
          "0.038",
          "0.0158",
          "0.0139",
          "0.0087",
          "0.0067",
          "0.0034",
          "0.0159",
          "0.0055",
          "0.0053",
          "0.0192",
          "0.0112",
          "0.0028",
          "0.0106",
          "0.0123",
          "0.0114",
          "0.0088",
          "0.0104",
          "0.0274",
          "0.0045",
          "0.0211",
          "0.0086",
          "0.0057",
          "0.0086",
          "0.007",
          "0.017",
          "0.0314",
          "0.0037",
          "0.0086",
          "0.0216",
          "0.0096",
          "0.005",
          "0.0127",
          "0.0038",
          "0.0204",
          "0.0168"
         ],
         "textfont": {
          "size": 12
         },
         "textposition": "auto",
         "type": "bar",
         "x": [
          "Email Marketing",
          "Email Marketing",
          "Email Marketing",
          "Email Marketing",
          "Email Marketing",
          "Email Marketing",
          "Email Marketing",
          "Email Marketing",
          "Email Marketing",
          "Email Marketing",
          "Email Marketing",
          "Email Marketing",
          "Email Marketing",
          "Email Marketing",
          "Email Marketing",
          "Email Marketing",
          "Email Marketing",
          "Email Marketing",
          "Email Marketing",
          "Email Marketing",
          "Email Marketing",
          "Email Marketing",
          "Email Marketing",
          "Email Marketing",
          "Email Marketing",
          "Email Marketing",
          "Email Marketing",
          "Email Marketing",
          "Email Marketing",
          "Email Marketing",
          "Email Marketing",
          "Email Marketing",
          "Email Marketing",
          "Email Marketing",
          "Email Marketing",
          "Email Marketing",
          "Email Marketing",
          "Email Marketing",
          "Email Marketing",
          "Email Marketing",
          "Email Marketing",
          "Email Marketing",
          "Email Marketing",
          "Email Marketing",
          "Email Marketing",
          "Email Marketing",
          "Email Marketing",
          "Email Marketing",
          "Email Marketing",
          "Email Marketing",
          "Email Marketing",
          "Email Marketing",
          "Email Marketing",
          "Email Marketing",
          "Email Marketing",
          "Email Marketing",
          "Email Marketing",
          "Email Marketing",
          "Email Marketing",
          "Email Marketing",
          "Email Marketing",
          "Email Marketing",
          "Email Marketing",
          "Email Marketing",
          "Email Marketing",
          "Email Marketing",
          "Email Marketing",
          "Email Marketing",
          "Email Marketing",
          "Email Marketing",
          "Email Marketing",
          "Email Marketing",
          "Email Marketing",
          "Email Marketing",
          "Email Marketing",
          "Email Marketing",
          "Email Marketing",
          "Email Marketing",
          "Email Marketing",
          "Email Marketing",
          "Email Marketing",
          "Email Marketing",
          "Email Marketing",
          "Email Marketing",
          "Email Marketing",
          "Email Marketing",
          "Email Marketing",
          "Email Marketing",
          "Email Marketing",
          "Email Marketing",
          "Email Marketing",
          "Email Marketing",
          "Email Marketing",
          "Email Marketing",
          "Email Marketing",
          "Email Marketing",
          "Email Marketing",
          "Email Marketing",
          "Email Marketing",
          "Email Marketing",
          "Email Marketing",
          "Email Marketing",
          "Email Marketing",
          "Email Marketing",
          "Email Marketing",
          "Email Marketing",
          "Email Marketing",
          "Email Marketing",
          "Email Marketing",
          "Email Marketing",
          "Email Marketing",
          "Email Marketing",
          "Email Marketing",
          "Email Marketing",
          "Email Marketing",
          "Email Marketing",
          "Email Marketing",
          "Email Marketing",
          "Email Marketing",
          "Email Marketing",
          "Email Marketing",
          "Email Marketing",
          "Email Marketing",
          "Email Marketing"
         ],
         "xaxis": "x",
         "y": [
          0.004585804618323859,
          0.011728531214124038,
          0.009801180005515386,
          0.009968001762937526,
          0.0027444840712678342,
          0.003003907061327841,
          0.018830619563834514,
          0.005833718905982172,
          0.029822381935260312,
          0.00734127475035638,
          0.005835598903754097,
          0.006391987565427537,
          0.004957728112694525,
          0.012344565753365691,
          0.002337975548947345,
          0.003367824327436958,
          0.009088486273242451,
          0.01117106097151089,
          0.008509987493244319,
          0.016919904562698995,
          0.007936919588862548,
          0.020719475766605405,
          0.01970841557260658,
          0.009162887508397024,
          0.004163848285412737,
          0.013076351766045846,
          0.02489348730048904,
          0.007600681827244728,
          0.009535348506954174,
          0.012862557468427537,
          0.005951408809339247,
          0.008650491032276926,
          0.009019240724602072,
          0.006026261097399456,
          0.003935541323213181,
          0.024955761881890522,
          0.022324162239082623,
          0.014314895924828708,
          0.005344165434134666,
          0.004853990629290737,
          0.014101952001193224,
          0.01580258178624001,
          0.013929228266354624,
          0.021667082993801354,
          0.016292221075846415,
          0.004278636844554394,
          0.006315709900766338,
          0.020881591644557534,
          0.003566791574415862,
          0.025012007127557717,
          0.00439864210647431,
          0.002681714850304975,
          0.002302113513338715,
          0.0069680152774710775,
          0.004601574044318807,
          0.0048792040051408355,
          0.008790188833944154,
          0.0214373873816501,
          0.010034098269174655,
          0.018000769599808984,
          0.007221956300159677,
          0.006036526189564727,
          0.007739332328871572,
          0.004965765243992638,
          0.003184246188483693,
          0.013442499116412987,
          0.016827035795163,
          0.026323640568419307,
          0.0051593824451571894,
          0.013606695507567467,
          0.0032343224860072422,
          0.012931881842196513,
          0.004206047613215115,
          0.01045135799341876,
          0.005048046916306006,
          0.018685426478023386,
          0.00920808592795561,
          0.042568074143457535,
          0.009727252539844196,
          0.010839074147533859,
          0.03322850615966764,
          0.008462654326801586,
          0.011387697837353813,
          0.01062055180141006,
          0.007886107665663984,
          0.011202848395449012,
          0.009498386391812153,
          0.011510576349550567,
          0.007738396499986206,
          0.03799757628635643,
          0.01578958760976913,
          0.013889513381981841,
          0.008655975310084883,
          0.006673498960685881,
          0.0034237072596190903,
          0.01590703879149607,
          0.00547496746577197,
          0.0052781385952024515,
          0.01922792357679217,
          0.011189976585294054,
          0.0027564988395992773,
          0.010620739257852277,
          0.012304161355667202,
          0.011400952039765313,
          0.008839759983883843,
          0.010411850261141862,
          0.027384527785278615,
          0.0045346116037881246,
          0.02111286472969859,
          0.008557474635679707,
          0.005691324158577792,
          0.008648175207842907,
          0.006992364137638368,
          0.01702644423667713,
          0.031394230133819916,
          0.003747019427175987,
          0.008626985843523295,
          0.021550551575984338,
          0.009620885479824254,
          0.0050156256262334515,
          0.012703123820146711,
          0.003779217071377486,
          0.020394395350307418,
          0.016801295931123346
         ],
         "yaxis": "y"
        },
        {
         "alignmentgroup": "True",
         "hovertemplate": "Marketing_Channel=%{x}<br>New Customers per INR Spent=%{y}<br>text=%{text}<extra></extra>",
         "legendgroup": "Online Ads",
         "marker": {
          "color": "rgb(252,141,98)",
          "pattern": {
           "shape": ""
          }
         },
         "name": "Online Ads",
         "offsetgroup": "Online Ads",
         "orientation": "v",
         "showlegend": true,
         "text": [
          "0.0298",
          "0.0098",
          "0.0077",
          "0.0155",
          "0.0081",
          "0.0124",
          "0.0191",
          "0.0154",
          "0.0146",
          "0.0056",
          "0.005",
          "0.0172",
          "0.0066",
          "0.0175",
          "0.0133",
          "0.003",
          "0.0043",
          "0.0123",
          "0.0222",
          "0.0114",
          "0.0204",
          "0.0081",
          "0.0104",
          "0.0122",
          "0.0253",
          "0.0119",
          "0.0305",
          "0.0109",
          "0.0178",
          "0.0171",
          "0.0132",
          "0.009",
          "0.0072",
          "0.0057",
          "0.0075",
          "0.0055",
          "0.0208",
          "0.0163",
          "0.0153",
          "0.0135",
          "0.0111",
          "0.0056",
          "0.0142",
          "0.0403",
          "0.0282",
          "0.0034",
          "0.0054",
          "0.0079",
          "0.007",
          "0.0104",
          "0.0036",
          "0.0055",
          "0.0126",
          "0.03",
          "0.0134",
          "0.0156",
          "0.0035",
          "0.0032",
          "0.0296",
          "0.0121",
          "0.0128",
          "0.0105",
          "0.006",
          "0.0241",
          "0.0059",
          "0.0028",
          "0.0063",
          "0.0051",
          "0.0322",
          "0.0056",
          "0.0026",
          "0.0176",
          "0.0088",
          "0.0064",
          "0.0215",
          "0.0076",
          "0.0109",
          "0.0211",
          "0.0062",
          "0.014",
          "0.0162",
          "0.0053",
          "0.004",
          "0.0046",
          "0.0159",
          "0.0238",
          "0.0131",
          "0.0108",
          "0.01",
          "0.0073",
          "0.0028",
          "0.0053",
          "0.0116",
          "0.0032",
          "0.0106",
          "0.0104",
          "0.0088",
          "0.0084",
          "0.0179",
          "0.0215",
          "0.004",
          "0.0288",
          "0.0161",
          "0.017",
          "0.0101",
          "0.0077",
          "0.0043",
          "0.0055",
          "0.0058",
          "0.0079",
          "0.0113",
          "0.0088",
          "0.0215",
          "0.0057",
          "0.0225",
          "0.0223",
          "0.0068",
          "0.008",
          "0.0175",
          "0.007",
          "0.0083",
          "0.0391",
          "0.0032",
          "0.0091",
          "0.0079",
          "0.009",
          "0.0079",
          "0.0061",
          "0.0043",
          "0.009"
         ],
         "textfont": {
          "size": 12
         },
         "textposition": "auto",
         "type": "bar",
         "x": [
          "Online Ads",
          "Online Ads",
          "Online Ads",
          "Online Ads",
          "Online Ads",
          "Online Ads",
          "Online Ads",
          "Online Ads",
          "Online Ads",
          "Online Ads",
          "Online Ads",
          "Online Ads",
          "Online Ads",
          "Online Ads",
          "Online Ads",
          "Online Ads",
          "Online Ads",
          "Online Ads",
          "Online Ads",
          "Online Ads",
          "Online Ads",
          "Online Ads",
          "Online Ads",
          "Online Ads",
          "Online Ads",
          "Online Ads",
          "Online Ads",
          "Online Ads",
          "Online Ads",
          "Online Ads",
          "Online Ads",
          "Online Ads",
          "Online Ads",
          "Online Ads",
          "Online Ads",
          "Online Ads",
          "Online Ads",
          "Online Ads",
          "Online Ads",
          "Online Ads",
          "Online Ads",
          "Online Ads",
          "Online Ads",
          "Online Ads",
          "Online Ads",
          "Online Ads",
          "Online Ads",
          "Online Ads",
          "Online Ads",
          "Online Ads",
          "Online Ads",
          "Online Ads",
          "Online Ads",
          "Online Ads",
          "Online Ads",
          "Online Ads",
          "Online Ads",
          "Online Ads",
          "Online Ads",
          "Online Ads",
          "Online Ads",
          "Online Ads",
          "Online Ads",
          "Online Ads",
          "Online Ads",
          "Online Ads",
          "Online Ads",
          "Online Ads",
          "Online Ads",
          "Online Ads",
          "Online Ads",
          "Online Ads",
          "Online Ads",
          "Online Ads",
          "Online Ads",
          "Online Ads",
          "Online Ads",
          "Online Ads",
          "Online Ads",
          "Online Ads",
          "Online Ads",
          "Online Ads",
          "Online Ads",
          "Online Ads",
          "Online Ads",
          "Online Ads",
          "Online Ads",
          "Online Ads",
          "Online Ads",
          "Online Ads",
          "Online Ads",
          "Online Ads",
          "Online Ads",
          "Online Ads",
          "Online Ads",
          "Online Ads",
          "Online Ads",
          "Online Ads",
          "Online Ads",
          "Online Ads",
          "Online Ads",
          "Online Ads",
          "Online Ads",
          "Online Ads",
          "Online Ads",
          "Online Ads",
          "Online Ads",
          "Online Ads",
          "Online Ads",
          "Online Ads",
          "Online Ads",
          "Online Ads",
          "Online Ads",
          "Online Ads",
          "Online Ads",
          "Online Ads",
          "Online Ads",
          "Online Ads",
          "Online Ads",
          "Online Ads",
          "Online Ads",
          "Online Ads",
          "Online Ads",
          "Online Ads",
          "Online Ads",
          "Online Ads",
          "Online Ads",
          "Online Ads",
          "Online Ads",
          "Online Ads"
         ],
         "xaxis": "x",
         "y": [
          0.029787001072699104,
          0.009823279411821808,
          0.007727992165740801,
          0.015498235752505517,
          0.00812285597927277,
          0.01236118747542764,
          0.019074074014289205,
          0.015429900979054187,
          0.014567674836658495,
          0.0055758492245468584,
          0.005001618303962115,
          0.01724672474515137,
          0.00658587568237421,
          0.017453286295961355,
          0.01334621107710521,
          0.0029654478305963976,
          0.0043454047583093396,
          0.012254309702661618,
          0.022233896735793977,
          0.01137865369552446,
          0.02039158190177026,
          0.008052609940841986,
          0.01044595185235819,
          0.012232089035969142,
          0.02531064056994667,
          0.011923891154865479,
          0.030498744413381653,
          0.010899649471082615,
          0.017786395256864346,
          0.017132830527323954,
          0.01316106804478805,
          0.008987080175149964,
          0.007198851496713041,
          0.00572618188162194,
          0.0074686916621498805,
          0.00548644167284546,
          0.02082781780392205,
          0.016300239468978812,
          0.015258110193959116,
          0.013497486260456965,
          0.01112042531786503,
          0.005596411195290657,
          0.014215297688909176,
          0.04034793765155021,
          0.028181533249589184,
          0.003383201322700698,
          0.005426402169696873,
          0.007882588885330385,
          0.006966191574410289,
          0.010355014754247757,
          0.003568805678262496,
          0.005525627257393812,
          0.012625123744653074,
          0.02999401329635646,
          0.013394689286495358,
          0.015577092827677832,
          0.0034670922589121606,
          0.003168116860125508,
          0.02955727831149655,
          0.01210519549138352,
          0.012817272518256989,
          0.010483616509433158,
          0.006037710568482353,
          0.024118663287697243,
          0.005898674731306581,
          0.002773126660674931,
          0.006284944100065529,
          0.00508598295275319,
          0.03223514955092784,
          0.005573951708499834,
          0.0025856410511243045,
          0.01757939236131238,
          0.008831764538391334,
          0.0064078636501873005,
          0.02149668813306897,
          0.007562460924844879,
          0.01090680539947041,
          0.021124142280943912,
          0.006238643960438826,
          0.014030389736110037,
          0.016203158241794413,
          0.005333364508938148,
          0.004010982852363831,
          0.004619012768845348,
          0.015886099309114037,
          0.023833690910307258,
          0.01311699387356935,
          0.010828620303264662,
          0.010026401863121936,
          0.007288591989889592,
          0.0028436370005166522,
          0.005304641498060402,
          0.01160501404406322,
          0.003182333049501416,
          0.010557471706414051,
          0.010437794764313155,
          0.008795214327188588,
          0.008417333491929163,
          0.017936930094946412,
          0.021487990469472855,
          0.004024328243764554,
          0.028800740447017404,
          0.016139193339481273,
          0.01696529393127441,
          0.010111173678785754,
          0.007747386118813285,
          0.004290371915477714,
          0.005542170092319661,
          0.005810855435282169,
          0.007895171272368006,
          0.011329362972909233,
          0.008824385691771366,
          0.02146948291025382,
          0.005725831709320411,
          0.02247250986178818,
          0.022319327196058808,
          0.0067540486033606205,
          0.008004073766674532,
          0.017457673886555534,
          0.0070472866630947794,
          0.008267505009003777,
          0.03908740548826474,
          0.003218177201988819,
          0.00905650504799051,
          0.007913762439671814,
          0.00902412336639953,
          0.007879167726323884,
          0.00607795691751067,
          0.004326612604648057,
          0.009046088245815981
         ],
         "yaxis": "y"
        },
        {
         "alignmentgroup": "True",
         "hovertemplate": "Marketing_Channel=%{x}<br>New Customers per INR Spent=%{y}<br>text=%{text}<extra></extra>",
         "legendgroup": "Social Media",
         "marker": {
          "color": "rgb(141,160,203)",
          "pattern": {
           "shape": ""
          }
         },
         "name": "Social Media",
         "offsetgroup": "Social Media",
         "orientation": "v",
         "showlegend": true,
         "text": [
          "0.0171",
          "0.0142",
          "0.0125",
          "0.0057",
          "0.0116",
          "0.0426",
          "0.0101",
          "0.0138",
          "0.0096",
          "0.0121",
          "0.0067",
          "0.0031",
          "0.003",
          "0.0033",
          "0.009",
          "0.0051",
          "0.0109",
          "0.0032",
          "0.0108",
          "0.0093",
          "0.0106",
          "0.0096",
          "0.0084",
          "0.0262",
          "0.0166",
          "0.01",
          "0.0111",
          "0.0063",
          "0.0068",
          "0.0033",
          "0.0111",
          "0.0042",
          "0.0163",
          "0.0057",
          "0.0347",
          "0.0093",
          "0.0023",
          "0.0082",
          "0.0233",
          "0.0307",
          "0.0071",
          "0.012",
          "0.0126",
          "0.0053",
          "0.0048",
          "0.0216",
          "0.0058",
          "0.0079",
          "0.0099",
          "0.0059",
          "0.0157",
          "0.0175",
          "0.0122",
          "0.0122",
          "0.0133",
          "0.0201",
          "0.0114",
          "0.02",
          "0.0121",
          "0.0179",
          "0.0109",
          "0.0056",
          "0.0205",
          "0.01",
          "0.0075",
          "0.0058",
          "0.018",
          "0.0146",
          "0.0093",
          "0.034",
          "0.0101",
          "0.0136",
          "0.0096",
          "0.005",
          "0.0176",
          "0.0047",
          "0.0044",
          "0.0107",
          "0.0155",
          "0.0169",
          "0.0152",
          "0.0069",
          "0.0034",
          "0.0286",
          "0.0129",
          "0.0463",
          "0.0045",
          "0.0067",
          "0.004",
          "0.0069",
          "0.024",
          "0.0177",
          "0.0116",
          "0.013",
          "0.003",
          "0.0086",
          "0.009",
          "0.0046",
          "0.0118",
          "0.005",
          "0.005",
          "0.0113",
          "0.007",
          "0.01",
          "0.0049",
          "0.0039",
          "0.0093",
          "0.0069",
          "0.0106",
          "0.0088",
          "0.0086",
          "0.0079",
          "0.0084",
          "0.0052",
          "0.0101",
          "0.0065",
          "0.0073",
          "0.0058"
         ],
         "textfont": {
          "size": 12
         },
         "textposition": "auto",
         "type": "bar",
         "x": [
          "Social Media",
          "Social Media",
          "Social Media",
          "Social Media",
          "Social Media",
          "Social Media",
          "Social Media",
          "Social Media",
          "Social Media",
          "Social Media",
          "Social Media",
          "Social Media",
          "Social Media",
          "Social Media",
          "Social Media",
          "Social Media",
          "Social Media",
          "Social Media",
          "Social Media",
          "Social Media",
          "Social Media",
          "Social Media",
          "Social Media",
          "Social Media",
          "Social Media",
          "Social Media",
          "Social Media",
          "Social Media",
          "Social Media",
          "Social Media",
          "Social Media",
          "Social Media",
          "Social Media",
          "Social Media",
          "Social Media",
          "Social Media",
          "Social Media",
          "Social Media",
          "Social Media",
          "Social Media",
          "Social Media",
          "Social Media",
          "Social Media",
          "Social Media",
          "Social Media",
          "Social Media",
          "Social Media",
          "Social Media",
          "Social Media",
          "Social Media",
          "Social Media",
          "Social Media",
          "Social Media",
          "Social Media",
          "Social Media",
          "Social Media",
          "Social Media",
          "Social Media",
          "Social Media",
          "Social Media",
          "Social Media",
          "Social Media",
          "Social Media",
          "Social Media",
          "Social Media",
          "Social Media",
          "Social Media",
          "Social Media",
          "Social Media",
          "Social Media",
          "Social Media",
          "Social Media",
          "Social Media",
          "Social Media",
          "Social Media",
          "Social Media",
          "Social Media",
          "Social Media",
          "Social Media",
          "Social Media",
          "Social Media",
          "Social Media",
          "Social Media",
          "Social Media",
          "Social Media",
          "Social Media",
          "Social Media",
          "Social Media",
          "Social Media",
          "Social Media",
          "Social Media",
          "Social Media",
          "Social Media",
          "Social Media",
          "Social Media",
          "Social Media",
          "Social Media",
          "Social Media",
          "Social Media",
          "Social Media",
          "Social Media",
          "Social Media",
          "Social Media",
          "Social Media",
          "Social Media",
          "Social Media",
          "Social Media",
          "Social Media",
          "Social Media",
          "Social Media",
          "Social Media",
          "Social Media",
          "Social Media",
          "Social Media",
          "Social Media",
          "Social Media",
          "Social Media",
          "Social Media"
         ],
         "xaxis": "x",
         "y": [
          0.017080208101711902,
          0.01415323838128053,
          0.012497999025226133,
          0.005725761682402176,
          0.011585472169197303,
          0.04262212387058198,
          0.010051736418534855,
          0.013803830120417356,
          0.009568213975407813,
          0.012077249882929051,
          0.0066978814139492995,
          0.0031052916100928426,
          0.0030128654611413807,
          0.00329089794143524,
          0.008977515604965543,
          0.005112491835551166,
          0.010939730221202084,
          0.0031768704659374176,
          0.010825081681356347,
          0.009304923575288625,
          0.010616462784783112,
          0.009568265615240238,
          0.008389801747901077,
          0.02623498644000473,
          0.016630528075786168,
          0.010040811513844738,
          0.011114518361568586,
          0.006318241992275692,
          0.006806522718614647,
          0.003267186605434321,
          0.011082760437558585,
          0.004246906384972514,
          0.01629327788651783,
          0.005667203681076155,
          0.03471341848620018,
          0.009273959751362183,
          0.0022962779749306915,
          0.008191566339555924,
          0.023317597626912708,
          0.03067172390036133,
          0.007137720995678008,
          0.012017273567844496,
          0.012591979714828465,
          0.0053264675297017925,
          0.0048177538779283335,
          0.021638631575977,
          0.005755999351090905,
          0.00789067295050409,
          0.009854284522060311,
          0.005869153556402792,
          0.01565680961701217,
          0.017487132883266424,
          0.012226486573512815,
          0.01218602840040765,
          0.01328569008884738,
          0.02006022301264528,
          0.01144394832350517,
          0.019996227390870577,
          0.012128826521261517,
          0.017882782302559134,
          0.0108932784303842,
          0.005600417350494478,
          0.02053780794055106,
          0.009984211506067443,
          0.007497008931204284,
          0.005834688371636195,
          0.01804667528341781,
          0.014583164137119364,
          0.009263372023997818,
          0.03396980420359096,
          0.010140427394279753,
          0.013551254160451361,
          0.009637438492916903,
          0.004989380165252684,
          0.017647230502014104,
          0.004705757366466702,
          0.004386147848483924,
          0.010749672803277033,
          0.015497091519189102,
          0.016892407299942496,
          0.015183086603443039,
          0.006914459490341076,
          0.003439886642731466,
          0.028617382081688895,
          0.012862965473720435,
          0.04626105945882396,
          0.004503936111717403,
          0.006732050521070387,
          0.004042643373222028,
          0.006866843256702308,
          0.023995286154459713,
          0.017725097940310384,
          0.01159288945585326,
          0.0130332741400475,
          0.003017642238261477,
          0.008550875167307091,
          0.009049440963670915,
          0.0045929964263531214,
          0.01182382123184635,
          0.00502041294945906,
          0.005012627485649983,
          0.011337631123780525,
          0.0069828400967439155,
          0.009956498219502442,
          0.004876312961748088,
          0.003894267210364713,
          0.009324728339015664,
          0.006931073005685841,
          0.010607441500416566,
          0.008846629099253663,
          0.008602108873178412,
          0.00792068944824801,
          0.008427023495972033,
          0.005225865739328952,
          0.010144086087667762,
          0.006450154937958441,
          0.007251865823171059,
          0.005830635838972961
         ],
         "yaxis": "y"
        },
        {
         "alignmentgroup": "True",
         "hovertemplate": "Marketing_Channel=%{x}<br>New Customers per INR Spent=%{y}<br>text=%{text}<extra></extra>",
         "legendgroup": "Referral",
         "marker": {
          "color": "rgb(231,138,195)",
          "pattern": {
           "shape": ""
          }
         },
         "name": "Referral",
         "offsetgroup": "Referral",
         "orientation": "v",
         "showlegend": true,
         "text": [
          "0.0175",
          "0.0167",
          "0.0046",
          "0.013",
          "0.0176",
          "0.0066",
          "0.0096",
          "0.0126",
          "0.0028",
          "0.0034",
          "0.014",
          "0.0027",
          "0.01",
          "0.0128",
          "0.0094",
          "0.0044",
          "0.02",
          "0.0164",
          "0.0151",
          "0.0097",
          "0.0163",
          "0.0094",
          "0.0085",
          "0.008",
          "0.0106",
          "0.007",
          "0.0075",
          "0.009",
          "0.0252",
          "0.0153",
          "0.0115",
          "0.0169",
          "0.0228",
          "0.0454",
          "0.0092",
          "0.0153",
          "0.019",
          "0.0075",
          "0.0052",
          "0.0076",
          "0.0158",
          "0.004",
          "0.0212",
          "0.0098",
          "0.004",
          "0.014",
          "0.01",
          "0.012",
          "0.0103",
          "0.0088",
          "0.0111",
          "0.0214",
          "0.0045",
          "0.0138",
          "0.0325",
          "0.0352",
          "0.0125",
          "0.0075",
          "0.0115",
          "0.0093",
          "0.0076",
          "0.0101",
          "0.0099",
          "0.0045",
          "0.0075",
          "0.0057",
          "0.0103",
          "0.0042",
          "0.0137",
          "0.0047",
          "0.0097",
          "0.0045",
          "0.0053",
          "0.0049",
          "0.0235",
          "0.0116",
          "0.021",
          "0.0153",
          "0.0095",
          "0.0177",
          "0.0043",
          "0.0207",
          "0.0071",
          "0.0111",
          "0.0051",
          "0.0088",
          "0.0098",
          "0.0126",
          "0.0036",
          "0.0029",
          "0.0073",
          "0.0045",
          "0.0126",
          "0.0182",
          "0.021",
          "0.0191",
          "0.0068",
          "0.019",
          "0.0029",
          "0.0126",
          "0.0032",
          "0.0053",
          "0.0115",
          "0.012",
          "0.0134",
          "0.0098",
          "0.0091",
          "0.0052",
          "0.0137",
          "0.0048",
          "0.0113",
          "0.0051",
          "0.0154",
          "0.0079",
          "0.0082",
          "0.0138",
          "0.0082",
          "0.0063",
          "0.0123",
          "0.0095",
          "0.01",
          "0.0189",
          "0.0141",
          "0.0171",
          "0.0108",
          "0.0124",
          "0.0114",
          "0.0083"
         ],
         "textfont": {
          "size": 12
         },
         "textposition": "auto",
         "type": "bar",
         "x": [
          "Referral",
          "Referral",
          "Referral",
          "Referral",
          "Referral",
          "Referral",
          "Referral",
          "Referral",
          "Referral",
          "Referral",
          "Referral",
          "Referral",
          "Referral",
          "Referral",
          "Referral",
          "Referral",
          "Referral",
          "Referral",
          "Referral",
          "Referral",
          "Referral",
          "Referral",
          "Referral",
          "Referral",
          "Referral",
          "Referral",
          "Referral",
          "Referral",
          "Referral",
          "Referral",
          "Referral",
          "Referral",
          "Referral",
          "Referral",
          "Referral",
          "Referral",
          "Referral",
          "Referral",
          "Referral",
          "Referral",
          "Referral",
          "Referral",
          "Referral",
          "Referral",
          "Referral",
          "Referral",
          "Referral",
          "Referral",
          "Referral",
          "Referral",
          "Referral",
          "Referral",
          "Referral",
          "Referral",
          "Referral",
          "Referral",
          "Referral",
          "Referral",
          "Referral",
          "Referral",
          "Referral",
          "Referral",
          "Referral",
          "Referral",
          "Referral",
          "Referral",
          "Referral",
          "Referral",
          "Referral",
          "Referral",
          "Referral",
          "Referral",
          "Referral",
          "Referral",
          "Referral",
          "Referral",
          "Referral",
          "Referral",
          "Referral",
          "Referral",
          "Referral",
          "Referral",
          "Referral",
          "Referral",
          "Referral",
          "Referral",
          "Referral",
          "Referral",
          "Referral",
          "Referral",
          "Referral",
          "Referral",
          "Referral",
          "Referral",
          "Referral",
          "Referral",
          "Referral",
          "Referral",
          "Referral",
          "Referral",
          "Referral",
          "Referral",
          "Referral",
          "Referral",
          "Referral",
          "Referral",
          "Referral",
          "Referral",
          "Referral",
          "Referral",
          "Referral",
          "Referral",
          "Referral",
          "Referral",
          "Referral",
          "Referral",
          "Referral",
          "Referral",
          "Referral",
          "Referral",
          "Referral",
          "Referral",
          "Referral",
          "Referral",
          "Referral",
          "Referral",
          "Referral",
          "Referral"
         ],
         "xaxis": "x",
         "y": [
          0.017500671438448065,
          0.01670482251990852,
          0.004600339216098953,
          0.01303015175100159,
          0.017567866320433157,
          0.006645030891315677,
          0.009616113202258783,
          0.012566147501296228,
          0.0027557163147492866,
          0.0034230468769760546,
          0.014003991601527098,
          0.0027283252978116015,
          0.010024890468650256,
          0.012764644915262422,
          0.009402362424647316,
          0.004440649978406455,
          0.020049729385041244,
          0.016440269772993996,
          0.015147585625844439,
          0.009724724583204277,
          0.016336658826813566,
          0.009390160588167303,
          0.00848182894524233,
          0.007963582809376004,
          0.010564436304017752,
          0.007031788586029589,
          0.007479003800716367,
          0.009037826373832169,
          0.0251937971264628,
          0.01532282981190306,
          0.011543374859435037,
          0.016885594551544755,
          0.022822836346124316,
          0.045429014476425944,
          0.00924585584707232,
          0.01528119418571546,
          0.018993301149221483,
          0.007463667635155042,
          0.005175251537370684,
          0.007578808740514983,
          0.01575497164239873,
          0.004018243647847746,
          0.02123575340037954,
          0.009777068670949575,
          0.004046303186536391,
          0.013999071946896712,
          0.009997941666661405,
          0.011956267065421177,
          0.010304859826431305,
          0.008848324179081978,
          0.01114587841197202,
          0.021370166486436352,
          0.00447493867726579,
          0.013780674752151782,
          0.03253219874604734,
          0.03515691400242203,
          0.012511765246753804,
          0.00745327667252209,
          0.011459760432887076,
          0.009272273076204962,
          0.007580819360191141,
          0.010095958329992803,
          0.009915602943598648,
          0.004495084639359674,
          0.007451985708063017,
          0.0057116176241837945,
          0.010322569161891126,
          0.004218296733091522,
          0.013680740034097152,
          0.0046825890936997,
          0.009679882188290466,
          0.004470655554384501,
          0.00527536834843726,
          0.004904023710719177,
          0.02345924452258986,
          0.011649612317480398,
          0.021004028109573313,
          0.015275887191409262,
          0.009452628971522407,
          0.01772183369815927,
          0.004258956002290775,
          0.02067985237795488,
          0.007066376656381666,
          0.01107019167787864,
          0.005109430219564009,
          0.008755716105792021,
          0.009806233022186887,
          0.012628089534644792,
          0.00357066160475233,
          0.002902562374249017,
          0.007338614695878415,
          0.0045105935921809105,
          0.012597128649171367,
          0.018182407188602118,
          0.021020809131555785,
          0.01911440874649402,
          0.006760763366826398,
          0.019047334924188145,
          0.002895624710656139,
          0.01256199552135135,
          0.0032025850274847584,
          0.00526703164873173,
          0.011521234071290437,
          0.011952472805486936,
          0.013432608719619883,
          0.009843198385636638,
          0.009083604012233657,
          0.0052432847899200755,
          0.013726564148626894,
          0.004765389929236516,
          0.011317527743604413,
          0.005089784988333586,
          0.0154351215563072,
          0.007850119289595657,
          0.008165110747571543,
          0.013807520824488618,
          0.008198425622215923,
          0.0062715783013856585,
          0.012314951843323157,
          0.00945334814621922,
          0.010008040181560969,
          0.018945231431587904,
          0.014051432830035532,
          0.017136736848072587,
          0.01077260273300309,
          0.012435269856848388,
          0.011407014885150713,
          0.008306984906970667
         ],
         "yaxis": "y"
        }
       ],
       "layout": {
        "barmode": "relative",
        "legend": {
         "title": {
          "text": "Marketing_Channel"
         },
         "tracegroupgap": 0
        },
        "showlegend": false,
        "template": {
         "data": {
          "bar": [
           {
            "error_x": {
             "color": "#2a3f5f"
            },
            "error_y": {
             "color": "#2a3f5f"
            },
            "marker": {
             "line": {
              "color": "white",
              "width": 0.5
             },
             "pattern": {
              "fillmode": "overlay",
              "size": 10,
              "solidity": 0.2
             }
            },
            "type": "bar"
           }
          ],
          "barpolar": [
           {
            "marker": {
             "line": {
              "color": "white",
              "width": 0.5
             },
             "pattern": {
              "fillmode": "overlay",
              "size": 10,
              "solidity": 0.2
             }
            },
            "type": "barpolar"
           }
          ],
          "carpet": [
           {
            "aaxis": {
             "endlinecolor": "#2a3f5f",
             "gridcolor": "#C8D4E3",
             "linecolor": "#C8D4E3",
             "minorgridcolor": "#C8D4E3",
             "startlinecolor": "#2a3f5f"
            },
            "baxis": {
             "endlinecolor": "#2a3f5f",
             "gridcolor": "#C8D4E3",
             "linecolor": "#C8D4E3",
             "minorgridcolor": "#C8D4E3",
             "startlinecolor": "#2a3f5f"
            },
            "type": "carpet"
           }
          ],
          "choropleth": [
           {
            "colorbar": {
             "outlinewidth": 0,
             "ticks": ""
            },
            "type": "choropleth"
           }
          ],
          "contour": [
           {
            "colorbar": {
             "outlinewidth": 0,
             "ticks": ""
            },
            "colorscale": [
             [
              0,
              "#0d0887"
             ],
             [
              0.1111111111111111,
              "#46039f"
             ],
             [
              0.2222222222222222,
              "#7201a8"
             ],
             [
              0.3333333333333333,
              "#9c179e"
             ],
             [
              0.4444444444444444,
              "#bd3786"
             ],
             [
              0.5555555555555556,
              "#d8576b"
             ],
             [
              0.6666666666666666,
              "#ed7953"
             ],
             [
              0.7777777777777778,
              "#fb9f3a"
             ],
             [
              0.8888888888888888,
              "#fdca26"
             ],
             [
              1,
              "#f0f921"
             ]
            ],
            "type": "contour"
           }
          ],
          "contourcarpet": [
           {
            "colorbar": {
             "outlinewidth": 0,
             "ticks": ""
            },
            "type": "contourcarpet"
           }
          ],
          "heatmap": [
           {
            "colorbar": {
             "outlinewidth": 0,
             "ticks": ""
            },
            "colorscale": [
             [
              0,
              "#0d0887"
             ],
             [
              0.1111111111111111,
              "#46039f"
             ],
             [
              0.2222222222222222,
              "#7201a8"
             ],
             [
              0.3333333333333333,
              "#9c179e"
             ],
             [
              0.4444444444444444,
              "#bd3786"
             ],
             [
              0.5555555555555556,
              "#d8576b"
             ],
             [
              0.6666666666666666,
              "#ed7953"
             ],
             [
              0.7777777777777778,
              "#fb9f3a"
             ],
             [
              0.8888888888888888,
              "#fdca26"
             ],
             [
              1,
              "#f0f921"
             ]
            ],
            "type": "heatmap"
           }
          ],
          "heatmapgl": [
           {
            "colorbar": {
             "outlinewidth": 0,
             "ticks": ""
            },
            "colorscale": [
             [
              0,
              "#0d0887"
             ],
             [
              0.1111111111111111,
              "#46039f"
             ],
             [
              0.2222222222222222,
              "#7201a8"
             ],
             [
              0.3333333333333333,
              "#9c179e"
             ],
             [
              0.4444444444444444,
              "#bd3786"
             ],
             [
              0.5555555555555556,
              "#d8576b"
             ],
             [
              0.6666666666666666,
              "#ed7953"
             ],
             [
              0.7777777777777778,
              "#fb9f3a"
             ],
             [
              0.8888888888888888,
              "#fdca26"
             ],
             [
              1,
              "#f0f921"
             ]
            ],
            "type": "heatmapgl"
           }
          ],
          "histogram": [
           {
            "marker": {
             "pattern": {
              "fillmode": "overlay",
              "size": 10,
              "solidity": 0.2
             }
            },
            "type": "histogram"
           }
          ],
          "histogram2d": [
           {
            "colorbar": {
             "outlinewidth": 0,
             "ticks": ""
            },
            "colorscale": [
             [
              0,
              "#0d0887"
             ],
             [
              0.1111111111111111,
              "#46039f"
             ],
             [
              0.2222222222222222,
              "#7201a8"
             ],
             [
              0.3333333333333333,
              "#9c179e"
             ],
             [
              0.4444444444444444,
              "#bd3786"
             ],
             [
              0.5555555555555556,
              "#d8576b"
             ],
             [
              0.6666666666666666,
              "#ed7953"
             ],
             [
              0.7777777777777778,
              "#fb9f3a"
             ],
             [
              0.8888888888888888,
              "#fdca26"
             ],
             [
              1,
              "#f0f921"
             ]
            ],
            "type": "histogram2d"
           }
          ],
          "histogram2dcontour": [
           {
            "colorbar": {
             "outlinewidth": 0,
             "ticks": ""
            },
            "colorscale": [
             [
              0,
              "#0d0887"
             ],
             [
              0.1111111111111111,
              "#46039f"
             ],
             [
              0.2222222222222222,
              "#7201a8"
             ],
             [
              0.3333333333333333,
              "#9c179e"
             ],
             [
              0.4444444444444444,
              "#bd3786"
             ],
             [
              0.5555555555555556,
              "#d8576b"
             ],
             [
              0.6666666666666666,
              "#ed7953"
             ],
             [
              0.7777777777777778,
              "#fb9f3a"
             ],
             [
              0.8888888888888888,
              "#fdca26"
             ],
             [
              1,
              "#f0f921"
             ]
            ],
            "type": "histogram2dcontour"
           }
          ],
          "mesh3d": [
           {
            "colorbar": {
             "outlinewidth": 0,
             "ticks": ""
            },
            "type": "mesh3d"
           }
          ],
          "parcoords": [
           {
            "line": {
             "colorbar": {
              "outlinewidth": 0,
              "ticks": ""
             }
            },
            "type": "parcoords"
           }
          ],
          "pie": [
           {
            "automargin": true,
            "type": "pie"
           }
          ],
          "scatter": [
           {
            "fillpattern": {
             "fillmode": "overlay",
             "size": 10,
             "solidity": 0.2
            },
            "type": "scatter"
           }
          ],
          "scatter3d": [
           {
            "line": {
             "colorbar": {
              "outlinewidth": 0,
              "ticks": ""
             }
            },
            "marker": {
             "colorbar": {
              "outlinewidth": 0,
              "ticks": ""
             }
            },
            "type": "scatter3d"
           }
          ],
          "scattercarpet": [
           {
            "marker": {
             "colorbar": {
              "outlinewidth": 0,
              "ticks": ""
             }
            },
            "type": "scattercarpet"
           }
          ],
          "scattergeo": [
           {
            "marker": {
             "colorbar": {
              "outlinewidth": 0,
              "ticks": ""
             }
            },
            "type": "scattergeo"
           }
          ],
          "scattergl": [
           {
            "marker": {
             "colorbar": {
              "outlinewidth": 0,
              "ticks": ""
             }
            },
            "type": "scattergl"
           }
          ],
          "scattermapbox": [
           {
            "marker": {
             "colorbar": {
              "outlinewidth": 0,
              "ticks": ""
             }
            },
            "type": "scattermapbox"
           }
          ],
          "scatterpolar": [
           {
            "marker": {
             "colorbar": {
              "outlinewidth": 0,
              "ticks": ""
             }
            },
            "type": "scatterpolar"
           }
          ],
          "scatterpolargl": [
           {
            "marker": {
             "colorbar": {
              "outlinewidth": 0,
              "ticks": ""
             }
            },
            "type": "scatterpolargl"
           }
          ],
          "scatterternary": [
           {
            "marker": {
             "colorbar": {
              "outlinewidth": 0,
              "ticks": ""
             }
            },
            "type": "scatterternary"
           }
          ],
          "surface": [
           {
            "colorbar": {
             "outlinewidth": 0,
             "ticks": ""
            },
            "colorscale": [
             [
              0,
              "#0d0887"
             ],
             [
              0.1111111111111111,
              "#46039f"
             ],
             [
              0.2222222222222222,
              "#7201a8"
             ],
             [
              0.3333333333333333,
              "#9c179e"
             ],
             [
              0.4444444444444444,
              "#bd3786"
             ],
             [
              0.5555555555555556,
              "#d8576b"
             ],
             [
              0.6666666666666666,
              "#ed7953"
             ],
             [
              0.7777777777777778,
              "#fb9f3a"
             ],
             [
              0.8888888888888888,
              "#fdca26"
             ],
             [
              1,
              "#f0f921"
             ]
            ],
            "type": "surface"
           }
          ],
          "table": [
           {
            "cells": {
             "fill": {
              "color": "#EBF0F8"
             },
             "line": {
              "color": "white"
             }
            },
            "header": {
             "fill": {
              "color": "#C8D4E3"
             },
             "line": {
              "color": "white"
             }
            },
            "type": "table"
           }
          ]
         },
         "layout": {
          "annotationdefaults": {
           "arrowcolor": "#2a3f5f",
           "arrowhead": 0,
           "arrowwidth": 1
          },
          "autotypenumbers": "strict",
          "coloraxis": {
           "colorbar": {
            "outlinewidth": 0,
            "ticks": ""
           }
          },
          "colorscale": {
           "diverging": [
            [
             0,
             "#8e0152"
            ],
            [
             0.1,
             "#c51b7d"
            ],
            [
             0.2,
             "#de77ae"
            ],
            [
             0.3,
             "#f1b6da"
            ],
            [
             0.4,
             "#fde0ef"
            ],
            [
             0.5,
             "#f7f7f7"
            ],
            [
             0.6,
             "#e6f5d0"
            ],
            [
             0.7,
             "#b8e186"
            ],
            [
             0.8,
             "#7fbc41"
            ],
            [
             0.9,
             "#4d9221"
            ],
            [
             1,
             "#276419"
            ]
           ],
           "sequential": [
            [
             0,
             "#0d0887"
            ],
            [
             0.1111111111111111,
             "#46039f"
            ],
            [
             0.2222222222222222,
             "#7201a8"
            ],
            [
             0.3333333333333333,
             "#9c179e"
            ],
            [
             0.4444444444444444,
             "#bd3786"
            ],
            [
             0.5555555555555556,
             "#d8576b"
            ],
            [
             0.6666666666666666,
             "#ed7953"
            ],
            [
             0.7777777777777778,
             "#fb9f3a"
            ],
            [
             0.8888888888888888,
             "#fdca26"
            ],
            [
             1,
             "#f0f921"
            ]
           ],
           "sequentialminus": [
            [
             0,
             "#0d0887"
            ],
            [
             0.1111111111111111,
             "#46039f"
            ],
            [
             0.2222222222222222,
             "#7201a8"
            ],
            [
             0.3333333333333333,
             "#9c179e"
            ],
            [
             0.4444444444444444,
             "#bd3786"
            ],
            [
             0.5555555555555556,
             "#d8576b"
            ],
            [
             0.6666666666666666,
             "#ed7953"
            ],
            [
             0.7777777777777778,
             "#fb9f3a"
            ],
            [
             0.8888888888888888,
             "#fdca26"
            ],
            [
             1,
             "#f0f921"
            ]
           ]
          },
          "colorway": [
           "#636efa",
           "#EF553B",
           "#00cc96",
           "#ab63fa",
           "#FFA15A",
           "#19d3f3",
           "#FF6692",
           "#B6E880",
           "#FF97FF",
           "#FECB52"
          ],
          "font": {
           "color": "#2a3f5f"
          },
          "geo": {
           "bgcolor": "white",
           "lakecolor": "white",
           "landcolor": "white",
           "showlakes": true,
           "showland": true,
           "subunitcolor": "#C8D4E3"
          },
          "hoverlabel": {
           "align": "left"
          },
          "hovermode": "closest",
          "mapbox": {
           "style": "light"
          },
          "paper_bgcolor": "white",
          "plot_bgcolor": "white",
          "polar": {
           "angularaxis": {
            "gridcolor": "#EBF0F8",
            "linecolor": "#EBF0F8",
            "ticks": ""
           },
           "bgcolor": "white",
           "radialaxis": {
            "gridcolor": "#EBF0F8",
            "linecolor": "#EBF0F8",
            "ticks": ""
           }
          },
          "scene": {
           "xaxis": {
            "backgroundcolor": "white",
            "gridcolor": "#DFE8F3",
            "gridwidth": 2,
            "linecolor": "#EBF0F8",
            "showbackground": true,
            "ticks": "",
            "zerolinecolor": "#EBF0F8"
           },
           "yaxis": {
            "backgroundcolor": "white",
            "gridcolor": "#DFE8F3",
            "gridwidth": 2,
            "linecolor": "#EBF0F8",
            "showbackground": true,
            "ticks": "",
            "zerolinecolor": "#EBF0F8"
           },
           "zaxis": {
            "backgroundcolor": "white",
            "gridcolor": "#DFE8F3",
            "gridwidth": 2,
            "linecolor": "#EBF0F8",
            "showbackground": true,
            "ticks": "",
            "zerolinecolor": "#EBF0F8"
           }
          },
          "shapedefaults": {
           "line": {
            "color": "#2a3f5f"
           }
          },
          "ternary": {
           "aaxis": {
            "gridcolor": "#DFE8F3",
            "linecolor": "#A2B1C6",
            "ticks": ""
           },
           "baxis": {
            "gridcolor": "#DFE8F3",
            "linecolor": "#A2B1C6",
            "ticks": ""
           },
           "bgcolor": "white",
           "caxis": {
            "gridcolor": "#DFE8F3",
            "linecolor": "#A2B1C6",
            "ticks": ""
           }
          },
          "title": {
           "x": 0.05
          },
          "xaxis": {
           "automargin": true,
           "gridcolor": "#EBF0F8",
           "linecolor": "#EBF0F8",
           "ticks": "",
           "title": {
            "standoff": 15
           },
           "zerolinecolor": "#EBF0F8",
           "zerolinewidth": 2
          },
          "yaxis": {
           "automargin": true,
           "gridcolor": "#EBF0F8",
           "linecolor": "#EBF0F8",
           "ticks": "",
           "title": {
            "standoff": 15
           },
           "zerolinecolor": "#EBF0F8",
           "zerolinewidth": 2
          }
         }
        },
        "title": {
         "text": "New Customers per Marketing Spend by Channel",
         "x": 0.5
        },
        "xaxis": {
         "anchor": "y",
         "categoryarray": [
          "Email Marketing",
          "Online Ads",
          "Social Media",
          "Referral"
         ],
         "categoryorder": "array",
         "domain": [
          0,
          1
         ],
         "title": {
          "text": "Marketing Channel"
         }
        },
        "yaxis": {
         "anchor": "x",
         "domain": [
          0,
          1
         ],
         "tickformat": ".4f",
         "title": {
          "text": "New Customers per INR Spent"
         }
        }
       }
      }
     },
     "metadata": {},
     "output_type": "display_data"
    }
   ],
   "source": [
    "# Bar chart for Customers per Marketing Spend\n",
    "fig4 = px.bar(df, x='Marketing_Channel', y='Customers_Per_Spend', \n",
    "              color='Marketing_Channel', title='New Customers per Marketing Spend by Channel',\n",
    "              labels={'Customers_Per_Spend': 'New Customers per INR Spent'},\n",
    "              color_discrete_sequence=px.colors.qualitative.Set2,\n",
    "              text=df['Customers_Per_Spend'].round(4).astype(str))  # 4 decimals for clarity\n",
    "\n",
    "fig4.update_traces(textposition='auto', textfont=dict(size=12))\n",
    "fig4.update_layout(xaxis_title='Marketing Channel', yaxis_title='New Customers per INR Spent', \n",
    "                   title_x=0.5, yaxis=dict(tickformat=\".4f\"), showlegend=False)  # Match format to small values\n",
    "fig4.show()"
   ]
  },
  {
   "cell_type": "markdown",
   "metadata": {},
   "source": [
    "# Break-even Customers by Marketing Channel"
   ]
  },
  {
   "cell_type": "code",
   "execution_count": 13,
   "metadata": {},
   "outputs": [
    {
     "data": {
      "application/vnd.plotly.v1+json": {
       "config": {
        "plotlyServerURL": "https://plot.ly"
       },
       "data": [
        {
         "alignmentgroup": "True",
         "hovertemplate": "Marketing_Channel=%{x}<br>Break-even Customers=%{y}<extra></extra>",
         "legendgroup": "Email Marketing",
         "marker": {
          "color": "rgb(102,194,165)"
         },
         "name": "Email Marketing",
         "notched": false,
         "offsetgroup": "Email Marketing",
         "orientation": "v",
         "showlegend": true,
         "type": "box",
         "x": [
          "Email Marketing",
          "Email Marketing",
          "Email Marketing",
          "Email Marketing",
          "Email Marketing",
          "Email Marketing",
          "Email Marketing",
          "Email Marketing",
          "Email Marketing",
          "Email Marketing",
          "Email Marketing",
          "Email Marketing",
          "Email Marketing",
          "Email Marketing",
          "Email Marketing",
          "Email Marketing",
          "Email Marketing",
          "Email Marketing",
          "Email Marketing",
          "Email Marketing",
          "Email Marketing",
          "Email Marketing",
          "Email Marketing",
          "Email Marketing",
          "Email Marketing",
          "Email Marketing",
          "Email Marketing",
          "Email Marketing",
          "Email Marketing",
          "Email Marketing",
          "Email Marketing",
          "Email Marketing",
          "Email Marketing",
          "Email Marketing",
          "Email Marketing",
          "Email Marketing",
          "Email Marketing",
          "Email Marketing",
          "Email Marketing",
          "Email Marketing",
          "Email Marketing",
          "Email Marketing",
          "Email Marketing",
          "Email Marketing",
          "Email Marketing",
          "Email Marketing",
          "Email Marketing",
          "Email Marketing",
          "Email Marketing",
          "Email Marketing",
          "Email Marketing",
          "Email Marketing",
          "Email Marketing",
          "Email Marketing",
          "Email Marketing",
          "Email Marketing",
          "Email Marketing",
          "Email Marketing",
          "Email Marketing",
          "Email Marketing",
          "Email Marketing",
          "Email Marketing",
          "Email Marketing",
          "Email Marketing",
          "Email Marketing",
          "Email Marketing",
          "Email Marketing",
          "Email Marketing",
          "Email Marketing",
          "Email Marketing",
          "Email Marketing",
          "Email Marketing",
          "Email Marketing",
          "Email Marketing",
          "Email Marketing",
          "Email Marketing",
          "Email Marketing",
          "Email Marketing",
          "Email Marketing",
          "Email Marketing",
          "Email Marketing",
          "Email Marketing",
          "Email Marketing",
          "Email Marketing",
          "Email Marketing",
          "Email Marketing",
          "Email Marketing",
          "Email Marketing",
          "Email Marketing",
          "Email Marketing",
          "Email Marketing",
          "Email Marketing",
          "Email Marketing",
          "Email Marketing",
          "Email Marketing",
          "Email Marketing",
          "Email Marketing",
          "Email Marketing",
          "Email Marketing",
          "Email Marketing",
          "Email Marketing",
          "Email Marketing",
          "Email Marketing",
          "Email Marketing",
          "Email Marketing",
          "Email Marketing",
          "Email Marketing",
          "Email Marketing",
          "Email Marketing",
          "Email Marketing",
          "Email Marketing",
          "Email Marketing",
          "Email Marketing",
          "Email Marketing",
          "Email Marketing",
          "Email Marketing",
          "Email Marketing",
          "Email Marketing",
          "Email Marketing",
          "Email Marketing",
          "Email Marketing",
          "Email Marketing",
          "Email Marketing",
          "Email Marketing"
         ],
         "x0": " ",
         "xaxis": "x",
         "y": [
          16,
          13,
          35,
          23,
          11,
          13,
          25,
          14.000000000000002,
          48,
          27,
          19,
          25.999999999999996,
          17,
          18,
          10,
          13,
          40,
          38,
          42,
          42,
          24,
          49,
          41,
          19,
          18,
          45,
          43,
          16,
          37,
          38,
          24,
          31,
          30,
          14,
          15,
          37,
          33,
          46,
          24,
          16,
          17,
          46,
          49,
          48,
          31,
          19,
          23,
          34,
          13,
          29.000000000000004,
          12,
          13,
          10,
          23,
          23,
          18,
          41,
          37,
          24,
          42,
          32,
          14,
          36.99999999999999,
          14,
          14.999999999999998,
          37,
          25,
          43,
          24,
          20,
          14,
          50,
          19,
          22,
          21,
          41,
          46,
          50,
          29.000000000000004,
          42,
          38,
          38,
          43,
          49,
          33,
          27.999999999999996,
          31,
          48,
          13,
          50,
          31,
          27.999999999999996,
          29,
          18,
          15,
          31,
          18,
          21,
          23,
          24,
          12,
          49,
          34,
          36,
          38,
          44,
          40,
          22,
          33,
          38,
          28,
          36,
          21.999999999999996,
          48,
          45,
          17,
          28,
          26.999999999999996,
          15,
          24,
          34,
          14.999999999999998,
          33,
          19
         ],
         "y0": " ",
         "yaxis": "y"
        },
        {
         "alignmentgroup": "True",
         "hovertemplate": "Marketing_Channel=%{x}<br>Break-even Customers=%{y}<extra></extra>",
         "legendgroup": "Online Ads",
         "marker": {
          "color": "rgb(252,141,98)"
         },
         "name": "Online Ads",
         "notched": false,
         "offsetgroup": "Online Ads",
         "orientation": "v",
         "showlegend": true,
         "type": "box",
         "x": [
          "Online Ads",
          "Online Ads",
          "Online Ads",
          "Online Ads",
          "Online Ads",
          "Online Ads",
          "Online Ads",
          "Online Ads",
          "Online Ads",
          "Online Ads",
          "Online Ads",
          "Online Ads",
          "Online Ads",
          "Online Ads",
          "Online Ads",
          "Online Ads",
          "Online Ads",
          "Online Ads",
          "Online Ads",
          "Online Ads",
          "Online Ads",
          "Online Ads",
          "Online Ads",
          "Online Ads",
          "Online Ads",
          "Online Ads",
          "Online Ads",
          "Online Ads",
          "Online Ads",
          "Online Ads",
          "Online Ads",
          "Online Ads",
          "Online Ads",
          "Online Ads",
          "Online Ads",
          "Online Ads",
          "Online Ads",
          "Online Ads",
          "Online Ads",
          "Online Ads",
          "Online Ads",
          "Online Ads",
          "Online Ads",
          "Online Ads",
          "Online Ads",
          "Online Ads",
          "Online Ads",
          "Online Ads",
          "Online Ads",
          "Online Ads",
          "Online Ads",
          "Online Ads",
          "Online Ads",
          "Online Ads",
          "Online Ads",
          "Online Ads",
          "Online Ads",
          "Online Ads",
          "Online Ads",
          "Online Ads",
          "Online Ads",
          "Online Ads",
          "Online Ads",
          "Online Ads",
          "Online Ads",
          "Online Ads",
          "Online Ads",
          "Online Ads",
          "Online Ads",
          "Online Ads",
          "Online Ads",
          "Online Ads",
          "Online Ads",
          "Online Ads",
          "Online Ads",
          "Online Ads",
          "Online Ads",
          "Online Ads",
          "Online Ads",
          "Online Ads",
          "Online Ads",
          "Online Ads",
          "Online Ads",
          "Online Ads",
          "Online Ads",
          "Online Ads",
          "Online Ads",
          "Online Ads",
          "Online Ads",
          "Online Ads",
          "Online Ads",
          "Online Ads",
          "Online Ads",
          "Online Ads",
          "Online Ads",
          "Online Ads",
          "Online Ads",
          "Online Ads",
          "Online Ads",
          "Online Ads",
          "Online Ads",
          "Online Ads",
          "Online Ads",
          "Online Ads",
          "Online Ads",
          "Online Ads",
          "Online Ads",
          "Online Ads",
          "Online Ads",
          "Online Ads",
          "Online Ads",
          "Online Ads",
          "Online Ads",
          "Online Ads",
          "Online Ads",
          "Online Ads",
          "Online Ads",
          "Online Ads",
          "Online Ads",
          "Online Ads",
          "Online Ads",
          "Online Ads",
          "Online Ads",
          "Online Ads",
          "Online Ads",
          "Online Ads",
          "Online Ads",
          "Online Ads",
          "Online Ads",
          "Online Ads"
         ],
         "x0": " ",
         "xaxis": "x",
         "y": [
          33,
          32,
          22,
          38.99999999999999,
          15,
          50,
          48,
          31,
          46.00000000000001,
          23,
          24,
          31,
          32,
          25,
          30,
          11,
          21,
          43,
          33,
          47,
          29,
          39,
          40,
          48,
          50,
          30,
          34,
          48,
          42,
          23,
          39,
          26,
          15,
          18,
          13.000000000000002,
          17,
          37,
          28,
          32,
          40,
          32,
          24,
          37,
          49,
          45,
          11,
          26.999999999999996,
          27,
          28.999999999999996,
          32,
          10,
          19,
          50.00000000000001,
          39,
          29,
          30,
          13,
          15,
          38,
          27.000000000000004,
          42,
          24,
          29,
          28,
          17,
          10,
          21,
          18,
          44,
          12,
          11,
          46,
          28,
          17,
          39,
          37,
          35,
          29,
          31,
          42,
          32,
          25,
          19,
          14,
          47,
          38,
          30.000000000000004,
          19,
          38,
          29.000000000000004,
          13.999999999999998,
          15,
          42,
          12,
          38,
          46,
          30.999999999999996,
          42,
          25,
          34,
          14,
          47,
          29,
          37,
          33,
          29.000000000000004,
          18,
          19,
          14,
          28,
          44,
          31,
          48,
          19,
          49,
          38,
          33,
          25,
          43,
          26,
          16,
          43,
          14.999999999999998,
          42,
          36,
          24,
          11,
          16,
          12,
          40
         ],
         "y0": " ",
         "yaxis": "y"
        },
        {
         "alignmentgroup": "True",
         "hovertemplate": "Marketing_Channel=%{x}<br>Break-even Customers=%{y}<extra></extra>",
         "legendgroup": "Social Media",
         "marker": {
          "color": "rgb(141,160,203)"
         },
         "name": "Social Media",
         "notched": false,
         "offsetgroup": "Social Media",
         "orientation": "v",
         "showlegend": true,
         "type": "box",
         "x": [
          "Social Media",
          "Social Media",
          "Social Media",
          "Social Media",
          "Social Media",
          "Social Media",
          "Social Media",
          "Social Media",
          "Social Media",
          "Social Media",
          "Social Media",
          "Social Media",
          "Social Media",
          "Social Media",
          "Social Media",
          "Social Media",
          "Social Media",
          "Social Media",
          "Social Media",
          "Social Media",
          "Social Media",
          "Social Media",
          "Social Media",
          "Social Media",
          "Social Media",
          "Social Media",
          "Social Media",
          "Social Media",
          "Social Media",
          "Social Media",
          "Social Media",
          "Social Media",
          "Social Media",
          "Social Media",
          "Social Media",
          "Social Media",
          "Social Media",
          "Social Media",
          "Social Media",
          "Social Media",
          "Social Media",
          "Social Media",
          "Social Media",
          "Social Media",
          "Social Media",
          "Social Media",
          "Social Media",
          "Social Media",
          "Social Media",
          "Social Media",
          "Social Media",
          "Social Media",
          "Social Media",
          "Social Media",
          "Social Media",
          "Social Media",
          "Social Media",
          "Social Media",
          "Social Media",
          "Social Media",
          "Social Media",
          "Social Media",
          "Social Media",
          "Social Media",
          "Social Media",
          "Social Media",
          "Social Media",
          "Social Media",
          "Social Media",
          "Social Media",
          "Social Media",
          "Social Media",
          "Social Media",
          "Social Media",
          "Social Media",
          "Social Media",
          "Social Media",
          "Social Media",
          "Social Media",
          "Social Media",
          "Social Media",
          "Social Media",
          "Social Media",
          "Social Media",
          "Social Media",
          "Social Media",
          "Social Media",
          "Social Media",
          "Social Media",
          "Social Media",
          "Social Media",
          "Social Media",
          "Social Media",
          "Social Media",
          "Social Media",
          "Social Media",
          "Social Media",
          "Social Media",
          "Social Media",
          "Social Media",
          "Social Media",
          "Social Media",
          "Social Media",
          "Social Media",
          "Social Media",
          "Social Media",
          "Social Media",
          "Social Media",
          "Social Media",
          "Social Media",
          "Social Media",
          "Social Media",
          "Social Media",
          "Social Media",
          "Social Media",
          "Social Media",
          "Social Media",
          "Social Media"
         ],
         "x0": " ",
         "xaxis": "x",
         "y": [
          44,
          17,
          45,
          23,
          44,
          47,
          26,
          18,
          36,
          17,
          16,
          11,
          13,
          16,
          38,
          15,
          30,
          14,
          49,
          39,
          48,
          36,
          35,
          36,
          37,
          40,
          45,
          31,
          13,
          16,
          42,
          19,
          45,
          27.000000000000004,
          45,
          46,
          11,
          15,
          43,
          31,
          20,
          46,
          48,
          15,
          20,
          36,
          23,
          17,
          37,
          28.000000000000004,
          47,
          35,
          45,
          39,
          30.000000000000004,
          46,
          35,
          35,
          49,
          35,
          31,
          17,
          43,
          32,
          19,
          26,
          48,
          46,
          38,
          39,
          28,
          39,
          47,
          22,
          40,
          19,
          12,
          38,
          43,
          20,
          33,
          30.999999999999996,
          16,
          45,
          26,
          48,
          19,
          31.000000000000004,
          15,
          19,
          48,
          45,
          34,
          43,
          15,
          42,
          31,
          16,
          43,
          18,
          20,
          49,
          34,
          42,
          18,
          13,
          40,
          33,
          20,
          38,
          19,
          11,
          13,
          25,
          30,
          31,
          18,
          28
         ],
         "y0": " ",
         "yaxis": "y"
        },
        {
         "alignmentgroup": "True",
         "hovertemplate": "Marketing_Channel=%{x}<br>Break-even Customers=%{y}<extra></extra>",
         "legendgroup": "Referral",
         "marker": {
          "color": "rgb(231,138,195)"
         },
         "name": "Referral",
         "notched": false,
         "offsetgroup": "Referral",
         "orientation": "v",
         "showlegend": true,
         "type": "box",
         "x": [
          "Referral",
          "Referral",
          "Referral",
          "Referral",
          "Referral",
          "Referral",
          "Referral",
          "Referral",
          "Referral",
          "Referral",
          "Referral",
          "Referral",
          "Referral",
          "Referral",
          "Referral",
          "Referral",
          "Referral",
          "Referral",
          "Referral",
          "Referral",
          "Referral",
          "Referral",
          "Referral",
          "Referral",
          "Referral",
          "Referral",
          "Referral",
          "Referral",
          "Referral",
          "Referral",
          "Referral",
          "Referral",
          "Referral",
          "Referral",
          "Referral",
          "Referral",
          "Referral",
          "Referral",
          "Referral",
          "Referral",
          "Referral",
          "Referral",
          "Referral",
          "Referral",
          "Referral",
          "Referral",
          "Referral",
          "Referral",
          "Referral",
          "Referral",
          "Referral",
          "Referral",
          "Referral",
          "Referral",
          "Referral",
          "Referral",
          "Referral",
          "Referral",
          "Referral",
          "Referral",
          "Referral",
          "Referral",
          "Referral",
          "Referral",
          "Referral",
          "Referral",
          "Referral",
          "Referral",
          "Referral",
          "Referral",
          "Referral",
          "Referral",
          "Referral",
          "Referral",
          "Referral",
          "Referral",
          "Referral",
          "Referral",
          "Referral",
          "Referral",
          "Referral",
          "Referral",
          "Referral",
          "Referral",
          "Referral",
          "Referral",
          "Referral",
          "Referral",
          "Referral",
          "Referral",
          "Referral",
          "Referral",
          "Referral",
          "Referral",
          "Referral",
          "Referral",
          "Referral",
          "Referral",
          "Referral",
          "Referral",
          "Referral",
          "Referral",
          "Referral",
          "Referral",
          "Referral",
          "Referral",
          "Referral",
          "Referral",
          "Referral",
          "Referral",
          "Referral",
          "Referral",
          "Referral",
          "Referral",
          "Referral",
          "Referral",
          "Referral",
          "Referral",
          "Referral",
          "Referral",
          "Referral",
          "Referral",
          "Referral",
          "Referral",
          "Referral",
          "Referral",
          "Referral",
          "Referral"
         ],
         "x0": " ",
         "xaxis": "x",
         "y": [
          27,
          18,
          23,
          46.99999999999999,
          19,
          10,
          18,
          21,
          11,
          14,
          38,
          12,
          43,
          35,
          37,
          14,
          27,
          47,
          28,
          37,
          17,
          45,
          16,
          30,
          33,
          19,
          15.000000000000002,
          16,
          47,
          45,
          45,
          36,
          32,
          48,
          29,
          23,
          33,
          11,
          21,
          21,
          35,
          14,
          36,
          33,
          19,
          49,
          27,
          38,
          37,
          41,
          48,
          32,
          17,
          41,
          43,
          48,
          26,
          30.000000000000004,
          34,
          35,
          37,
          50,
          36,
          11,
          29.999999999999996,
          20,
          33,
          16,
          47,
          15,
          42,
          22,
          16,
          21,
          50,
          39,
          49.99999999999999,
          49,
          30,
          50,
          14,
          40,
          27,
          47,
          13,
          32,
          42,
          38,
          12,
          13,
          33,
          14,
          49,
          48,
          34,
          45,
          30,
          48,
          13,
          16,
          15,
          21,
          36,
          34,
          32,
          35,
          33,
          11,
          41,
          22,
          42,
          20,
          20.999999999999996,
          12,
          38,
          28,
          24,
          25.000000000000004,
          28.999999999999996,
          46,
          39,
          20,
          37,
          38,
          32,
          35,
          42,
          33
         ],
         "y0": " ",
         "yaxis": "y"
        }
       ],
       "layout": {
        "boxmode": "overlay",
        "legend": {
         "title": {
          "text": "Marketing_Channel"
         },
         "tracegroupgap": 0
        },
        "showlegend": false,
        "template": {
         "data": {
          "bar": [
           {
            "error_x": {
             "color": "#2a3f5f"
            },
            "error_y": {
             "color": "#2a3f5f"
            },
            "marker": {
             "line": {
              "color": "white",
              "width": 0.5
             },
             "pattern": {
              "fillmode": "overlay",
              "size": 10,
              "solidity": 0.2
             }
            },
            "type": "bar"
           }
          ],
          "barpolar": [
           {
            "marker": {
             "line": {
              "color": "white",
              "width": 0.5
             },
             "pattern": {
              "fillmode": "overlay",
              "size": 10,
              "solidity": 0.2
             }
            },
            "type": "barpolar"
           }
          ],
          "carpet": [
           {
            "aaxis": {
             "endlinecolor": "#2a3f5f",
             "gridcolor": "#C8D4E3",
             "linecolor": "#C8D4E3",
             "minorgridcolor": "#C8D4E3",
             "startlinecolor": "#2a3f5f"
            },
            "baxis": {
             "endlinecolor": "#2a3f5f",
             "gridcolor": "#C8D4E3",
             "linecolor": "#C8D4E3",
             "minorgridcolor": "#C8D4E3",
             "startlinecolor": "#2a3f5f"
            },
            "type": "carpet"
           }
          ],
          "choropleth": [
           {
            "colorbar": {
             "outlinewidth": 0,
             "ticks": ""
            },
            "type": "choropleth"
           }
          ],
          "contour": [
           {
            "colorbar": {
             "outlinewidth": 0,
             "ticks": ""
            },
            "colorscale": [
             [
              0,
              "#0d0887"
             ],
             [
              0.1111111111111111,
              "#46039f"
             ],
             [
              0.2222222222222222,
              "#7201a8"
             ],
             [
              0.3333333333333333,
              "#9c179e"
             ],
             [
              0.4444444444444444,
              "#bd3786"
             ],
             [
              0.5555555555555556,
              "#d8576b"
             ],
             [
              0.6666666666666666,
              "#ed7953"
             ],
             [
              0.7777777777777778,
              "#fb9f3a"
             ],
             [
              0.8888888888888888,
              "#fdca26"
             ],
             [
              1,
              "#f0f921"
             ]
            ],
            "type": "contour"
           }
          ],
          "contourcarpet": [
           {
            "colorbar": {
             "outlinewidth": 0,
             "ticks": ""
            },
            "type": "contourcarpet"
           }
          ],
          "heatmap": [
           {
            "colorbar": {
             "outlinewidth": 0,
             "ticks": ""
            },
            "colorscale": [
             [
              0,
              "#0d0887"
             ],
             [
              0.1111111111111111,
              "#46039f"
             ],
             [
              0.2222222222222222,
              "#7201a8"
             ],
             [
              0.3333333333333333,
              "#9c179e"
             ],
             [
              0.4444444444444444,
              "#bd3786"
             ],
             [
              0.5555555555555556,
              "#d8576b"
             ],
             [
              0.6666666666666666,
              "#ed7953"
             ],
             [
              0.7777777777777778,
              "#fb9f3a"
             ],
             [
              0.8888888888888888,
              "#fdca26"
             ],
             [
              1,
              "#f0f921"
             ]
            ],
            "type": "heatmap"
           }
          ],
          "heatmapgl": [
           {
            "colorbar": {
             "outlinewidth": 0,
             "ticks": ""
            },
            "colorscale": [
             [
              0,
              "#0d0887"
             ],
             [
              0.1111111111111111,
              "#46039f"
             ],
             [
              0.2222222222222222,
              "#7201a8"
             ],
             [
              0.3333333333333333,
              "#9c179e"
             ],
             [
              0.4444444444444444,
              "#bd3786"
             ],
             [
              0.5555555555555556,
              "#d8576b"
             ],
             [
              0.6666666666666666,
              "#ed7953"
             ],
             [
              0.7777777777777778,
              "#fb9f3a"
             ],
             [
              0.8888888888888888,
              "#fdca26"
             ],
             [
              1,
              "#f0f921"
             ]
            ],
            "type": "heatmapgl"
           }
          ],
          "histogram": [
           {
            "marker": {
             "pattern": {
              "fillmode": "overlay",
              "size": 10,
              "solidity": 0.2
             }
            },
            "type": "histogram"
           }
          ],
          "histogram2d": [
           {
            "colorbar": {
             "outlinewidth": 0,
             "ticks": ""
            },
            "colorscale": [
             [
              0,
              "#0d0887"
             ],
             [
              0.1111111111111111,
              "#46039f"
             ],
             [
              0.2222222222222222,
              "#7201a8"
             ],
             [
              0.3333333333333333,
              "#9c179e"
             ],
             [
              0.4444444444444444,
              "#bd3786"
             ],
             [
              0.5555555555555556,
              "#d8576b"
             ],
             [
              0.6666666666666666,
              "#ed7953"
             ],
             [
              0.7777777777777778,
              "#fb9f3a"
             ],
             [
              0.8888888888888888,
              "#fdca26"
             ],
             [
              1,
              "#f0f921"
             ]
            ],
            "type": "histogram2d"
           }
          ],
          "histogram2dcontour": [
           {
            "colorbar": {
             "outlinewidth": 0,
             "ticks": ""
            },
            "colorscale": [
             [
              0,
              "#0d0887"
             ],
             [
              0.1111111111111111,
              "#46039f"
             ],
             [
              0.2222222222222222,
              "#7201a8"
             ],
             [
              0.3333333333333333,
              "#9c179e"
             ],
             [
              0.4444444444444444,
              "#bd3786"
             ],
             [
              0.5555555555555556,
              "#d8576b"
             ],
             [
              0.6666666666666666,
              "#ed7953"
             ],
             [
              0.7777777777777778,
              "#fb9f3a"
             ],
             [
              0.8888888888888888,
              "#fdca26"
             ],
             [
              1,
              "#f0f921"
             ]
            ],
            "type": "histogram2dcontour"
           }
          ],
          "mesh3d": [
           {
            "colorbar": {
             "outlinewidth": 0,
             "ticks": ""
            },
            "type": "mesh3d"
           }
          ],
          "parcoords": [
           {
            "line": {
             "colorbar": {
              "outlinewidth": 0,
              "ticks": ""
             }
            },
            "type": "parcoords"
           }
          ],
          "pie": [
           {
            "automargin": true,
            "type": "pie"
           }
          ],
          "scatter": [
           {
            "fillpattern": {
             "fillmode": "overlay",
             "size": 10,
             "solidity": 0.2
            },
            "type": "scatter"
           }
          ],
          "scatter3d": [
           {
            "line": {
             "colorbar": {
              "outlinewidth": 0,
              "ticks": ""
             }
            },
            "marker": {
             "colorbar": {
              "outlinewidth": 0,
              "ticks": ""
             }
            },
            "type": "scatter3d"
           }
          ],
          "scattercarpet": [
           {
            "marker": {
             "colorbar": {
              "outlinewidth": 0,
              "ticks": ""
             }
            },
            "type": "scattercarpet"
           }
          ],
          "scattergeo": [
           {
            "marker": {
             "colorbar": {
              "outlinewidth": 0,
              "ticks": ""
             }
            },
            "type": "scattergeo"
           }
          ],
          "scattergl": [
           {
            "marker": {
             "colorbar": {
              "outlinewidth": 0,
              "ticks": ""
             }
            },
            "type": "scattergl"
           }
          ],
          "scattermapbox": [
           {
            "marker": {
             "colorbar": {
              "outlinewidth": 0,
              "ticks": ""
             }
            },
            "type": "scattermapbox"
           }
          ],
          "scatterpolar": [
           {
            "marker": {
             "colorbar": {
              "outlinewidth": 0,
              "ticks": ""
             }
            },
            "type": "scatterpolar"
           }
          ],
          "scatterpolargl": [
           {
            "marker": {
             "colorbar": {
              "outlinewidth": 0,
              "ticks": ""
             }
            },
            "type": "scatterpolargl"
           }
          ],
          "scatterternary": [
           {
            "marker": {
             "colorbar": {
              "outlinewidth": 0,
              "ticks": ""
             }
            },
            "type": "scatterternary"
           }
          ],
          "surface": [
           {
            "colorbar": {
             "outlinewidth": 0,
             "ticks": ""
            },
            "colorscale": [
             [
              0,
              "#0d0887"
             ],
             [
              0.1111111111111111,
              "#46039f"
             ],
             [
              0.2222222222222222,
              "#7201a8"
             ],
             [
              0.3333333333333333,
              "#9c179e"
             ],
             [
              0.4444444444444444,
              "#bd3786"
             ],
             [
              0.5555555555555556,
              "#d8576b"
             ],
             [
              0.6666666666666666,
              "#ed7953"
             ],
             [
              0.7777777777777778,
              "#fb9f3a"
             ],
             [
              0.8888888888888888,
              "#fdca26"
             ],
             [
              1,
              "#f0f921"
             ]
            ],
            "type": "surface"
           }
          ],
          "table": [
           {
            "cells": {
             "fill": {
              "color": "#EBF0F8"
             },
             "line": {
              "color": "white"
             }
            },
            "header": {
             "fill": {
              "color": "#C8D4E3"
             },
             "line": {
              "color": "white"
             }
            },
            "type": "table"
           }
          ]
         },
         "layout": {
          "annotationdefaults": {
           "arrowcolor": "#2a3f5f",
           "arrowhead": 0,
           "arrowwidth": 1
          },
          "autotypenumbers": "strict",
          "coloraxis": {
           "colorbar": {
            "outlinewidth": 0,
            "ticks": ""
           }
          },
          "colorscale": {
           "diverging": [
            [
             0,
             "#8e0152"
            ],
            [
             0.1,
             "#c51b7d"
            ],
            [
             0.2,
             "#de77ae"
            ],
            [
             0.3,
             "#f1b6da"
            ],
            [
             0.4,
             "#fde0ef"
            ],
            [
             0.5,
             "#f7f7f7"
            ],
            [
             0.6,
             "#e6f5d0"
            ],
            [
             0.7,
             "#b8e186"
            ],
            [
             0.8,
             "#7fbc41"
            ],
            [
             0.9,
             "#4d9221"
            ],
            [
             1,
             "#276419"
            ]
           ],
           "sequential": [
            [
             0,
             "#0d0887"
            ],
            [
             0.1111111111111111,
             "#46039f"
            ],
            [
             0.2222222222222222,
             "#7201a8"
            ],
            [
             0.3333333333333333,
             "#9c179e"
            ],
            [
             0.4444444444444444,
             "#bd3786"
            ],
            [
             0.5555555555555556,
             "#d8576b"
            ],
            [
             0.6666666666666666,
             "#ed7953"
            ],
            [
             0.7777777777777778,
             "#fb9f3a"
            ],
            [
             0.8888888888888888,
             "#fdca26"
            ],
            [
             1,
             "#f0f921"
            ]
           ],
           "sequentialminus": [
            [
             0,
             "#0d0887"
            ],
            [
             0.1111111111111111,
             "#46039f"
            ],
            [
             0.2222222222222222,
             "#7201a8"
            ],
            [
             0.3333333333333333,
             "#9c179e"
            ],
            [
             0.4444444444444444,
             "#bd3786"
            ],
            [
             0.5555555555555556,
             "#d8576b"
            ],
            [
             0.6666666666666666,
             "#ed7953"
            ],
            [
             0.7777777777777778,
             "#fb9f3a"
            ],
            [
             0.8888888888888888,
             "#fdca26"
            ],
            [
             1,
             "#f0f921"
            ]
           ]
          },
          "colorway": [
           "#636efa",
           "#EF553B",
           "#00cc96",
           "#ab63fa",
           "#FFA15A",
           "#19d3f3",
           "#FF6692",
           "#B6E880",
           "#FF97FF",
           "#FECB52"
          ],
          "font": {
           "color": "#2a3f5f"
          },
          "geo": {
           "bgcolor": "white",
           "lakecolor": "white",
           "landcolor": "white",
           "showlakes": true,
           "showland": true,
           "subunitcolor": "#C8D4E3"
          },
          "hoverlabel": {
           "align": "left"
          },
          "hovermode": "closest",
          "mapbox": {
           "style": "light"
          },
          "paper_bgcolor": "white",
          "plot_bgcolor": "white",
          "polar": {
           "angularaxis": {
            "gridcolor": "#EBF0F8",
            "linecolor": "#EBF0F8",
            "ticks": ""
           },
           "bgcolor": "white",
           "radialaxis": {
            "gridcolor": "#EBF0F8",
            "linecolor": "#EBF0F8",
            "ticks": ""
           }
          },
          "scene": {
           "xaxis": {
            "backgroundcolor": "white",
            "gridcolor": "#DFE8F3",
            "gridwidth": 2,
            "linecolor": "#EBF0F8",
            "showbackground": true,
            "ticks": "",
            "zerolinecolor": "#EBF0F8"
           },
           "yaxis": {
            "backgroundcolor": "white",
            "gridcolor": "#DFE8F3",
            "gridwidth": 2,
            "linecolor": "#EBF0F8",
            "showbackground": true,
            "ticks": "",
            "zerolinecolor": "#EBF0F8"
           },
           "zaxis": {
            "backgroundcolor": "white",
            "gridcolor": "#DFE8F3",
            "gridwidth": 2,
            "linecolor": "#EBF0F8",
            "showbackground": true,
            "ticks": "",
            "zerolinecolor": "#EBF0F8"
           }
          },
          "shapedefaults": {
           "line": {
            "color": "#2a3f5f"
           }
          },
          "ternary": {
           "aaxis": {
            "gridcolor": "#DFE8F3",
            "linecolor": "#A2B1C6",
            "ticks": ""
           },
           "baxis": {
            "gridcolor": "#DFE8F3",
            "linecolor": "#A2B1C6",
            "ticks": ""
           },
           "bgcolor": "white",
           "caxis": {
            "gridcolor": "#DFE8F3",
            "linecolor": "#A2B1C6",
            "ticks": ""
           }
          },
          "title": {
           "x": 0.05
          },
          "xaxis": {
           "automargin": true,
           "gridcolor": "#EBF0F8",
           "linecolor": "#EBF0F8",
           "ticks": "",
           "title": {
            "standoff": 15
           },
           "zerolinecolor": "#EBF0F8",
           "zerolinewidth": 2
          },
          "yaxis": {
           "automargin": true,
           "gridcolor": "#EBF0F8",
           "linecolor": "#EBF0F8",
           "ticks": "",
           "title": {
            "standoff": 15
           },
           "zerolinecolor": "#EBF0F8",
           "zerolinewidth": 2
          }
         }
        },
        "title": {
         "text": "Break-even Customers by Channel",
         "x": 0.5
        },
        "xaxis": {
         "anchor": "y",
         "categoryarray": [
          "Email Marketing",
          "Online Ads",
          "Social Media",
          "Referral"
         ],
         "categoryorder": "array",
         "domain": [
          0,
          1
         ],
         "title": {
          "text": "Marketing Channel"
         }
        },
        "yaxis": {
         "anchor": "x",
         "domain": [
          0,
          1
         ],
         "tickformat": ".2f",
         "title": {
          "text": "Break-even Customers"
         }
        }
       }
      }
     },
     "metadata": {},
     "output_type": "display_data"
    }
   ],
   "source": [
    "\n",
    "# Box plot for BE_customers\n",
    "fig5 = px.box(df, x='Marketing_Channel', y='BE_customers',\n",
    "              color='Marketing_Channel', \n",
    "              title='Break-even Customers by Channel',\n",
    "              labels={'BE_customers': 'Break-even Customers'},\n",
    "              color_discrete_sequence=px.colors.qualitative.Set2)\n",
    "\n",
    "# Update layout\n",
    "fig5.update_layout(\n",
    "    xaxis_title='Marketing Channel',\n",
    "    yaxis_title='Break-even Customers',\n",
    "    title_x=0.5,\n",
    "    yaxis=dict(tickformat=\".2f\"),\n",
    "    showlegend=False\n",
    ")\n",
    "\n",
    "# Show the plot\n",
    "fig5.show()"
   ]
  },
  {
   "cell_type": "markdown",
   "metadata": {},
   "source": [
    "# CAC vs Conversion Rate"
   ]
  },
  {
   "cell_type": "code",
   "execution_count": 14,
   "metadata": {},
   "outputs": [
    {
     "data": {
      "application/vnd.plotly.v1+json": {
       "config": {
        "plotlyServerURL": "https://plot.ly"
       },
       "data": [
        {
         "customdata": [
          [
           16
          ],
          [
           13
          ],
          [
           35
          ],
          [
           23
          ],
          [
           11
          ],
          [
           13
          ],
          [
           25
          ],
          [
           14
          ],
          [
           48
          ],
          [
           27
          ],
          [
           19
          ],
          [
           26
          ],
          [
           17
          ],
          [
           18
          ],
          [
           10
          ],
          [
           13
          ],
          [
           40
          ],
          [
           38
          ],
          [
           42
          ],
          [
           42
          ],
          [
           24
          ],
          [
           49
          ],
          [
           41
          ],
          [
           19
          ],
          [
           18
          ],
          [
           45
          ],
          [
           43
          ],
          [
           16
          ],
          [
           37
          ],
          [
           38
          ],
          [
           24
          ],
          [
           31
          ],
          [
           30
          ],
          [
           14
          ],
          [
           15
          ],
          [
           37
          ],
          [
           33
          ],
          [
           46
          ],
          [
           24
          ],
          [
           16
          ],
          [
           17
          ],
          [
           46
          ],
          [
           49
          ],
          [
           48
          ],
          [
           31
          ],
          [
           19
          ],
          [
           23
          ],
          [
           34
          ],
          [
           13
          ],
          [
           29
          ],
          [
           12
          ],
          [
           13
          ],
          [
           10
          ],
          [
           23
          ],
          [
           23
          ],
          [
           18
          ],
          [
           41
          ],
          [
           37
          ],
          [
           24
          ],
          [
           42
          ],
          [
           32
          ],
          [
           14
          ],
          [
           37
          ],
          [
           14
          ],
          [
           15
          ],
          [
           37
          ],
          [
           25
          ],
          [
           43
          ],
          [
           24
          ],
          [
           20
          ],
          [
           14
          ],
          [
           50
          ],
          [
           19
          ],
          [
           22
          ],
          [
           21
          ],
          [
           41
          ],
          [
           46
          ],
          [
           50
          ],
          [
           29
          ],
          [
           42
          ],
          [
           38
          ],
          [
           38
          ],
          [
           43
          ],
          [
           49
          ],
          [
           33
          ],
          [
           28
          ],
          [
           31
          ],
          [
           48
          ],
          [
           13
          ],
          [
           50
          ],
          [
           31
          ],
          [
           28
          ],
          [
           29
          ],
          [
           18
          ],
          [
           15
          ],
          [
           31
          ],
          [
           18
          ],
          [
           21
          ],
          [
           23
          ],
          [
           24
          ],
          [
           12
          ],
          [
           49
          ],
          [
           34
          ],
          [
           36
          ],
          [
           38
          ],
          [
           44
          ],
          [
           40
          ],
          [
           22
          ],
          [
           33
          ],
          [
           38
          ],
          [
           28
          ],
          [
           36
          ],
          [
           22
          ],
          [
           48
          ],
          [
           45
          ],
          [
           17
          ],
          [
           28
          ],
          [
           27
          ],
          [
           15
          ],
          [
           24
          ],
          [
           34
          ],
          [
           15
          ],
          [
           33
          ],
          [
           19
          ]
         ],
         "hovertemplate": "Marketing_Channel=Email Marketing<br>CAC (INR)=%{x}<br>Conversion Rate (%)=%{y}<br>New_Customers=%{customdata[0]}<extra></extra>",
         "legendgroup": "Email Marketing",
         "marker": {
          "color": "rgb(228,26,28)",
          "line": {
           "color": "DarkSlateGrey",
           "width": 1
          },
          "opacity": 0.8,
          "size": 8,
          "symbol": "circle"
         },
         "mode": "markers",
         "name": "Email Marketing",
         "orientation": "v",
         "showlegend": true,
         "text": [
          "218.06\n0.46%",
          "33.57\n2.98%",
          "58.55\n1.71%",
          "101.8\n0.98%",
          "85.26\n1.17%",
          "102.03\n0.98%",
          "57.14\n1.75%",
          "129.4\n0.77%",
          "70.66\n1.42%",
          "64.52\n1.55%",
          "123.11\n0.81%",
          "100.32\n1.0%",
          "80.9\n1.24%",
          "52.43\n1.91%",
          "364.37\n0.27%",
          "332.9\n0.3%",
          "64.81\n1.54%",
          "53.1\n1.88%",
          "59.86\n1.67%",
          "68.65\n1.46%",
          "217.38\n0.46%",
          "171.42\n0.58%",
          "80.01\n1.25%",
          "179.34\n0.56%",
          "76.75\n1.3%",
          "174.65\n0.57%",
          "199.94\n0.5%",
          "57.98\n1.72%",
          "56.92\n1.76%",
          "33.53\n2.98%",
          "150.49\n0.66%",
          "136.22\n0.73%",
          "171.36\n0.58%",
          "103.99\n0.96%",
          "86.31\n1.16%",
          "156.45\n0.64%",
          "79.58\n1.26%",
          "201.71\n0.5%",
          "362.88\n0.28%",
          "81.01\n1.23%",
          "427.72\n0.23%",
          "151.84\n0.66%",
          "57.3\n1.75%",
          "23.46\n4.26%",
          "74.93\n1.33%",
          "337.22\n0.3%",
          "230.13\n0.43%",
          "99.49\n1.01%",
          "296.93\n0.34%",
          "72.44\n1.38%",
          "104.51\n0.96%",
          "81.6\n1.23%",
          "82.8\n1.21%",
          "292.14\n0.34%",
          "110.03\n0.91%",
          "89.52\n1.12%",
          "44.98\n2.22%",
          "117.51\n0.85%",
          "87.88\n1.14%",
          "149.3\n0.67%",
          "71.41\n1.4%",
          "59.1\n1.69%",
          "125.99\n0.79%",
          "48.26\n2.07%",
          "366.53\n0.27%",
          "99.75\n1.0%",
          "49.04\n2.04%",
          "124.18\n0.81%",
          "322.03\n0.31%",
          "331.91\n0.3%",
          "95.73\n1.04%",
          "78.34\n1.28%",
          "106.36\n0.94%",
          "303.87\n0.33%",
          "50.74\n1.97%",
          "111.39\n0.9%",
          "225.19\n0.44%",
          "195.6\n0.51%",
          "91.41\n1.09%",
          "81.75\n1.22%",
          "109.14\n0.92%",
          "314.78\n0.32%",
          "240.16\n0.42%",
          "49.88\n2.0%",
          "92.38\n1.08%",
          "39.51\n2.53%",
          "60.83\n1.64%",
          "76.47\n1.31%",
          "83.87\n1.19%",
          "32.79\n3.05%",
          "91.75\n1.09%",
          "40.17\n2.49%",
          "66.02\n1.51%",
          "107.47\n0.93%",
          "56.22\n1.78%",
          "94.19\n1.06%",
          "102.83\n0.97%",
          "131.57\n0.76%",
          "61.21\n1.63%",
          "106.49\n0.94%",
          "58.37\n1.71%",
          "104.87\n0.95%",
          "77.75\n1.29%",
          "168.03\n0.6%",
          "104.51\n0.96%",
          "115.6\n0.87%",
          "75.98\n1.32%",
          "119.19\n0.84%",
          "38.12\n2.62%",
          "117.9\n0.85%",
          "125.57\n0.8%",
          "60.13\n1.66%",
          "110.87\n0.9%",
          "111.27\n0.9%",
          "94.66\n1.06%",
          "142.21\n0.7%",
          "99.59\n1.0%",
          "165.94\n0.6%",
          "254.09\n0.39%",
          "138.91\n0.72%",
          "133.71\n0.75%",
          "40.07\n2.5%",
          "110.65\n0.9%",
          "44.79\n2.23%",
          "174.64\n0.57%",
          "89.97\n1.11%",
          "133.89\n0.75%",
          "39.69\n2.52%",
          "65.26\n1.53%",
          "86.63\n1.15%",
          "158.27\n0.63%",
          "182.27\n0.55%",
          "59.22\n1.69%",
          "43.82\n2.28%",
          "48.01\n2.08%",
          "146.92\n0.68%",
          "61.35\n1.63%",
          "22.01\n4.54%",
          "108.16\n0.92%",
          "65.54\n1.53%",
          "306.07\n0.33%",
          "69.86\n1.43%",
          "90.23\n1.11%",
          "65.44\n1.53%",
          "235.47\n0.42%",
          "74.09\n1.35%",
          "187.12\n0.53%",
          "206.02\n0.49%",
          "89.92\n1.11%",
          "61.38\n1.63%",
          "52.65\n1.9%",
          "70.91\n1.41%",
          "176.45\n0.57%",
          "63.28\n1.58%",
          "178.69\n0.56%",
          "70.35\n1.42%",
          "28.81\n3.47%",
          "71.79\n1.39%",
          "24.78\n4.03%",
          "35.48\n2.82%",
          "295.58\n0.34%",
          "46.15\n2.17%",
          "184.28\n0.54%",
          "133.98\n0.75%",
          "193.23\n0.52%",
          "126.86\n0.79%",
          "143.55\n0.7%",
          "61.38\n1.63%",
          "96.57\n1.04%",
          "280.21\n0.36%",
          "131.95\n0.76%",
          "233.72\n0.43%",
          "107.83\n0.93%",
          "63.47\n1.58%",
          "248.86\n0.4%",
          "180.97\n0.55%",
          "79.21\n1.26%",
          "435.49\n0.23%",
          "122.08\n0.82%",
          "42.89\n2.33%",
          "158.34\n0.63%",
          "47.89\n2.09%",
          "47.09\n2.12%",
          "33.34\n3.0%",
          "32.6\n3.07%",
          "140.1\n0.71%",
          "102.28\n0.98%",
          "74.66\n1.34%",
          "64.2\n1.56%",
          "83.21\n1.2%",
          "79.42\n1.26%",
          "187.74\n0.53%",
          "288.43\n0.35%",
          "247.14\n0.4%",
          "207.57\n0.48%",
          "71.43\n1.4%",
          "280.36\n0.36%",
          "315.64\n0.32%",
          "100.02\n1.0%",
          "83.64\n1.2%",
          "97.04\n1.03%",
          "113.02\n0.88%",
          "89.72\n1.11%",
          "33.83\n2.96%",
          "46.21\n2.16%",
          "82.61\n1.21%",
          "173.73\n0.58%",
          "78.02\n1.28%",
          "126.73\n0.79%",
          "46.79\n2.14%",
          "101.48\n0.99%",
          "223.47\n0.45%",
          "170.38\n0.59%",
          "63.87\n1.57%",
          "72.57\n1.38%",
          "30.74\n3.25%",
          "39.98\n2.5%",
          "227.34\n0.44%",
          "95.39\n1.05%",
          "57.18\n1.75%",
          "28.44\n3.52%",
          "372.9\n0.27%",
          "434.38\n0.23%",
          "143.51\n0.7%",
          "165.63\n0.6%",
          "217.32\n0.46%",
          "204.95\n0.49%",
          "79.92\n1.25%",
          "41.46\n2.41%",
          "134.17\n0.75%",
          "169.53\n0.59%",
          "360.6\n0.28%",
          "113.76\n0.88%",
          "46.65\n2.14%",
          "159.11\n0.63%",
          "196.62\n0.51%",
          "87.26\n1.15%",
          "31.02\n3.22%",
          "99.66\n1.0%",
          "55.55\n1.8%",
          "81.79\n1.22%",
          "138.47\n0.72%",
          "165.66\n0.6%",
          "107.85\n0.93%",
          "179.41\n0.56%",
          "129.21\n0.77%",
          "386.75\n0.26%",
          "82.06\n1.22%",
          "201.38\n0.5%",
          "75.27\n1.33%",
          "49.85\n2.01%",
          "131.91\n0.76%",
          "56.88\n1.76%",
          "87.38\n1.14%",
          "99.05\n1.01%",
          "100.85\n0.99%",
          "113.23\n0.88%",
          "156.06\n0.64%",
          "50.01\n2.0%",
          "222.47\n0.45%",
          "134.19\n0.75%",
          "175.08\n0.57%",
          "82.45\n1.21%",
          "46.52\n2.15%",
          "96.88\n1.03%",
          "314.05\n0.32%",
          "74.39\n1.34%",
          "237.06\n0.42%",
          "59.43\n1.68%",
          "132.23\n0.76%",
          "73.1\n1.37%",
          "55.92\n1.79%",
          "37.99\n2.63%",
          "213.56\n0.47%",
          "91.69\n1.09%",
          "47.34\n2.11%",
          "160.29\n0.62%",
          "193.82\n0.52%",
          "91.8\n1.09%",
          "73.49\n1.36%",
          "309.18\n0.32%",
          "71.27\n1.4%",
          "77.33\n1.29%",
          "178.56\n0.56%",
          "48.69\n2.05%",
          "103.31\n0.97%",
          "223.68\n0.45%",
          "61.72\n1.62%",
          "100.16\n1.0%",
          "133.39\n0.75%",
          "187.5\n0.53%",
          "189.56\n0.53%",
          "237.75\n0.42%",
          "171.39\n0.58%",
          "95.68\n1.05%",
          "198.1\n0.5%",
          "55.41\n1.8%",
          "249.32\n0.4%",
          "216.5\n0.46%",
          "203.91\n0.49%",
          "42.63\n2.35%",
          "53.52\n1.87%",
          "85.84\n1.16%",
          "108.6\n0.92%",
          "62.95\n1.59%",
          "41.96\n2.38%",
          "68.57\n1.46%",
          "47.61\n2.1%",
          "65.46\n1.53%",
          "105.79\n0.95%",
          "56.43\n1.77%",
          "76.24\n1.31%",
          "92.35\n1.08%",
          "99.74\n1.0%",
          "234.8\n0.43%",
          "48.36\n2.07%",
          "107.95\n0.93%",
          "23.49\n4.26%",
          "137.2\n0.73%",
          "141.52\n0.71%",
          "90.33\n1.11%",
          "195.72\n0.51%",
          "114.21\n0.88%",
          "101.98\n0.98%",
          "351.66\n0.28%",
          "102.8\n0.97%",
          "29.44\n3.4%",
          "79.19\n1.26%",
          "280.06\n0.36%",
          "344.52\n0.29%",
          "136.27\n0.73%",
          "98.62\n1.01%",
          "221.7\n0.45%",
          "188.51\n0.53%",
          "79.38\n1.26%",
          "55.0\n1.82%",
          "86.17\n1.16%",
          "47.57\n2.1%",
          "73.79\n1.36%",
          "103.76\n0.96%",
          "52.32\n1.91%",
          "314.23\n0.32%",
          "94.72\n1.06%",
          "95.81\n1.04%",
          "200.43\n0.5%",
          "147.91\n0.68%",
          "52.5\n1.9%",
          "56.67\n1.76%",
          "92.26\n1.08%",
          "212.51\n0.47%",
          "345.35\n0.29%",
          "30.09\n3.32%",
          "79.61\n1.26%",
          "113.7\n0.88%",
          "312.25\n0.32%",
          "118.8\n0.84%",
          "189.86\n0.53%",
          "227.99\n0.44%",
          "55.75\n1.79%",
          "93.03\n1.07%",
          "118.17\n0.85%",
          "64.53\n1.55%",
          "87.81\n1.14%",
          "94.16\n1.06%",
          "59.2\n1.69%",
          "126.81\n0.79%",
          "65.86\n1.52%",
          "89.26\n1.12%",
          "46.54\n2.15%",
          "86.8\n1.15%",
          "105.28\n0.95%",
          "86.88\n1.15%",
          "129.23\n0.77%",
          "26.32\n3.8%",
          "144.62\n0.69%",
          "248.49\n0.4%",
          "63.33\n1.58%",
          "290.71\n0.34%",
          "34.94\n2.86%",
          "83.66\n1.2%",
          "72.0\n1.39%",
          "77.74\n1.29%",
          "21.62\n4.63%",
          "222.03\n0.45%",
          "148.54\n0.67%",
          "247.36\n0.4%",
          "34.72\n2.88%",
          "145.63\n0.69%",
          "74.45\n1.34%",
          "115.53\n0.87%",
          "101.59\n0.98%",
          "149.85\n0.67%",
          "41.67\n2.4%",
          "292.08\n0.34%",
          "61.96\n1.61%",
          "56.42\n1.77%",
          "86.26\n1.16%",
          "62.87\n1.59%",
          "182.65\n0.55%",
          "76.73\n1.3%",
          "331.38\n0.3%",
          "58.94\n1.7%",
          "116.95\n0.86%",
          "110.09\n0.91%",
          "190.72\n0.52%",
          "98.9\n1.01%",
          "129.08\n0.77%",
          "189.46\n0.53%",
          "52.01\n1.92%",
          "110.5\n0.9%",
          "72.85\n1.37%",
          "209.85\n0.48%",
          "89.37\n1.12%",
          "233.08\n0.43%",
          "180.43\n0.55%",
          "172.09\n0.58%",
          "126.66\n0.79%",
          "217.72\n0.46%",
          "88.36\n1.13%",
          "88.27\n1.13%",
          "84.58\n1.18%",
          "362.78\n0.28%",
          "113.32\n0.88%",
          "94.16\n1.06%",
          "199.19\n0.5%",
          "46.58\n2.15%",
          "81.27\n1.23%",
          "174.65\n0.57%",
          "196.47\n0.51%",
          "64.79\n1.54%",
          "44.5\n2.25%",
          "199.5\n0.5%",
          "44.8\n2.23%",
          "127.39\n0.79%",
          "87.71\n1.14%",
          "148.06\n0.68%",
          "124.94\n0.8%",
          "122.47\n0.82%",
          "88.2\n1.13%",
          "72.42\n1.38%",
          "113.13\n0.88%",
          "121.97\n0.82%",
          "96.04\n1.04%",
          "159.45\n0.63%",
          "81.2\n1.23%",
          "36.52\n2.74%",
          "220.53\n0.45%",
          "47.36\n2.11%",
          "105.78\n0.95%",
          "116.86\n0.86%",
          "99.92\n1.0%",
          "175.71\n0.57%",
          "143.21\n0.7%",
          "100.44\n1.0%",
          "57.28\n1.75%",
          "115.63\n0.86%",
          "52.78\n1.89%",
          "143.01\n0.7%",
          "58.73\n1.7%",
          "205.07\n0.49%",
          "141.9\n0.7%",
          "256.79\n0.39%",
          "107.24\n0.93%",
          "144.28\n0.69%",
          "31.85\n3.14%",
          "120.96\n0.83%",
          "25.58\n3.91%",
          "266.88\n0.37%",
          "115.92\n0.86%",
          "310.73\n0.32%",
          "94.27\n1.06%",
          "46.4\n2.16%",
          "113.04\n0.88%",
          "110.42\n0.91%",
          "116.25\n0.86%",
          "71.17\n1.41%",
          "103.94\n0.96%",
          "199.38\n0.5%",
          "58.35\n1.71%",
          "92.83\n1.08%",
          "126.25\n0.79%",
          "126.36\n0.79%",
          "118.67\n0.84%",
          "80.42\n1.24%",
          "87.67\n1.14%",
          "120.38\n0.83%",
          "191.36\n0.52%",
          "78.72\n1.27%",
          "264.61\n0.38%",
          "49.03\n2.04%",
          "110.81\n0.9%",
          "126.92\n0.79%",
          "98.58\n1.01%",
          "164.53\n0.61%",
          "155.04\n0.65%",
          "59.52\n1.68%",
          "137.9\n0.73%",
          "231.13\n0.43%",
          "171.51\n0.58%",
          "110.55\n0.9%"
         ],
         "textposition": "top center",
         "type": "scatter",
         "x": [
          218.06424024351617,
          85.26216810471152,
          102.02853120106694,
          100.3210095445754,
          364.3672085653763,
          332.8997800477762,
          53.10499724186282,
          171.4172410629097,
          33.53186214873253,
          136.21612512887563,
          171.36201724842508,
          156.44586128557552,
          201.7052926802192,
          81.00730475086614,
          427.72046972443405,
          296.92760155368256,
          110.02932390887963,
          89.5170120859836,
          117.50898585854013,
          59.10198821124344,
          125.99346494617964,
          48.263769376431284,
          50.73974598901472,
          109.13590274720532,
          240.16244864235634,
          76.47392926493517,
          40.17114950304109,
          131.56714393904622,
          104.87293665991288,
          77.74503651039868,
          168.02744224707774,
          115.60037416012287,
          110.87407804431562,
          165.9403706274086,
          254.0946512495384,
          40.07090645970874,
          44.794514091521556,
          69.85730146074854,
          187.11995583308908,
          206.01605490658307,
          70.91216874907714,
          63.28079889266849,
          71.79148628179578,
          46.15295932018564,
          61.3789854277464,
          233.7192980686695,
          158.3353282073107,
          47.889069809514965,
          280.3640131856517,
          39.98079781842939,
          227.34288805359085,
          372.89572375164204,
          434.3834455624725,
          143.5128885599879,
          217.3169420656437,
          204.95146317849762,
          113.76319882212366,
          46.64747537547307,
          99.66017604910841,
          55.55318034905638,
          138.46663680004406,
          165.65818959399007,
          129.21011238521197,
          201.37883102906557,
          314.0460695585194,
          74.39092919701386,
          59.42817333801917,
          37.98866640048673,
          193.821646414028,
          73.49322981791151,
          309.1837639339718,
          77.32826607934328,
          237.75289582031075,
          95.68134596764381,
          198.09641561964068,
          53.517643880172415,
          108.60020288950771,
          23.491783927784155,
          102.80395167123082,
          92.25880240218886,
          30.094642088177533,
          118.1662350112727,
          87.81406165518459,
          94.1570662898356,
          126.80526850451051,
          89.26301282504501,
          105.28104024721767,
          86.87662282341277,
          129.2257381747992,
          26.317468052799573,
          63.33287636855652,
          71.99676277336319,
          115.52713174157537,
          149.84643076908839,
          292.081046704693,
          62.865251861622525,
          182.64948718905308,
          189.46073165053812,
          52.00769578713043,
          89.36569190986575,
          362.77903898750554,
          94.15540441411983,
          81.27331648974254,
          87.71197322049123,
          113.12524342551656,
          96.04440852670605,
          36.51697074497594,
          220.52605324888683,
          47.36448666737971,
          116.8569049367181,
          175.70603468312908,
          115.63132984321527,
          143.01314695801076,
          58.73216897782289,
          31.85298686215384,
          266.87878710937696,
          115.91534032141126,
          46.402524616325245,
          103.9405366685923,
          199.376922146991,
          78.72079451937915,
          264.60507060408423,
          49.03307907998,
          59.519218285273034
         ],
         "xaxis": "x",
         "y": [
          0.4585804618323859,
          1.1728531214124038,
          0.9801180005515386,
          0.9968001762937526,
          0.2744484071267834,
          0.30039070613278407,
          1.8830619563834514,
          0.5833718905982171,
          2.9822381935260314,
          0.734127475035638,
          0.5835598903754097,
          0.6391987565427537,
          0.49577281126945255,
          1.234456575336569,
          0.2337975548947345,
          0.3367824327436958,
          0.9088486273242451,
          1.117106097151089,
          0.8509987493244319,
          1.6919904562698995,
          0.7936919588862548,
          2.0719475766605404,
          1.9708415572606581,
          0.9162887508397024,
          0.41638482854127373,
          1.3076351766045846,
          2.4893487300489037,
          0.7600681827244729,
          0.9535348506954174,
          1.2862557468427536,
          0.5951408809339247,
          0.8650491032276926,
          0.9019240724602072,
          0.6026261097399457,
          0.3935541323213181,
          2.495576188189052,
          2.2324162239082623,
          1.4314895924828708,
          0.5344165434134667,
          0.48539906292907364,
          1.4101952001193223,
          1.580258178624001,
          1.3929228266354625,
          2.1667082993801356,
          1.6292221075846416,
          0.42786368445543943,
          0.6315709900766339,
          2.0881591644557536,
          0.3566791574415862,
          2.5012007127557716,
          0.439864210647431,
          0.2681714850304975,
          0.2302113513338715,
          0.6968015277471078,
          0.4601574044318807,
          0.48792040051408353,
          0.8790188833944155,
          2.14373873816501,
          1.0034098269174654,
          1.8000769599808983,
          0.7221956300159678,
          0.6036526189564727,
          0.7739332328871572,
          0.4965765243992638,
          0.3184246188483693,
          1.3442499116412987,
          1.6827035795163,
          2.6323640568419306,
          0.5159382445157189,
          1.3606695507567468,
          0.3234322486007242,
          1.2931881842196513,
          0.4206047613215115,
          1.045135799341876,
          0.5048046916306006,
          1.8685426478023386,
          0.9208085927955609,
          4.2568074143457535,
          0.9727252539844196,
          1.0839074147533858,
          3.3228506159667637,
          0.8462654326801586,
          1.1387697837353814,
          1.062055180141006,
          0.7886107665663984,
          1.1202848395449012,
          0.9498386391812154,
          1.1510576349550568,
          0.7738396499986205,
          3.799757628635643,
          1.578958760976913,
          1.3889513381981842,
          0.8655975310084882,
          0.6673498960685881,
          0.34237072596190904,
          1.5907038791496069,
          0.547496746577197,
          0.5278138595202452,
          1.922792357679217,
          1.1189976585294055,
          0.27564988395992773,
          1.0620739257852276,
          1.2304161355667202,
          1.1400952039765313,
          0.8839759983883844,
          1.0411850261141862,
          2.7384527785278614,
          0.45346116037881246,
          2.1112864729698586,
          0.8557474635679707,
          0.5691324158577792,
          0.8648175207842907,
          0.6992364137638368,
          1.7026444236677132,
          3.1394230133819914,
          0.3747019427175987,
          0.8626985843523295,
          2.155055157598434,
          0.9620885479824254,
          0.5015625626233452,
          1.2703123820146711,
          0.3779217071377486,
          2.0394395350307417,
          1.6801295931123346
         ],
         "yaxis": "y"
        },
        {
         "customdata": [
          [
           33
          ],
          [
           32
          ],
          [
           22
          ],
          [
           39
          ],
          [
           15
          ],
          [
           50
          ],
          [
           48
          ],
          [
           31
          ],
          [
           46
          ],
          [
           23
          ],
          [
           24
          ],
          [
           31
          ],
          [
           32
          ],
          [
           25
          ],
          [
           30
          ],
          [
           11
          ],
          [
           21
          ],
          [
           43
          ],
          [
           33
          ],
          [
           47
          ],
          [
           29
          ],
          [
           39
          ],
          [
           40
          ],
          [
           48
          ],
          [
           50
          ],
          [
           30
          ],
          [
           34
          ],
          [
           48
          ],
          [
           42
          ],
          [
           23
          ],
          [
           39
          ],
          [
           26
          ],
          [
           15
          ],
          [
           18
          ],
          [
           13
          ],
          [
           17
          ],
          [
           37
          ],
          [
           28
          ],
          [
           32
          ],
          [
           40
          ],
          [
           32
          ],
          [
           24
          ],
          [
           37
          ],
          [
           49
          ],
          [
           45
          ],
          [
           11
          ],
          [
           27
          ],
          [
           27
          ],
          [
           29
          ],
          [
           32
          ],
          [
           10
          ],
          [
           19
          ],
          [
           50
          ],
          [
           39
          ],
          [
           29
          ],
          [
           30
          ],
          [
           13
          ],
          [
           15
          ],
          [
           38
          ],
          [
           27
          ],
          [
           42
          ],
          [
           24
          ],
          [
           29
          ],
          [
           28
          ],
          [
           17
          ],
          [
           10
          ],
          [
           21
          ],
          [
           18
          ],
          [
           44
          ],
          [
           12
          ],
          [
           11
          ],
          [
           46
          ],
          [
           28
          ],
          [
           17
          ],
          [
           39
          ],
          [
           37
          ],
          [
           35
          ],
          [
           29
          ],
          [
           31
          ],
          [
           42
          ],
          [
           32
          ],
          [
           25
          ],
          [
           19
          ],
          [
           14
          ],
          [
           47
          ],
          [
           38
          ],
          [
           30
          ],
          [
           19
          ],
          [
           38
          ],
          [
           29
          ],
          [
           14
          ],
          [
           15
          ],
          [
           42
          ],
          [
           12
          ],
          [
           38
          ],
          [
           46
          ],
          [
           31
          ],
          [
           42
          ],
          [
           25
          ],
          [
           34
          ],
          [
           14
          ],
          [
           47
          ],
          [
           29
          ],
          [
           37
          ],
          [
           33
          ],
          [
           29
          ],
          [
           18
          ],
          [
           19
          ],
          [
           14
          ],
          [
           28
          ],
          [
           44
          ],
          [
           31
          ],
          [
           48
          ],
          [
           19
          ],
          [
           49
          ],
          [
           38
          ],
          [
           33
          ],
          [
           25
          ],
          [
           43
          ],
          [
           26
          ],
          [
           16
          ],
          [
           43
          ],
          [
           15
          ],
          [
           42
          ],
          [
           36
          ],
          [
           24
          ],
          [
           11
          ],
          [
           16
          ],
          [
           12
          ],
          [
           40
          ]
         ],
         "hovertemplate": "Marketing_Channel=Online Ads<br>CAC (INR)=%{x}<br>Conversion Rate (%)=%{y}<br>New_Customers=%{customdata[0]}<extra></extra>",
         "legendgroup": "Online Ads",
         "marker": {
          "color": "rgb(55,126,184)",
          "line": {
           "color": "DarkSlateGrey",
           "width": 1
          },
          "opacity": 0.8,
          "size": 8,
          "symbol": "circle"
         },
         "mode": "markers",
         "name": "Online Ads",
         "orientation": "v",
         "showlegend": true,
         "text": [
          "218.06\n0.46%",
          "33.57\n2.98%",
          "58.55\n1.71%",
          "101.8\n0.98%",
          "85.26\n1.17%",
          "102.03\n0.98%",
          "57.14\n1.75%",
          "129.4\n0.77%",
          "70.66\n1.42%",
          "64.52\n1.55%",
          "123.11\n0.81%",
          "100.32\n1.0%",
          "80.9\n1.24%",
          "52.43\n1.91%",
          "364.37\n0.27%",
          "332.9\n0.3%",
          "64.81\n1.54%",
          "53.1\n1.88%",
          "59.86\n1.67%",
          "68.65\n1.46%",
          "217.38\n0.46%",
          "171.42\n0.58%",
          "80.01\n1.25%",
          "179.34\n0.56%",
          "76.75\n1.3%",
          "174.65\n0.57%",
          "199.94\n0.5%",
          "57.98\n1.72%",
          "56.92\n1.76%",
          "33.53\n2.98%",
          "150.49\n0.66%",
          "136.22\n0.73%",
          "171.36\n0.58%",
          "103.99\n0.96%",
          "86.31\n1.16%",
          "156.45\n0.64%",
          "79.58\n1.26%",
          "201.71\n0.5%",
          "362.88\n0.28%",
          "81.01\n1.23%",
          "427.72\n0.23%",
          "151.84\n0.66%",
          "57.3\n1.75%",
          "23.46\n4.26%",
          "74.93\n1.33%",
          "337.22\n0.3%",
          "230.13\n0.43%",
          "99.49\n1.01%",
          "296.93\n0.34%",
          "72.44\n1.38%",
          "104.51\n0.96%",
          "81.6\n1.23%",
          "82.8\n1.21%",
          "292.14\n0.34%",
          "110.03\n0.91%",
          "89.52\n1.12%",
          "44.98\n2.22%",
          "117.51\n0.85%",
          "87.88\n1.14%",
          "149.3\n0.67%",
          "71.41\n1.4%",
          "59.1\n1.69%",
          "125.99\n0.79%",
          "48.26\n2.07%",
          "366.53\n0.27%",
          "99.75\n1.0%",
          "49.04\n2.04%",
          "124.18\n0.81%",
          "322.03\n0.31%",
          "331.91\n0.3%",
          "95.73\n1.04%",
          "78.34\n1.28%",
          "106.36\n0.94%",
          "303.87\n0.33%",
          "50.74\n1.97%",
          "111.39\n0.9%",
          "225.19\n0.44%",
          "195.6\n0.51%",
          "91.41\n1.09%",
          "81.75\n1.22%",
          "109.14\n0.92%",
          "314.78\n0.32%",
          "240.16\n0.42%",
          "49.88\n2.0%",
          "92.38\n1.08%",
          "39.51\n2.53%",
          "60.83\n1.64%",
          "76.47\n1.31%",
          "83.87\n1.19%",
          "32.79\n3.05%",
          "91.75\n1.09%",
          "40.17\n2.49%",
          "66.02\n1.51%",
          "107.47\n0.93%",
          "56.22\n1.78%",
          "94.19\n1.06%",
          "102.83\n0.97%",
          "131.57\n0.76%",
          "61.21\n1.63%",
          "106.49\n0.94%",
          "58.37\n1.71%",
          "104.87\n0.95%",
          "77.75\n1.29%",
          "168.03\n0.6%",
          "104.51\n0.96%",
          "115.6\n0.87%",
          "75.98\n1.32%",
          "119.19\n0.84%",
          "38.12\n2.62%",
          "117.9\n0.85%",
          "125.57\n0.8%",
          "60.13\n1.66%",
          "110.87\n0.9%",
          "111.27\n0.9%",
          "94.66\n1.06%",
          "142.21\n0.7%",
          "99.59\n1.0%",
          "165.94\n0.6%",
          "254.09\n0.39%",
          "138.91\n0.72%",
          "133.71\n0.75%",
          "40.07\n2.5%",
          "110.65\n0.9%",
          "44.79\n2.23%",
          "174.64\n0.57%",
          "89.97\n1.11%",
          "133.89\n0.75%",
          "39.69\n2.52%",
          "65.26\n1.53%",
          "86.63\n1.15%",
          "158.27\n0.63%",
          "182.27\n0.55%",
          "59.22\n1.69%",
          "43.82\n2.28%",
          "48.01\n2.08%",
          "146.92\n0.68%",
          "61.35\n1.63%",
          "22.01\n4.54%",
          "108.16\n0.92%",
          "65.54\n1.53%",
          "306.07\n0.33%",
          "69.86\n1.43%",
          "90.23\n1.11%",
          "65.44\n1.53%",
          "235.47\n0.42%",
          "74.09\n1.35%",
          "187.12\n0.53%",
          "206.02\n0.49%",
          "89.92\n1.11%",
          "61.38\n1.63%",
          "52.65\n1.9%",
          "70.91\n1.41%",
          "176.45\n0.57%",
          "63.28\n1.58%",
          "178.69\n0.56%",
          "70.35\n1.42%",
          "28.81\n3.47%",
          "71.79\n1.39%",
          "24.78\n4.03%",
          "35.48\n2.82%",
          "295.58\n0.34%",
          "46.15\n2.17%",
          "184.28\n0.54%",
          "133.98\n0.75%",
          "193.23\n0.52%",
          "126.86\n0.79%",
          "143.55\n0.7%",
          "61.38\n1.63%",
          "96.57\n1.04%",
          "280.21\n0.36%",
          "131.95\n0.76%",
          "233.72\n0.43%",
          "107.83\n0.93%",
          "63.47\n1.58%",
          "248.86\n0.4%",
          "180.97\n0.55%",
          "79.21\n1.26%",
          "435.49\n0.23%",
          "122.08\n0.82%",
          "42.89\n2.33%",
          "158.34\n0.63%",
          "47.89\n2.09%",
          "47.09\n2.12%",
          "33.34\n3.0%",
          "32.6\n3.07%",
          "140.1\n0.71%",
          "102.28\n0.98%",
          "74.66\n1.34%",
          "64.2\n1.56%",
          "83.21\n1.2%",
          "79.42\n1.26%",
          "187.74\n0.53%",
          "288.43\n0.35%",
          "247.14\n0.4%",
          "207.57\n0.48%",
          "71.43\n1.4%",
          "280.36\n0.36%",
          "315.64\n0.32%",
          "100.02\n1.0%",
          "83.64\n1.2%",
          "97.04\n1.03%",
          "113.02\n0.88%",
          "89.72\n1.11%",
          "33.83\n2.96%",
          "46.21\n2.16%",
          "82.61\n1.21%",
          "173.73\n0.58%",
          "78.02\n1.28%",
          "126.73\n0.79%",
          "46.79\n2.14%",
          "101.48\n0.99%",
          "223.47\n0.45%",
          "170.38\n0.59%",
          "63.87\n1.57%",
          "72.57\n1.38%",
          "30.74\n3.25%",
          "39.98\n2.5%",
          "227.34\n0.44%",
          "95.39\n1.05%",
          "57.18\n1.75%",
          "28.44\n3.52%",
          "372.9\n0.27%",
          "434.38\n0.23%",
          "143.51\n0.7%",
          "165.63\n0.6%",
          "217.32\n0.46%",
          "204.95\n0.49%",
          "79.92\n1.25%",
          "41.46\n2.41%",
          "134.17\n0.75%",
          "169.53\n0.59%",
          "360.6\n0.28%",
          "113.76\n0.88%",
          "46.65\n2.14%",
          "159.11\n0.63%",
          "196.62\n0.51%",
          "87.26\n1.15%",
          "31.02\n3.22%",
          "99.66\n1.0%",
          "55.55\n1.8%",
          "81.79\n1.22%",
          "138.47\n0.72%",
          "165.66\n0.6%",
          "107.85\n0.93%",
          "179.41\n0.56%",
          "129.21\n0.77%",
          "386.75\n0.26%",
          "82.06\n1.22%",
          "201.38\n0.5%",
          "75.27\n1.33%",
          "49.85\n2.01%",
          "131.91\n0.76%",
          "56.88\n1.76%",
          "87.38\n1.14%",
          "99.05\n1.01%",
          "100.85\n0.99%",
          "113.23\n0.88%",
          "156.06\n0.64%",
          "50.01\n2.0%",
          "222.47\n0.45%",
          "134.19\n0.75%",
          "175.08\n0.57%",
          "82.45\n1.21%",
          "46.52\n2.15%",
          "96.88\n1.03%",
          "314.05\n0.32%",
          "74.39\n1.34%",
          "237.06\n0.42%",
          "59.43\n1.68%",
          "132.23\n0.76%",
          "73.1\n1.37%",
          "55.92\n1.79%",
          "37.99\n2.63%",
          "213.56\n0.47%",
          "91.69\n1.09%",
          "47.34\n2.11%",
          "160.29\n0.62%",
          "193.82\n0.52%",
          "91.8\n1.09%",
          "73.49\n1.36%",
          "309.18\n0.32%",
          "71.27\n1.4%",
          "77.33\n1.29%",
          "178.56\n0.56%",
          "48.69\n2.05%",
          "103.31\n0.97%",
          "223.68\n0.45%",
          "61.72\n1.62%",
          "100.16\n1.0%",
          "133.39\n0.75%",
          "187.5\n0.53%",
          "189.56\n0.53%",
          "237.75\n0.42%",
          "171.39\n0.58%",
          "95.68\n1.05%",
          "198.1\n0.5%",
          "55.41\n1.8%",
          "249.32\n0.4%",
          "216.5\n0.46%",
          "203.91\n0.49%",
          "42.63\n2.35%",
          "53.52\n1.87%",
          "85.84\n1.16%",
          "108.6\n0.92%",
          "62.95\n1.59%",
          "41.96\n2.38%",
          "68.57\n1.46%",
          "47.61\n2.1%",
          "65.46\n1.53%",
          "105.79\n0.95%",
          "56.43\n1.77%",
          "76.24\n1.31%",
          "92.35\n1.08%",
          "99.74\n1.0%",
          "234.8\n0.43%",
          "48.36\n2.07%",
          "107.95\n0.93%",
          "23.49\n4.26%",
          "137.2\n0.73%",
          "141.52\n0.71%",
          "90.33\n1.11%",
          "195.72\n0.51%",
          "114.21\n0.88%",
          "101.98\n0.98%",
          "351.66\n0.28%",
          "102.8\n0.97%",
          "29.44\n3.4%",
          "79.19\n1.26%",
          "280.06\n0.36%",
          "344.52\n0.29%",
          "136.27\n0.73%",
          "98.62\n1.01%",
          "221.7\n0.45%",
          "188.51\n0.53%",
          "79.38\n1.26%",
          "55.0\n1.82%",
          "86.17\n1.16%",
          "47.57\n2.1%",
          "73.79\n1.36%",
          "103.76\n0.96%",
          "52.32\n1.91%",
          "314.23\n0.32%",
          "94.72\n1.06%",
          "95.81\n1.04%",
          "200.43\n0.5%",
          "147.91\n0.68%",
          "52.5\n1.9%",
          "56.67\n1.76%",
          "92.26\n1.08%",
          "212.51\n0.47%",
          "345.35\n0.29%",
          "30.09\n3.32%",
          "79.61\n1.26%",
          "113.7\n0.88%",
          "312.25\n0.32%",
          "118.8\n0.84%",
          "189.86\n0.53%",
          "227.99\n0.44%",
          "55.75\n1.79%",
          "93.03\n1.07%",
          "118.17\n0.85%",
          "64.53\n1.55%",
          "87.81\n1.14%",
          "94.16\n1.06%",
          "59.2\n1.69%",
          "126.81\n0.79%",
          "65.86\n1.52%",
          "89.26\n1.12%",
          "46.54\n2.15%",
          "86.8\n1.15%",
          "105.28\n0.95%",
          "86.88\n1.15%",
          "129.23\n0.77%",
          "26.32\n3.8%",
          "144.62\n0.69%",
          "248.49\n0.4%",
          "63.33\n1.58%",
          "290.71\n0.34%",
          "34.94\n2.86%",
          "83.66\n1.2%",
          "72.0\n1.39%",
          "77.74\n1.29%",
          "21.62\n4.63%",
          "222.03\n0.45%",
          "148.54\n0.67%",
          "247.36\n0.4%",
          "34.72\n2.88%",
          "145.63\n0.69%",
          "74.45\n1.34%",
          "115.53\n0.87%",
          "101.59\n0.98%",
          "149.85\n0.67%",
          "41.67\n2.4%",
          "292.08\n0.34%",
          "61.96\n1.61%",
          "56.42\n1.77%",
          "86.26\n1.16%",
          "62.87\n1.59%",
          "182.65\n0.55%",
          "76.73\n1.3%",
          "331.38\n0.3%",
          "58.94\n1.7%",
          "116.95\n0.86%",
          "110.09\n0.91%",
          "190.72\n0.52%",
          "98.9\n1.01%",
          "129.08\n0.77%",
          "189.46\n0.53%",
          "52.01\n1.92%",
          "110.5\n0.9%",
          "72.85\n1.37%",
          "209.85\n0.48%",
          "89.37\n1.12%",
          "233.08\n0.43%",
          "180.43\n0.55%",
          "172.09\n0.58%",
          "126.66\n0.79%",
          "217.72\n0.46%",
          "88.36\n1.13%",
          "88.27\n1.13%",
          "84.58\n1.18%",
          "362.78\n0.28%",
          "113.32\n0.88%",
          "94.16\n1.06%",
          "199.19\n0.5%",
          "46.58\n2.15%",
          "81.27\n1.23%",
          "174.65\n0.57%",
          "196.47\n0.51%",
          "64.79\n1.54%",
          "44.5\n2.25%",
          "199.5\n0.5%",
          "44.8\n2.23%",
          "127.39\n0.79%",
          "87.71\n1.14%",
          "148.06\n0.68%",
          "124.94\n0.8%",
          "122.47\n0.82%",
          "88.2\n1.13%",
          "72.42\n1.38%",
          "113.13\n0.88%",
          "121.97\n0.82%",
          "96.04\n1.04%",
          "159.45\n0.63%",
          "81.2\n1.23%",
          "36.52\n2.74%",
          "220.53\n0.45%",
          "47.36\n2.11%",
          "105.78\n0.95%",
          "116.86\n0.86%",
          "99.92\n1.0%",
          "175.71\n0.57%",
          "143.21\n0.7%",
          "100.44\n1.0%",
          "57.28\n1.75%",
          "115.63\n0.86%",
          "52.78\n1.89%",
          "143.01\n0.7%",
          "58.73\n1.7%",
          "205.07\n0.49%",
          "141.9\n0.7%",
          "256.79\n0.39%",
          "107.24\n0.93%",
          "144.28\n0.69%",
          "31.85\n3.14%",
          "120.96\n0.83%",
          "25.58\n3.91%",
          "266.88\n0.37%",
          "115.92\n0.86%",
          "310.73\n0.32%",
          "94.27\n1.06%",
          "46.4\n2.16%",
          "113.04\n0.88%",
          "110.42\n0.91%",
          "116.25\n0.86%",
          "71.17\n1.41%",
          "103.94\n0.96%",
          "199.38\n0.5%",
          "58.35\n1.71%",
          "92.83\n1.08%",
          "126.25\n0.79%",
          "126.36\n0.79%",
          "118.67\n0.84%",
          "80.42\n1.24%",
          "87.67\n1.14%",
          "120.38\n0.83%",
          "191.36\n0.52%",
          "78.72\n1.27%",
          "264.61\n0.38%",
          "49.03\n2.04%",
          "110.81\n0.9%",
          "126.92\n0.79%",
          "98.58\n1.01%",
          "164.53\n0.61%",
          "155.04\n0.65%",
          "59.52\n1.68%",
          "137.9\n0.73%",
          "231.13\n0.43%",
          "171.51\n0.58%",
          "110.55\n0.9%"
         ],
         "textposition": "top center",
         "type": "scatter",
         "x": [
          33.57169114001669,
          101.79899787809677,
          129.39971710027487,
          64.5234732500656,
          123.10940912306177,
          80.89837663152218,
          52.42718463034469,
          64.80922990740395,
          68.64513460195944,
          179.3448781931991,
          199.93528878599818,
          57.98202353064941,
          151.84009662926096,
          57.29579994521705,
          74.92763258595936,
          337.21719521833046,
          230.1281596582659,
          81.60394377684135,
          44.976371523310924,
          87.88385926476765,
          49.03984422675843,
          124.18334022713626,
          95.73086437060769,
          81.75218452542686,
          39.50907513527648,
          83.8652405504352,
          32.78823503177525,
          91.74606969270492,
          56.22274696802701,
          58.36747164487327,
          75.9816753926755,
          111.2708444245423,
          138.91104719365234,
          174.63643675194442,
          133.89225921158828,
          182.26749861379008,
          48.01271114498091,
          61.348791955057614,
          65.53891584790841,
          74.0878694523779,
          89.92461811631378,
          178.68594088323843,
          70.34675051372321,
          24.784414227961886,
          35.48422973099157,
          295.57803530347786,
          184.28416632744003,
          126.86187425821673,
          143.5504592887475,
          96.57156689127724,
          280.2057859555017,
          180.97492889371165,
          79.20714443876359,
          33.33998655396594,
          74.65645365945208,
          64.19683127413678,
          288.4261292526901,
          315.6449222521369,
          33.83261440587518,
          82.60915742433075,
          78.0197189827707,
          95.38693055971667,
          165.62569349053135,
          41.46166759208803,
          169.52960547097263,
          360.6037957734745,
          159.1104048148294,
          196.61882654535265,
          31.022036935802472,
          179.4059317871519,
          386.75128535926274,
          56.88478756528224,
          113.22765633674214,
          156.05825195278152,
          46.51879367695117,
          132.23208819693994,
          91.68587532042663,
          47.33920017676173,
          160.29124379293157,
          71.27385759116144,
          61.71636325939229,
          187.4989039890499,
          249.31545130158318,
          216.496478802759,
          62.94811460899583,
          41.95741246134622,
          76.23698003053832,
          92.3478681488643,
          99.73667659163908,
          137.2007105607167,
          351.6623253313672,
          188.51415319313128,
          86.16965013597465,
          314.2348661956273,
          94.71964763992344,
          95.8056775957123,
          113.69819572317944,
          118.8024688529729,
          55.750900221311674,
          46.53762302345865,
          248.48867672497582,
          34.72132953802442,
          61.960965394329975,
          58.943865284677756,
          98.90048690372109,
          129.07579210124305,
          233.08002655724417,
          180.43473645563495,
          172.09170166723328,
          126.65969685798457,
          88.26621606097355,
          113.32233595959978,
          46.57774032938634,
          174.64711691966374,
          44.498812377890225,
          44.80421794150596,
          148.05934317713212,
          124.9363797924456,
          57.28139994470385,
          141.8985842078482,
          120.9554755528958,
          25.583688339207658,
          310.7349089981759,
          110.4178703264659,
          126.36214539205581,
          110.8140879061345,
          126.91695807655582,
          164.52897142442512,
          231.1276953535672,
          110.54501933059547
         ],
         "xaxis": "x",
         "y": [
          2.97870010726991,
          0.9823279411821808,
          0.7727992165740801,
          1.5498235752505518,
          0.8122855979272771,
          1.236118747542764,
          1.9074074014289204,
          1.5429900979054187,
          1.4567674836658495,
          0.5575849224546858,
          0.5001618303962115,
          1.724672474515137,
          0.6585875682374209,
          1.7453286295961354,
          1.334621107710521,
          0.29654478305963977,
          0.43454047583093397,
          1.2254309702661619,
          2.2233896735793977,
          1.137865369552446,
          2.039158190177026,
          0.8052609940841986,
          1.0445951852358188,
          1.2232089035969143,
          2.531064056994667,
          1.1923891154865478,
          3.049874441338165,
          1.0899649471082615,
          1.7786395256864345,
          1.7132830527323955,
          1.316106804478805,
          0.8987080175149964,
          0.7198851496713041,
          0.572618188162194,
          0.746869166214988,
          0.548644167284546,
          2.082781780392205,
          1.6300239468978812,
          1.5258110193959116,
          1.3497486260456966,
          1.112042531786503,
          0.5596411195290657,
          1.4215297688909176,
          4.034793765155021,
          2.8181533249589186,
          0.3383201322700698,
          0.5426402169696873,
          0.7882588885330385,
          0.696619157441029,
          1.0355014754247758,
          0.3568805678262496,
          0.5525627257393811,
          1.2625123744653073,
          2.999401329635646,
          1.3394689286495358,
          1.5577092827677832,
          0.34670922589121606,
          0.31681168601255083,
          2.955727831149655,
          1.210519549138352,
          1.2817272518256988,
          1.0483616509433158,
          0.6037710568482353,
          2.411866328769724,
          0.5898674731306581,
          0.2773126660674931,
          0.6284944100065529,
          0.508598295275319,
          3.223514955092784,
          0.5573951708499834,
          0.25856410511243044,
          1.7579392361312378,
          0.8831764538391333,
          0.6407863650187301,
          2.149668813306897,
          0.7562460924844878,
          1.090680539947041,
          2.112414228094391,
          0.6238643960438826,
          1.4030389736110036,
          1.6203158241794413,
          0.5333364508938148,
          0.40109828523638313,
          0.4619012768845348,
          1.5886099309114037,
          2.3833690910307257,
          1.311699387356935,
          1.0828620303264662,
          1.0026401863121936,
          0.7288591989889592,
          0.2843637000516652,
          0.5304641498060402,
          1.160501404406322,
          0.31823330495014157,
          1.0557471706414052,
          1.0437794764313155,
          0.8795214327188587,
          0.8417333491929163,
          1.7936930094946413,
          2.1487990469472855,
          0.40243282437645544,
          2.8800740447017406,
          1.6139193339481273,
          1.6965293931274412,
          1.0111173678785754,
          0.7747386118813285,
          0.42903719154777137,
          0.5542170092319662,
          0.581085543528217,
          0.7895171272368006,
          1.1329362972909234,
          0.8824385691771366,
          2.1469482910253816,
          0.5725831709320411,
          2.247250986178818,
          2.2319327196058807,
          0.6754048603360621,
          0.8004073766674532,
          1.7457673886555534,
          0.704728666309478,
          0.8267505009003776,
          3.908740548826474,
          0.3218177201988819,
          0.9056505047990511,
          0.7913762439671814,
          0.902412336639953,
          0.7879167726323885,
          0.607795691751067,
          0.4326612604648057,
          0.9046088245815981
         ],
         "yaxis": "y"
        },
        {
         "customdata": [
          [
           44
          ],
          [
           17
          ],
          [
           45
          ],
          [
           23
          ],
          [
           44
          ],
          [
           47
          ],
          [
           26
          ],
          [
           18
          ],
          [
           36
          ],
          [
           17
          ],
          [
           16
          ],
          [
           11
          ],
          [
           13
          ],
          [
           16
          ],
          [
           38
          ],
          [
           15
          ],
          [
           30
          ],
          [
           14
          ],
          [
           49
          ],
          [
           39
          ],
          [
           48
          ],
          [
           36
          ],
          [
           35
          ],
          [
           36
          ],
          [
           37
          ],
          [
           40
          ],
          [
           45
          ],
          [
           31
          ],
          [
           13
          ],
          [
           16
          ],
          [
           42
          ],
          [
           19
          ],
          [
           45
          ],
          [
           27
          ],
          [
           45
          ],
          [
           46
          ],
          [
           11
          ],
          [
           15
          ],
          [
           43
          ],
          [
           31
          ],
          [
           20
          ],
          [
           46
          ],
          [
           48
          ],
          [
           15
          ],
          [
           20
          ],
          [
           36
          ],
          [
           23
          ],
          [
           17
          ],
          [
           37
          ],
          [
           28
          ],
          [
           47
          ],
          [
           35
          ],
          [
           45
          ],
          [
           39
          ],
          [
           30
          ],
          [
           46
          ],
          [
           35
          ],
          [
           35
          ],
          [
           49
          ],
          [
           35
          ],
          [
           31
          ],
          [
           17
          ],
          [
           43
          ],
          [
           32
          ],
          [
           19
          ],
          [
           26
          ],
          [
           48
          ],
          [
           46
          ],
          [
           38
          ],
          [
           39
          ],
          [
           28
          ],
          [
           39
          ],
          [
           47
          ],
          [
           22
          ],
          [
           40
          ],
          [
           19
          ],
          [
           12
          ],
          [
           38
          ],
          [
           43
          ],
          [
           20
          ],
          [
           33
          ],
          [
           31
          ],
          [
           16
          ],
          [
           45
          ],
          [
           26
          ],
          [
           48
          ],
          [
           19
          ],
          [
           31
          ],
          [
           15
          ],
          [
           19
          ],
          [
           48
          ],
          [
           45
          ],
          [
           34
          ],
          [
           43
          ],
          [
           15
          ],
          [
           42
          ],
          [
           31
          ],
          [
           16
          ],
          [
           43
          ],
          [
           18
          ],
          [
           20
          ],
          [
           49
          ],
          [
           34
          ],
          [
           42
          ],
          [
           18
          ],
          [
           13
          ],
          [
           40
          ],
          [
           33
          ],
          [
           20
          ],
          [
           38
          ],
          [
           19
          ],
          [
           11
          ],
          [
           13
          ],
          [
           25
          ],
          [
           30
          ],
          [
           31
          ],
          [
           18
          ],
          [
           28
          ]
         ],
         "hovertemplate": "Marketing_Channel=Social Media<br>CAC (INR)=%{x}<br>Conversion Rate (%)=%{y}<br>New_Customers=%{customdata[0]}<extra></extra>",
         "legendgroup": "Social Media",
         "marker": {
          "color": "rgb(77,175,74)",
          "line": {
           "color": "DarkSlateGrey",
           "width": 1
          },
          "opacity": 0.8,
          "size": 8,
          "symbol": "circle"
         },
         "mode": "markers",
         "name": "Social Media",
         "orientation": "v",
         "showlegend": true,
         "text": [
          "218.06\n0.46%",
          "33.57\n2.98%",
          "58.55\n1.71%",
          "101.8\n0.98%",
          "85.26\n1.17%",
          "102.03\n0.98%",
          "57.14\n1.75%",
          "129.4\n0.77%",
          "70.66\n1.42%",
          "64.52\n1.55%",
          "123.11\n0.81%",
          "100.32\n1.0%",
          "80.9\n1.24%",
          "52.43\n1.91%",
          "364.37\n0.27%",
          "332.9\n0.3%",
          "64.81\n1.54%",
          "53.1\n1.88%",
          "59.86\n1.67%",
          "68.65\n1.46%",
          "217.38\n0.46%",
          "171.42\n0.58%",
          "80.01\n1.25%",
          "179.34\n0.56%",
          "76.75\n1.3%",
          "174.65\n0.57%",
          "199.94\n0.5%",
          "57.98\n1.72%",
          "56.92\n1.76%",
          "33.53\n2.98%",
          "150.49\n0.66%",
          "136.22\n0.73%",
          "171.36\n0.58%",
          "103.99\n0.96%",
          "86.31\n1.16%",
          "156.45\n0.64%",
          "79.58\n1.26%",
          "201.71\n0.5%",
          "362.88\n0.28%",
          "81.01\n1.23%",
          "427.72\n0.23%",
          "151.84\n0.66%",
          "57.3\n1.75%",
          "23.46\n4.26%",
          "74.93\n1.33%",
          "337.22\n0.3%",
          "230.13\n0.43%",
          "99.49\n1.01%",
          "296.93\n0.34%",
          "72.44\n1.38%",
          "104.51\n0.96%",
          "81.6\n1.23%",
          "82.8\n1.21%",
          "292.14\n0.34%",
          "110.03\n0.91%",
          "89.52\n1.12%",
          "44.98\n2.22%",
          "117.51\n0.85%",
          "87.88\n1.14%",
          "149.3\n0.67%",
          "71.41\n1.4%",
          "59.1\n1.69%",
          "125.99\n0.79%",
          "48.26\n2.07%",
          "366.53\n0.27%",
          "99.75\n1.0%",
          "49.04\n2.04%",
          "124.18\n0.81%",
          "322.03\n0.31%",
          "331.91\n0.3%",
          "95.73\n1.04%",
          "78.34\n1.28%",
          "106.36\n0.94%",
          "303.87\n0.33%",
          "50.74\n1.97%",
          "111.39\n0.9%",
          "225.19\n0.44%",
          "195.6\n0.51%",
          "91.41\n1.09%",
          "81.75\n1.22%",
          "109.14\n0.92%",
          "314.78\n0.32%",
          "240.16\n0.42%",
          "49.88\n2.0%",
          "92.38\n1.08%",
          "39.51\n2.53%",
          "60.83\n1.64%",
          "76.47\n1.31%",
          "83.87\n1.19%",
          "32.79\n3.05%",
          "91.75\n1.09%",
          "40.17\n2.49%",
          "66.02\n1.51%",
          "107.47\n0.93%",
          "56.22\n1.78%",
          "94.19\n1.06%",
          "102.83\n0.97%",
          "131.57\n0.76%",
          "61.21\n1.63%",
          "106.49\n0.94%",
          "58.37\n1.71%",
          "104.87\n0.95%",
          "77.75\n1.29%",
          "168.03\n0.6%",
          "104.51\n0.96%",
          "115.6\n0.87%",
          "75.98\n1.32%",
          "119.19\n0.84%",
          "38.12\n2.62%",
          "117.9\n0.85%",
          "125.57\n0.8%",
          "60.13\n1.66%",
          "110.87\n0.9%",
          "111.27\n0.9%",
          "94.66\n1.06%",
          "142.21\n0.7%",
          "99.59\n1.0%",
          "165.94\n0.6%",
          "254.09\n0.39%",
          "138.91\n0.72%",
          "133.71\n0.75%",
          "40.07\n2.5%",
          "110.65\n0.9%",
          "44.79\n2.23%",
          "174.64\n0.57%",
          "89.97\n1.11%",
          "133.89\n0.75%",
          "39.69\n2.52%",
          "65.26\n1.53%",
          "86.63\n1.15%",
          "158.27\n0.63%",
          "182.27\n0.55%",
          "59.22\n1.69%",
          "43.82\n2.28%",
          "48.01\n2.08%",
          "146.92\n0.68%",
          "61.35\n1.63%",
          "22.01\n4.54%",
          "108.16\n0.92%",
          "65.54\n1.53%",
          "306.07\n0.33%",
          "69.86\n1.43%",
          "90.23\n1.11%",
          "65.44\n1.53%",
          "235.47\n0.42%",
          "74.09\n1.35%",
          "187.12\n0.53%",
          "206.02\n0.49%",
          "89.92\n1.11%",
          "61.38\n1.63%",
          "52.65\n1.9%",
          "70.91\n1.41%",
          "176.45\n0.57%",
          "63.28\n1.58%",
          "178.69\n0.56%",
          "70.35\n1.42%",
          "28.81\n3.47%",
          "71.79\n1.39%",
          "24.78\n4.03%",
          "35.48\n2.82%",
          "295.58\n0.34%",
          "46.15\n2.17%",
          "184.28\n0.54%",
          "133.98\n0.75%",
          "193.23\n0.52%",
          "126.86\n0.79%",
          "143.55\n0.7%",
          "61.38\n1.63%",
          "96.57\n1.04%",
          "280.21\n0.36%",
          "131.95\n0.76%",
          "233.72\n0.43%",
          "107.83\n0.93%",
          "63.47\n1.58%",
          "248.86\n0.4%",
          "180.97\n0.55%",
          "79.21\n1.26%",
          "435.49\n0.23%",
          "122.08\n0.82%",
          "42.89\n2.33%",
          "158.34\n0.63%",
          "47.89\n2.09%",
          "47.09\n2.12%",
          "33.34\n3.0%",
          "32.6\n3.07%",
          "140.1\n0.71%",
          "102.28\n0.98%",
          "74.66\n1.34%",
          "64.2\n1.56%",
          "83.21\n1.2%",
          "79.42\n1.26%",
          "187.74\n0.53%",
          "288.43\n0.35%",
          "247.14\n0.4%",
          "207.57\n0.48%",
          "71.43\n1.4%",
          "280.36\n0.36%",
          "315.64\n0.32%",
          "100.02\n1.0%",
          "83.64\n1.2%",
          "97.04\n1.03%",
          "113.02\n0.88%",
          "89.72\n1.11%",
          "33.83\n2.96%",
          "46.21\n2.16%",
          "82.61\n1.21%",
          "173.73\n0.58%",
          "78.02\n1.28%",
          "126.73\n0.79%",
          "46.79\n2.14%",
          "101.48\n0.99%",
          "223.47\n0.45%",
          "170.38\n0.59%",
          "63.87\n1.57%",
          "72.57\n1.38%",
          "30.74\n3.25%",
          "39.98\n2.5%",
          "227.34\n0.44%",
          "95.39\n1.05%",
          "57.18\n1.75%",
          "28.44\n3.52%",
          "372.9\n0.27%",
          "434.38\n0.23%",
          "143.51\n0.7%",
          "165.63\n0.6%",
          "217.32\n0.46%",
          "204.95\n0.49%",
          "79.92\n1.25%",
          "41.46\n2.41%",
          "134.17\n0.75%",
          "169.53\n0.59%",
          "360.6\n0.28%",
          "113.76\n0.88%",
          "46.65\n2.14%",
          "159.11\n0.63%",
          "196.62\n0.51%",
          "87.26\n1.15%",
          "31.02\n3.22%",
          "99.66\n1.0%",
          "55.55\n1.8%",
          "81.79\n1.22%",
          "138.47\n0.72%",
          "165.66\n0.6%",
          "107.85\n0.93%",
          "179.41\n0.56%",
          "129.21\n0.77%",
          "386.75\n0.26%",
          "82.06\n1.22%",
          "201.38\n0.5%",
          "75.27\n1.33%",
          "49.85\n2.01%",
          "131.91\n0.76%",
          "56.88\n1.76%",
          "87.38\n1.14%",
          "99.05\n1.01%",
          "100.85\n0.99%",
          "113.23\n0.88%",
          "156.06\n0.64%",
          "50.01\n2.0%",
          "222.47\n0.45%",
          "134.19\n0.75%",
          "175.08\n0.57%",
          "82.45\n1.21%",
          "46.52\n2.15%",
          "96.88\n1.03%",
          "314.05\n0.32%",
          "74.39\n1.34%",
          "237.06\n0.42%",
          "59.43\n1.68%",
          "132.23\n0.76%",
          "73.1\n1.37%",
          "55.92\n1.79%",
          "37.99\n2.63%",
          "213.56\n0.47%",
          "91.69\n1.09%",
          "47.34\n2.11%",
          "160.29\n0.62%",
          "193.82\n0.52%",
          "91.8\n1.09%",
          "73.49\n1.36%",
          "309.18\n0.32%",
          "71.27\n1.4%",
          "77.33\n1.29%",
          "178.56\n0.56%",
          "48.69\n2.05%",
          "103.31\n0.97%",
          "223.68\n0.45%",
          "61.72\n1.62%",
          "100.16\n1.0%",
          "133.39\n0.75%",
          "187.5\n0.53%",
          "189.56\n0.53%",
          "237.75\n0.42%",
          "171.39\n0.58%",
          "95.68\n1.05%",
          "198.1\n0.5%",
          "55.41\n1.8%",
          "249.32\n0.4%",
          "216.5\n0.46%",
          "203.91\n0.49%",
          "42.63\n2.35%",
          "53.52\n1.87%",
          "85.84\n1.16%",
          "108.6\n0.92%",
          "62.95\n1.59%",
          "41.96\n2.38%",
          "68.57\n1.46%",
          "47.61\n2.1%",
          "65.46\n1.53%",
          "105.79\n0.95%",
          "56.43\n1.77%",
          "76.24\n1.31%",
          "92.35\n1.08%",
          "99.74\n1.0%",
          "234.8\n0.43%",
          "48.36\n2.07%",
          "107.95\n0.93%",
          "23.49\n4.26%",
          "137.2\n0.73%",
          "141.52\n0.71%",
          "90.33\n1.11%",
          "195.72\n0.51%",
          "114.21\n0.88%",
          "101.98\n0.98%",
          "351.66\n0.28%",
          "102.8\n0.97%",
          "29.44\n3.4%",
          "79.19\n1.26%",
          "280.06\n0.36%",
          "344.52\n0.29%",
          "136.27\n0.73%",
          "98.62\n1.01%",
          "221.7\n0.45%",
          "188.51\n0.53%",
          "79.38\n1.26%",
          "55.0\n1.82%",
          "86.17\n1.16%",
          "47.57\n2.1%",
          "73.79\n1.36%",
          "103.76\n0.96%",
          "52.32\n1.91%",
          "314.23\n0.32%",
          "94.72\n1.06%",
          "95.81\n1.04%",
          "200.43\n0.5%",
          "147.91\n0.68%",
          "52.5\n1.9%",
          "56.67\n1.76%",
          "92.26\n1.08%",
          "212.51\n0.47%",
          "345.35\n0.29%",
          "30.09\n3.32%",
          "79.61\n1.26%",
          "113.7\n0.88%",
          "312.25\n0.32%",
          "118.8\n0.84%",
          "189.86\n0.53%",
          "227.99\n0.44%",
          "55.75\n1.79%",
          "93.03\n1.07%",
          "118.17\n0.85%",
          "64.53\n1.55%",
          "87.81\n1.14%",
          "94.16\n1.06%",
          "59.2\n1.69%",
          "126.81\n0.79%",
          "65.86\n1.52%",
          "89.26\n1.12%",
          "46.54\n2.15%",
          "86.8\n1.15%",
          "105.28\n0.95%",
          "86.88\n1.15%",
          "129.23\n0.77%",
          "26.32\n3.8%",
          "144.62\n0.69%",
          "248.49\n0.4%",
          "63.33\n1.58%",
          "290.71\n0.34%",
          "34.94\n2.86%",
          "83.66\n1.2%",
          "72.0\n1.39%",
          "77.74\n1.29%",
          "21.62\n4.63%",
          "222.03\n0.45%",
          "148.54\n0.67%",
          "247.36\n0.4%",
          "34.72\n2.88%",
          "145.63\n0.69%",
          "74.45\n1.34%",
          "115.53\n0.87%",
          "101.59\n0.98%",
          "149.85\n0.67%",
          "41.67\n2.4%",
          "292.08\n0.34%",
          "61.96\n1.61%",
          "56.42\n1.77%",
          "86.26\n1.16%",
          "62.87\n1.59%",
          "182.65\n0.55%",
          "76.73\n1.3%",
          "331.38\n0.3%",
          "58.94\n1.7%",
          "116.95\n0.86%",
          "110.09\n0.91%",
          "190.72\n0.52%",
          "98.9\n1.01%",
          "129.08\n0.77%",
          "189.46\n0.53%",
          "52.01\n1.92%",
          "110.5\n0.9%",
          "72.85\n1.37%",
          "209.85\n0.48%",
          "89.37\n1.12%",
          "233.08\n0.43%",
          "180.43\n0.55%",
          "172.09\n0.58%",
          "126.66\n0.79%",
          "217.72\n0.46%",
          "88.36\n1.13%",
          "88.27\n1.13%",
          "84.58\n1.18%",
          "362.78\n0.28%",
          "113.32\n0.88%",
          "94.16\n1.06%",
          "199.19\n0.5%",
          "46.58\n2.15%",
          "81.27\n1.23%",
          "174.65\n0.57%",
          "196.47\n0.51%",
          "64.79\n1.54%",
          "44.5\n2.25%",
          "199.5\n0.5%",
          "44.8\n2.23%",
          "127.39\n0.79%",
          "87.71\n1.14%",
          "148.06\n0.68%",
          "124.94\n0.8%",
          "122.47\n0.82%",
          "88.2\n1.13%",
          "72.42\n1.38%",
          "113.13\n0.88%",
          "121.97\n0.82%",
          "96.04\n1.04%",
          "159.45\n0.63%",
          "81.2\n1.23%",
          "36.52\n2.74%",
          "220.53\n0.45%",
          "47.36\n2.11%",
          "105.78\n0.95%",
          "116.86\n0.86%",
          "99.92\n1.0%",
          "175.71\n0.57%",
          "143.21\n0.7%",
          "100.44\n1.0%",
          "57.28\n1.75%",
          "115.63\n0.86%",
          "52.78\n1.89%",
          "143.01\n0.7%",
          "58.73\n1.7%",
          "205.07\n0.49%",
          "141.9\n0.7%",
          "256.79\n0.39%",
          "107.24\n0.93%",
          "144.28\n0.69%",
          "31.85\n3.14%",
          "120.96\n0.83%",
          "25.58\n3.91%",
          "266.88\n0.37%",
          "115.92\n0.86%",
          "310.73\n0.32%",
          "94.27\n1.06%",
          "46.4\n2.16%",
          "113.04\n0.88%",
          "110.42\n0.91%",
          "116.25\n0.86%",
          "71.17\n1.41%",
          "103.94\n0.96%",
          "199.38\n0.5%",
          "58.35\n1.71%",
          "92.83\n1.08%",
          "126.25\n0.79%",
          "126.36\n0.79%",
          "118.67\n0.84%",
          "80.42\n1.24%",
          "87.67\n1.14%",
          "120.38\n0.83%",
          "191.36\n0.52%",
          "78.72\n1.27%",
          "264.61\n0.38%",
          "49.03\n2.04%",
          "110.81\n0.9%",
          "126.92\n0.79%",
          "98.58\n1.01%",
          "164.53\n0.61%",
          "155.04\n0.65%",
          "59.52\n1.68%",
          "137.9\n0.73%",
          "231.13\n0.43%",
          "171.51\n0.58%",
          "110.55\n0.9%"
         ],
         "textposition": "top center",
         "type": "scatter",
         "x": [
          58.547296030882244,
          70.65520787967706,
          80.01280828887778,
          174.6492528799176,
          86.31499738601373,
          23.461993659358807,
          99.48529869486575,
          72.44366174290221,
          104.51271288144227,
          82.80030716375917,
          149.30094132711224,
          322.0309476732531,
          331.9099418469102,
          303.8684328095194,
          111.38939145334275,
          195.5993343688523,
          91.40993240051924,
          314.775188576952,
          92.37805583696098,
          107.46998531570222,
          94.19333164651879,
          104.51214882739144,
          119.19232778655056,
          38.117038950519074,
          60.13038163568522,
          99.59354367136098,
          89.97240973192027,
          158.27187392039443,
          146.91789645617067,
          306.07373277568445,
          90.23022789620899,
          235.4655152132514,
          61.37500427875647,
          176.45386618786713,
          28.807304022723535,
          107.82880525798242,
          435.48734557286474,
          122.07677488628035,
          42.88606467957145,
          32.603319045533645,
          140.10074092354049,
          83.21355042426376,
          79.4156298411431,
          187.7416870418782,
          207.56560532934628,
          46.21364324674719,
          173.73177775123884,
          126.73190313078628,
          101.47870175265878,
          170.38232010629153,
          63.86997252067452,
          57.18490313280046,
          81.78964529077204,
          82.0611906637726,
          75.26895428935573,
          49.849894458782146,
          87.38242883761203,
          50.00943330223166,
          82.44820702538914,
          55.91970998030289,
          91.79972828113333,
          178.5581211928263,
          48.690688066351086,
          100.15813461005871,
          133.38652910466317,
          171.3887591428597,
          55.411868629278764,
          68.57222414816293,
          107.95205001044829,
          29.437908855956533,
          98.61517282438244,
          73.79390779330585,
          103.76201111269934,
          200.4256975574351,
          56.666115393339965,
          212.50564407039238,
          227.9904906410419,
          93.02608724008329,
          64.52823736387961,
          59.19819373544256,
          65.86276072305562,
          144.62446434127162,
          290.7072540058887,
          34.943797344756405,
          77.7425704860237,
          21.61645262123925,
          222.02801620529394,
          148.54315143211392,
          247.36290285308783,
          145.62732286396093,
          41.67485203397511,
          56.41717768598626,
          86.25977188931954,
          76.72669117940885,
          331.38454496717264,
          116.947093769225,
          110.50406362277091,
          217.72279078257603,
          84.57502700620965,
          199.18680197567176,
          199.4961729876743,
          88.20184649529776,
          143.2082055647097,
          100.43691847814877,
          205.07297374972305,
          256.7877205083588,
          107.24173012267742,
          144.27780506418839,
          94.273440014798,
          113.0374054095208,
          116.25056305878952,
          126.25163586248058,
          118.66586114041122,
          191.35585372470916,
          98.57960503861527,
          155.03503553303995,
          137.8955463854301,
          171.5078814073467
         ],
         "xaxis": "x",
         "y": [
          1.7080208101711902,
          1.415323838128053,
          1.2497999025226132,
          0.5725761682402176,
          1.1585472169197304,
          4.262212387058198,
          1.0051736418534856,
          1.3803830120417355,
          0.9568213975407812,
          1.207724988292905,
          0.6697881413949299,
          0.31052916100928424,
          0.3012865461141381,
          0.329089794143524,
          0.8977515604965544,
          0.5112491835551166,
          1.0939730221202084,
          0.31768704659374175,
          1.0825081681356346,
          0.9304923575288625,
          1.0616462784783112,
          0.9568265615240238,
          0.8389801747901077,
          2.623498644000473,
          1.6630528075786168,
          1.0040811513844738,
          1.1114518361568586,
          0.6318241992275692,
          0.6806522718614647,
          0.3267186605434321,
          1.1082760437558585,
          0.4246906384972514,
          1.629327788651783,
          0.5667203681076155,
          3.471341848620018,
          0.9273959751362183,
          0.22962779749306916,
          0.8191566339555925,
          2.331759762691271,
          3.067172390036133,
          0.7137720995678009,
          1.2017273567844495,
          1.2591979714828465,
          0.5326467529701793,
          0.48177538779283335,
          2.1638631575977,
          0.5755999351090905,
          0.789067295050409,
          0.9854284522060311,
          0.5869153556402792,
          1.565680961701217,
          1.7487132883266425,
          1.2226486573512816,
          1.218602840040765,
          1.328569008884738,
          2.0060223012645277,
          1.1443948323505169,
          1.9996227390870578,
          1.2128826521261518,
          1.7882782302559135,
          1.08932784303842,
          0.5600417350494478,
          2.053780794055106,
          0.9984211506067443,
          0.7497008931204284,
          0.5834688371636195,
          1.8046675283417812,
          1.4583164137119364,
          0.9263372023997818,
          3.396980420359096,
          1.0140427394279754,
          1.355125416045136,
          0.9637438492916903,
          0.49893801652526837,
          1.7647230502014104,
          0.4705757366466702,
          0.4386147848483924,
          1.0749672803277033,
          1.5497091519189103,
          1.6892407299942496,
          1.518308660344304,
          0.6914459490341076,
          0.3439886642731466,
          2.8617382081688896,
          1.2862965473720436,
          4.626105945882395,
          0.45039361117174026,
          0.6732050521070387,
          0.4042643373222028,
          0.6866843256702307,
          2.399528615445971,
          1.7725097940310384,
          1.159288945585326,
          1.3033274140047502,
          0.3017642238261477,
          0.8550875167307092,
          0.9049440963670915,
          0.45929964263531214,
          1.182382123184635,
          0.502041294945906,
          0.5012627485649983,
          1.1337631123780525,
          0.6982840096743915,
          0.9956498219502442,
          0.4876312961748088,
          0.3894267210364713,
          0.9324728339015663,
          0.693107300568584,
          1.0607441500416566,
          0.8846629099253662,
          0.8602108873178412,
          0.792068944824801,
          0.8427023495972032,
          0.5225865739328952,
          1.0144086087667763,
          0.6450154937958441,
          0.7251865823171059,
          0.5830635838972962
         ],
         "yaxis": "y"
        },
        {
         "customdata": [
          [
           27
          ],
          [
           18
          ],
          [
           23
          ],
          [
           47
          ],
          [
           19
          ],
          [
           10
          ],
          [
           18
          ],
          [
           21
          ],
          [
           11
          ],
          [
           14
          ],
          [
           38
          ],
          [
           12
          ],
          [
           43
          ],
          [
           35
          ],
          [
           37
          ],
          [
           14
          ],
          [
           27
          ],
          [
           47
          ],
          [
           28
          ],
          [
           37
          ],
          [
           17
          ],
          [
           45
          ],
          [
           16
          ],
          [
           30
          ],
          [
           33
          ],
          [
           19
          ],
          [
           15
          ],
          [
           16
          ],
          [
           47
          ],
          [
           45
          ],
          [
           45
          ],
          [
           36
          ],
          [
           32
          ],
          [
           48
          ],
          [
           29
          ],
          [
           23
          ],
          [
           33
          ],
          [
           11
          ],
          [
           21
          ],
          [
           21
          ],
          [
           35
          ],
          [
           14
          ],
          [
           36
          ],
          [
           33
          ],
          [
           19
          ],
          [
           49
          ],
          [
           27
          ],
          [
           38
          ],
          [
           37
          ],
          [
           41
          ],
          [
           48
          ],
          [
           32
          ],
          [
           17
          ],
          [
           41
          ],
          [
           43
          ],
          [
           48
          ],
          [
           26
          ],
          [
           30
          ],
          [
           34
          ],
          [
           35
          ],
          [
           37
          ],
          [
           50
          ],
          [
           36
          ],
          [
           11
          ],
          [
           30
          ],
          [
           20
          ],
          [
           33
          ],
          [
           16
          ],
          [
           47
          ],
          [
           15
          ],
          [
           42
          ],
          [
           22
          ],
          [
           16
          ],
          [
           21
          ],
          [
           50
          ],
          [
           39
          ],
          [
           50
          ],
          [
           49
          ],
          [
           30
          ],
          [
           50
          ],
          [
           14
          ],
          [
           40
          ],
          [
           27
          ],
          [
           47
          ],
          [
           13
          ],
          [
           32
          ],
          [
           42
          ],
          [
           38
          ],
          [
           12
          ],
          [
           13
          ],
          [
           33
          ],
          [
           14
          ],
          [
           49
          ],
          [
           48
          ],
          [
           34
          ],
          [
           45
          ],
          [
           30
          ],
          [
           48
          ],
          [
           13
          ],
          [
           16
          ],
          [
           15
          ],
          [
           21
          ],
          [
           36
          ],
          [
           34
          ],
          [
           32
          ],
          [
           35
          ],
          [
           33
          ],
          [
           11
          ],
          [
           41
          ],
          [
           22
          ],
          [
           42
          ],
          [
           20
          ],
          [
           21
          ],
          [
           12
          ],
          [
           38
          ],
          [
           28
          ],
          [
           24
          ],
          [
           25
          ],
          [
           29
          ],
          [
           46
          ],
          [
           39
          ],
          [
           20
          ],
          [
           37
          ],
          [
           38
          ],
          [
           32
          ],
          [
           35
          ],
          [
           42
          ],
          [
           33
          ]
         ],
         "hovertemplate": "Marketing_Channel=Referral<br>CAC (INR)=%{x}<br>Conversion Rate (%)=%{y}<br>New_Customers=%{customdata[0]}<extra></extra>",
         "legendgroup": "Referral",
         "marker": {
          "color": "rgb(152,78,163)",
          "line": {
           "color": "DarkSlateGrey",
           "width": 1
          },
          "opacity": 0.8,
          "size": 8,
          "symbol": "circle"
         },
         "mode": "markers",
         "name": "Referral",
         "orientation": "v",
         "showlegend": true,
         "text": [
          "218.06\n0.46%",
          "33.57\n2.98%",
          "58.55\n1.71%",
          "101.8\n0.98%",
          "85.26\n1.17%",
          "102.03\n0.98%",
          "57.14\n1.75%",
          "129.4\n0.77%",
          "70.66\n1.42%",
          "64.52\n1.55%",
          "123.11\n0.81%",
          "100.32\n1.0%",
          "80.9\n1.24%",
          "52.43\n1.91%",
          "364.37\n0.27%",
          "332.9\n0.3%",
          "64.81\n1.54%",
          "53.1\n1.88%",
          "59.86\n1.67%",
          "68.65\n1.46%",
          "217.38\n0.46%",
          "171.42\n0.58%",
          "80.01\n1.25%",
          "179.34\n0.56%",
          "76.75\n1.3%",
          "174.65\n0.57%",
          "199.94\n0.5%",
          "57.98\n1.72%",
          "56.92\n1.76%",
          "33.53\n2.98%",
          "150.49\n0.66%",
          "136.22\n0.73%",
          "171.36\n0.58%",
          "103.99\n0.96%",
          "86.31\n1.16%",
          "156.45\n0.64%",
          "79.58\n1.26%",
          "201.71\n0.5%",
          "362.88\n0.28%",
          "81.01\n1.23%",
          "427.72\n0.23%",
          "151.84\n0.66%",
          "57.3\n1.75%",
          "23.46\n4.26%",
          "74.93\n1.33%",
          "337.22\n0.3%",
          "230.13\n0.43%",
          "99.49\n1.01%",
          "296.93\n0.34%",
          "72.44\n1.38%",
          "104.51\n0.96%",
          "81.6\n1.23%",
          "82.8\n1.21%",
          "292.14\n0.34%",
          "110.03\n0.91%",
          "89.52\n1.12%",
          "44.98\n2.22%",
          "117.51\n0.85%",
          "87.88\n1.14%",
          "149.3\n0.67%",
          "71.41\n1.4%",
          "59.1\n1.69%",
          "125.99\n0.79%",
          "48.26\n2.07%",
          "366.53\n0.27%",
          "99.75\n1.0%",
          "49.04\n2.04%",
          "124.18\n0.81%",
          "322.03\n0.31%",
          "331.91\n0.3%",
          "95.73\n1.04%",
          "78.34\n1.28%",
          "106.36\n0.94%",
          "303.87\n0.33%",
          "50.74\n1.97%",
          "111.39\n0.9%",
          "225.19\n0.44%",
          "195.6\n0.51%",
          "91.41\n1.09%",
          "81.75\n1.22%",
          "109.14\n0.92%",
          "314.78\n0.32%",
          "240.16\n0.42%",
          "49.88\n2.0%",
          "92.38\n1.08%",
          "39.51\n2.53%",
          "60.83\n1.64%",
          "76.47\n1.31%",
          "83.87\n1.19%",
          "32.79\n3.05%",
          "91.75\n1.09%",
          "40.17\n2.49%",
          "66.02\n1.51%",
          "107.47\n0.93%",
          "56.22\n1.78%",
          "94.19\n1.06%",
          "102.83\n0.97%",
          "131.57\n0.76%",
          "61.21\n1.63%",
          "106.49\n0.94%",
          "58.37\n1.71%",
          "104.87\n0.95%",
          "77.75\n1.29%",
          "168.03\n0.6%",
          "104.51\n0.96%",
          "115.6\n0.87%",
          "75.98\n1.32%",
          "119.19\n0.84%",
          "38.12\n2.62%",
          "117.9\n0.85%",
          "125.57\n0.8%",
          "60.13\n1.66%",
          "110.87\n0.9%",
          "111.27\n0.9%",
          "94.66\n1.06%",
          "142.21\n0.7%",
          "99.59\n1.0%",
          "165.94\n0.6%",
          "254.09\n0.39%",
          "138.91\n0.72%",
          "133.71\n0.75%",
          "40.07\n2.5%",
          "110.65\n0.9%",
          "44.79\n2.23%",
          "174.64\n0.57%",
          "89.97\n1.11%",
          "133.89\n0.75%",
          "39.69\n2.52%",
          "65.26\n1.53%",
          "86.63\n1.15%",
          "158.27\n0.63%",
          "182.27\n0.55%",
          "59.22\n1.69%",
          "43.82\n2.28%",
          "48.01\n2.08%",
          "146.92\n0.68%",
          "61.35\n1.63%",
          "22.01\n4.54%",
          "108.16\n0.92%",
          "65.54\n1.53%",
          "306.07\n0.33%",
          "69.86\n1.43%",
          "90.23\n1.11%",
          "65.44\n1.53%",
          "235.47\n0.42%",
          "74.09\n1.35%",
          "187.12\n0.53%",
          "206.02\n0.49%",
          "89.92\n1.11%",
          "61.38\n1.63%",
          "52.65\n1.9%",
          "70.91\n1.41%",
          "176.45\n0.57%",
          "63.28\n1.58%",
          "178.69\n0.56%",
          "70.35\n1.42%",
          "28.81\n3.47%",
          "71.79\n1.39%",
          "24.78\n4.03%",
          "35.48\n2.82%",
          "295.58\n0.34%",
          "46.15\n2.17%",
          "184.28\n0.54%",
          "133.98\n0.75%",
          "193.23\n0.52%",
          "126.86\n0.79%",
          "143.55\n0.7%",
          "61.38\n1.63%",
          "96.57\n1.04%",
          "280.21\n0.36%",
          "131.95\n0.76%",
          "233.72\n0.43%",
          "107.83\n0.93%",
          "63.47\n1.58%",
          "248.86\n0.4%",
          "180.97\n0.55%",
          "79.21\n1.26%",
          "435.49\n0.23%",
          "122.08\n0.82%",
          "42.89\n2.33%",
          "158.34\n0.63%",
          "47.89\n2.09%",
          "47.09\n2.12%",
          "33.34\n3.0%",
          "32.6\n3.07%",
          "140.1\n0.71%",
          "102.28\n0.98%",
          "74.66\n1.34%",
          "64.2\n1.56%",
          "83.21\n1.2%",
          "79.42\n1.26%",
          "187.74\n0.53%",
          "288.43\n0.35%",
          "247.14\n0.4%",
          "207.57\n0.48%",
          "71.43\n1.4%",
          "280.36\n0.36%",
          "315.64\n0.32%",
          "100.02\n1.0%",
          "83.64\n1.2%",
          "97.04\n1.03%",
          "113.02\n0.88%",
          "89.72\n1.11%",
          "33.83\n2.96%",
          "46.21\n2.16%",
          "82.61\n1.21%",
          "173.73\n0.58%",
          "78.02\n1.28%",
          "126.73\n0.79%",
          "46.79\n2.14%",
          "101.48\n0.99%",
          "223.47\n0.45%",
          "170.38\n0.59%",
          "63.87\n1.57%",
          "72.57\n1.38%",
          "30.74\n3.25%",
          "39.98\n2.5%",
          "227.34\n0.44%",
          "95.39\n1.05%",
          "57.18\n1.75%",
          "28.44\n3.52%",
          "372.9\n0.27%",
          "434.38\n0.23%",
          "143.51\n0.7%",
          "165.63\n0.6%",
          "217.32\n0.46%",
          "204.95\n0.49%",
          "79.92\n1.25%",
          "41.46\n2.41%",
          "134.17\n0.75%",
          "169.53\n0.59%",
          "360.6\n0.28%",
          "113.76\n0.88%",
          "46.65\n2.14%",
          "159.11\n0.63%",
          "196.62\n0.51%",
          "87.26\n1.15%",
          "31.02\n3.22%",
          "99.66\n1.0%",
          "55.55\n1.8%",
          "81.79\n1.22%",
          "138.47\n0.72%",
          "165.66\n0.6%",
          "107.85\n0.93%",
          "179.41\n0.56%",
          "129.21\n0.77%",
          "386.75\n0.26%",
          "82.06\n1.22%",
          "201.38\n0.5%",
          "75.27\n1.33%",
          "49.85\n2.01%",
          "131.91\n0.76%",
          "56.88\n1.76%",
          "87.38\n1.14%",
          "99.05\n1.01%",
          "100.85\n0.99%",
          "113.23\n0.88%",
          "156.06\n0.64%",
          "50.01\n2.0%",
          "222.47\n0.45%",
          "134.19\n0.75%",
          "175.08\n0.57%",
          "82.45\n1.21%",
          "46.52\n2.15%",
          "96.88\n1.03%",
          "314.05\n0.32%",
          "74.39\n1.34%",
          "237.06\n0.42%",
          "59.43\n1.68%",
          "132.23\n0.76%",
          "73.1\n1.37%",
          "55.92\n1.79%",
          "37.99\n2.63%",
          "213.56\n0.47%",
          "91.69\n1.09%",
          "47.34\n2.11%",
          "160.29\n0.62%",
          "193.82\n0.52%",
          "91.8\n1.09%",
          "73.49\n1.36%",
          "309.18\n0.32%",
          "71.27\n1.4%",
          "77.33\n1.29%",
          "178.56\n0.56%",
          "48.69\n2.05%",
          "103.31\n0.97%",
          "223.68\n0.45%",
          "61.72\n1.62%",
          "100.16\n1.0%",
          "133.39\n0.75%",
          "187.5\n0.53%",
          "189.56\n0.53%",
          "237.75\n0.42%",
          "171.39\n0.58%",
          "95.68\n1.05%",
          "198.1\n0.5%",
          "55.41\n1.8%",
          "249.32\n0.4%",
          "216.5\n0.46%",
          "203.91\n0.49%",
          "42.63\n2.35%",
          "53.52\n1.87%",
          "85.84\n1.16%",
          "108.6\n0.92%",
          "62.95\n1.59%",
          "41.96\n2.38%",
          "68.57\n1.46%",
          "47.61\n2.1%",
          "65.46\n1.53%",
          "105.79\n0.95%",
          "56.43\n1.77%",
          "76.24\n1.31%",
          "92.35\n1.08%",
          "99.74\n1.0%",
          "234.8\n0.43%",
          "48.36\n2.07%",
          "107.95\n0.93%",
          "23.49\n4.26%",
          "137.2\n0.73%",
          "141.52\n0.71%",
          "90.33\n1.11%",
          "195.72\n0.51%",
          "114.21\n0.88%",
          "101.98\n0.98%",
          "351.66\n0.28%",
          "102.8\n0.97%",
          "29.44\n3.4%",
          "79.19\n1.26%",
          "280.06\n0.36%",
          "344.52\n0.29%",
          "136.27\n0.73%",
          "98.62\n1.01%",
          "221.7\n0.45%",
          "188.51\n0.53%",
          "79.38\n1.26%",
          "55.0\n1.82%",
          "86.17\n1.16%",
          "47.57\n2.1%",
          "73.79\n1.36%",
          "103.76\n0.96%",
          "52.32\n1.91%",
          "314.23\n0.32%",
          "94.72\n1.06%",
          "95.81\n1.04%",
          "200.43\n0.5%",
          "147.91\n0.68%",
          "52.5\n1.9%",
          "56.67\n1.76%",
          "92.26\n1.08%",
          "212.51\n0.47%",
          "345.35\n0.29%",
          "30.09\n3.32%",
          "79.61\n1.26%",
          "113.7\n0.88%",
          "312.25\n0.32%",
          "118.8\n0.84%",
          "189.86\n0.53%",
          "227.99\n0.44%",
          "55.75\n1.79%",
          "93.03\n1.07%",
          "118.17\n0.85%",
          "64.53\n1.55%",
          "87.81\n1.14%",
          "94.16\n1.06%",
          "59.2\n1.69%",
          "126.81\n0.79%",
          "65.86\n1.52%",
          "89.26\n1.12%",
          "46.54\n2.15%",
          "86.8\n1.15%",
          "105.28\n0.95%",
          "86.88\n1.15%",
          "129.23\n0.77%",
          "26.32\n3.8%",
          "144.62\n0.69%",
          "248.49\n0.4%",
          "63.33\n1.58%",
          "290.71\n0.34%",
          "34.94\n2.86%",
          "83.66\n1.2%",
          "72.0\n1.39%",
          "77.74\n1.29%",
          "21.62\n4.63%",
          "222.03\n0.45%",
          "148.54\n0.67%",
          "247.36\n0.4%",
          "34.72\n2.88%",
          "145.63\n0.69%",
          "74.45\n1.34%",
          "115.53\n0.87%",
          "101.59\n0.98%",
          "149.85\n0.67%",
          "41.67\n2.4%",
          "292.08\n0.34%",
          "61.96\n1.61%",
          "56.42\n1.77%",
          "86.26\n1.16%",
          "62.87\n1.59%",
          "182.65\n0.55%",
          "76.73\n1.3%",
          "331.38\n0.3%",
          "58.94\n1.7%",
          "116.95\n0.86%",
          "110.09\n0.91%",
          "190.72\n0.52%",
          "98.9\n1.01%",
          "129.08\n0.77%",
          "189.46\n0.53%",
          "52.01\n1.92%",
          "110.5\n0.9%",
          "72.85\n1.37%",
          "209.85\n0.48%",
          "89.37\n1.12%",
          "233.08\n0.43%",
          "180.43\n0.55%",
          "172.09\n0.58%",
          "126.66\n0.79%",
          "217.72\n0.46%",
          "88.36\n1.13%",
          "88.27\n1.13%",
          "84.58\n1.18%",
          "362.78\n0.28%",
          "113.32\n0.88%",
          "94.16\n1.06%",
          "199.19\n0.5%",
          "46.58\n2.15%",
          "81.27\n1.23%",
          "174.65\n0.57%",
          "196.47\n0.51%",
          "64.79\n1.54%",
          "44.5\n2.25%",
          "199.5\n0.5%",
          "44.8\n2.23%",
          "127.39\n0.79%",
          "87.71\n1.14%",
          "148.06\n0.68%",
          "124.94\n0.8%",
          "122.47\n0.82%",
          "88.2\n1.13%",
          "72.42\n1.38%",
          "113.13\n0.88%",
          "121.97\n0.82%",
          "96.04\n1.04%",
          "159.45\n0.63%",
          "81.2\n1.23%",
          "36.52\n2.74%",
          "220.53\n0.45%",
          "47.36\n2.11%",
          "105.78\n0.95%",
          "116.86\n0.86%",
          "99.92\n1.0%",
          "175.71\n0.57%",
          "143.21\n0.7%",
          "100.44\n1.0%",
          "57.28\n1.75%",
          "115.63\n0.86%",
          "52.78\n1.89%",
          "143.01\n0.7%",
          "58.73\n1.7%",
          "205.07\n0.49%",
          "141.9\n0.7%",
          "256.79\n0.39%",
          "107.24\n0.93%",
          "144.28\n0.69%",
          "31.85\n3.14%",
          "120.96\n0.83%",
          "25.58\n3.91%",
          "266.88\n0.37%",
          "115.92\n0.86%",
          "310.73\n0.32%",
          "94.27\n1.06%",
          "46.4\n2.16%",
          "113.04\n0.88%",
          "110.42\n0.91%",
          "116.25\n0.86%",
          "71.17\n1.41%",
          "103.94\n0.96%",
          "199.38\n0.5%",
          "58.35\n1.71%",
          "92.83\n1.08%",
          "126.25\n0.79%",
          "126.36\n0.79%",
          "118.67\n0.84%",
          "80.42\n1.24%",
          "87.67\n1.14%",
          "120.38\n0.83%",
          "191.36\n0.52%",
          "78.72\n1.27%",
          "264.61\n0.38%",
          "49.03\n2.04%",
          "110.81\n0.9%",
          "126.92\n0.79%",
          "98.58\n1.01%",
          "164.53\n0.61%",
          "155.04\n0.65%",
          "59.52\n1.68%",
          "137.9\n0.73%",
          "231.13\n0.43%",
          "171.51\n0.58%",
          "110.55\n0.9%"
         ],
         "textposition": "top center",
         "type": "scatter",
         "x": [
          57.14066477489841,
          59.86295267778016,
          217.37527452334072,
          76.74507704203315,
          56.92210890954365,
          150.4883899496825,
          103.99212020144525,
          79.57888445100996,
          362.8820552564676,
          292.1373957003497,
          71.40821191944679,
          366.5252089998591,
          99.75171331070307,
          78.34138800087739,
          106.35624908252886,
          225.19225898521591,
          49.87598489713695,
          60.826252476870785,
          66.01712145424843,
          102.83067571158936,
          61.212026926747555,
          106.49445135795831,
          117.89910011813255,
          125.57162070602693,
          94.65720377524458,
          142.21132899057156,
          133.70764698691772,
          110.64607336287935,
          39.692309776902604,
          65.26209664112966,
          86.62977787493791,
          59.22207814166167,
          43.81576351134885,
          22.01236393800532,
          108.15656403691906,
          65.43991181885373,
          52.65014186546445,
          133.9823862587133,
          193.22732291927508,
          131.9468579084435,
          63.472027922212604,
          248.86494887775672,
          47.090394258492715,
          102.28014486297735,
          247.13916725948394,
          71.43330670728342,
          100.02058757099432,
          83.63814512742933,
          97.04159171918711,
          113.01575075244936,
          89.71926330417163,
          46.79420727183853,
          223.46674940605112,
          72.56538725317895,
          30.738776920865206,
          28.443907219248768,
          79.92477322570062,
          134.16917738834096,
          87.26185908129568,
          107.84841988382087,
          131.91186235768402,
          99.04953718254033,
          100.851154053681,
          222.46522150970006,
          134.19242054074317,
          175.0817484290018,
          96.87510776791899,
          237.06250728054306,
          73.09546102825234,
          213.55706853404533,
          103.30704243587566,
          223.68084229152282,
          189.5602228982235,
          203.9141853686816,
          42.627118662626124,
          85.83976640145241,
          47.609915335440604,
          65.46264629149478,
          105.7906750611564,
          56.427569349320095,
          234.7993262814003,
          48.356244605789314,
          141.5152416333337,
          90.33267255871291,
          195.71653922799453,
          114.21110368556684,
          101.9759573056719,
          79.18854211925957,
          280.060143103189,
          344.5231733422201,
          136.26549988537073,
          221.7003105164461,
          79.38316959760346,
          54.99821831219703,
          47.57190809077045,
          52.316554137905044,
          147.91229122243556,
          52.50078312688792,
          345.3486207380111,
          79.60518679538787,
          312.2477596747458,
          189.86026033103371,
          86.79625757208446,
          83.66469568882324,
          74.44570305538521,
          101.59299455542995,
          110.08846253680977,
          190.72013824662827,
          72.85144258769466,
          209.8464165261319,
          88.35851986889138,
          196.47195358784765,
          64.78730966594647,
          127.38659924892784,
          122.47231310333652,
          72.42429779475175,
          121.9746383122902,
          159.4494961147272,
          81.20210397267398,
          105.78262690980453,
          99.91966277697622,
          52.783731020180234,
          71.16711954545003,
          58.35416677431634,
          92.82807737227574,
          80.41642935873058,
          87.66535417620678,
          120.38062079068746
         ],
         "xaxis": "x",
         "y": [
          1.7500671438448065,
          1.670482251990852,
          0.4600339216098953,
          1.3030151751001589,
          1.7567866320433156,
          0.6645030891315677,
          0.9616113202258784,
          1.2566147501296228,
          0.27557163147492864,
          0.34230468769760547,
          1.4003991601527097,
          0.2728325297811601,
          1.0024890468650256,
          1.2764644915262422,
          0.9402362424647317,
          0.4440649978406455,
          2.0049729385041246,
          1.6440269772993996,
          1.514758562584444,
          0.9724724583204277,
          1.6336658826813566,
          0.9390160588167303,
          0.8481828945242329,
          0.7963582809376004,
          1.0564436304017752,
          0.7031788586029589,
          0.7479003800716367,
          0.9037826373832168,
          2.51937971264628,
          1.532282981190306,
          1.1543374859435038,
          1.6885594551544754,
          2.2822836346124316,
          4.542901447642595,
          0.924585584707232,
          1.528119418571546,
          1.8993301149221482,
          0.7463667635155041,
          0.5175251537370684,
          0.7578808740514983,
          1.5754971642398732,
          0.4018243647847746,
          2.123575340037954,
          0.9777068670949576,
          0.4046303186536391,
          1.3999071946896713,
          0.9997941666661405,
          1.1956267065421178,
          1.0304859826431305,
          0.8848324179081978,
          1.1145878411972021,
          2.1370166486436353,
          0.44749386772657895,
          1.3780674752151783,
          3.253219874604734,
          3.5156914002422033,
          1.2511765246753803,
          0.745327667252209,
          1.1459760432887076,
          0.9272273076204962,
          0.7580819360191141,
          1.0095958329992802,
          0.9915602943598648,
          0.4495084639359674,
          0.7451985708063017,
          0.5711617624183795,
          1.0322569161891126,
          0.4218296733091522,
          1.3680740034097152,
          0.46825890936997,
          0.9679882188290465,
          0.44706555543845006,
          0.5275368348437259,
          0.49040237107191764,
          2.345924452258986,
          1.1649612317480398,
          2.1004028109573314,
          1.527588719140926,
          0.9452628971522407,
          1.7721833698159268,
          0.42589560022907746,
          2.067985237795488,
          0.7066376656381667,
          1.107019167787864,
          0.510943021956401,
          0.8755716105792021,
          0.9806233022186887,
          1.2628089534644793,
          0.357066160475233,
          0.2902562374249017,
          0.7338614695878415,
          0.45105935921809104,
          1.2597128649171367,
          1.8182407188602117,
          2.1020809131555787,
          1.9114408746494018,
          0.6760763366826398,
          1.9047334924188146,
          0.2895624710656139,
          1.256199552135135,
          0.32025850274847584,
          0.526703164873173,
          1.1521234071290438,
          1.1952472805486936,
          1.3432608719619883,
          0.9843198385636638,
          0.9083604012233657,
          0.5243284789920075,
          1.3726564148626894,
          0.4765389929236516,
          1.1317527743604414,
          0.5089784988333586,
          1.5435121556307199,
          0.7850119289595657,
          0.8165110747571542,
          1.3807520824488617,
          0.8198425622215924,
          0.6271578301385659,
          1.2314951843323156,
          0.9453348146219219,
          1.0008040181560969,
          1.8945231431587903,
          1.4051432830035533,
          1.7136736848072587,
          1.077260273300309,
          1.2435269856848388,
          1.1407014885150712,
          0.8306984906970667
         ],
         "yaxis": "y"
        }
       ],
       "layout": {
        "legend": {
         "title": {
          "text": "Marketing_Channel"
         },
         "tracegroupgap": 0
        },
        "template": {
         "data": {
          "bar": [
           {
            "error_x": {
             "color": "#2a3f5f"
            },
            "error_y": {
             "color": "#2a3f5f"
            },
            "marker": {
             "line": {
              "color": "white",
              "width": 0.5
             },
             "pattern": {
              "fillmode": "overlay",
              "size": 10,
              "solidity": 0.2
             }
            },
            "type": "bar"
           }
          ],
          "barpolar": [
           {
            "marker": {
             "line": {
              "color": "white",
              "width": 0.5
             },
             "pattern": {
              "fillmode": "overlay",
              "size": 10,
              "solidity": 0.2
             }
            },
            "type": "barpolar"
           }
          ],
          "carpet": [
           {
            "aaxis": {
             "endlinecolor": "#2a3f5f",
             "gridcolor": "#C8D4E3",
             "linecolor": "#C8D4E3",
             "minorgridcolor": "#C8D4E3",
             "startlinecolor": "#2a3f5f"
            },
            "baxis": {
             "endlinecolor": "#2a3f5f",
             "gridcolor": "#C8D4E3",
             "linecolor": "#C8D4E3",
             "minorgridcolor": "#C8D4E3",
             "startlinecolor": "#2a3f5f"
            },
            "type": "carpet"
           }
          ],
          "choropleth": [
           {
            "colorbar": {
             "outlinewidth": 0,
             "ticks": ""
            },
            "type": "choropleth"
           }
          ],
          "contour": [
           {
            "colorbar": {
             "outlinewidth": 0,
             "ticks": ""
            },
            "colorscale": [
             [
              0,
              "#0d0887"
             ],
             [
              0.1111111111111111,
              "#46039f"
             ],
             [
              0.2222222222222222,
              "#7201a8"
             ],
             [
              0.3333333333333333,
              "#9c179e"
             ],
             [
              0.4444444444444444,
              "#bd3786"
             ],
             [
              0.5555555555555556,
              "#d8576b"
             ],
             [
              0.6666666666666666,
              "#ed7953"
             ],
             [
              0.7777777777777778,
              "#fb9f3a"
             ],
             [
              0.8888888888888888,
              "#fdca26"
             ],
             [
              1,
              "#f0f921"
             ]
            ],
            "type": "contour"
           }
          ],
          "contourcarpet": [
           {
            "colorbar": {
             "outlinewidth": 0,
             "ticks": ""
            },
            "type": "contourcarpet"
           }
          ],
          "heatmap": [
           {
            "colorbar": {
             "outlinewidth": 0,
             "ticks": ""
            },
            "colorscale": [
             [
              0,
              "#0d0887"
             ],
             [
              0.1111111111111111,
              "#46039f"
             ],
             [
              0.2222222222222222,
              "#7201a8"
             ],
             [
              0.3333333333333333,
              "#9c179e"
             ],
             [
              0.4444444444444444,
              "#bd3786"
             ],
             [
              0.5555555555555556,
              "#d8576b"
             ],
             [
              0.6666666666666666,
              "#ed7953"
             ],
             [
              0.7777777777777778,
              "#fb9f3a"
             ],
             [
              0.8888888888888888,
              "#fdca26"
             ],
             [
              1,
              "#f0f921"
             ]
            ],
            "type": "heatmap"
           }
          ],
          "heatmapgl": [
           {
            "colorbar": {
             "outlinewidth": 0,
             "ticks": ""
            },
            "colorscale": [
             [
              0,
              "#0d0887"
             ],
             [
              0.1111111111111111,
              "#46039f"
             ],
             [
              0.2222222222222222,
              "#7201a8"
             ],
             [
              0.3333333333333333,
              "#9c179e"
             ],
             [
              0.4444444444444444,
              "#bd3786"
             ],
             [
              0.5555555555555556,
              "#d8576b"
             ],
             [
              0.6666666666666666,
              "#ed7953"
             ],
             [
              0.7777777777777778,
              "#fb9f3a"
             ],
             [
              0.8888888888888888,
              "#fdca26"
             ],
             [
              1,
              "#f0f921"
             ]
            ],
            "type": "heatmapgl"
           }
          ],
          "histogram": [
           {
            "marker": {
             "pattern": {
              "fillmode": "overlay",
              "size": 10,
              "solidity": 0.2
             }
            },
            "type": "histogram"
           }
          ],
          "histogram2d": [
           {
            "colorbar": {
             "outlinewidth": 0,
             "ticks": ""
            },
            "colorscale": [
             [
              0,
              "#0d0887"
             ],
             [
              0.1111111111111111,
              "#46039f"
             ],
             [
              0.2222222222222222,
              "#7201a8"
             ],
             [
              0.3333333333333333,
              "#9c179e"
             ],
             [
              0.4444444444444444,
              "#bd3786"
             ],
             [
              0.5555555555555556,
              "#d8576b"
             ],
             [
              0.6666666666666666,
              "#ed7953"
             ],
             [
              0.7777777777777778,
              "#fb9f3a"
             ],
             [
              0.8888888888888888,
              "#fdca26"
             ],
             [
              1,
              "#f0f921"
             ]
            ],
            "type": "histogram2d"
           }
          ],
          "histogram2dcontour": [
           {
            "colorbar": {
             "outlinewidth": 0,
             "ticks": ""
            },
            "colorscale": [
             [
              0,
              "#0d0887"
             ],
             [
              0.1111111111111111,
              "#46039f"
             ],
             [
              0.2222222222222222,
              "#7201a8"
             ],
             [
              0.3333333333333333,
              "#9c179e"
             ],
             [
              0.4444444444444444,
              "#bd3786"
             ],
             [
              0.5555555555555556,
              "#d8576b"
             ],
             [
              0.6666666666666666,
              "#ed7953"
             ],
             [
              0.7777777777777778,
              "#fb9f3a"
             ],
             [
              0.8888888888888888,
              "#fdca26"
             ],
             [
              1,
              "#f0f921"
             ]
            ],
            "type": "histogram2dcontour"
           }
          ],
          "mesh3d": [
           {
            "colorbar": {
             "outlinewidth": 0,
             "ticks": ""
            },
            "type": "mesh3d"
           }
          ],
          "parcoords": [
           {
            "line": {
             "colorbar": {
              "outlinewidth": 0,
              "ticks": ""
             }
            },
            "type": "parcoords"
           }
          ],
          "pie": [
           {
            "automargin": true,
            "type": "pie"
           }
          ],
          "scatter": [
           {
            "fillpattern": {
             "fillmode": "overlay",
             "size": 10,
             "solidity": 0.2
            },
            "type": "scatter"
           }
          ],
          "scatter3d": [
           {
            "line": {
             "colorbar": {
              "outlinewidth": 0,
              "ticks": ""
             }
            },
            "marker": {
             "colorbar": {
              "outlinewidth": 0,
              "ticks": ""
             }
            },
            "type": "scatter3d"
           }
          ],
          "scattercarpet": [
           {
            "marker": {
             "colorbar": {
              "outlinewidth": 0,
              "ticks": ""
             }
            },
            "type": "scattercarpet"
           }
          ],
          "scattergeo": [
           {
            "marker": {
             "colorbar": {
              "outlinewidth": 0,
              "ticks": ""
             }
            },
            "type": "scattergeo"
           }
          ],
          "scattergl": [
           {
            "marker": {
             "colorbar": {
              "outlinewidth": 0,
              "ticks": ""
             }
            },
            "type": "scattergl"
           }
          ],
          "scattermapbox": [
           {
            "marker": {
             "colorbar": {
              "outlinewidth": 0,
              "ticks": ""
             }
            },
            "type": "scattermapbox"
           }
          ],
          "scatterpolar": [
           {
            "marker": {
             "colorbar": {
              "outlinewidth": 0,
              "ticks": ""
             }
            },
            "type": "scatterpolar"
           }
          ],
          "scatterpolargl": [
           {
            "marker": {
             "colorbar": {
              "outlinewidth": 0,
              "ticks": ""
             }
            },
            "type": "scatterpolargl"
           }
          ],
          "scatterternary": [
           {
            "marker": {
             "colorbar": {
              "outlinewidth": 0,
              "ticks": ""
             }
            },
            "type": "scatterternary"
           }
          ],
          "surface": [
           {
            "colorbar": {
             "outlinewidth": 0,
             "ticks": ""
            },
            "colorscale": [
             [
              0,
              "#0d0887"
             ],
             [
              0.1111111111111111,
              "#46039f"
             ],
             [
              0.2222222222222222,
              "#7201a8"
             ],
             [
              0.3333333333333333,
              "#9c179e"
             ],
             [
              0.4444444444444444,
              "#bd3786"
             ],
             [
              0.5555555555555556,
              "#d8576b"
             ],
             [
              0.6666666666666666,
              "#ed7953"
             ],
             [
              0.7777777777777778,
              "#fb9f3a"
             ],
             [
              0.8888888888888888,
              "#fdca26"
             ],
             [
              1,
              "#f0f921"
             ]
            ],
            "type": "surface"
           }
          ],
          "table": [
           {
            "cells": {
             "fill": {
              "color": "#EBF0F8"
             },
             "line": {
              "color": "white"
             }
            },
            "header": {
             "fill": {
              "color": "#C8D4E3"
             },
             "line": {
              "color": "white"
             }
            },
            "type": "table"
           }
          ]
         },
         "layout": {
          "annotationdefaults": {
           "arrowcolor": "#2a3f5f",
           "arrowhead": 0,
           "arrowwidth": 1
          },
          "autotypenumbers": "strict",
          "coloraxis": {
           "colorbar": {
            "outlinewidth": 0,
            "ticks": ""
           }
          },
          "colorscale": {
           "diverging": [
            [
             0,
             "#8e0152"
            ],
            [
             0.1,
             "#c51b7d"
            ],
            [
             0.2,
             "#de77ae"
            ],
            [
             0.3,
             "#f1b6da"
            ],
            [
             0.4,
             "#fde0ef"
            ],
            [
             0.5,
             "#f7f7f7"
            ],
            [
             0.6,
             "#e6f5d0"
            ],
            [
             0.7,
             "#b8e186"
            ],
            [
             0.8,
             "#7fbc41"
            ],
            [
             0.9,
             "#4d9221"
            ],
            [
             1,
             "#276419"
            ]
           ],
           "sequential": [
            [
             0,
             "#0d0887"
            ],
            [
             0.1111111111111111,
             "#46039f"
            ],
            [
             0.2222222222222222,
             "#7201a8"
            ],
            [
             0.3333333333333333,
             "#9c179e"
            ],
            [
             0.4444444444444444,
             "#bd3786"
            ],
            [
             0.5555555555555556,
             "#d8576b"
            ],
            [
             0.6666666666666666,
             "#ed7953"
            ],
            [
             0.7777777777777778,
             "#fb9f3a"
            ],
            [
             0.8888888888888888,
             "#fdca26"
            ],
            [
             1,
             "#f0f921"
            ]
           ],
           "sequentialminus": [
            [
             0,
             "#0d0887"
            ],
            [
             0.1111111111111111,
             "#46039f"
            ],
            [
             0.2222222222222222,
             "#7201a8"
            ],
            [
             0.3333333333333333,
             "#9c179e"
            ],
            [
             0.4444444444444444,
             "#bd3786"
            ],
            [
             0.5555555555555556,
             "#d8576b"
            ],
            [
             0.6666666666666666,
             "#ed7953"
            ],
            [
             0.7777777777777778,
             "#fb9f3a"
            ],
            [
             0.8888888888888888,
             "#fdca26"
            ],
            [
             1,
             "#f0f921"
            ]
           ]
          },
          "colorway": [
           "#636efa",
           "#EF553B",
           "#00cc96",
           "#ab63fa",
           "#FFA15A",
           "#19d3f3",
           "#FF6692",
           "#B6E880",
           "#FF97FF",
           "#FECB52"
          ],
          "font": {
           "color": "#2a3f5f"
          },
          "geo": {
           "bgcolor": "white",
           "lakecolor": "white",
           "landcolor": "white",
           "showlakes": true,
           "showland": true,
           "subunitcolor": "#C8D4E3"
          },
          "hoverlabel": {
           "align": "left"
          },
          "hovermode": "closest",
          "mapbox": {
           "style": "light"
          },
          "paper_bgcolor": "white",
          "plot_bgcolor": "white",
          "polar": {
           "angularaxis": {
            "gridcolor": "#EBF0F8",
            "linecolor": "#EBF0F8",
            "ticks": ""
           },
           "bgcolor": "white",
           "radialaxis": {
            "gridcolor": "#EBF0F8",
            "linecolor": "#EBF0F8",
            "ticks": ""
           }
          },
          "scene": {
           "xaxis": {
            "backgroundcolor": "white",
            "gridcolor": "#DFE8F3",
            "gridwidth": 2,
            "linecolor": "#EBF0F8",
            "showbackground": true,
            "ticks": "",
            "zerolinecolor": "#EBF0F8"
           },
           "yaxis": {
            "backgroundcolor": "white",
            "gridcolor": "#DFE8F3",
            "gridwidth": 2,
            "linecolor": "#EBF0F8",
            "showbackground": true,
            "ticks": "",
            "zerolinecolor": "#EBF0F8"
           },
           "zaxis": {
            "backgroundcolor": "white",
            "gridcolor": "#DFE8F3",
            "gridwidth": 2,
            "linecolor": "#EBF0F8",
            "showbackground": true,
            "ticks": "",
            "zerolinecolor": "#EBF0F8"
           }
          },
          "shapedefaults": {
           "line": {
            "color": "#2a3f5f"
           }
          },
          "ternary": {
           "aaxis": {
            "gridcolor": "#DFE8F3",
            "linecolor": "#A2B1C6",
            "ticks": ""
           },
           "baxis": {
            "gridcolor": "#DFE8F3",
            "linecolor": "#A2B1C6",
            "ticks": ""
           },
           "bgcolor": "white",
           "caxis": {
            "gridcolor": "#DFE8F3",
            "linecolor": "#A2B1C6",
            "ticks": ""
           }
          },
          "title": {
           "x": 0.05
          },
          "xaxis": {
           "automargin": true,
           "gridcolor": "#EBF0F8",
           "linecolor": "#EBF0F8",
           "ticks": "",
           "title": {
            "standoff": 15
           },
           "zerolinecolor": "#EBF0F8",
           "zerolinewidth": 2
          },
          "yaxis": {
           "automargin": true,
           "gridcolor": "#EBF0F8",
           "linecolor": "#EBF0F8",
           "ticks": "",
           "title": {
            "standoff": 15
           },
           "zerolinecolor": "#EBF0F8",
           "zerolinewidth": 2
          }
         }
        },
        "title": {
         "text": "CAC vs Conversion Rate by Channel",
         "x": 0.5
        },
        "xaxis": {
         "anchor": "y",
         "domain": [
          0,
          1
         ],
         "tickformat": ".2f",
         "title": {
          "text": "CAC (INR)"
         }
        },
        "yaxis": {
         "anchor": "x",
         "domain": [
          0,
          1
         ],
         "tickformat": ".2f",
         "title": {
          "text": "Conversion Rate (%)"
         }
        }
       }
      }
     },
     "metadata": {},
     "output_type": "display_data"
    }
   ],
   "source": [
    "fig6 = px.scatter(df, x='CAC', y='Conversion_Rate', color='Marketing_Channel',\n",
    "                  title='CAC vs Conversion Rate by Channel',\n",
    "                  labels={'CAC': 'CAC (INR)', 'Conversion_Rate': 'Conversion Rate (%)'},\n",
    "                  color_discrete_sequence=px.colors.qualitative.Set1,\n",
    "                  hover_data=['CAC', 'Conversion_Rate', 'New_Customers'])\n",
    "fig6.update_traces(marker=dict(size=8, opacity=0.8, line=dict(width=1, color='DarkSlateGrey')),\n",
    "                   text=df['CAC'].round(2).astype(str) + '\\n' + df['Conversion_Rate'].round(2).astype(str) + '%',\n",
    "                   textposition='top center')\n",
    "fig6.update_layout(xaxis_title='CAC (INR)', yaxis_title='Conversion Rate (%)', \n",
    "                   title_x=0.5, xaxis=dict(tickformat=\".2f\"), yaxis=dict(tickformat=\".2f\"))\n",
    "fig6.show()"
   ]
  },
  {
   "cell_type": "markdown",
   "metadata": {},
   "source": [
    "# CAC and New Customers side by side"
   ]
  },
  {
   "cell_type": "code",
   "execution_count": 15,
   "metadata": {},
   "outputs": [
    {
     "data": {
      "application/vnd.plotly.v1+json": {
       "config": {
        "plotlyServerURL": "https://plot.ly"
       },
       "data": [
        {
         "alignmentgroup": "True",
         "hovertemplate": "Metric=CAC<br>Marketing_Channel=%{x}<br>Value=%{y}<extra></extra>",
         "legendgroup": "CAC",
         "marker": {
          "color": "#FFA500",
          "pattern": {
           "shape": ""
          }
         },
         "name": "CAC",
         "offsetgroup": "CAC",
         "orientation": "v",
         "showlegend": true,
         "textposition": "auto",
         "type": "bar",
         "x": [
          "Email Marketing",
          "Online Ads",
          "Social Media",
          "Online Ads",
          "Email Marketing",
          "Email Marketing",
          "Referral",
          "Online Ads",
          "Social Media",
          "Online Ads",
          "Online Ads",
          "Email Marketing",
          "Online Ads",
          "Online Ads",
          "Email Marketing",
          "Email Marketing",
          "Online Ads",
          "Email Marketing",
          "Referral",
          "Online Ads",
          "Referral",
          "Email Marketing",
          "Social Media",
          "Online Ads",
          "Referral",
          "Social Media",
          "Online Ads",
          "Online Ads",
          "Referral",
          "Email Marketing",
          "Referral",
          "Email Marketing",
          "Email Marketing",
          "Referral",
          "Social Media",
          "Email Marketing",
          "Referral",
          "Email Marketing",
          "Referral",
          "Email Marketing",
          "Email Marketing",
          "Online Ads",
          "Online Ads",
          "Social Media",
          "Online Ads",
          "Online Ads",
          "Online Ads",
          "Social Media",
          "Email Marketing",
          "Social Media",
          "Social Media",
          "Online Ads",
          "Social Media",
          "Referral",
          "Email Marketing",
          "Email Marketing",
          "Online Ads",
          "Email Marketing",
          "Online Ads",
          "Social Media",
          "Referral",
          "Email Marketing",
          "Email Marketing",
          "Email Marketing",
          "Referral",
          "Referral",
          "Online Ads",
          "Online Ads",
          "Social Media",
          "Social Media",
          "Online Ads",
          "Referral",
          "Referral",
          "Social Media",
          "Email Marketing",
          "Social Media",
          "Referral",
          "Social Media",
          "Social Media",
          "Online Ads",
          "Email Marketing",
          "Social Media",
          "Email Marketing",
          "Referral",
          "Social Media",
          "Online Ads",
          "Referral",
          "Email Marketing",
          "Online Ads",
          "Online Ads",
          "Online Ads",
          "Email Marketing",
          "Referral",
          "Social Media",
          "Online Ads",
          "Social Media",
          "Referral",
          "Email Marketing",
          "Referral",
          "Referral",
          "Online Ads",
          "Email Marketing",
          "Email Marketing",
          "Email Marketing",
          "Social Media",
          "Email Marketing",
          "Online Ads",
          "Social Media",
          "Social Media",
          "Referral",
          "Referral",
          "Social Media",
          "Email Marketing",
          "Online Ads",
          "Referral",
          "Referral",
          "Social Media",
          "Email Marketing",
          "Email Marketing",
          "Online Ads",
          "Referral",
          "Email Marketing",
          "Referral",
          "Email Marketing",
          "Online Ads",
          "Social Media",
          "Online Ads",
          "Referral",
          "Referral",
          "Referral",
          "Social Media",
          "Online Ads",
          "Referral",
          "Referral",
          "Online Ads",
          "Social Media",
          "Online Ads",
          "Referral",
          "Referral",
          "Online Ads",
          "Social Media",
          "Email Marketing",
          "Social Media",
          "Referral",
          "Social Media",
          "Online Ads",
          "Email Marketing",
          "Email Marketing",
          "Online Ads",
          "Social Media",
          "Referral",
          "Email Marketing",
          "Social Media",
          "Email Marketing",
          "Online Ads",
          "Online Ads",
          "Social Media",
          "Email Marketing",
          "Online Ads",
          "Online Ads",
          "Online Ads",
          "Email Marketing",
          "Online Ads",
          "Referral",
          "Referral",
          "Online Ads",
          "Online Ads",
          "Email Marketing",
          "Online Ads",
          "Online Ads",
          "Referral",
          "Email Marketing",
          "Social Media",
          "Referral",
          "Referral",
          "Online Ads",
          "Online Ads",
          "Social Media",
          "Social Media",
          "Social Media",
          "Email Marketing",
          "Email Marketing",
          "Referral",
          "Online Ads",
          "Social Media",
          "Social Media",
          "Referral",
          "Online Ads",
          "Online Ads",
          "Social Media",
          "Social Media",
          "Social Media",
          "Online Ads",
          "Referral",
          "Social Media",
          "Referral",
          "Email Marketing",
          "Online Ads",
          "Referral",
          "Referral",
          "Referral",
          "Referral",
          "Referral",
          "Online Ads",
          "Social Media",
          "Online Ads",
          "Social Media",
          "Online Ads",
          "Social Media",
          "Referral",
          "Social Media",
          "Referral",
          "Social Media",
          "Social Media",
          "Referral",
          "Referral",
          "Email Marketing",
          "Email Marketing",
          "Online Ads",
          "Social Media",
          "Referral",
          "Email Marketing",
          "Email Marketing",
          "Email Marketing",
          "Online Ads",
          "Email Marketing",
          "Email Marketing",
          "Referral",
          "Online Ads",
          "Referral",
          "Online Ads",
          "Online Ads",
          "Email Marketing",
          "Email Marketing",
          "Online Ads",
          "Online Ads",
          "Referral",
          "Online Ads",
          "Email Marketing",
          "Email Marketing",
          "Social Media",
          "Email Marketing",
          "Email Marketing",
          "Referral",
          "Online Ads",
          "Email Marketing",
          "Online Ads",
          "Social Media",
          "Email Marketing",
          "Social Media",
          "Social Media",
          "Referral",
          "Online Ads",
          "Social Media",
          "Referral",
          "Referral",
          "Online Ads",
          "Online Ads",
          "Social Media",
          "Referral",
          "Referral",
          "Referral",
          "Social Media",
          "Online Ads",
          "Referral",
          "Email Marketing",
          "Email Marketing",
          "Referral",
          "Email Marketing",
          "Online Ads",
          "Referral",
          "Social Media",
          "Email Marketing",
          "Referral",
          "Online Ads",
          "Online Ads",
          "Online Ads",
          "Email Marketing",
          "Social Media",
          "Email Marketing",
          "Email Marketing",
          "Online Ads",
          "Email Marketing",
          "Social Media",
          "Social Media",
          "Referral",
          "Referral",
          "Online Ads",
          "Social Media",
          "Social Media",
          "Online Ads",
          "Referral",
          "Email Marketing",
          "Social Media",
          "Email Marketing",
          "Email Marketing",
          "Social Media",
          "Online Ads",
          "Online Ads",
          "Referral",
          "Referral",
          "Email Marketing",
          "Referral",
          "Email Marketing",
          "Online Ads",
          "Online Ads",
          "Social Media",
          "Referral",
          "Referral",
          "Referral",
          "Referral",
          "Online Ads",
          "Online Ads",
          "Online Ads",
          "Referral",
          "Referral",
          "Social Media",
          "Email Marketing",
          "Online Ads",
          "Referral",
          "Referral",
          "Referral",
          "Referral",
          "Referral",
          "Online Ads",
          "Email Marketing",
          "Social Media",
          "Referral",
          "Referral",
          "Referral",
          "Referral",
          "Social Media",
          "Referral",
          "Online Ads",
          "Referral",
          "Referral",
          "Online Ads",
          "Referral",
          "Social Media",
          "Social Media",
          "Referral",
          "Online Ads",
          "Online Ads",
          "Online Ads",
          "Social Media",
          "Referral",
          "Referral",
          "Social Media",
          "Email Marketing",
          "Social Media",
          "Referral",
          "Email Marketing",
          "Referral",
          "Online Ads",
          "Referral",
          "Online Ads",
          "Referral",
          "Social Media",
          "Online Ads",
          "Social Media",
          "Email Marketing",
          "Social Media",
          "Email Marketing",
          "Email Marketing",
          "Social Media",
          "Email Marketing",
          "Social Media",
          "Email Marketing",
          "Online Ads",
          "Referral",
          "Email Marketing",
          "Email Marketing",
          "Email Marketing",
          "Email Marketing",
          "Social Media",
          "Online Ads",
          "Email Marketing",
          "Social Media",
          "Social Media",
          "Referral",
          "Email Marketing",
          "Social Media",
          "Social Media",
          "Social Media",
          "Social Media",
          "Social Media",
          "Online Ads",
          "Social Media",
          "Referral",
          "Email Marketing",
          "Referral",
          "Email Marketing",
          "Social Media",
          "Email Marketing",
          "Online Ads",
          "Social Media",
          "Social Media",
          "Email Marketing",
          "Email Marketing",
          "Social Media",
          "Social Media",
          "Online Ads",
          "Social Media",
          "Referral",
          "Referral",
          "Online Ads",
          "Online Ads",
          "Email Marketing",
          "Email Marketing",
          "Social Media",
          "Referral",
          "Referral",
          "Email Marketing",
          "Online Ads",
          "Online Ads",
          "Online Ads",
          "Online Ads",
          "Social Media",
          "Referral",
          "Online Ads",
          "Social Media",
          "Email Marketing",
          "Online Ads",
          "Email Marketing",
          "Social Media",
          "Online Ads",
          "Email Marketing",
          "Online Ads",
          "Referral",
          "Referral",
          "Online Ads",
          "Social Media",
          "Online Ads",
          "Referral",
          "Email Marketing",
          "Online Ads",
          "Online Ads",
          "Referral",
          "Social Media",
          "Referral",
          "Email Marketing",
          "Referral",
          "Email Marketing",
          "Referral",
          "Referral",
          "Email Marketing",
          "Email Marketing",
          "Email Marketing",
          "Referral",
          "Email Marketing",
          "Referral",
          "Email Marketing",
          "Social Media",
          "Social Media",
          "Online Ads",
          "Email Marketing",
          "Referral",
          "Email Marketing",
          "Email Marketing",
          "Social Media",
          "Online Ads",
          "Social Media",
          "Social Media",
          "Social Media",
          "Email Marketing",
          "Online Ads",
          "Online Ads",
          "Email Marketing",
          "Email Marketing",
          "Online Ads",
          "Social Media",
          "Email Marketing",
          "Social Media",
          "Online Ads",
          "Social Media",
          "Referral",
          "Email Marketing",
          "Email Marketing",
          "Referral",
          "Referral",
          "Social Media",
          "Online Ads",
          "Social Media",
          "Referral",
          "Referral",
          "Referral",
          "Social Media",
          "Email Marketing",
          "Email Marketing",
          "Email Marketing",
          "Online Ads",
          "Online Ads",
          "Social Media",
          "Online Ads",
          "Social Media",
          "Email Marketing",
          "Social Media",
          "Online Ads",
          "Social Media",
          "Online Ads"
         ],
         "xaxis": "x",
         "y": [
          218.06424024351617,
          33.57169114001669,
          58.547296030882244,
          101.79899787809677,
          85.26216810471152,
          102.02853120106694,
          57.14066477489841,
          129.39971710027487,
          70.65520787967706,
          64.5234732500656,
          123.10940912306177,
          100.3210095445754,
          80.89837663152218,
          52.42718463034469,
          364.3672085653763,
          332.8997800477762,
          64.80922990740395,
          53.10499724186282,
          59.86295267778016,
          68.64513460195944,
          217.37527452334072,
          171.4172410629097,
          80.01280828887778,
          179.3448781931991,
          76.74507704203315,
          174.6492528799176,
          199.93528878599818,
          57.98202353064941,
          56.92210890954365,
          33.53186214873253,
          150.4883899496825,
          136.21612512887563,
          171.36201724842508,
          103.99212020144525,
          86.31499738601373,
          156.44586128557552,
          79.57888445100996,
          201.7052926802192,
          362.8820552564676,
          81.00730475086614,
          427.72046972443405,
          151.84009662926096,
          57.29579994521705,
          23.461993659358807,
          74.92763258595936,
          337.21719521833046,
          230.1281596582659,
          99.48529869486575,
          296.92760155368256,
          72.44366174290221,
          104.51271288144227,
          81.60394377684135,
          82.80030716375917,
          292.1373957003497,
          110.02932390887963,
          89.5170120859836,
          44.976371523310924,
          117.50898585854013,
          87.88385926476765,
          149.30094132711224,
          71.40821191944679,
          59.10198821124344,
          125.99346494617964,
          48.263769376431284,
          366.5252089998591,
          99.75171331070307,
          49.03984422675843,
          124.18334022713626,
          322.0309476732531,
          331.9099418469102,
          95.73086437060769,
          78.34138800087739,
          106.35624908252886,
          303.8684328095194,
          50.73974598901472,
          111.38939145334275,
          225.19225898521591,
          195.5993343688523,
          91.40993240051924,
          81.75218452542686,
          109.13590274720532,
          314.775188576952,
          240.16244864235634,
          49.87598489713695,
          92.37805583696098,
          39.50907513527648,
          60.826252476870785,
          76.47392926493517,
          83.8652405504352,
          32.78823503177525,
          91.74606969270492,
          40.17114950304109,
          66.01712145424843,
          107.46998531570222,
          56.22274696802701,
          94.19333164651879,
          102.83067571158936,
          131.56714393904622,
          61.212026926747555,
          106.49445135795831,
          58.36747164487327,
          104.87293665991288,
          77.74503651039868,
          168.02744224707774,
          104.51214882739144,
          115.60037416012287,
          75.9816753926755,
          119.19232778655056,
          38.117038950519074,
          117.89910011813255,
          125.57162070602693,
          60.13038163568522,
          110.87407804431562,
          111.2708444245423,
          94.65720377524458,
          142.21132899057156,
          99.59354367136098,
          165.9403706274086,
          254.0946512495384,
          138.91104719365234,
          133.70764698691772,
          40.07090645970874,
          110.64607336287935,
          44.794514091521556,
          174.63643675194442,
          89.97240973192027,
          133.89225921158828,
          39.692309776902604,
          65.26209664112966,
          86.62977787493791,
          158.27187392039443,
          182.26749861379008,
          59.22207814166167,
          43.81576351134885,
          48.01271114498091,
          146.91789645617067,
          61.348791955057614,
          22.01236393800532,
          108.15656403691906,
          65.53891584790841,
          306.07373277568445,
          69.85730146074854,
          90.23022789620899,
          65.43991181885373,
          235.4655152132514,
          74.0878694523779,
          187.11995583308908,
          206.01605490658307,
          89.92461811631378,
          61.37500427875647,
          52.65014186546445,
          70.91216874907714,
          176.45386618786713,
          63.28079889266849,
          178.68594088323843,
          70.34675051372321,
          28.807304022723535,
          71.79148628179578,
          24.784414227961886,
          35.48422973099157,
          295.57803530347786,
          46.15295932018564,
          184.28416632744003,
          133.9823862587133,
          193.22732291927508,
          126.86187425821673,
          143.5504592887475,
          61.3789854277464,
          96.57156689127724,
          280.2057859555017,
          131.9468579084435,
          233.7192980686695,
          107.82880525798242,
          63.472027922212604,
          248.86494887775672,
          180.97492889371165,
          79.20714443876359,
          435.48734557286474,
          122.07677488628035,
          42.88606467957145,
          158.3353282073107,
          47.889069809514965,
          47.090394258492715,
          33.33998655396594,
          32.603319045533645,
          140.10074092354049,
          102.28014486297735,
          74.65645365945208,
          64.19683127413678,
          83.21355042426376,
          79.4156298411431,
          187.7416870418782,
          288.4261292526901,
          247.13916725948394,
          207.56560532934628,
          71.43330670728342,
          280.3640131856517,
          315.6449222521369,
          100.02058757099432,
          83.63814512742933,
          97.04159171918711,
          113.01575075244936,
          89.71926330417163,
          33.83261440587518,
          46.21364324674719,
          82.60915742433075,
          173.73177775123884,
          78.0197189827707,
          126.73190313078628,
          46.79420727183853,
          101.47870175265878,
          223.46674940605112,
          170.38232010629153,
          63.86997252067452,
          72.56538725317895,
          30.738776920865206,
          39.98079781842939,
          227.34288805359085,
          95.38693055971667,
          57.18490313280046,
          28.443907219248768,
          372.89572375164204,
          434.3834455624725,
          143.5128885599879,
          165.62569349053135,
          217.3169420656437,
          204.95146317849762,
          79.92477322570062,
          41.46166759208803,
          134.16917738834096,
          169.52960547097263,
          360.6037957734745,
          113.76319882212366,
          46.64747537547307,
          159.1104048148294,
          196.61882654535265,
          87.26185908129568,
          31.022036935802472,
          99.66017604910841,
          55.55318034905638,
          81.78964529077204,
          138.46663680004406,
          165.65818959399007,
          107.84841988382087,
          179.4059317871519,
          129.21011238521197,
          386.75128535926274,
          82.0611906637726,
          201.37883102906557,
          75.26895428935573,
          49.849894458782146,
          131.91186235768402,
          56.88478756528224,
          87.38242883761203,
          99.04953718254033,
          100.851154053681,
          113.22765633674214,
          156.05825195278152,
          50.00943330223166,
          222.46522150970006,
          134.19242054074317,
          175.0817484290018,
          82.44820702538914,
          46.51879367695117,
          96.87510776791899,
          314.0460695585194,
          74.39092919701386,
          237.06250728054306,
          59.42817333801917,
          132.23208819693994,
          73.09546102825234,
          55.91970998030289,
          37.98866640048673,
          213.55706853404533,
          91.68587532042663,
          47.33920017676173,
          160.29124379293157,
          193.821646414028,
          91.79972828113333,
          73.49322981791151,
          309.1837639339718,
          71.27385759116144,
          77.32826607934328,
          178.5581211928263,
          48.690688066351086,
          103.30704243587566,
          223.68084229152282,
          61.71636325939229,
          100.15813461005871,
          133.38652910466317,
          187.4989039890499,
          189.5602228982235,
          237.75289582031075,
          171.3887591428597,
          95.68134596764381,
          198.09641561964068,
          55.411868629278764,
          249.31545130158318,
          216.496478802759,
          203.9141853686816,
          42.627118662626124,
          53.517643880172415,
          85.83976640145241,
          108.60020288950771,
          62.94811460899583,
          41.95741246134622,
          68.57222414816293,
          47.609915335440604,
          65.46264629149478,
          105.7906750611564,
          56.427569349320095,
          76.23698003053832,
          92.3478681488643,
          99.73667659163908,
          234.7993262814003,
          48.356244605789314,
          107.95205001044829,
          23.491783927784155,
          137.2007105607167,
          141.5152416333337,
          90.33267255871291,
          195.71653922799453,
          114.21110368556684,
          101.9759573056719,
          351.6623253313672,
          102.80395167123082,
          29.437908855956533,
          79.18854211925957,
          280.060143103189,
          344.5231733422201,
          136.26549988537073,
          98.61517282438244,
          221.7003105164461,
          188.51415319313128,
          79.38316959760346,
          54.99821831219703,
          86.16965013597465,
          47.57190809077045,
          73.79390779330585,
          103.76201111269934,
          52.316554137905044,
          314.2348661956273,
          94.71964763992344,
          95.8056775957123,
          200.4256975574351,
          147.91229122243556,
          52.50078312688792,
          56.666115393339965,
          92.25880240218886,
          212.50564407039238,
          345.3486207380111,
          30.094642088177533,
          79.60518679538787,
          113.69819572317944,
          312.2477596747458,
          118.8024688529729,
          189.86026033103371,
          227.9904906410419,
          55.750900221311674,
          93.02608724008329,
          118.1662350112727,
          64.52823736387961,
          87.81406165518459,
          94.1570662898356,
          59.19819373544256,
          126.80526850451051,
          65.86276072305562,
          89.26301282504501,
          46.53762302345865,
          86.79625757208446,
          105.28104024721767,
          86.87662282341277,
          129.2257381747992,
          26.317468052799573,
          144.62446434127162,
          248.48867672497582,
          63.33287636855652,
          290.7072540058887,
          34.943797344756405,
          83.66469568882324,
          71.99676277336319,
          77.7425704860237,
          21.61645262123925,
          222.02801620529394,
          148.54315143211392,
          247.36290285308783,
          34.72132953802442,
          145.62732286396093,
          74.44570305538521,
          115.52713174157537,
          101.59299455542995,
          149.84643076908839,
          41.67485203397511,
          292.081046704693,
          61.960965394329975,
          56.41717768598626,
          86.25977188931954,
          62.865251861622525,
          182.64948718905308,
          76.72669117940885,
          331.38454496717264,
          58.943865284677756,
          116.947093769225,
          110.08846253680977,
          190.72013824662827,
          98.90048690372109,
          129.07579210124305,
          189.46073165053812,
          52.00769578713043,
          110.50406362277091,
          72.85144258769466,
          209.8464165261319,
          89.36569190986575,
          233.08002655724417,
          180.43473645563495,
          172.09170166723328,
          126.65969685798457,
          217.72279078257603,
          88.35851986889138,
          88.26621606097355,
          84.57502700620965,
          362.77903898750554,
          113.32233595959978,
          94.15540441411983,
          199.18680197567176,
          46.57774032938634,
          81.27331648974254,
          174.64711691966374,
          196.47195358784765,
          64.78730966594647,
          44.498812377890225,
          199.4961729876743,
          44.80421794150596,
          127.38659924892784,
          87.71197322049123,
          148.05934317713212,
          124.9363797924456,
          122.47231310333652,
          88.20184649529776,
          72.42429779475175,
          113.12524342551656,
          121.9746383122902,
          96.04440852670605,
          159.4494961147272,
          81.20210397267398,
          36.51697074497594,
          220.52605324888683,
          47.36448666737971,
          105.78262690980453,
          116.8569049367181,
          99.91966277697622,
          175.70603468312908,
          143.2082055647097,
          100.43691847814877,
          57.28139994470385,
          115.63132984321527,
          52.783731020180234,
          143.01314695801076,
          58.73216897782289,
          205.07297374972305,
          141.8985842078482,
          256.7877205083588,
          107.24173012267742,
          144.27780506418839,
          31.85298686215384,
          120.9554755528958,
          25.583688339207658,
          266.87878710937696,
          115.91534032141126,
          310.7349089981759,
          94.273440014798,
          46.402524616325245,
          113.0374054095208,
          110.4178703264659,
          116.25056305878952,
          71.16711954545003,
          103.9405366685923,
          199.376922146991,
          58.35416677431634,
          92.82807737227574,
          126.25163586248058,
          126.36214539205581,
          118.66586114041122,
          80.41642935873058,
          87.66535417620678,
          120.38062079068746,
          191.35585372470916,
          78.72079451937915,
          264.60507060408423,
          49.03307907998,
          110.8140879061345,
          126.91695807655582,
          98.57960503861527,
          164.52897142442512,
          155.03503553303995,
          59.519218285273034,
          137.8955463854301,
          231.1276953535672,
          171.5078814073467,
          110.54501933059547
         ],
         "yaxis": "y"
        },
        {
         "alignmentgroup": "True",
         "hovertemplate": "Metric=New_Customers<br>Marketing_Channel=%{x}<br>Value=%{y}<extra></extra>",
         "legendgroup": "New_Customers",
         "marker": {
          "color": "#228B22",
          "pattern": {
           "shape": ""
          }
         },
         "name": "New_Customers",
         "offsetgroup": "New_Customers",
         "orientation": "v",
         "showlegend": true,
         "textposition": "auto",
         "type": "bar",
         "x": [
          "Email Marketing",
          "Online Ads",
          "Social Media",
          "Online Ads",
          "Email Marketing",
          "Email Marketing",
          "Referral",
          "Online Ads",
          "Social Media",
          "Online Ads",
          "Online Ads",
          "Email Marketing",
          "Online Ads",
          "Online Ads",
          "Email Marketing",
          "Email Marketing",
          "Online Ads",
          "Email Marketing",
          "Referral",
          "Online Ads",
          "Referral",
          "Email Marketing",
          "Social Media",
          "Online Ads",
          "Referral",
          "Social Media",
          "Online Ads",
          "Online Ads",
          "Referral",
          "Email Marketing",
          "Referral",
          "Email Marketing",
          "Email Marketing",
          "Referral",
          "Social Media",
          "Email Marketing",
          "Referral",
          "Email Marketing",
          "Referral",
          "Email Marketing",
          "Email Marketing",
          "Online Ads",
          "Online Ads",
          "Social Media",
          "Online Ads",
          "Online Ads",
          "Online Ads",
          "Social Media",
          "Email Marketing",
          "Social Media",
          "Social Media",
          "Online Ads",
          "Social Media",
          "Referral",
          "Email Marketing",
          "Email Marketing",
          "Online Ads",
          "Email Marketing",
          "Online Ads",
          "Social Media",
          "Referral",
          "Email Marketing",
          "Email Marketing",
          "Email Marketing",
          "Referral",
          "Referral",
          "Online Ads",
          "Online Ads",
          "Social Media",
          "Social Media",
          "Online Ads",
          "Referral",
          "Referral",
          "Social Media",
          "Email Marketing",
          "Social Media",
          "Referral",
          "Social Media",
          "Social Media",
          "Online Ads",
          "Email Marketing",
          "Social Media",
          "Email Marketing",
          "Referral",
          "Social Media",
          "Online Ads",
          "Referral",
          "Email Marketing",
          "Online Ads",
          "Online Ads",
          "Online Ads",
          "Email Marketing",
          "Referral",
          "Social Media",
          "Online Ads",
          "Social Media",
          "Referral",
          "Email Marketing",
          "Referral",
          "Referral",
          "Online Ads",
          "Email Marketing",
          "Email Marketing",
          "Email Marketing",
          "Social Media",
          "Email Marketing",
          "Online Ads",
          "Social Media",
          "Social Media",
          "Referral",
          "Referral",
          "Social Media",
          "Email Marketing",
          "Online Ads",
          "Referral",
          "Referral",
          "Social Media",
          "Email Marketing",
          "Email Marketing",
          "Online Ads",
          "Referral",
          "Email Marketing",
          "Referral",
          "Email Marketing",
          "Online Ads",
          "Social Media",
          "Online Ads",
          "Referral",
          "Referral",
          "Referral",
          "Social Media",
          "Online Ads",
          "Referral",
          "Referral",
          "Online Ads",
          "Social Media",
          "Online Ads",
          "Referral",
          "Referral",
          "Online Ads",
          "Social Media",
          "Email Marketing",
          "Social Media",
          "Referral",
          "Social Media",
          "Online Ads",
          "Email Marketing",
          "Email Marketing",
          "Online Ads",
          "Social Media",
          "Referral",
          "Email Marketing",
          "Social Media",
          "Email Marketing",
          "Online Ads",
          "Online Ads",
          "Social Media",
          "Email Marketing",
          "Online Ads",
          "Online Ads",
          "Online Ads",
          "Email Marketing",
          "Online Ads",
          "Referral",
          "Referral",
          "Online Ads",
          "Online Ads",
          "Email Marketing",
          "Online Ads",
          "Online Ads",
          "Referral",
          "Email Marketing",
          "Social Media",
          "Referral",
          "Referral",
          "Online Ads",
          "Online Ads",
          "Social Media",
          "Social Media",
          "Social Media",
          "Email Marketing",
          "Email Marketing",
          "Referral",
          "Online Ads",
          "Social Media",
          "Social Media",
          "Referral",
          "Online Ads",
          "Online Ads",
          "Social Media",
          "Social Media",
          "Social Media",
          "Online Ads",
          "Referral",
          "Social Media",
          "Referral",
          "Email Marketing",
          "Online Ads",
          "Referral",
          "Referral",
          "Referral",
          "Referral",
          "Referral",
          "Online Ads",
          "Social Media",
          "Online Ads",
          "Social Media",
          "Online Ads",
          "Social Media",
          "Referral",
          "Social Media",
          "Referral",
          "Social Media",
          "Social Media",
          "Referral",
          "Referral",
          "Email Marketing",
          "Email Marketing",
          "Online Ads",
          "Social Media",
          "Referral",
          "Email Marketing",
          "Email Marketing",
          "Email Marketing",
          "Online Ads",
          "Email Marketing",
          "Email Marketing",
          "Referral",
          "Online Ads",
          "Referral",
          "Online Ads",
          "Online Ads",
          "Email Marketing",
          "Email Marketing",
          "Online Ads",
          "Online Ads",
          "Referral",
          "Online Ads",
          "Email Marketing",
          "Email Marketing",
          "Social Media",
          "Email Marketing",
          "Email Marketing",
          "Referral",
          "Online Ads",
          "Email Marketing",
          "Online Ads",
          "Social Media",
          "Email Marketing",
          "Social Media",
          "Social Media",
          "Referral",
          "Online Ads",
          "Social Media",
          "Referral",
          "Referral",
          "Online Ads",
          "Online Ads",
          "Social Media",
          "Referral",
          "Referral",
          "Referral",
          "Social Media",
          "Online Ads",
          "Referral",
          "Email Marketing",
          "Email Marketing",
          "Referral",
          "Email Marketing",
          "Online Ads",
          "Referral",
          "Social Media",
          "Email Marketing",
          "Referral",
          "Online Ads",
          "Online Ads",
          "Online Ads",
          "Email Marketing",
          "Social Media",
          "Email Marketing",
          "Email Marketing",
          "Online Ads",
          "Email Marketing",
          "Social Media",
          "Social Media",
          "Referral",
          "Referral",
          "Online Ads",
          "Social Media",
          "Social Media",
          "Online Ads",
          "Referral",
          "Email Marketing",
          "Social Media",
          "Email Marketing",
          "Email Marketing",
          "Social Media",
          "Online Ads",
          "Online Ads",
          "Referral",
          "Referral",
          "Email Marketing",
          "Referral",
          "Email Marketing",
          "Online Ads",
          "Online Ads",
          "Social Media",
          "Referral",
          "Referral",
          "Referral",
          "Referral",
          "Online Ads",
          "Online Ads",
          "Online Ads",
          "Referral",
          "Referral",
          "Social Media",
          "Email Marketing",
          "Online Ads",
          "Referral",
          "Referral",
          "Referral",
          "Referral",
          "Referral",
          "Online Ads",
          "Email Marketing",
          "Social Media",
          "Referral",
          "Referral",
          "Referral",
          "Referral",
          "Social Media",
          "Referral",
          "Online Ads",
          "Referral",
          "Referral",
          "Online Ads",
          "Referral",
          "Social Media",
          "Social Media",
          "Referral",
          "Online Ads",
          "Online Ads",
          "Online Ads",
          "Social Media",
          "Referral",
          "Referral",
          "Social Media",
          "Email Marketing",
          "Social Media",
          "Referral",
          "Email Marketing",
          "Referral",
          "Online Ads",
          "Referral",
          "Online Ads",
          "Referral",
          "Social Media",
          "Online Ads",
          "Social Media",
          "Email Marketing",
          "Social Media",
          "Email Marketing",
          "Email Marketing",
          "Social Media",
          "Email Marketing",
          "Social Media",
          "Email Marketing",
          "Online Ads",
          "Referral",
          "Email Marketing",
          "Email Marketing",
          "Email Marketing",
          "Email Marketing",
          "Social Media",
          "Online Ads",
          "Email Marketing",
          "Social Media",
          "Social Media",
          "Referral",
          "Email Marketing",
          "Social Media",
          "Social Media",
          "Social Media",
          "Social Media",
          "Social Media",
          "Online Ads",
          "Social Media",
          "Referral",
          "Email Marketing",
          "Referral",
          "Email Marketing",
          "Social Media",
          "Email Marketing",
          "Online Ads",
          "Social Media",
          "Social Media",
          "Email Marketing",
          "Email Marketing",
          "Social Media",
          "Social Media",
          "Online Ads",
          "Social Media",
          "Referral",
          "Referral",
          "Online Ads",
          "Online Ads",
          "Email Marketing",
          "Email Marketing",
          "Social Media",
          "Referral",
          "Referral",
          "Email Marketing",
          "Online Ads",
          "Online Ads",
          "Online Ads",
          "Online Ads",
          "Social Media",
          "Referral",
          "Online Ads",
          "Social Media",
          "Email Marketing",
          "Online Ads",
          "Email Marketing",
          "Social Media",
          "Online Ads",
          "Email Marketing",
          "Online Ads",
          "Referral",
          "Referral",
          "Online Ads",
          "Social Media",
          "Online Ads",
          "Referral",
          "Email Marketing",
          "Online Ads",
          "Online Ads",
          "Referral",
          "Social Media",
          "Referral",
          "Email Marketing",
          "Referral",
          "Email Marketing",
          "Referral",
          "Referral",
          "Email Marketing",
          "Email Marketing",
          "Email Marketing",
          "Referral",
          "Email Marketing",
          "Referral",
          "Email Marketing",
          "Social Media",
          "Social Media",
          "Online Ads",
          "Email Marketing",
          "Referral",
          "Email Marketing",
          "Email Marketing",
          "Social Media",
          "Online Ads",
          "Social Media",
          "Social Media",
          "Social Media",
          "Email Marketing",
          "Online Ads",
          "Online Ads",
          "Email Marketing",
          "Email Marketing",
          "Online Ads",
          "Social Media",
          "Email Marketing",
          "Social Media",
          "Online Ads",
          "Social Media",
          "Referral",
          "Email Marketing",
          "Email Marketing",
          "Referral",
          "Referral",
          "Social Media",
          "Online Ads",
          "Social Media",
          "Referral",
          "Referral",
          "Referral",
          "Social Media",
          "Email Marketing",
          "Email Marketing",
          "Email Marketing",
          "Online Ads",
          "Online Ads",
          "Social Media",
          "Online Ads",
          "Social Media",
          "Email Marketing",
          "Social Media",
          "Online Ads",
          "Social Media",
          "Online Ads"
         ],
         "xaxis": "x",
         "y": [
          16,
          33,
          44,
          32,
          13,
          35,
          27,
          22,
          17,
          39,
          15,
          23,
          50,
          48,
          11,
          13,
          31,
          25,
          18,
          46,
          23,
          14,
          45,
          23,
          47,
          23,
          24,
          31,
          19,
          48,
          10,
          27,
          19,
          18,
          44,
          26,
          21,
          17,
          11,
          18,
          10,
          32,
          25,
          47,
          30,
          11,
          21,
          26,
          13,
          18,
          36,
          43,
          17,
          14,
          40,
          38,
          33,
          42,
          47,
          16,
          38,
          42,
          24,
          49,
          12,
          43,
          29,
          39,
          11,
          13,
          40,
          35,
          37,
          16,
          41,
          38,
          14,
          15,
          30,
          48,
          19,
          14,
          18,
          27,
          49,
          50,
          47,
          45,
          30,
          34,
          48,
          43,
          28,
          39,
          42,
          48,
          37,
          16,
          17,
          45,
          23,
          37,
          38,
          24,
          36,
          31,
          39,
          35,
          36,
          16,
          30,
          37,
          30,
          26,
          33,
          19,
          40,
          14,
          15,
          15,
          15,
          37,
          16,
          33,
          18,
          45,
          13,
          47,
          45,
          45,
          31,
          17,
          36,
          32,
          37,
          13,
          28,
          48,
          29,
          32,
          16,
          46,
          42,
          23,
          19,
          40,
          24,
          16,
          32,
          45,
          33,
          17,
          27,
          46,
          24,
          37,
          45,
          49,
          49,
          45,
          11,
          48,
          27,
          11,
          21,
          27,
          29,
          31,
          32,
          10,
          21,
          19,
          46,
          35,
          14,
          19,
          50,
          11,
          15,
          43,
          23,
          34,
          36,
          39,
          31,
          20,
          33,
          29,
          30,
          46,
          48,
          15,
          13,
          19,
          20,
          49,
          13,
          15,
          27,
          38,
          37,
          41,
          48,
          38,
          36,
          27,
          23,
          42,
          17,
          32,
          37,
          17,
          28,
          47,
          41,
          43,
          29,
          12,
          24,
          35,
          48,
          13,
          10,
          23,
          29,
          23,
          18,
          26,
          28,
          30,
          17,
          10,
          41,
          37,
          21,
          18,
          34,
          44,
          24,
          42,
          45,
          32,
          14,
          35,
          12,
          37,
          11,
          39,
          14,
          30,
          46,
          37,
          46,
          35,
          50,
          36,
          28,
          17,
          35,
          11,
          30,
          20,
          49,
          39,
          33,
          15,
          37,
          16,
          25,
          37,
          47,
          35,
          43,
          15,
          35,
          29,
          31,
          24,
          31,
          20,
          14,
          42,
          50,
          17,
          43,
          42,
          22,
          32,
          32,
          19,
          25,
          16,
          19,
          26,
          22,
          21,
          48,
          19,
          14,
          21,
          50,
          41,
          39,
          46,
          47,
          38,
          46,
          50,
          49,
          30,
          50,
          30,
          19,
          38,
          14,
          40,
          38,
          50,
          29,
          27,
          47,
          13,
          32,
          42,
          14,
          29,
          39,
          38,
          12,
          13,
          33,
          28,
          14,
          15,
          49,
          48,
          42,
          34,
          39,
          47,
          45,
          12,
          38,
          46,
          22,
          30,
          48,
          40,
          42,
          19,
          13,
          38,
          16,
          31,
          15,
          42,
          21,
          12,
          25,
          38,
          38,
          43,
          43,
          49,
          20,
          33,
          33,
          28,
          34,
          36,
          31,
          48,
          13,
          50,
          31,
          14,
          31,
          16,
          45,
          34,
          28,
          26,
          48,
          19,
          31,
          15,
          47,
          19,
          32,
          29,
          35,
          18,
          48,
          15,
          29,
          45,
          34,
          31,
          18,
          43,
          15,
          37,
          42,
          33,
          11,
          33,
          29,
          21,
          23,
          31,
          41,
          22,
          24,
          18,
          19,
          14,
          28,
          16,
          42,
          44,
          43,
          12,
          31,
          49,
          18,
          48,
          34,
          19,
          20,
          21,
          49,
          20,
          38,
          12,
          36,
          33,
          25,
          38,
          49,
          28,
          38,
          24,
          44,
          25,
          29,
          40,
          22,
          33,
          46,
          38,
          39,
          28,
          34,
          42,
          43,
          36,
          20,
          22,
          48,
          18,
          26,
          13,
          40,
          33,
          45,
          16,
          43,
          17,
          28,
          15,
          20,
          27,
          38,
          42,
          19,
          37,
          15,
          24,
          38,
          32,
          11,
          36,
          13,
          35,
          42,
          33,
          25,
          34,
          15,
          33,
          24,
          11,
          30,
          16,
          31,
          19,
          18,
          12,
          28,
          40
         ],
         "yaxis": "y"
        }
       ],
       "layout": {
        "barmode": "group",
        "legend": {
         "title": {
          "text": "Metric"
         },
         "tracegroupgap": 0
        },
        "template": {
         "data": {
          "bar": [
           {
            "error_x": {
             "color": "#2a3f5f"
            },
            "error_y": {
             "color": "#2a3f5f"
            },
            "marker": {
             "line": {
              "color": "white",
              "width": 0.5
             },
             "pattern": {
              "fillmode": "overlay",
              "size": 10,
              "solidity": 0.2
             }
            },
            "type": "bar"
           }
          ],
          "barpolar": [
           {
            "marker": {
             "line": {
              "color": "white",
              "width": 0.5
             },
             "pattern": {
              "fillmode": "overlay",
              "size": 10,
              "solidity": 0.2
             }
            },
            "type": "barpolar"
           }
          ],
          "carpet": [
           {
            "aaxis": {
             "endlinecolor": "#2a3f5f",
             "gridcolor": "#C8D4E3",
             "linecolor": "#C8D4E3",
             "minorgridcolor": "#C8D4E3",
             "startlinecolor": "#2a3f5f"
            },
            "baxis": {
             "endlinecolor": "#2a3f5f",
             "gridcolor": "#C8D4E3",
             "linecolor": "#C8D4E3",
             "minorgridcolor": "#C8D4E3",
             "startlinecolor": "#2a3f5f"
            },
            "type": "carpet"
           }
          ],
          "choropleth": [
           {
            "colorbar": {
             "outlinewidth": 0,
             "ticks": ""
            },
            "type": "choropleth"
           }
          ],
          "contour": [
           {
            "colorbar": {
             "outlinewidth": 0,
             "ticks": ""
            },
            "colorscale": [
             [
              0,
              "#0d0887"
             ],
             [
              0.1111111111111111,
              "#46039f"
             ],
             [
              0.2222222222222222,
              "#7201a8"
             ],
             [
              0.3333333333333333,
              "#9c179e"
             ],
             [
              0.4444444444444444,
              "#bd3786"
             ],
             [
              0.5555555555555556,
              "#d8576b"
             ],
             [
              0.6666666666666666,
              "#ed7953"
             ],
             [
              0.7777777777777778,
              "#fb9f3a"
             ],
             [
              0.8888888888888888,
              "#fdca26"
             ],
             [
              1,
              "#f0f921"
             ]
            ],
            "type": "contour"
           }
          ],
          "contourcarpet": [
           {
            "colorbar": {
             "outlinewidth": 0,
             "ticks": ""
            },
            "type": "contourcarpet"
           }
          ],
          "heatmap": [
           {
            "colorbar": {
             "outlinewidth": 0,
             "ticks": ""
            },
            "colorscale": [
             [
              0,
              "#0d0887"
             ],
             [
              0.1111111111111111,
              "#46039f"
             ],
             [
              0.2222222222222222,
              "#7201a8"
             ],
             [
              0.3333333333333333,
              "#9c179e"
             ],
             [
              0.4444444444444444,
              "#bd3786"
             ],
             [
              0.5555555555555556,
              "#d8576b"
             ],
             [
              0.6666666666666666,
              "#ed7953"
             ],
             [
              0.7777777777777778,
              "#fb9f3a"
             ],
             [
              0.8888888888888888,
              "#fdca26"
             ],
             [
              1,
              "#f0f921"
             ]
            ],
            "type": "heatmap"
           }
          ],
          "heatmapgl": [
           {
            "colorbar": {
             "outlinewidth": 0,
             "ticks": ""
            },
            "colorscale": [
             [
              0,
              "#0d0887"
             ],
             [
              0.1111111111111111,
              "#46039f"
             ],
             [
              0.2222222222222222,
              "#7201a8"
             ],
             [
              0.3333333333333333,
              "#9c179e"
             ],
             [
              0.4444444444444444,
              "#bd3786"
             ],
             [
              0.5555555555555556,
              "#d8576b"
             ],
             [
              0.6666666666666666,
              "#ed7953"
             ],
             [
              0.7777777777777778,
              "#fb9f3a"
             ],
             [
              0.8888888888888888,
              "#fdca26"
             ],
             [
              1,
              "#f0f921"
             ]
            ],
            "type": "heatmapgl"
           }
          ],
          "histogram": [
           {
            "marker": {
             "pattern": {
              "fillmode": "overlay",
              "size": 10,
              "solidity": 0.2
             }
            },
            "type": "histogram"
           }
          ],
          "histogram2d": [
           {
            "colorbar": {
             "outlinewidth": 0,
             "ticks": ""
            },
            "colorscale": [
             [
              0,
              "#0d0887"
             ],
             [
              0.1111111111111111,
              "#46039f"
             ],
             [
              0.2222222222222222,
              "#7201a8"
             ],
             [
              0.3333333333333333,
              "#9c179e"
             ],
             [
              0.4444444444444444,
              "#bd3786"
             ],
             [
              0.5555555555555556,
              "#d8576b"
             ],
             [
              0.6666666666666666,
              "#ed7953"
             ],
             [
              0.7777777777777778,
              "#fb9f3a"
             ],
             [
              0.8888888888888888,
              "#fdca26"
             ],
             [
              1,
              "#f0f921"
             ]
            ],
            "type": "histogram2d"
           }
          ],
          "histogram2dcontour": [
           {
            "colorbar": {
             "outlinewidth": 0,
             "ticks": ""
            },
            "colorscale": [
             [
              0,
              "#0d0887"
             ],
             [
              0.1111111111111111,
              "#46039f"
             ],
             [
              0.2222222222222222,
              "#7201a8"
             ],
             [
              0.3333333333333333,
              "#9c179e"
             ],
             [
              0.4444444444444444,
              "#bd3786"
             ],
             [
              0.5555555555555556,
              "#d8576b"
             ],
             [
              0.6666666666666666,
              "#ed7953"
             ],
             [
              0.7777777777777778,
              "#fb9f3a"
             ],
             [
              0.8888888888888888,
              "#fdca26"
             ],
             [
              1,
              "#f0f921"
             ]
            ],
            "type": "histogram2dcontour"
           }
          ],
          "mesh3d": [
           {
            "colorbar": {
             "outlinewidth": 0,
             "ticks": ""
            },
            "type": "mesh3d"
           }
          ],
          "parcoords": [
           {
            "line": {
             "colorbar": {
              "outlinewidth": 0,
              "ticks": ""
             }
            },
            "type": "parcoords"
           }
          ],
          "pie": [
           {
            "automargin": true,
            "type": "pie"
           }
          ],
          "scatter": [
           {
            "fillpattern": {
             "fillmode": "overlay",
             "size": 10,
             "solidity": 0.2
            },
            "type": "scatter"
           }
          ],
          "scatter3d": [
           {
            "line": {
             "colorbar": {
              "outlinewidth": 0,
              "ticks": ""
             }
            },
            "marker": {
             "colorbar": {
              "outlinewidth": 0,
              "ticks": ""
             }
            },
            "type": "scatter3d"
           }
          ],
          "scattercarpet": [
           {
            "marker": {
             "colorbar": {
              "outlinewidth": 0,
              "ticks": ""
             }
            },
            "type": "scattercarpet"
           }
          ],
          "scattergeo": [
           {
            "marker": {
             "colorbar": {
              "outlinewidth": 0,
              "ticks": ""
             }
            },
            "type": "scattergeo"
           }
          ],
          "scattergl": [
           {
            "marker": {
             "colorbar": {
              "outlinewidth": 0,
              "ticks": ""
             }
            },
            "type": "scattergl"
           }
          ],
          "scattermapbox": [
           {
            "marker": {
             "colorbar": {
              "outlinewidth": 0,
              "ticks": ""
             }
            },
            "type": "scattermapbox"
           }
          ],
          "scatterpolar": [
           {
            "marker": {
             "colorbar": {
              "outlinewidth": 0,
              "ticks": ""
             }
            },
            "type": "scatterpolar"
           }
          ],
          "scatterpolargl": [
           {
            "marker": {
             "colorbar": {
              "outlinewidth": 0,
              "ticks": ""
             }
            },
            "type": "scatterpolargl"
           }
          ],
          "scatterternary": [
           {
            "marker": {
             "colorbar": {
              "outlinewidth": 0,
              "ticks": ""
             }
            },
            "type": "scatterternary"
           }
          ],
          "surface": [
           {
            "colorbar": {
             "outlinewidth": 0,
             "ticks": ""
            },
            "colorscale": [
             [
              0,
              "#0d0887"
             ],
             [
              0.1111111111111111,
              "#46039f"
             ],
             [
              0.2222222222222222,
              "#7201a8"
             ],
             [
              0.3333333333333333,
              "#9c179e"
             ],
             [
              0.4444444444444444,
              "#bd3786"
             ],
             [
              0.5555555555555556,
              "#d8576b"
             ],
             [
              0.6666666666666666,
              "#ed7953"
             ],
             [
              0.7777777777777778,
              "#fb9f3a"
             ],
             [
              0.8888888888888888,
              "#fdca26"
             ],
             [
              1,
              "#f0f921"
             ]
            ],
            "type": "surface"
           }
          ],
          "table": [
           {
            "cells": {
             "fill": {
              "color": "#EBF0F8"
             },
             "line": {
              "color": "white"
             }
            },
            "header": {
             "fill": {
              "color": "#C8D4E3"
             },
             "line": {
              "color": "white"
             }
            },
            "type": "table"
           }
          ]
         },
         "layout": {
          "annotationdefaults": {
           "arrowcolor": "#2a3f5f",
           "arrowhead": 0,
           "arrowwidth": 1
          },
          "autotypenumbers": "strict",
          "coloraxis": {
           "colorbar": {
            "outlinewidth": 0,
            "ticks": ""
           }
          },
          "colorscale": {
           "diverging": [
            [
             0,
             "#8e0152"
            ],
            [
             0.1,
             "#c51b7d"
            ],
            [
             0.2,
             "#de77ae"
            ],
            [
             0.3,
             "#f1b6da"
            ],
            [
             0.4,
             "#fde0ef"
            ],
            [
             0.5,
             "#f7f7f7"
            ],
            [
             0.6,
             "#e6f5d0"
            ],
            [
             0.7,
             "#b8e186"
            ],
            [
             0.8,
             "#7fbc41"
            ],
            [
             0.9,
             "#4d9221"
            ],
            [
             1,
             "#276419"
            ]
           ],
           "sequential": [
            [
             0,
             "#0d0887"
            ],
            [
             0.1111111111111111,
             "#46039f"
            ],
            [
             0.2222222222222222,
             "#7201a8"
            ],
            [
             0.3333333333333333,
             "#9c179e"
            ],
            [
             0.4444444444444444,
             "#bd3786"
            ],
            [
             0.5555555555555556,
             "#d8576b"
            ],
            [
             0.6666666666666666,
             "#ed7953"
            ],
            [
             0.7777777777777778,
             "#fb9f3a"
            ],
            [
             0.8888888888888888,
             "#fdca26"
            ],
            [
             1,
             "#f0f921"
            ]
           ],
           "sequentialminus": [
            [
             0,
             "#0d0887"
            ],
            [
             0.1111111111111111,
             "#46039f"
            ],
            [
             0.2222222222222222,
             "#7201a8"
            ],
            [
             0.3333333333333333,
             "#9c179e"
            ],
            [
             0.4444444444444444,
             "#bd3786"
            ],
            [
             0.5555555555555556,
             "#d8576b"
            ],
            [
             0.6666666666666666,
             "#ed7953"
            ],
            [
             0.7777777777777778,
             "#fb9f3a"
            ],
            [
             0.8888888888888888,
             "#fdca26"
            ],
            [
             1,
             "#f0f921"
            ]
           ]
          },
          "colorway": [
           "#636efa",
           "#EF553B",
           "#00cc96",
           "#ab63fa",
           "#FFA15A",
           "#19d3f3",
           "#FF6692",
           "#B6E880",
           "#FF97FF",
           "#FECB52"
          ],
          "font": {
           "color": "#2a3f5f"
          },
          "geo": {
           "bgcolor": "white",
           "lakecolor": "white",
           "landcolor": "white",
           "showlakes": true,
           "showland": true,
           "subunitcolor": "#C8D4E3"
          },
          "hoverlabel": {
           "align": "left"
          },
          "hovermode": "closest",
          "mapbox": {
           "style": "light"
          },
          "paper_bgcolor": "white",
          "plot_bgcolor": "white",
          "polar": {
           "angularaxis": {
            "gridcolor": "#EBF0F8",
            "linecolor": "#EBF0F8",
            "ticks": ""
           },
           "bgcolor": "white",
           "radialaxis": {
            "gridcolor": "#EBF0F8",
            "linecolor": "#EBF0F8",
            "ticks": ""
           }
          },
          "scene": {
           "xaxis": {
            "backgroundcolor": "white",
            "gridcolor": "#DFE8F3",
            "gridwidth": 2,
            "linecolor": "#EBF0F8",
            "showbackground": true,
            "ticks": "",
            "zerolinecolor": "#EBF0F8"
           },
           "yaxis": {
            "backgroundcolor": "white",
            "gridcolor": "#DFE8F3",
            "gridwidth": 2,
            "linecolor": "#EBF0F8",
            "showbackground": true,
            "ticks": "",
            "zerolinecolor": "#EBF0F8"
           },
           "zaxis": {
            "backgroundcolor": "white",
            "gridcolor": "#DFE8F3",
            "gridwidth": 2,
            "linecolor": "#EBF0F8",
            "showbackground": true,
            "ticks": "",
            "zerolinecolor": "#EBF0F8"
           }
          },
          "shapedefaults": {
           "line": {
            "color": "#2a3f5f"
           }
          },
          "ternary": {
           "aaxis": {
            "gridcolor": "#DFE8F3",
            "linecolor": "#A2B1C6",
            "ticks": ""
           },
           "baxis": {
            "gridcolor": "#DFE8F3",
            "linecolor": "#A2B1C6",
            "ticks": ""
           },
           "bgcolor": "white",
           "caxis": {
            "gridcolor": "#DFE8F3",
            "linecolor": "#A2B1C6",
            "ticks": ""
           }
          },
          "title": {
           "x": 0.05
          },
          "xaxis": {
           "automargin": true,
           "gridcolor": "#EBF0F8",
           "linecolor": "#EBF0F8",
           "ticks": "",
           "title": {
            "standoff": 15
           },
           "zerolinecolor": "#EBF0F8",
           "zerolinewidth": 2
          },
          "yaxis": {
           "automargin": true,
           "gridcolor": "#EBF0F8",
           "linecolor": "#EBF0F8",
           "ticks": "",
           "title": {
            "standoff": 15
           },
           "zerolinecolor": "#EBF0F8",
           "zerolinewidth": 2
          }
         }
        },
        "title": {
         "text": "CAC and New Customers by Channel",
         "x": 0.5
        },
        "xaxis": {
         "anchor": "y",
         "domain": [
          0,
          1
         ],
         "title": {
          "text": "Marketing_Channel"
         }
        },
        "yaxis": {
         "anchor": "x",
         "domain": [
          0,
          1
         ],
         "tickformat": ".2f",
         "title": {
          "text": "Value"
         }
        }
       }
      }
     },
     "metadata": {},
     "output_type": "display_data"
    }
   ],
   "source": [
    "fig = px.bar(df, x='Marketing_Channel', y=['CAC', 'New_Customers'], \n",
    "             barmode='group', title='CAC and New Customers by Channel',\n",
    "             labels={'value': 'Value', 'variable': 'Metric'},\n",
    "             color_discrete_map={'CAC': '#FFA500', 'New_Customers': '#228B22'}) \n",
    "fig.update_layout(title_x=0.5, yaxis=dict(tickformat=\".2f\"))\n",
    "fig.show()"
   ]
  },
  {
   "cell_type": "markdown",
   "metadata": {},
   "source": []
  }
 ],
 "metadata": {
  "kernelspec": {
   "display_name": "Python 3",
   "language": "python",
   "name": "python3"
  },
  "language_info": {
   "codemirror_mode": {
    "name": "ipython",
    "version": 3
   },
   "file_extension": ".py",
   "mimetype": "text/x-python",
   "name": "python",
   "nbconvert_exporter": "python",
   "pygments_lexer": "ipython3",
   "version": "3.11.5"
  }
 },
 "nbformat": 4,
 "nbformat_minor": 2
}
